{
 "cells": [
  {
   "cell_type": "markdown",
   "metadata": {},
   "source": [
    "## Import Libraries and Data"
   ]
  },
  {
   "cell_type": "code",
   "execution_count": 1,
   "metadata": {},
   "outputs": [],
   "source": [
    "import numpy as np\n",
    "import pandas as pd\n",
    "import matplotlib.pyplot as plt\n",
    "from sklearn.preprocessing import StandardScaler\n",
    "from sklearn.linear_model import LogisticRegression\n",
    "from sklearn.model_selection import train_test_split\n",
    "from sklearn import metrics\n",
    "import seaborn as sns\n",
    "%matplotlib inline"
   ]
  },
  {
   "cell_type": "code",
   "execution_count": 2,
   "metadata": {
    "scrolled": true
   },
   "outputs": [
    {
     "data": {
      "text/html": [
       "<div>\n",
       "<style scoped>\n",
       "    .dataframe tbody tr th:only-of-type {\n",
       "        vertical-align: middle;\n",
       "    }\n",
       "\n",
       "    .dataframe tbody tr th {\n",
       "        vertical-align: top;\n",
       "    }\n",
       "\n",
       "    .dataframe thead th {\n",
       "        text-align: right;\n",
       "    }\n",
       "</style>\n",
       "<table border=\"1\" class=\"dataframe\">\n",
       "  <thead>\n",
       "    <tr style=\"text-align: right;\">\n",
       "      <th></th>\n",
       "      <th>Pregnancies</th>\n",
       "      <th>Glucose</th>\n",
       "      <th>BloodPressure</th>\n",
       "      <th>SkinThickness</th>\n",
       "      <th>Insulin</th>\n",
       "      <th>BMI</th>\n",
       "      <th>DiabetesPedigreeFunction</th>\n",
       "      <th>Age</th>\n",
       "      <th>Outcome</th>\n",
       "    </tr>\n",
       "  </thead>\n",
       "  <tbody>\n",
       "    <tr>\n",
       "      <th>0</th>\n",
       "      <td>6</td>\n",
       "      <td>148</td>\n",
       "      <td>72</td>\n",
       "      <td>35</td>\n",
       "      <td>0</td>\n",
       "      <td>33.6</td>\n",
       "      <td>0.627</td>\n",
       "      <td>50</td>\n",
       "      <td>1</td>\n",
       "    </tr>\n",
       "    <tr>\n",
       "      <th>1</th>\n",
       "      <td>1</td>\n",
       "      <td>85</td>\n",
       "      <td>66</td>\n",
       "      <td>29</td>\n",
       "      <td>0</td>\n",
       "      <td>26.6</td>\n",
       "      <td>0.351</td>\n",
       "      <td>31</td>\n",
       "      <td>0</td>\n",
       "    </tr>\n",
       "    <tr>\n",
       "      <th>2</th>\n",
       "      <td>8</td>\n",
       "      <td>183</td>\n",
       "      <td>64</td>\n",
       "      <td>0</td>\n",
       "      <td>0</td>\n",
       "      <td>23.3</td>\n",
       "      <td>0.672</td>\n",
       "      <td>32</td>\n",
       "      <td>1</td>\n",
       "    </tr>\n",
       "    <tr>\n",
       "      <th>3</th>\n",
       "      <td>1</td>\n",
       "      <td>89</td>\n",
       "      <td>66</td>\n",
       "      <td>23</td>\n",
       "      <td>94</td>\n",
       "      <td>28.1</td>\n",
       "      <td>0.167</td>\n",
       "      <td>21</td>\n",
       "      <td>0</td>\n",
       "    </tr>\n",
       "    <tr>\n",
       "      <th>4</th>\n",
       "      <td>0</td>\n",
       "      <td>137</td>\n",
       "      <td>40</td>\n",
       "      <td>35</td>\n",
       "      <td>168</td>\n",
       "      <td>43.1</td>\n",
       "      <td>2.288</td>\n",
       "      <td>33</td>\n",
       "      <td>1</td>\n",
       "    </tr>\n",
       "  </tbody>\n",
       "</table>\n",
       "</div>"
      ],
      "text/plain": [
       "   Pregnancies  Glucose  BloodPressure  SkinThickness  Insulin   BMI  \\\n",
       "0            6      148             72             35        0  33.6   \n",
       "1            1       85             66             29        0  26.6   \n",
       "2            8      183             64              0        0  23.3   \n",
       "3            1       89             66             23       94  28.1   \n",
       "4            0      137             40             35      168  43.1   \n",
       "\n",
       "   DiabetesPedigreeFunction  Age  Outcome  \n",
       "0                     0.627   50        1  \n",
       "1                     0.351   31        0  \n",
       "2                     0.672   32        1  \n",
       "3                     0.167   21        0  \n",
       "4                     2.288   33        1  "
      ]
     },
     "execution_count": 2,
     "metadata": {},
     "output_type": "execute_result"
    }
   ],
   "source": [
    "df = pd.read_csv('C:/Users/aksin52/Documents/Learnbay Stats ML Curriculum/diabetes.csv')\n",
    "df.head()"
   ]
  },
  {
   "cell_type": "code",
   "execution_count": 3,
   "metadata": {},
   "outputs": [
    {
     "data": {
      "text/plain": [
       "(768, 9)"
      ]
     },
     "execution_count": 3,
     "metadata": {},
     "output_type": "execute_result"
    }
   ],
   "source": [
    "df.shape"
   ]
  },
  {
   "cell_type": "markdown",
   "metadata": {},
   "source": [
    "# Check for Descriptive Statistics"
   ]
  },
  {
   "cell_type": "code",
   "execution_count": 4,
   "metadata": {
    "scrolled": true
   },
   "outputs": [
    {
     "data": {
      "text/html": [
       "<div>\n",
       "<style scoped>\n",
       "    .dataframe tbody tr th:only-of-type {\n",
       "        vertical-align: middle;\n",
       "    }\n",
       "\n",
       "    .dataframe tbody tr th {\n",
       "        vertical-align: top;\n",
       "    }\n",
       "\n",
       "    .dataframe thead th {\n",
       "        text-align: right;\n",
       "    }\n",
       "</style>\n",
       "<table border=\"1\" class=\"dataframe\">\n",
       "  <thead>\n",
       "    <tr style=\"text-align: right;\">\n",
       "      <th></th>\n",
       "      <th>Pregnancies</th>\n",
       "      <th>Glucose</th>\n",
       "      <th>BloodPressure</th>\n",
       "      <th>SkinThickness</th>\n",
       "      <th>Insulin</th>\n",
       "      <th>BMI</th>\n",
       "      <th>DiabetesPedigreeFunction</th>\n",
       "      <th>Age</th>\n",
       "      <th>Outcome</th>\n",
       "    </tr>\n",
       "  </thead>\n",
       "  <tbody>\n",
       "    <tr>\n",
       "      <th>count</th>\n",
       "      <td>768.000000</td>\n",
       "      <td>768.000000</td>\n",
       "      <td>768.000000</td>\n",
       "      <td>768.000000</td>\n",
       "      <td>768.000000</td>\n",
       "      <td>768.000000</td>\n",
       "      <td>768.000000</td>\n",
       "      <td>768.000000</td>\n",
       "      <td>768.000000</td>\n",
       "    </tr>\n",
       "    <tr>\n",
       "      <th>mean</th>\n",
       "      <td>3.845052</td>\n",
       "      <td>120.894531</td>\n",
       "      <td>69.105469</td>\n",
       "      <td>20.536458</td>\n",
       "      <td>79.799479</td>\n",
       "      <td>31.992578</td>\n",
       "      <td>0.471876</td>\n",
       "      <td>33.240885</td>\n",
       "      <td>0.348958</td>\n",
       "    </tr>\n",
       "    <tr>\n",
       "      <th>std</th>\n",
       "      <td>3.369578</td>\n",
       "      <td>31.972618</td>\n",
       "      <td>19.355807</td>\n",
       "      <td>15.952218</td>\n",
       "      <td>115.244002</td>\n",
       "      <td>7.884160</td>\n",
       "      <td>0.331329</td>\n",
       "      <td>11.760232</td>\n",
       "      <td>0.476951</td>\n",
       "    </tr>\n",
       "    <tr>\n",
       "      <th>min</th>\n",
       "      <td>0.000000</td>\n",
       "      <td>0.000000</td>\n",
       "      <td>0.000000</td>\n",
       "      <td>0.000000</td>\n",
       "      <td>0.000000</td>\n",
       "      <td>0.000000</td>\n",
       "      <td>0.078000</td>\n",
       "      <td>21.000000</td>\n",
       "      <td>0.000000</td>\n",
       "    </tr>\n",
       "    <tr>\n",
       "      <th>1%</th>\n",
       "      <td>0.000000</td>\n",
       "      <td>57.000000</td>\n",
       "      <td>0.000000</td>\n",
       "      <td>0.000000</td>\n",
       "      <td>0.000000</td>\n",
       "      <td>0.000000</td>\n",
       "      <td>0.094680</td>\n",
       "      <td>21.000000</td>\n",
       "      <td>0.000000</td>\n",
       "    </tr>\n",
       "    <tr>\n",
       "      <th>5%</th>\n",
       "      <td>0.000000</td>\n",
       "      <td>79.000000</td>\n",
       "      <td>38.700000</td>\n",
       "      <td>0.000000</td>\n",
       "      <td>0.000000</td>\n",
       "      <td>21.800000</td>\n",
       "      <td>0.140350</td>\n",
       "      <td>21.000000</td>\n",
       "      <td>0.000000</td>\n",
       "    </tr>\n",
       "    <tr>\n",
       "      <th>25%</th>\n",
       "      <td>1.000000</td>\n",
       "      <td>99.000000</td>\n",
       "      <td>62.000000</td>\n",
       "      <td>0.000000</td>\n",
       "      <td>0.000000</td>\n",
       "      <td>27.300000</td>\n",
       "      <td>0.243750</td>\n",
       "      <td>24.000000</td>\n",
       "      <td>0.000000</td>\n",
       "    </tr>\n",
       "    <tr>\n",
       "      <th>50%</th>\n",
       "      <td>3.000000</td>\n",
       "      <td>117.000000</td>\n",
       "      <td>72.000000</td>\n",
       "      <td>23.000000</td>\n",
       "      <td>30.500000</td>\n",
       "      <td>32.000000</td>\n",
       "      <td>0.372500</td>\n",
       "      <td>29.000000</td>\n",
       "      <td>0.000000</td>\n",
       "    </tr>\n",
       "    <tr>\n",
       "      <th>75%</th>\n",
       "      <td>6.000000</td>\n",
       "      <td>140.250000</td>\n",
       "      <td>80.000000</td>\n",
       "      <td>32.000000</td>\n",
       "      <td>127.250000</td>\n",
       "      <td>36.600000</td>\n",
       "      <td>0.626250</td>\n",
       "      <td>41.000000</td>\n",
       "      <td>1.000000</td>\n",
       "    </tr>\n",
       "    <tr>\n",
       "      <th>90%</th>\n",
       "      <td>9.000000</td>\n",
       "      <td>167.000000</td>\n",
       "      <td>88.000000</td>\n",
       "      <td>40.000000</td>\n",
       "      <td>210.000000</td>\n",
       "      <td>41.500000</td>\n",
       "      <td>0.878600</td>\n",
       "      <td>51.000000</td>\n",
       "      <td>1.000000</td>\n",
       "    </tr>\n",
       "    <tr>\n",
       "      <th>99%</th>\n",
       "      <td>13.000000</td>\n",
       "      <td>196.000000</td>\n",
       "      <td>106.000000</td>\n",
       "      <td>51.330000</td>\n",
       "      <td>519.900000</td>\n",
       "      <td>50.759000</td>\n",
       "      <td>1.698330</td>\n",
       "      <td>67.000000</td>\n",
       "      <td>1.000000</td>\n",
       "    </tr>\n",
       "    <tr>\n",
       "      <th>max</th>\n",
       "      <td>17.000000</td>\n",
       "      <td>199.000000</td>\n",
       "      <td>122.000000</td>\n",
       "      <td>99.000000</td>\n",
       "      <td>846.000000</td>\n",
       "      <td>67.100000</td>\n",
       "      <td>2.420000</td>\n",
       "      <td>81.000000</td>\n",
       "      <td>1.000000</td>\n",
       "    </tr>\n",
       "  </tbody>\n",
       "</table>\n",
       "</div>"
      ],
      "text/plain": [
       "       Pregnancies     Glucose  BloodPressure  SkinThickness     Insulin  \\\n",
       "count   768.000000  768.000000     768.000000     768.000000  768.000000   \n",
       "mean      3.845052  120.894531      69.105469      20.536458   79.799479   \n",
       "std       3.369578   31.972618      19.355807      15.952218  115.244002   \n",
       "min       0.000000    0.000000       0.000000       0.000000    0.000000   \n",
       "1%        0.000000   57.000000       0.000000       0.000000    0.000000   \n",
       "5%        0.000000   79.000000      38.700000       0.000000    0.000000   \n",
       "25%       1.000000   99.000000      62.000000       0.000000    0.000000   \n",
       "50%       3.000000  117.000000      72.000000      23.000000   30.500000   \n",
       "75%       6.000000  140.250000      80.000000      32.000000  127.250000   \n",
       "90%       9.000000  167.000000      88.000000      40.000000  210.000000   \n",
       "99%      13.000000  196.000000     106.000000      51.330000  519.900000   \n",
       "max      17.000000  199.000000     122.000000      99.000000  846.000000   \n",
       "\n",
       "              BMI  DiabetesPedigreeFunction         Age     Outcome  \n",
       "count  768.000000                768.000000  768.000000  768.000000  \n",
       "mean    31.992578                  0.471876   33.240885    0.348958  \n",
       "std      7.884160                  0.331329   11.760232    0.476951  \n",
       "min      0.000000                  0.078000   21.000000    0.000000  \n",
       "1%       0.000000                  0.094680   21.000000    0.000000  \n",
       "5%      21.800000                  0.140350   21.000000    0.000000  \n",
       "25%     27.300000                  0.243750   24.000000    0.000000  \n",
       "50%     32.000000                  0.372500   29.000000    0.000000  \n",
       "75%     36.600000                  0.626250   41.000000    1.000000  \n",
       "90%     41.500000                  0.878600   51.000000    1.000000  \n",
       "99%     50.759000                  1.698330   67.000000    1.000000  \n",
       "max     67.100000                  2.420000   81.000000    1.000000  "
      ]
     },
     "execution_count": 4,
     "metadata": {},
     "output_type": "execute_result"
    }
   ],
   "source": [
    "df.describe(percentiles=[0.01,0.05,0.25,0.50,0.75,0.90,0.99])"
   ]
  },
  {
   "cell_type": "markdown",
   "metadata": {},
   "source": [
    "# Check for Missing Values"
   ]
  },
  {
   "cell_type": "code",
   "execution_count": 5,
   "metadata": {
    "scrolled": true
   },
   "outputs": [
    {
     "data": {
      "text/plain": [
       "Pregnancies                 0.0\n",
       "Glucose                     0.0\n",
       "BloodPressure               0.0\n",
       "SkinThickness               0.0\n",
       "Insulin                     0.0\n",
       "BMI                         0.0\n",
       "DiabetesPedigreeFunction    0.0\n",
       "Age                         0.0\n",
       "Outcome                     0.0\n",
       "dtype: float64"
      ]
     },
     "execution_count": 5,
     "metadata": {},
     "output_type": "execute_result"
    }
   ],
   "source": [
    "df.isnull().sum()/df.count()\n",
    "#df.isnull().mean()"
   ]
  },
  {
   "cell_type": "code",
   "execution_count": 6,
   "metadata": {},
   "outputs": [],
   "source": [
    "# There are no missing values in the data "
   ]
  },
  {
   "cell_type": "code",
   "execution_count": 7,
   "metadata": {},
   "outputs": [
    {
     "data": {
      "text/plain": [
       "Pregnancies                  0.00000\n",
       "Glucose                     57.00000\n",
       "BloodPressure                0.00000\n",
       "SkinThickness                0.00000\n",
       "Insulin                      0.00000\n",
       "BMI                          0.00000\n",
       "DiabetesPedigreeFunction     0.09468\n",
       "Age                         21.00000\n",
       "Outcome                      0.00000\n",
       "Name: 0.01, dtype: float64"
      ]
     },
     "execution_count": 7,
     "metadata": {},
     "output_type": "execute_result"
    }
   ],
   "source": [
    "df.quantile(0.01)"
   ]
  },
  {
   "cell_type": "code",
   "execution_count": 8,
   "metadata": {
    "scrolled": false
   },
   "outputs": [
    {
     "data": {
      "text/plain": [
       "0.3489583333333333"
      ]
     },
     "execution_count": 8,
     "metadata": {},
     "output_type": "execute_result"
    }
   ],
   "source": [
    "df['Outcome'].mean()"
   ]
  },
  {
   "cell_type": "code",
   "execution_count": 9,
   "metadata": {},
   "outputs": [
    {
     "data": {
      "image/png": "[encoded data removed]",
      "text/plain": [
       "<Figure size 432x288 with 1 Axes>"
      ]
     },
     "metadata": {},
     "output_type": "display_data"
    }
   ],
   "source": [
    "sns.countplot(x='Outcome',data=df)\n",
    "plt.show()"
   ]
  },
  {
   "cell_type": "markdown",
   "metadata": {},
   "source": [
    "## Visualizing the data for any Relations"
   ]
  },
  {
   "cell_type": "code",
   "execution_count": 10,
   "metadata": {
    "scrolled": true
   },
   "outputs": [
    {
     "data": {
      "text/plain": [
       "1     135\n",
       "0     111\n",
       "2     103\n",
       "3      75\n",
       "4      68\n",
       "5      57\n",
       "6      50\n",
       "7      45\n",
       "8      38\n",
       "9      28\n",
       "10     24\n",
       "11     11\n",
       "13     10\n",
       "12      9\n",
       "14      2\n",
       "15      1\n",
       "17      1\n",
       "Name: Pregnancies, dtype: int64"
      ]
     },
     "execution_count": 10,
     "metadata": {},
     "output_type": "execute_result"
    }
   ],
   "source": [
    "#Frequency Distribution by using value_counts()\n",
    "df['Pregnancies'].value_counts()"
   ]
  },
  {
   "cell_type": "code",
   "execution_count": 11,
   "metadata": {
    "scrolled": true
   },
   "outputs": [
    {
     "data": {
      "text/html": [
       "<div>\n",
       "<style scoped>\n",
       "    .dataframe tbody tr th:only-of-type {\n",
       "        vertical-align: middle;\n",
       "    }\n",
       "\n",
       "    .dataframe tbody tr th {\n",
       "        vertical-align: top;\n",
       "    }\n",
       "\n",
       "    .dataframe thead th {\n",
       "        text-align: right;\n",
       "    }\n",
       "</style>\n",
       "<table border=\"1\" class=\"dataframe\">\n",
       "  <thead>\n",
       "    <tr style=\"text-align: right;\">\n",
       "      <th></th>\n",
       "      <th>mean</th>\n",
       "      <th>count</th>\n",
       "    </tr>\n",
       "    <tr>\n",
       "      <th>Pregnancies</th>\n",
       "      <th></th>\n",
       "      <th></th>\n",
       "    </tr>\n",
       "  </thead>\n",
       "  <tbody>\n",
       "    <tr>\n",
       "      <th>0</th>\n",
       "      <td>0.342342</td>\n",
       "      <td>111</td>\n",
       "    </tr>\n",
       "    <tr>\n",
       "      <th>1</th>\n",
       "      <td>0.214815</td>\n",
       "      <td>135</td>\n",
       "    </tr>\n",
       "    <tr>\n",
       "      <th>2</th>\n",
       "      <td>0.184466</td>\n",
       "      <td>103</td>\n",
       "    </tr>\n",
       "    <tr>\n",
       "      <th>3</th>\n",
       "      <td>0.360000</td>\n",
       "      <td>75</td>\n",
       "    </tr>\n",
       "    <tr>\n",
       "      <th>4</th>\n",
       "      <td>0.338235</td>\n",
       "      <td>68</td>\n",
       "    </tr>\n",
       "    <tr>\n",
       "      <th>5</th>\n",
       "      <td>0.368421</td>\n",
       "      <td>57</td>\n",
       "    </tr>\n",
       "    <tr>\n",
       "      <th>6</th>\n",
       "      <td>0.320000</td>\n",
       "      <td>50</td>\n",
       "    </tr>\n",
       "    <tr>\n",
       "      <th>7</th>\n",
       "      <td>0.555556</td>\n",
       "      <td>45</td>\n",
       "    </tr>\n",
       "    <tr>\n",
       "      <th>8</th>\n",
       "      <td>0.578947</td>\n",
       "      <td>38</td>\n",
       "    </tr>\n",
       "    <tr>\n",
       "      <th>9</th>\n",
       "      <td>0.642857</td>\n",
       "      <td>28</td>\n",
       "    </tr>\n",
       "    <tr>\n",
       "      <th>10</th>\n",
       "      <td>0.416667</td>\n",
       "      <td>24</td>\n",
       "    </tr>\n",
       "    <tr>\n",
       "      <th>11</th>\n",
       "      <td>0.636364</td>\n",
       "      <td>11</td>\n",
       "    </tr>\n",
       "    <tr>\n",
       "      <th>12</th>\n",
       "      <td>0.444444</td>\n",
       "      <td>9</td>\n",
       "    </tr>\n",
       "    <tr>\n",
       "      <th>13</th>\n",
       "      <td>0.500000</td>\n",
       "      <td>10</td>\n",
       "    </tr>\n",
       "    <tr>\n",
       "      <th>14</th>\n",
       "      <td>1.000000</td>\n",
       "      <td>2</td>\n",
       "    </tr>\n",
       "    <tr>\n",
       "      <th>15</th>\n",
       "      <td>1.000000</td>\n",
       "      <td>1</td>\n",
       "    </tr>\n",
       "    <tr>\n",
       "      <th>17</th>\n",
       "      <td>1.000000</td>\n",
       "      <td>1</td>\n",
       "    </tr>\n",
       "  </tbody>\n",
       "</table>\n",
       "</div>"
      ],
      "text/plain": [
       "                 mean  count\n",
       "Pregnancies                 \n",
       "0            0.342342    111\n",
       "1            0.214815    135\n",
       "2            0.184466    103\n",
       "3            0.360000     75\n",
       "4            0.338235     68\n",
       "5            0.368421     57\n",
       "6            0.320000     50\n",
       "7            0.555556     45\n",
       "8            0.578947     38\n",
       "9            0.642857     28\n",
       "10           0.416667     24\n",
       "11           0.636364     11\n",
       "12           0.444444      9\n",
       "13           0.500000     10\n",
       "14           1.000000      2\n",
       "15           1.000000      1\n",
       "17           1.000000      1"
      ]
     },
     "execution_count": 11,
     "metadata": {},
     "output_type": "execute_result"
    }
   ],
   "source": [
    "df.groupby('Pregnancies')['Outcome'].agg(['mean','count'])"
   ]
  },
  {
   "cell_type": "code",
   "execution_count": 12,
   "metadata": {},
   "outputs": [
    {
     "name": "stderr",
     "output_type": "stream",
     "text": [
      "C:\\Anaconda_Python\\lib\\site-packages\\scipy\\stats\\stats.py:1713: FutureWarning: Using a non-tuple sequence for multidimensional indexing is deprecated; use `arr[tuple(seq)]` instead of `arr[seq]`. In the future this will be interpreted as an array index, `arr[np.array(seq)]`, which will result either in an error or a different result.\n",
      "  return np.add.reduce(sorted[indexer] * weights, axis=axis) / sumval\n"
     ]
    },
    {
     "data": {
      "image/png": "[encoded data removed]",
      "text/plain": [
       "<Figure size 432x288 with 1 Axes>"
      ]
     },
     "metadata": {},
     "output_type": "display_data"
    }
   ],
   "source": [
    "from numpy import mean\n",
    "ax = sns.lineplot(x=\"Pregnancies\", y=\"Outcome\", data=df, estimator=mean)"
   ]
  },
  {
   "cell_type": "code",
   "execution_count": 13,
   "metadata": {},
   "outputs": [],
   "source": [
    "# X=['Pregancies']"
   ]
  },
  {
   "cell_type": "code",
   "execution_count": 14,
   "metadata": {
    "scrolled": true
   },
   "outputs": [
    {
     "name": "stderr",
     "output_type": "stream",
     "text": [
      "C:\\Anaconda_Python\\lib\\site-packages\\scipy\\stats\\stats.py:1713: FutureWarning: Using a non-tuple sequence for multidimensional indexing is deprecated; use `arr[tuple(seq)]` instead of `arr[seq]`. In the future this will be interpreted as an array index, `arr[np.array(seq)]`, which will result either in an error or a different result.\n",
      "  return np.add.reduce(sorted[indexer] * weights, axis=axis) / sumval\n"
     ]
    },
    {
     "data": {
      "image/png": "[encoded data removed]",
      "text/plain": [
       "<Figure size 432x288 with 1 Axes>"
      ]
     },
     "metadata": {},
     "output_type": "display_data"
    }
   ],
   "source": [
    "from numpy import mean\n",
    "ax=sns.lineplot(x=\"Glucose\", y=\"Outcome\", data=df, estimator=mean)"
   ]
  },
  {
   "cell_type": "code",
   "execution_count": 15,
   "metadata": {},
   "outputs": [
    {
     "data": {
      "image/png": "[encoded data removed]",
      "text/plain": [
       "<Figure size 432x288 with 1 Axes>"
      ]
     },
     "metadata": {},
     "output_type": "display_data"
    }
   ],
   "source": [
    "from numpy import mean\n",
    "ax=sns.scatterplot(x=\"Glucose\", y=\"Outcome\", data=df, estimator=mean)"
   ]
  },
  {
   "cell_type": "code",
   "execution_count": 16,
   "metadata": {},
   "outputs": [],
   "source": [
    "# Create Buckets/Ranks of variables and then across each bucket/Rank study the movement of event rate (probability of diabetes)\n",
    "\n",
    "# This is also called Ranks and Plot Step. It is highly visual and useful for project presentations and easy communication"
   ]
  },
  {
   "cell_type": "code",
   "execution_count": 17,
   "metadata": {
    "scrolled": true
   },
   "outputs": [
    {
     "name": "stderr",
     "output_type": "stream",
     "text": [
      "C:\\Anaconda_Python\\lib\\site-packages\\scipy\\stats\\stats.py:1713: FutureWarning: Using a non-tuple sequence for multidimensional indexing is deprecated; use `arr[tuple(seq)]` instead of `arr[seq]`. In the future this will be interpreted as an array index, `arr[np.array(seq)]`, which will result either in an error or a different result.\n",
      "  return np.add.reduce(sorted[indexer] * weights, axis=axis) / sumval\n"
     ]
    },
    {
     "data": {
      "image/png": "[encoded data removed]",
      "text/plain": [
       "<Figure size 432x288 with 1 Axes>"
      ]
     },
     "metadata": {},
     "output_type": "display_data"
    }
   ],
   "source": [
    "df['Glucose_rank']=pd.qcut(df['Glucose'].rank(method='first').values,20,duplicates='drop').codes+1\n",
    "#df.groupby('Glucose_rank')['Outcome'].mean()\n",
    "from numpy import mean\n",
    "ax=sns.lineplot(x=\"Glucose_rank\", y=\"Outcome\", data=df, estimator=mean)"
   ]
  },
  {
   "cell_type": "code",
   "execution_count": 18,
   "metadata": {},
   "outputs": [
    {
     "data": {
      "text/html": [
       "<div>\n",
       "<style scoped>\n",
       "    .dataframe tbody tr th:only-of-type {\n",
       "        vertical-align: middle;\n",
       "    }\n",
       "\n",
       "    .dataframe tbody tr th {\n",
       "        vertical-align: top;\n",
       "    }\n",
       "\n",
       "    .dataframe thead th {\n",
       "        text-align: right;\n",
       "    }\n",
       "</style>\n",
       "<table border=\"1\" class=\"dataframe\">\n",
       "  <thead>\n",
       "    <tr style=\"text-align: right;\">\n",
       "      <th></th>\n",
       "      <th>Pregnancies</th>\n",
       "      <th>Glucose</th>\n",
       "      <th>BloodPressure</th>\n",
       "      <th>SkinThickness</th>\n",
       "      <th>Insulin</th>\n",
       "      <th>BMI</th>\n",
       "      <th>DiabetesPedigreeFunction</th>\n",
       "      <th>Age</th>\n",
       "      <th>Outcome</th>\n",
       "      <th>Glucose_rank</th>\n",
       "    </tr>\n",
       "  </thead>\n",
       "  <tbody>\n",
       "    <tr>\n",
       "      <th>0</th>\n",
       "      <td>6</td>\n",
       "      <td>148</td>\n",
       "      <td>72</td>\n",
       "      <td>35</td>\n",
       "      <td>0</td>\n",
       "      <td>33.6</td>\n",
       "      <td>0.627</td>\n",
       "      <td>50</td>\n",
       "      <td>1</td>\n",
       "      <td>17</td>\n",
       "    </tr>\n",
       "    <tr>\n",
       "      <th>1</th>\n",
       "      <td>1</td>\n",
       "      <td>85</td>\n",
       "      <td>66</td>\n",
       "      <td>29</td>\n",
       "      <td>0</td>\n",
       "      <td>26.6</td>\n",
       "      <td>0.351</td>\n",
       "      <td>31</td>\n",
       "      <td>0</td>\n",
       "      <td>2</td>\n",
       "    </tr>\n",
       "    <tr>\n",
       "      <th>2</th>\n",
       "      <td>8</td>\n",
       "      <td>183</td>\n",
       "      <td>64</td>\n",
       "      <td>0</td>\n",
       "      <td>0</td>\n",
       "      <td>23.3</td>\n",
       "      <td>0.672</td>\n",
       "      <td>32</td>\n",
       "      <td>1</td>\n",
       "      <td>20</td>\n",
       "    </tr>\n",
       "    <tr>\n",
       "      <th>3</th>\n",
       "      <td>1</td>\n",
       "      <td>89</td>\n",
       "      <td>66</td>\n",
       "      <td>23</td>\n",
       "      <td>94</td>\n",
       "      <td>28.1</td>\n",
       "      <td>0.167</td>\n",
       "      <td>21</td>\n",
       "      <td>0</td>\n",
       "      <td>3</td>\n",
       "    </tr>\n",
       "    <tr>\n",
       "      <th>4</th>\n",
       "      <td>0</td>\n",
       "      <td>137</td>\n",
       "      <td>40</td>\n",
       "      <td>35</td>\n",
       "      <td>168</td>\n",
       "      <td>43.1</td>\n",
       "      <td>2.288</td>\n",
       "      <td>33</td>\n",
       "      <td>1</td>\n",
       "      <td>15</td>\n",
       "    </tr>\n",
       "  </tbody>\n",
       "</table>\n",
       "</div>"
      ],
      "text/plain": [
       "   Pregnancies  Glucose  BloodPressure  SkinThickness  Insulin   BMI  \\\n",
       "0            6      148             72             35        0  33.6   \n",
       "1            1       85             66             29        0  26.6   \n",
       "2            8      183             64              0        0  23.3   \n",
       "3            1       89             66             23       94  28.1   \n",
       "4            0      137             40             35      168  43.1   \n",
       "\n",
       "   DiabetesPedigreeFunction  Age  Outcome  Glucose_rank  \n",
       "0                     0.627   50        1            17  \n",
       "1                     0.351   31        0             2  \n",
       "2                     0.672   32        1            20  \n",
       "3                     0.167   21        0             3  \n",
       "4                     2.288   33        1            15  "
      ]
     },
     "execution_count": 18,
     "metadata": {},
     "output_type": "execute_result"
    }
   ],
   "source": [
    "df.head()"
   ]
  },
  {
   "cell_type": "code",
   "execution_count": 19,
   "metadata": {
    "scrolled": true
   },
   "outputs": [
    {
     "name": "stderr",
     "output_type": "stream",
     "text": [
      "C:\\Anaconda_Python\\lib\\site-packages\\scipy\\stats\\stats.py:1713: FutureWarning: Using a non-tuple sequence for multidimensional indexing is deprecated; use `arr[tuple(seq)]` instead of `arr[seq]`. In the future this will be interpreted as an array index, `arr[np.array(seq)]`, which will result either in an error or a different result.\n",
      "  return np.add.reduce(sorted[indexer] * weights, axis=axis) / sumval\n"
     ]
    },
    {
     "data": {
      "image/png": "[encoded data removed]",
      "text/plain": [
       "<Figure size 432x288 with 1 Axes>"
      ]
     },
     "metadata": {},
     "output_type": "display_data"
    }
   ],
   "source": [
    "# Ranks and Plots - BloodPressure\n",
    "df['BP_rank']=pd.qcut(df['BloodPressure'].rank(method='first').values,20,duplicates='drop').codes+1\n",
    "#df.groupby('BP_rank')['Outcome'].count()\n",
    "from numpy import mean\n",
    "ax=sns.lineplot(x=\"BP_rank\", y=\"Outcome\", data=df, estimator=mean)"
   ]
  },
  {
   "cell_type": "code",
   "execution_count": 20,
   "metadata": {},
   "outputs": [],
   "source": [
    "# X=['Pregancies','Glucose','BloodPressure']"
   ]
  },
  {
   "cell_type": "code",
   "execution_count": 21,
   "metadata": {},
   "outputs": [
    {
     "name": "stderr",
     "output_type": "stream",
     "text": [
      "C:\\Anaconda_Python\\lib\\site-packages\\scipy\\stats\\stats.py:1713: FutureWarning: Using a non-tuple sequence for multidimensional indexing is deprecated; use `arr[tuple(seq)]` instead of `arr[seq]`. In the future this will be interpreted as an array index, `arr[np.array(seq)]`, which will result either in an error or a different result.\n",
      "  return np.add.reduce(sorted[indexer] * weights, axis=axis) / sumval\n"
     ]
    },
    {
     "data": {
      "image/png": "[encoded data removed]",
      "text/plain": [
       "<Figure size 432x288 with 1 Axes>"
      ]
     },
     "metadata": {},
     "output_type": "display_data"
    }
   ],
   "source": [
    "# Ranks and Plots - SkinThickness\n",
    "df['SThick_rank']=pd.qcut(df['SkinThickness'].rank(method='first').values,20,duplicates='drop').codes+1\n",
    "#df.groupby('BP_rank')['Outcome'].count()\n",
    "from numpy import mean\n",
    "ax=sns.lineplot(x=\"SThick_rank\", y=\"Outcome\", data=df, estimator=mean)"
   ]
  },
  {
   "cell_type": "code",
   "execution_count": 22,
   "metadata": {
    "scrolled": true
   },
   "outputs": [
    {
     "name": "stderr",
     "output_type": "stream",
     "text": [
      "C:\\Anaconda_Python\\lib\\site-packages\\scipy\\stats\\stats.py:1713: FutureWarning: Using a non-tuple sequence for multidimensional indexing is deprecated; use `arr[tuple(seq)]` instead of `arr[seq]`. In the future this will be interpreted as an array index, `arr[np.array(seq)]`, which will result either in an error or a different result.\n",
      "  return np.add.reduce(sorted[indexer] * weights, axis=axis) / sumval\n"
     ]
    },
    {
     "data": {
      "image/png": "[encoded data removed]",
      "text/plain": [
       "<Figure size 432x288 with 1 Axes>"
      ]
     },
     "metadata": {},
     "output_type": "display_data"
    }
   ],
   "source": [
    "# Ranks and Plots - Insulin\n",
    "df['Insulin_rank']=pd.qcut(df['Insulin'].rank(method='first').values,20,duplicates='drop').codes+1\n",
    "#df.groupby('BP_rank')['Outcome'].count()\n",
    "from numpy import mean\n",
    "ax=sns.lineplot(x=\"Insulin_rank\", y=\"Outcome\", data=df, estimator=mean)"
   ]
  },
  {
   "cell_type": "code",
   "execution_count": 23,
   "metadata": {},
   "outputs": [],
   "source": [
    "# X=['Pregancies','Glucose','BloodPressure','Insulin']"
   ]
  },
  {
   "cell_type": "code",
   "execution_count": 24,
   "metadata": {},
   "outputs": [
    {
     "name": "stderr",
     "output_type": "stream",
     "text": [
      "C:\\Anaconda_Python\\lib\\site-packages\\scipy\\stats\\stats.py:1713: FutureWarning: Using a non-tuple sequence for multidimensional indexing is deprecated; use `arr[tuple(seq)]` instead of `arr[seq]`. In the future this will be interpreted as an array index, `arr[np.array(seq)]`, which will result either in an error or a different result.\n",
      "  return np.add.reduce(sorted[indexer] * weights, axis=axis) / sumval\n"
     ]
    },
    {
     "data": {
      "image/png": "[encoded data removed]",
      "text/plain": [
       "<Figure size 432x288 with 1 Axes>"
      ]
     },
     "metadata": {},
     "output_type": "display_data"
    }
   ],
   "source": [
    "# Ranks and Plots - BMI\n",
    "df['BMI_rank']=pd.qcut(df['BMI'].rank(method='first').values,20,duplicates='drop').codes+1\n",
    "#df.groupby('BP_rank')['Outcome'].count()\n",
    "from numpy import mean\n",
    "ax=sns.lineplot(x=\"BMI_rank\", y=\"Outcome\", data=df, estimator=mean)"
   ]
  },
  {
   "cell_type": "code",
   "execution_count": 25,
   "metadata": {},
   "outputs": [],
   "source": [
    "# X=['Pregancies','Glucose','BloodPressure','Insulin','BMI']"
   ]
  },
  {
   "cell_type": "code",
   "execution_count": 26,
   "metadata": {
    "scrolled": true
   },
   "outputs": [
    {
     "name": "stderr",
     "output_type": "stream",
     "text": [
      "C:\\Anaconda_Python\\lib\\site-packages\\scipy\\stats\\stats.py:1713: FutureWarning: Using a non-tuple sequence for multidimensional indexing is deprecated; use `arr[tuple(seq)]` instead of `arr[seq]`. In the future this will be interpreted as an array index, `arr[np.array(seq)]`, which will result either in an error or a different result.\n",
      "  return np.add.reduce(sorted[indexer] * weights, axis=axis) / sumval\n"
     ]
    },
    {
     "data": {
      "image/png": "[encoded data removed]",
      "text/plain": [
       "<Figure size 432x288 with 1 Axes>"
      ]
     },
     "metadata": {},
     "output_type": "display_data"
    }
   ],
   "source": [
    "# Ranks and Plots - Age\n",
    "df['Age_rank']=pd.qcut(df['Age'].rank(method='first').values,20,duplicates='drop').codes+1\n",
    "#df.groupby('BP_rank')['Outcome'].count()\n",
    "from numpy import mean\n",
    "ax=sns.lineplot(x=\"Age_rank\", y=\"Outcome\", data=df, estimator=mean)"
   ]
  },
  {
   "cell_type": "code",
   "execution_count": 27,
   "metadata": {},
   "outputs": [],
   "source": [
    "# X=['Pregancies','Glucose','BloodPressure','Insulin','BMI','Age']"
   ]
  },
  {
   "cell_type": "code",
   "execution_count": 28,
   "metadata": {
    "scrolled": true
   },
   "outputs": [
    {
     "name": "stderr",
     "output_type": "stream",
     "text": [
      "C:\\Anaconda_Python\\lib\\site-packages\\scipy\\stats\\stats.py:1713: FutureWarning: Using a non-tuple sequence for multidimensional indexing is deprecated; use `arr[tuple(seq)]` instead of `arr[seq]`. In the future this will be interpreted as an array index, `arr[np.array(seq)]`, which will result either in an error or a different result.\n",
      "  return np.add.reduce(sorted[indexer] * weights, axis=axis) / sumval\n"
     ]
    },
    {
     "data": {
      "image/png": "[encoded data removed]",
      "text/plain": [
       "<Figure size 432x288 with 1 Axes>"
      ]
     },
     "metadata": {},
     "output_type": "display_data"
    }
   ],
   "source": [
    "# Ranks and Plots - DiabetesPedigreeFunction\n",
    "df['dpf_rank']=pd.qcut(df['DiabetesPedigreeFunction'].rank(method='first').values,20,duplicates='drop').codes+1\n",
    "#df.groupby('BP_rank')['Outcome'].count()\n",
    "from numpy import mean\n",
    "ax=sns.lineplot(x=\"dpf_rank\", y=\"Outcome\", data=df, estimator=mean)"
   ]
  },
  {
   "cell_type": "code",
   "execution_count": 29,
   "metadata": {},
   "outputs": [],
   "source": [
    "# X=['Pregnancies','Glucose',,'BloodPressure','Insulin','BMI','Age','DiabetesPedigreeFunction']"
   ]
  },
  {
   "cell_type": "markdown",
   "metadata": {},
   "source": [
    "## Feature Selection"
   ]
  },
  {
   "cell_type": "code",
   "execution_count": 55,
   "metadata": {},
   "outputs": [],
   "source": [
    "X = df[['Pregnancies','Glucose','BloodPressure','Insulin','BMI','Age','DiabetesPedigreeFunction']]\n",
    "y = df[['Outcome']]"
   ]
  },
  {
   "cell_type": "code",
   "execution_count": 31,
   "metadata": {},
   "outputs": [],
   "source": [
    "# Dropping Features based on Significance Tests\n",
    "X_new = df[['Pregnancies','Glucose','BloodPressure','Age',]]\n",
    "y = df[['Outcome']]"
   ]
  },
  {
   "cell_type": "markdown",
   "metadata": {},
   "source": [
    "## Train-Test Split"
   ]
  },
  {
   "cell_type": "code",
   "execution_count": 32,
   "metadata": {},
   "outputs": [],
   "source": [
    "X_train, X_test, y_train, y_test = train_test_split(X, y, test_size = 0.3, random_state = 42)"
   ]
  },
  {
   "cell_type": "code",
   "execution_count": 33,
   "metadata": {},
   "outputs": [],
   "source": [
    "# Train Test Split after the significance tests are done\n",
    "\n",
    "X_train,X_test,y_train,y_test=train_test_split(X_new,y,test_size=0.3,random_state=42)"
   ]
  },
  {
   "cell_type": "code",
   "execution_count": 34,
   "metadata": {},
   "outputs": [
    {
     "data": {
      "text/plain": [
       "Outcome    0.350093\n",
       "dtype: float64"
      ]
     },
     "execution_count": 34,
     "metadata": {},
     "output_type": "execute_result"
    }
   ],
   "source": [
    "y_train.mean()"
   ]
  },
  {
   "cell_type": "code",
   "execution_count": 35,
   "metadata": {},
   "outputs": [
    {
     "data": {
      "text/plain": [
       "Outcome    0.34632\n",
       "dtype: float64"
      ]
     },
     "execution_count": 35,
     "metadata": {},
     "output_type": "execute_result"
    }
   ],
   "source": [
    "y_test.mean()"
   ]
  },
  {
   "cell_type": "code",
   "execution_count": 36,
   "metadata": {},
   "outputs": [
    {
     "data": {
      "text/plain": [
       "(537, 4)"
      ]
     },
     "execution_count": 36,
     "metadata": {},
     "output_type": "execute_result"
    }
   ],
   "source": [
    "X_train.shape"
   ]
  },
  {
   "cell_type": "code",
   "execution_count": 37,
   "metadata": {},
   "outputs": [
    {
     "name": "stdout",
     "output_type": "stream",
     "text": [
      "Optimization terminated successfully.\n",
      "         Current function value: 0.610634\n",
      "         Iterations 5\n",
      "                         Results: Logit\n",
      "=================================================================\n",
      "Model:              Logit            Pseudo R-squared: 0.056     \n",
      "Dependent Variable: Outcome          AIC:              945.9335  \n",
      "Date:               2021-01-30 11:33 BIC:              964.5086  \n",
      "No. Observations:   768              Log-Likelihood:   -468.97   \n",
      "Df Model:           3                LL-Null:          -496.74   \n",
      "Df Residuals:       764              LLR p-value:      5.2394e-12\n",
      "Converged:          1.0000           Scale:            1.0000    \n",
      "No. Iterations:     5.0000                                       \n",
      "-----------------------------------------------------------------\n",
      "                   Coef.  Std.Err.    z    P>|z|   [0.025  0.975]\n",
      "-----------------------------------------------------------------\n",
      "Pregnancies        0.1244   0.0284  4.3757 0.0000  0.0687  0.1801\n",
      "Glucose            0.0140   0.0023  6.0801 0.0000  0.0095  0.0185\n",
      "BloodPressure     -0.0308   0.0040 -7.6258 0.0000 -0.0387 -0.0229\n",
      "Age               -0.0161   0.0083 -1.9330 0.0532 -0.0324  0.0002\n",
      "=================================================================\n",
      "\n"
     ]
    }
   ],
   "source": [
    "import statsmodels.api as sm\n",
    "logit=sm.Logit(y,X_new)\n",
    "result=logit.fit()\n",
    "print((result.summary2()))"
   ]
  },
  {
   "cell_type": "markdown",
   "metadata": {},
   "source": [
    "## Logistic Regression Model"
   ]
  },
  {
   "cell_type": "code",
   "execution_count": 38,
   "metadata": {},
   "outputs": [
    {
     "name": "stderr",
     "output_type": "stream",
     "text": [
      "C:\\Anaconda_Python\\lib\\site-packages\\sklearn\\utils\\validation.py:72: DataConversionWarning: A column-vector y was passed when a 1d array was expected. Please change the shape of y to (n_samples, ), for example using ravel().\n",
      "  return f(**kwargs)\n"
     ]
    },
    {
     "data": {
      "text/plain": [
       "LogisticRegression()"
      ]
     },
     "execution_count": 38,
     "metadata": {},
     "output_type": "execute_result"
    }
   ],
   "source": [
    "from sklearn.linear_model import LogisticRegression\n",
    "logreg=LogisticRegression()\n",
    "logreg.fit(X_train,y_train)"
   ]
  },
  {
   "cell_type": "markdown",
   "metadata": {},
   "source": [
    "## Predictions"
   ]
  },
  {
   "cell_type": "code",
   "execution_count": 39,
   "metadata": {},
   "outputs": [
    {
     "name": "stdout",
     "output_type": "stream",
     "text": [
      "Accuracy of logistic regression classifier on test set: 0.75\n"
     ]
    }
   ],
   "source": [
    "y_pred=logreg.predict(X_test)\n",
    "print('Accuracy of logistic regression classifier on test set: {:.2f}'.format(logreg.score(X_test, y_test)))"
   ]
  },
  {
   "cell_type": "code",
   "execution_count": 40,
   "metadata": {},
   "outputs": [
    {
     "name": "stdout",
     "output_type": "stream",
     "text": [
      "Accuracy of logistic regression classifier on train set: 0.74\n"
     ]
    }
   ],
   "source": [
    "y_pred=logreg.predict(X_train)\n",
    "print('Accuracy of logistic regression classifier on train set: {:.2f}'.format(logreg.score(X_train, y_train)))"
   ]
  },
  {
   "cell_type": "markdown",
   "metadata": {},
   "source": [
    "## Performance & Accuracy"
   ]
  },
  {
   "cell_type": "code",
   "execution_count": 41,
   "metadata": {
    "scrolled": true
   },
   "outputs": [
    {
     "data": {
      "text/plain": [
       "<sklearn.metrics._plot.confusion_matrix.ConfusionMatrixDisplay at 0x1c0b24dbc50>"
      ]
     },
     "execution_count": 41,
     "metadata": {},
     "output_type": "execute_result"
    },
    {
     "data": {
      "image/png": "[encoded data removed]",
      "text/plain": [
       "<Figure size 432x288 with 2 Axes>"
      ]
     },
     "metadata": {},
     "output_type": "display_data"
    }
   ],
   "source": [
    "metrics.plot_confusion_matrix(logreg,X_test,y_test)"
   ]
  },
  {
   "cell_type": "markdown",
   "metadata": {},
   "source": [
    "# Make Class Predictions"
   ]
  },
  {
   "cell_type": "code",
   "execution_count": 42,
   "metadata": {},
   "outputs": [],
   "source": [
    "y_pred=logreg.predict(X_test)"
   ]
  },
  {
   "cell_type": "code",
   "execution_count": 43,
   "metadata": {},
   "outputs": [
    {
     "name": "stdout",
     "output_type": "stream",
     "text": [
      "Accuracy: 0.7489177489177489\n",
      "Precision: 0.671875\n",
      "Recall: 0.5375\n",
      "f1_score: 0.5972222222222222\n"
     ]
    }
   ],
   "source": [
    "print(\"Accuracy:\",metrics.accuracy_score(y_test, y_pred))\n",
    "print(\"Precision:\",metrics.precision_score(y_test, y_pred))\n",
    "print(\"Recall:\",metrics.recall_score(y_test, y_pred))\n",
    "print(\"f1_score:\",metrics.f1_score(y_test,y_pred))"
   ]
  },
  {
   "cell_type": "code",
   "execution_count": 44,
   "metadata": {
    "scrolled": true
   },
   "outputs": [
    {
     "data": {
      "text/plain": [
       "array([0, 0, 0, 0, 1, 0, 0, 0, 1, 1, 0, 1, 1, 0, 0, 0, 0, 0, 1, 0, 0, 0,\n",
       "       0, 0, 1, 1, 0, 0, 0, 0, 1, 1, 1, 1, 0, 1, 1, 0, 1, 0, 0, 1, 0, 0,\n",
       "       0, 1, 0, 0, 0, 1, 0, 1, 1, 0, 0, 0, 1, 0, 0, 1, 1, 0, 1, 0, 0, 0,\n",
       "       0, 0, 0, 1, 1, 0, 0, 0, 0, 0, 0, 0, 0, 0, 1, 0, 0, 0, 0, 1, 1, 0,\n",
       "       0, 0, 0, 0, 0, 0, 0, 0, 0, 0, 1, 0, 1, 0, 1, 0, 1, 0, 0, 1, 0, 0,\n",
       "       0, 1, 0, 1, 0, 0, 1, 0, 0, 0, 0, 0, 0, 0, 0, 0, 0, 1, 1, 1, 1, 1,\n",
       "       0, 1, 1, 0, 0, 1, 1, 0, 0, 0, 0, 0, 0, 0, 0, 0, 0, 1, 0, 0, 0, 0,\n",
       "       0, 0, 0, 1, 1, 0, 0, 1, 0, 0, 0, 1, 0, 0, 1, 0, 1, 0, 0, 0, 1, 0,\n",
       "       0, 0, 0, 0, 1, 0, 0, 0, 0, 0, 0, 0, 1, 0, 0, 0, 1, 0, 0, 0, 0, 0,\n",
       "       0, 1, 0, 0, 0, 0, 0, 0, 0, 0, 1, 1, 0, 0, 0, 0, 1, 0, 1, 0, 0, 1,\n",
       "       1, 0, 0, 0, 0, 0, 0, 0, 0, 0, 0], dtype=int64)"
      ]
     },
     "execution_count": 44,
     "metadata": {},
     "output_type": "execute_result"
    }
   ],
   "source": [
    "y_predict=logreg.predict(X_test)\n",
    "y_predict"
   ]
  },
  {
   "cell_type": "code",
   "execution_count": 45,
   "metadata": {},
   "outputs": [
    {
     "data": {
      "text/plain": [
       "array([[0.77958535, 0.22041465],\n",
       "       [0.82273591, 0.17726409],\n",
       "       [0.84191559, 0.15808441],\n",
       "       [0.74204772, 0.25795228],\n",
       "       [0.4108109 , 0.5891891 ],\n",
       "       [0.68877103, 0.31122897],\n",
       "       [0.95603797, 0.04396203],\n",
       "       [0.69120048, 0.30879952],\n",
       "       [0.36311589, 0.63688411],\n",
       "       [0.26050558, 0.73949442],\n",
       "       [0.65225608, 0.34774392],\n",
       "       [0.0979437 , 0.9020563 ],\n",
       "       [0.46205077, 0.53794923],\n",
       "       [0.80466719, 0.19533281],\n",
       "       [0.9163088 , 0.0836912 ],\n",
       "       [0.71125176, 0.28874824],\n",
       "       [0.91318717, 0.08681283],\n",
       "       [0.90512494, 0.09487506],\n",
       "       [0.15278286, 0.84721714],\n",
       "       [0.62532622, 0.37467378],\n",
       "       [0.72926229, 0.27073771],\n",
       "       [0.90902352, 0.09097648],\n",
       "       [0.62724585, 0.37275415],\n",
       "       [0.89866193, 0.10133807],\n",
       "       [0.49588802, 0.50411198],\n",
       "       [0.12447135, 0.87552865],\n",
       "       [0.77695794, 0.22304206],\n",
       "       [0.86649684, 0.13350316],\n",
       "       [0.8669954 , 0.1330046 ],\n",
       "       [0.87210848, 0.12789152],\n",
       "       [0.4188845 , 0.5811155 ],\n",
       "       [0.26955949, 0.73044051],\n",
       "       [0.17727187, 0.82272813],\n",
       "       [0.32546949, 0.67453051],\n",
       "       [0.70067528, 0.29932472],\n",
       "       [0.33794605, 0.66205395],\n",
       "       [0.06389378, 0.93610622],\n",
       "       [0.79557999, 0.20442001],\n",
       "       [0.40141792, 0.59858208],\n",
       "       [0.67366768, 0.32633232],\n",
       "       [0.90384465, 0.09615535],\n",
       "       [0.42257874, 0.57742126],\n",
       "       [0.62403597, 0.37596403],\n",
       "       [0.68331492, 0.31668508],\n",
       "       [0.86995194, 0.13004806],\n",
       "       [0.39499894, 0.60500106],\n",
       "       [0.64230993, 0.35769007],\n",
       "       [0.86380859, 0.13619141],\n",
       "       [0.56578137, 0.43421863],\n",
       "       [0.17418804, 0.82581196],\n",
       "       [0.88930721, 0.11069279],\n",
       "       [0.29055544, 0.70944456],\n",
       "       [0.26685212, 0.73314788],\n",
       "       [0.65742213, 0.34257787],\n",
       "       [0.65035904, 0.34964096],\n",
       "       [0.94524474, 0.05475526],\n",
       "       [0.19511777, 0.80488223],\n",
       "       [0.92874541, 0.07125459],\n",
       "       [0.75785413, 0.24214587],\n",
       "       [0.22175011, 0.77824989],\n",
       "       [0.2715969 , 0.7284031 ],\n",
       "       [0.73189378, 0.26810622],\n",
       "       [0.42885399, 0.57114601],\n",
       "       [0.75372243, 0.24627757],\n",
       "       [0.93486757, 0.06513243],\n",
       "       [0.56767642, 0.43232358],\n",
       "       [0.92986659, 0.07013341],\n",
       "       [0.51542555, 0.48457445],\n",
       "       [0.85879909, 0.14120091],\n",
       "       [0.30033202, 0.69966798],\n",
       "       [0.32795357, 0.67204643],\n",
       "       [0.90027453, 0.09972547],\n",
       "       [0.72941951, 0.27058049],\n",
       "       [0.90281229, 0.09718771],\n",
       "       [0.80710353, 0.19289647],\n",
       "       [0.65643607, 0.34356393],\n",
       "       [0.73219346, 0.26780654],\n",
       "       [0.83346813, 0.16653187],\n",
       "       [0.8066368 , 0.1933632 ],\n",
       "       [0.78423873, 0.21576127],\n",
       "       [0.28751808, 0.71248192],\n",
       "       [0.87158801, 0.12841199],\n",
       "       [0.93194455, 0.06805545],\n",
       "       [0.6648379 , 0.3351621 ],\n",
       "       [0.79016689, 0.20983311],\n",
       "       [0.15152685, 0.84847315],\n",
       "       [0.35018917, 0.64981083],\n",
       "       [0.70105859, 0.29894141],\n",
       "       [0.8285381 , 0.1714619 ],\n",
       "       [0.9134526 , 0.0865474 ],\n",
       "       [0.91086478, 0.08913522],\n",
       "       [0.87851442, 0.12148558],\n",
       "       [0.94540754, 0.05459246],\n",
       "       [0.59249948, 0.40750052],\n",
       "       [0.7242234 , 0.2757766 ],\n",
       "       [0.55582935, 0.44417065],\n",
       "       [0.69099474, 0.30900526],\n",
       "       [0.9269018 , 0.0730982 ],\n",
       "       [0.30757508, 0.69242492],\n",
       "       [0.93291925, 0.06708075],\n",
       "       [0.25480456, 0.74519544],\n",
       "       [0.95008967, 0.04991033],\n",
       "       [0.46590487, 0.53409513],\n",
       "       [0.51469042, 0.48530958],\n",
       "       [0.36431259, 0.63568741],\n",
       "       [0.79811578, 0.20188422],\n",
       "       [0.58651202, 0.41348798],\n",
       "       [0.25679916, 0.74320084],\n",
       "       [0.9269138 , 0.0730862 ],\n",
       "       [0.69357138, 0.30642862],\n",
       "       [0.87436946, 0.12563054],\n",
       "       [0.30051563, 0.69948437],\n",
       "       [0.79311976, 0.20688024],\n",
       "       [0.19890135, 0.80109865],\n",
       "       [0.81619632, 0.18380368],\n",
       "       [0.75477467, 0.24522533],\n",
       "       [0.37612857, 0.62387143],\n",
       "       [0.78325142, 0.21674858],\n",
       "       [0.90763143, 0.09236857],\n",
       "       [0.66117982, 0.33882018],\n",
       "       [0.86256517, 0.13743483],\n",
       "       [0.86778746, 0.13221254],\n",
       "       [0.66163454, 0.33836546],\n",
       "       [0.90943593, 0.09056407],\n",
       "       [0.52088831, 0.47911169],\n",
       "       [0.60887992, 0.39112008],\n",
       "       [0.65560923, 0.34439077],\n",
       "       [0.20581947, 0.79418053],\n",
       "       [0.39776433, 0.60223567],\n",
       "       [0.1377598 , 0.8622402 ],\n",
       "       [0.14527626, 0.85472374],\n",
       "       [0.28023858, 0.71976142],\n",
       "       [0.8440419 , 0.1559581 ],\n",
       "       [0.4005654 , 0.5994346 ],\n",
       "       [0.26425599, 0.73574401],\n",
       "       [0.82909381, 0.17090619],\n",
       "       [0.70511938, 0.29488062],\n",
       "       [0.20393414, 0.79606586],\n",
       "       [0.26883211, 0.73116789],\n",
       "       [0.95793868, 0.04206132],\n",
       "       [0.81001372, 0.18998628],\n",
       "       [0.9043065 , 0.0956935 ],\n",
       "       [0.57956209, 0.42043791],\n",
       "       [0.63696653, 0.36303347],\n",
       "       [0.90464491, 0.09535509],\n",
       "       [0.85706317, 0.14293683],\n",
       "       [0.89110226, 0.10889774],\n",
       "       [0.95397019, 0.04602981],\n",
       "       [0.73119038, 0.26880962],\n",
       "       [0.17564857, 0.82435143],\n",
       "       [0.94340626, 0.05659374],\n",
       "       [0.71688266, 0.28311734],\n",
       "       [0.51292675, 0.48707325],\n",
       "       [0.89684504, 0.10315496],\n",
       "       [0.92415865, 0.07584135],\n",
       "       [0.60256828, 0.39743172],\n",
       "       [0.62682661, 0.37317339],\n",
       "       [0.21230968, 0.78769032],\n",
       "       [0.46514117, 0.53485883],\n",
       "       [0.70795878, 0.29204122],\n",
       "       [0.62899743, 0.37100257],\n",
       "       [0.19340977, 0.80659023],\n",
       "       [0.83915232, 0.16084768],\n",
       "       [0.9412464 , 0.0587536 ],\n",
       "       [0.92355039, 0.07644961],\n",
       "       [0.28312032, 0.71687968],\n",
       "       [0.9177413 , 0.0822587 ],\n",
       "       [0.50052852, 0.49947148],\n",
       "       [0.13871648, 0.86128352],\n",
       "       [0.60596878, 0.39403122],\n",
       "       [0.26719601, 0.73280399],\n",
       "       [0.85845592, 0.14154408],\n",
       "       [0.6552676 , 0.3447324 ],\n",
       "       [0.74409719, 0.25590281],\n",
       "       [0.36136122, 0.63863878],\n",
       "       [0.86902527, 0.13097473],\n",
       "       [0.68579587, 0.31420413],\n",
       "       [0.68867158, 0.31132842],\n",
       "       [0.75135762, 0.24864238],\n",
       "       [0.66368467, 0.33631533],\n",
       "       [0.22576087, 0.77423913],\n",
       "       [0.50160441, 0.49839559],\n",
       "       [0.75346138, 0.24653862],\n",
       "       [0.53749608, 0.46250392],\n",
       "       [0.66570945, 0.33429055],\n",
       "       [0.89065032, 0.10934968],\n",
       "       [0.9411129 , 0.0588871 ],\n",
       "       [0.92133058, 0.07866942],\n",
       "       [0.06171675, 0.93828325],\n",
       "       [0.63691958, 0.36308042],\n",
       "       [0.93102779, 0.06897221],\n",
       "       [0.82494373, 0.17505627],\n",
       "       [0.40013445, 0.59986555],\n",
       "       [0.67743023, 0.32256977],\n",
       "       [0.94183213, 0.05816787],\n",
       "       [0.93078186, 0.06921814],\n",
       "       [0.88370926, 0.11629074],\n",
       "       [0.86607676, 0.13392324],\n",
       "       [0.84884104, 0.15115896],\n",
       "       [0.28059694, 0.71940306],\n",
       "       [0.84255602, 0.15744398],\n",
       "       [0.87623607, 0.12376393],\n",
       "       [0.76088485, 0.23911515],\n",
       "       [0.70089103, 0.29910897],\n",
       "       [0.51679108, 0.48320892],\n",
       "       [0.8969589 , 0.1030411 ],\n",
       "       [0.92046216, 0.07953784],\n",
       "       [0.74174578, 0.25825422],\n",
       "       [0.11081396, 0.88918604],\n",
       "       [0.24239244, 0.75760756],\n",
       "       [0.68892998, 0.31107002],\n",
       "       [0.84507369, 0.15492631],\n",
       "       [0.81297406, 0.18702594],\n",
       "       [0.8068951 , 0.1931049 ],\n",
       "       [0.29366857, 0.70633143],\n",
       "       [0.76457554, 0.23542446],\n",
       "       [0.40752205, 0.59247795],\n",
       "       [0.73730649, 0.26269351],\n",
       "       [0.56592789, 0.43407211],\n",
       "       [0.13526176, 0.86473824],\n",
       "       [0.30552946, 0.69447054],\n",
       "       [0.87719605, 0.12280395],\n",
       "       [0.86459664, 0.13540336],\n",
       "       [0.77307709, 0.22692291],\n",
       "       [0.84278254, 0.15721746],\n",
       "       [0.57731309, 0.42268691],\n",
       "       [0.77309244, 0.22690756],\n",
       "       [0.80127661, 0.19872339],\n",
       "       [0.73957477, 0.26042523],\n",
       "       [0.7618063 , 0.2381937 ],\n",
       "       [0.91198827, 0.08801173]])"
      ]
     },
     "execution_count": 45,
     "metadata": {},
     "output_type": "execute_result"
    }
   ],
   "source": [
    "y_preicted_probability=logreg.predict_proba(X_test)\n",
    "y_preicted_probability"
   ]
  },
  {
   "cell_type": "code",
   "execution_count": 46,
   "metadata": {},
   "outputs": [
    {
     "data": {
      "image/png": "[encoded data removed]",
      "text/plain": [
       "<Figure size 432x288 with 1 Axes>"
      ]
     },
     "metadata": {},
     "output_type": "display_data"
    }
   ],
   "source": [
    "from sklearn.metrics import roc_auc_score\n",
    "from sklearn.metrics import roc_curve\n",
    "logit_roc_auc = roc_auc_score(y_test, logreg.predict(X_test))\n",
    "\n",
    "fpr, tpr, thresholds = roc_curve(y_test, logreg.predict_proba(X_test)[:,1])\n",
    "\n",
    "plt.figure()\n",
    "\n",
    "plt.plot(fpr, tpr, label='Logistic Regression (area = %0.2f)' % logit_roc_auc)\n",
    "\n",
    "\n",
    "plt.plot([0, 1], [0, 1],'r--')\n",
    "plt.xlim([0.0, 1.0])\n",
    "plt.ylim([0.0, 1.05])\n",
    "plt.xlabel('False Positive Rate')\n",
    "plt.ylabel('True Positive Rate')\n",
    "plt.title('Receiver operating characteristic')\n",
    "plt.legend(loc=\"lower right\")\n",
    "plt.savefig('Log_ROC')\n",
    "plt.show()"
   ]
  },
  {
   "cell_type": "code",
   "execution_count": 47,
   "metadata": {},
   "outputs": [
    {
     "data": {
      "text/html": [
       "<div>\n",
       "<style scoped>\n",
       "    .dataframe tbody tr th:only-of-type {\n",
       "        vertical-align: middle;\n",
       "    }\n",
       "\n",
       "    .dataframe tbody tr th {\n",
       "        vertical-align: top;\n",
       "    }\n",
       "\n",
       "    .dataframe thead th {\n",
       "        text-align: right;\n",
       "    }\n",
       "</style>\n",
       "<table border=\"1\" class=\"dataframe\">\n",
       "  <thead>\n",
       "    <tr style=\"text-align: right;\">\n",
       "      <th></th>\n",
       "      <th>count</th>\n",
       "      <th>mean</th>\n",
       "    </tr>\n",
       "    <tr>\n",
       "      <th>P_Rank_RF</th>\n",
       "      <th></th>\n",
       "      <th></th>\n",
       "    </tr>\n",
       "  </thead>\n",
       "  <tbody>\n",
       "    <tr>\n",
       "      <th>10</th>\n",
       "      <td>77</td>\n",
       "      <td>0.779221</td>\n",
       "    </tr>\n",
       "    <tr>\n",
       "      <th>9</th>\n",
       "      <td>77</td>\n",
       "      <td>0.740260</td>\n",
       "    </tr>\n",
       "    <tr>\n",
       "      <th>8</th>\n",
       "      <td>77</td>\n",
       "      <td>0.428571</td>\n",
       "    </tr>\n",
       "    <tr>\n",
       "      <th>7</th>\n",
       "      <td>76</td>\n",
       "      <td>0.460526</td>\n",
       "    </tr>\n",
       "    <tr>\n",
       "      <th>6</th>\n",
       "      <td>77</td>\n",
       "      <td>0.389610</td>\n",
       "    </tr>\n",
       "    <tr>\n",
       "      <th>5</th>\n",
       "      <td>77</td>\n",
       "      <td>0.298701</td>\n",
       "    </tr>\n",
       "    <tr>\n",
       "      <th>4</th>\n",
       "      <td>76</td>\n",
       "      <td>0.197368</td>\n",
       "    </tr>\n",
       "    <tr>\n",
       "      <th>3</th>\n",
       "      <td>77</td>\n",
       "      <td>0.077922</td>\n",
       "    </tr>\n",
       "    <tr>\n",
       "      <th>2</th>\n",
       "      <td>77</td>\n",
       "      <td>0.064935</td>\n",
       "    </tr>\n",
       "    <tr>\n",
       "      <th>1</th>\n",
       "      <td>77</td>\n",
       "      <td>0.051948</td>\n",
       "    </tr>\n",
       "  </tbody>\n",
       "</table>\n",
       "</div>"
      ],
      "text/plain": [
       "           count      mean\n",
       "P_Rank_RF                 \n",
       "10            77  0.779221\n",
       "9             77  0.740260\n",
       "8             77  0.428571\n",
       "7             76  0.460526\n",
       "6             77  0.389610\n",
       "5             77  0.298701\n",
       "4             76  0.197368\n",
       "3             77  0.077922\n",
       "2             77  0.064935\n",
       "1             77  0.051948"
      ]
     },
     "execution_count": 47,
     "metadata": {},
     "output_type": "execute_result"
    }
   ],
   "source": [
    "# Gains Chart Code\n",
    "\n",
    "y_pred_prob = logreg.predict_proba(X_new)[:, 1] #ndarray\n",
    "df['y_pred_P']=pd.DataFrame(y_pred_prob) #converted to a DataFrame\n",
    "df['P_Rank_RF']=pd.qcut(df['y_pred_P'].rank(method='first').values,10,duplicates='drop').codes+1 #Apply qcut on the DataFrame\n",
    "rank_df=df.groupby('P_Rank_RF')['Outcome'].agg(['count','mean'])\n",
    "rank_df=pd.DataFrame(rank_df)\n",
    "sorted_rank_df=rank_df.sort_values(by='P_Rank_RF',ascending=False)\n",
    "sorted_rank_df"
   ]
  },
  {
   "cell_type": "code",
   "execution_count": 48,
   "metadata": {},
   "outputs": [
    {
     "data": {
      "text/html": [
       "<div>\n",
       "<style scoped>\n",
       "    .dataframe tbody tr th:only-of-type {\n",
       "        vertical-align: middle;\n",
       "    }\n",
       "\n",
       "    .dataframe tbody tr th {\n",
       "        vertical-align: top;\n",
       "    }\n",
       "\n",
       "    .dataframe thead th {\n",
       "        text-align: right;\n",
       "    }\n",
       "</style>\n",
       "<table border=\"1\" class=\"dataframe\">\n",
       "  <thead>\n",
       "    <tr style=\"text-align: right;\">\n",
       "      <th></th>\n",
       "      <th>count</th>\n",
       "      <th>mean</th>\n",
       "      <th>N_events</th>\n",
       "    </tr>\n",
       "    <tr>\n",
       "      <th>P_Rank_RF</th>\n",
       "      <th></th>\n",
       "      <th></th>\n",
       "      <th></th>\n",
       "    </tr>\n",
       "  </thead>\n",
       "  <tbody>\n",
       "    <tr>\n",
       "      <th>10</th>\n",
       "      <td>77</td>\n",
       "      <td>0.779221</td>\n",
       "      <td>60.0</td>\n",
       "    </tr>\n",
       "    <tr>\n",
       "      <th>9</th>\n",
       "      <td>77</td>\n",
       "      <td>0.740260</td>\n",
       "      <td>57.0</td>\n",
       "    </tr>\n",
       "    <tr>\n",
       "      <th>8</th>\n",
       "      <td>77</td>\n",
       "      <td>0.428571</td>\n",
       "      <td>33.0</td>\n",
       "    </tr>\n",
       "    <tr>\n",
       "      <th>7</th>\n",
       "      <td>76</td>\n",
       "      <td>0.460526</td>\n",
       "      <td>35.0</td>\n",
       "    </tr>\n",
       "    <tr>\n",
       "      <th>6</th>\n",
       "      <td>77</td>\n",
       "      <td>0.389610</td>\n",
       "      <td>30.0</td>\n",
       "    </tr>\n",
       "    <tr>\n",
       "      <th>5</th>\n",
       "      <td>77</td>\n",
       "      <td>0.298701</td>\n",
       "      <td>23.0</td>\n",
       "    </tr>\n",
       "    <tr>\n",
       "      <th>4</th>\n",
       "      <td>76</td>\n",
       "      <td>0.197368</td>\n",
       "      <td>15.0</td>\n",
       "    </tr>\n",
       "    <tr>\n",
       "      <th>3</th>\n",
       "      <td>77</td>\n",
       "      <td>0.077922</td>\n",
       "      <td>6.0</td>\n",
       "    </tr>\n",
       "    <tr>\n",
       "      <th>2</th>\n",
       "      <td>77</td>\n",
       "      <td>0.064935</td>\n",
       "      <td>5.0</td>\n",
       "    </tr>\n",
       "    <tr>\n",
       "      <th>1</th>\n",
       "      <td>77</td>\n",
       "      <td>0.051948</td>\n",
       "      <td>4.0</td>\n",
       "    </tr>\n",
       "  </tbody>\n",
       "</table>\n",
       "</div>"
      ],
      "text/plain": [
       "           count      mean  N_events\n",
       "P_Rank_RF                           \n",
       "10            77  0.779221      60.0\n",
       "9             77  0.740260      57.0\n",
       "8             77  0.428571      33.0\n",
       "7             76  0.460526      35.0\n",
       "6             77  0.389610      30.0\n",
       "5             77  0.298701      23.0\n",
       "4             76  0.197368      15.0\n",
       "3             77  0.077922       6.0\n",
       "2             77  0.064935       5.0\n",
       "1             77  0.051948       4.0"
      ]
     },
     "execution_count": 48,
     "metadata": {},
     "output_type": "execute_result"
    }
   ],
   "source": [
    "sorted_rank_df['N_events']=rank_df['count']*rank_df['mean']\n",
    "sorted_rank_df\n",
    "#sorted_rank_df['cum_events']=sorted_rank_df['N_events'].cumsum()\n",
    "#sorted_rank_df['event_cap']=sorted_rank_df['N_events']/max(sorted_rank_df['N_events'].cumsum())\n",
    "#sorted_rank_df['cum_event_cap']=sorted_rank_df['event_cap'].cumsum()\n",
    "#sorted_rank_df['random_cap']=sorted_rank_df['count']/max(sorted_rank_df['count'].cumsum())\n",
    "#sorted_rank_df['cum_random_cap']=sorted_rank_df['random_cap'].cumsum()\n",
    "#sorted_reindexed=sorted_rank_df.reset_index()\n",
    "#sorted_reindexed['decile']=sorted_reindexed.index+1\n",
    "#sorted_reindexed"
   ]
  },
  {
   "cell_type": "code",
   "execution_count": 49,
   "metadata": {},
   "outputs": [
    {
     "data": {
      "text/html": [
       "<div>\n",
       "<style scoped>\n",
       "    .dataframe tbody tr th:only-of-type {\n",
       "        vertical-align: middle;\n",
       "    }\n",
       "\n",
       "    .dataframe tbody tr th {\n",
       "        vertical-align: top;\n",
       "    }\n",
       "\n",
       "    .dataframe thead th {\n",
       "        text-align: right;\n",
       "    }\n",
       "</style>\n",
       "<table border=\"1\" class=\"dataframe\">\n",
       "  <thead>\n",
       "    <tr style=\"text-align: right;\">\n",
       "      <th></th>\n",
       "      <th>count</th>\n",
       "      <th>mean</th>\n",
       "      <th>N_events</th>\n",
       "      <th>cum_events</th>\n",
       "    </tr>\n",
       "    <tr>\n",
       "      <th>P_Rank_RF</th>\n",
       "      <th></th>\n",
       "      <th></th>\n",
       "      <th></th>\n",
       "      <th></th>\n",
       "    </tr>\n",
       "  </thead>\n",
       "  <tbody>\n",
       "    <tr>\n",
       "      <th>10</th>\n",
       "      <td>77</td>\n",
       "      <td>0.779221</td>\n",
       "      <td>60.0</td>\n",
       "      <td>60.0</td>\n",
       "    </tr>\n",
       "    <tr>\n",
       "      <th>9</th>\n",
       "      <td>77</td>\n",
       "      <td>0.740260</td>\n",
       "      <td>57.0</td>\n",
       "      <td>117.0</td>\n",
       "    </tr>\n",
       "    <tr>\n",
       "      <th>8</th>\n",
       "      <td>77</td>\n",
       "      <td>0.428571</td>\n",
       "      <td>33.0</td>\n",
       "      <td>150.0</td>\n",
       "    </tr>\n",
       "    <tr>\n",
       "      <th>7</th>\n",
       "      <td>76</td>\n",
       "      <td>0.460526</td>\n",
       "      <td>35.0</td>\n",
       "      <td>185.0</td>\n",
       "    </tr>\n",
       "    <tr>\n",
       "      <th>6</th>\n",
       "      <td>77</td>\n",
       "      <td>0.389610</td>\n",
       "      <td>30.0</td>\n",
       "      <td>215.0</td>\n",
       "    </tr>\n",
       "    <tr>\n",
       "      <th>5</th>\n",
       "      <td>77</td>\n",
       "      <td>0.298701</td>\n",
       "      <td>23.0</td>\n",
       "      <td>238.0</td>\n",
       "    </tr>\n",
       "    <tr>\n",
       "      <th>4</th>\n",
       "      <td>76</td>\n",
       "      <td>0.197368</td>\n",
       "      <td>15.0</td>\n",
       "      <td>253.0</td>\n",
       "    </tr>\n",
       "    <tr>\n",
       "      <th>3</th>\n",
       "      <td>77</td>\n",
       "      <td>0.077922</td>\n",
       "      <td>6.0</td>\n",
       "      <td>259.0</td>\n",
       "    </tr>\n",
       "    <tr>\n",
       "      <th>2</th>\n",
       "      <td>77</td>\n",
       "      <td>0.064935</td>\n",
       "      <td>5.0</td>\n",
       "      <td>264.0</td>\n",
       "    </tr>\n",
       "    <tr>\n",
       "      <th>1</th>\n",
       "      <td>77</td>\n",
       "      <td>0.051948</td>\n",
       "      <td>4.0</td>\n",
       "      <td>268.0</td>\n",
       "    </tr>\n",
       "  </tbody>\n",
       "</table>\n",
       "</div>"
      ],
      "text/plain": [
       "           count      mean  N_events  cum_events\n",
       "P_Rank_RF                                       \n",
       "10            77  0.779221      60.0        60.0\n",
       "9             77  0.740260      57.0       117.0\n",
       "8             77  0.428571      33.0       150.0\n",
       "7             76  0.460526      35.0       185.0\n",
       "6             77  0.389610      30.0       215.0\n",
       "5             77  0.298701      23.0       238.0\n",
       "4             76  0.197368      15.0       253.0\n",
       "3             77  0.077922       6.0       259.0\n",
       "2             77  0.064935       5.0       264.0\n",
       "1             77  0.051948       4.0       268.0"
      ]
     },
     "execution_count": 49,
     "metadata": {},
     "output_type": "execute_result"
    }
   ],
   "source": [
    "sorted_rank_df['cum_events']=sorted_rank_df['N_events'].cumsum()\n",
    "sorted_rank_df\n",
    "#sorted_rank_df['event_cap']=sorted_rank_df['N_events']/max(sorted_rank_df['N_events'].cumsum())\n",
    "#sorted_rank_df['cum_event_cap']=sorted_rank_df['event_cap'].cumsum()\n",
    "#sorted_rank_df['random_cap']=sorted_rank_df['count']/max(sorted_rank_df['count'].cumsum())\n",
    "#sorted_rank_df['cum_random_cap']=sorted_rank_df['random_cap'].cumsum()\n",
    "#sorted_reindexed=sorted_rank_df.reset_index()\n",
    "#sorted_reindexed['decile']=sorted_reindexed.index+1\n",
    "#sorted_reindexed"
   ]
  },
  {
   "cell_type": "code",
   "execution_count": 50,
   "metadata": {},
   "outputs": [
    {
     "data": {
      "text/html": [
       "<div>\n",
       "<style scoped>\n",
       "    .dataframe tbody tr th:only-of-type {\n",
       "        vertical-align: middle;\n",
       "    }\n",
       "\n",
       "    .dataframe tbody tr th {\n",
       "        vertical-align: top;\n",
       "    }\n",
       "\n",
       "    .dataframe thead th {\n",
       "        text-align: right;\n",
       "    }\n",
       "</style>\n",
       "<table border=\"1\" class=\"dataframe\">\n",
       "  <thead>\n",
       "    <tr style=\"text-align: right;\">\n",
       "      <th></th>\n",
       "      <th>count</th>\n",
       "      <th>mean</th>\n",
       "      <th>N_events</th>\n",
       "      <th>cum_events</th>\n",
       "      <th>event_cap</th>\n",
       "    </tr>\n",
       "    <tr>\n",
       "      <th>P_Rank_RF</th>\n",
       "      <th></th>\n",
       "      <th></th>\n",
       "      <th></th>\n",
       "      <th></th>\n",
       "      <th></th>\n",
       "    </tr>\n",
       "  </thead>\n",
       "  <tbody>\n",
       "    <tr>\n",
       "      <th>10</th>\n",
       "      <td>77</td>\n",
       "      <td>0.779221</td>\n",
       "      <td>60.0</td>\n",
       "      <td>60.0</td>\n",
       "      <td>0.223881</td>\n",
       "    </tr>\n",
       "    <tr>\n",
       "      <th>9</th>\n",
       "      <td>77</td>\n",
       "      <td>0.740260</td>\n",
       "      <td>57.0</td>\n",
       "      <td>117.0</td>\n",
       "      <td>0.212687</td>\n",
       "    </tr>\n",
       "    <tr>\n",
       "      <th>8</th>\n",
       "      <td>77</td>\n",
       "      <td>0.428571</td>\n",
       "      <td>33.0</td>\n",
       "      <td>150.0</td>\n",
       "      <td>0.123134</td>\n",
       "    </tr>\n",
       "    <tr>\n",
       "      <th>7</th>\n",
       "      <td>76</td>\n",
       "      <td>0.460526</td>\n",
       "      <td>35.0</td>\n",
       "      <td>185.0</td>\n",
       "      <td>0.130597</td>\n",
       "    </tr>\n",
       "    <tr>\n",
       "      <th>6</th>\n",
       "      <td>77</td>\n",
       "      <td>0.389610</td>\n",
       "      <td>30.0</td>\n",
       "      <td>215.0</td>\n",
       "      <td>0.111940</td>\n",
       "    </tr>\n",
       "    <tr>\n",
       "      <th>5</th>\n",
       "      <td>77</td>\n",
       "      <td>0.298701</td>\n",
       "      <td>23.0</td>\n",
       "      <td>238.0</td>\n",
       "      <td>0.085821</td>\n",
       "    </tr>\n",
       "    <tr>\n",
       "      <th>4</th>\n",
       "      <td>76</td>\n",
       "      <td>0.197368</td>\n",
       "      <td>15.0</td>\n",
       "      <td>253.0</td>\n",
       "      <td>0.055970</td>\n",
       "    </tr>\n",
       "    <tr>\n",
       "      <th>3</th>\n",
       "      <td>77</td>\n",
       "      <td>0.077922</td>\n",
       "      <td>6.0</td>\n",
       "      <td>259.0</td>\n",
       "      <td>0.022388</td>\n",
       "    </tr>\n",
       "    <tr>\n",
       "      <th>2</th>\n",
       "      <td>77</td>\n",
       "      <td>0.064935</td>\n",
       "      <td>5.0</td>\n",
       "      <td>264.0</td>\n",
       "      <td>0.018657</td>\n",
       "    </tr>\n",
       "    <tr>\n",
       "      <th>1</th>\n",
       "      <td>77</td>\n",
       "      <td>0.051948</td>\n",
       "      <td>4.0</td>\n",
       "      <td>268.0</td>\n",
       "      <td>0.014925</td>\n",
       "    </tr>\n",
       "  </tbody>\n",
       "</table>\n",
       "</div>"
      ],
      "text/plain": [
       "           count      mean  N_events  cum_events  event_cap\n",
       "P_Rank_RF                                                  \n",
       "10            77  0.779221      60.0        60.0   0.223881\n",
       "9             77  0.740260      57.0       117.0   0.212687\n",
       "8             77  0.428571      33.0       150.0   0.123134\n",
       "7             76  0.460526      35.0       185.0   0.130597\n",
       "6             77  0.389610      30.0       215.0   0.111940\n",
       "5             77  0.298701      23.0       238.0   0.085821\n",
       "4             76  0.197368      15.0       253.0   0.055970\n",
       "3             77  0.077922       6.0       259.0   0.022388\n",
       "2             77  0.064935       5.0       264.0   0.018657\n",
       "1             77  0.051948       4.0       268.0   0.014925"
      ]
     },
     "execution_count": 50,
     "metadata": {},
     "output_type": "execute_result"
    }
   ],
   "source": [
    "sorted_rank_df['event_cap']=sorted_rank_df['N_events']/max(sorted_rank_df['N_events'].cumsum())\n",
    "sorted_rank_df\n",
    "#sorted_rank_df['event_cap']=sorted_rank_df['N_events']/max(sorted_rank_df['cum_events'])\n",
    "#sorted_rank_df\n",
    "#sorted_rank_df['cum_event_cap']=sorted_rank_df['event_cap'].cumsum()\n",
    "#sorted_rank_df['random_cap']=sorted_rank_df['count']/max(sorted_rank_df['count'].cumsum())\n",
    "#sorted_rank_df['cum_random_cap']=sorted_rank_df['random_cap'].cumsum()\n",
    "#sorted_reindexed=sorted_rank_df.reset_index()\n",
    "#sorted_reindexed['decile']=sorted_reindexed.index+1\n",
    "#sorted_reindexed"
   ]
  },
  {
   "cell_type": "code",
   "execution_count": 51,
   "metadata": {},
   "outputs": [
    {
     "data": {
      "text/html": [
       "<div>\n",
       "<style scoped>\n",
       "    .dataframe tbody tr th:only-of-type {\n",
       "        vertical-align: middle;\n",
       "    }\n",
       "\n",
       "    .dataframe tbody tr th {\n",
       "        vertical-align: top;\n",
       "    }\n",
       "\n",
       "    .dataframe thead th {\n",
       "        text-align: right;\n",
       "    }\n",
       "</style>\n",
       "<table border=\"1\" class=\"dataframe\">\n",
       "  <thead>\n",
       "    <tr style=\"text-align: right;\">\n",
       "      <th></th>\n",
       "      <th>P_Rank_RF</th>\n",
       "      <th>count</th>\n",
       "      <th>mean</th>\n",
       "      <th>N_events</th>\n",
       "      <th>cum_events</th>\n",
       "      <th>event_cap</th>\n",
       "      <th>cum_event_cap</th>\n",
       "      <th>random_cap</th>\n",
       "      <th>cum_random_cap</th>\n",
       "      <th>decile</th>\n",
       "      <th>lift_over_random_capture</th>\n",
       "    </tr>\n",
       "  </thead>\n",
       "  <tbody>\n",
       "    <tr>\n",
       "      <th>0</th>\n",
       "      <td>10</td>\n",
       "      <td>77</td>\n",
       "      <td>0.779221</td>\n",
       "      <td>60.0</td>\n",
       "      <td>60.0</td>\n",
       "      <td>0.223881</td>\n",
       "      <td>0.223881</td>\n",
       "      <td>0.100260</td>\n",
       "      <td>0.100260</td>\n",
       "      <td>1</td>\n",
       "      <td>2.232991</td>\n",
       "    </tr>\n",
       "    <tr>\n",
       "      <th>1</th>\n",
       "      <td>9</td>\n",
       "      <td>77</td>\n",
       "      <td>0.740260</td>\n",
       "      <td>57.0</td>\n",
       "      <td>117.0</td>\n",
       "      <td>0.212687</td>\n",
       "      <td>0.436567</td>\n",
       "      <td>0.100260</td>\n",
       "      <td>0.200521</td>\n",
       "      <td>2</td>\n",
       "      <td>2.177166</td>\n",
       "    </tr>\n",
       "    <tr>\n",
       "      <th>2</th>\n",
       "      <td>8</td>\n",
       "      <td>77</td>\n",
       "      <td>0.428571</td>\n",
       "      <td>33.0</td>\n",
       "      <td>150.0</td>\n",
       "      <td>0.123134</td>\n",
       "      <td>0.559701</td>\n",
       "      <td>0.100260</td>\n",
       "      <td>0.300781</td>\n",
       "      <td>3</td>\n",
       "      <td>1.860826</td>\n",
       "    </tr>\n",
       "    <tr>\n",
       "      <th>3</th>\n",
       "      <td>7</td>\n",
       "      <td>76</td>\n",
       "      <td>0.460526</td>\n",
       "      <td>35.0</td>\n",
       "      <td>185.0</td>\n",
       "      <td>0.130597</td>\n",
       "      <td>0.690299</td>\n",
       "      <td>0.098958</td>\n",
       "      <td>0.399740</td>\n",
       "      <td>4</td>\n",
       "      <td>1.726871</td>\n",
       "    </tr>\n",
       "    <tr>\n",
       "      <th>4</th>\n",
       "      <td>6</td>\n",
       "      <td>77</td>\n",
       "      <td>0.389610</td>\n",
       "      <td>30.0</td>\n",
       "      <td>215.0</td>\n",
       "      <td>0.111940</td>\n",
       "      <td>0.802239</td>\n",
       "      <td>0.100260</td>\n",
       "      <td>0.500000</td>\n",
       "      <td>5</td>\n",
       "      <td>1.604478</td>\n",
       "    </tr>\n",
       "    <tr>\n",
       "      <th>5</th>\n",
       "      <td>5</td>\n",
       "      <td>77</td>\n",
       "      <td>0.298701</td>\n",
       "      <td>23.0</td>\n",
       "      <td>238.0</td>\n",
       "      <td>0.085821</td>\n",
       "      <td>0.888060</td>\n",
       "      <td>0.100260</td>\n",
       "      <td>0.600260</td>\n",
       "      <td>6</td>\n",
       "      <td>1.479457</td>\n",
       "    </tr>\n",
       "    <tr>\n",
       "      <th>6</th>\n",
       "      <td>4</td>\n",
       "      <td>76</td>\n",
       "      <td>0.197368</td>\n",
       "      <td>15.0</td>\n",
       "      <td>253.0</td>\n",
       "      <td>0.055970</td>\n",
       "      <td>0.944030</td>\n",
       "      <td>0.098958</td>\n",
       "      <td>0.699219</td>\n",
       "      <td>7</td>\n",
       "      <td>1.350121</td>\n",
       "    </tr>\n",
       "    <tr>\n",
       "      <th>7</th>\n",
       "      <td>3</td>\n",
       "      <td>77</td>\n",
       "      <td>0.077922</td>\n",
       "      <td>6.0</td>\n",
       "      <td>259.0</td>\n",
       "      <td>0.022388</td>\n",
       "      <td>0.966418</td>\n",
       "      <td>0.100260</td>\n",
       "      <td>0.799479</td>\n",
       "      <td>8</td>\n",
       "      <td>1.208809</td>\n",
       "    </tr>\n",
       "    <tr>\n",
       "      <th>8</th>\n",
       "      <td>2</td>\n",
       "      <td>77</td>\n",
       "      <td>0.064935</td>\n",
       "      <td>5.0</td>\n",
       "      <td>264.0</td>\n",
       "      <td>0.018657</td>\n",
       "      <td>0.985075</td>\n",
       "      <td>0.100260</td>\n",
       "      <td>0.899740</td>\n",
       "      <td>9</td>\n",
       "      <td>1.094844</td>\n",
       "    </tr>\n",
       "    <tr>\n",
       "      <th>9</th>\n",
       "      <td>1</td>\n",
       "      <td>77</td>\n",
       "      <td>0.051948</td>\n",
       "      <td>4.0</td>\n",
       "      <td>268.0</td>\n",
       "      <td>0.014925</td>\n",
       "      <td>1.000000</td>\n",
       "      <td>0.100260</td>\n",
       "      <td>1.000000</td>\n",
       "      <td>10</td>\n",
       "      <td>1.000000</td>\n",
       "    </tr>\n",
       "  </tbody>\n",
       "</table>\n",
       "</div>"
      ],
      "text/plain": [
       "   P_Rank_RF  count      mean  N_events  cum_events  event_cap  cum_event_cap  \\\n",
       "0         10     77  0.779221      60.0        60.0   0.223881       0.223881   \n",
       "1          9     77  0.740260      57.0       117.0   0.212687       0.436567   \n",
       "2          8     77  0.428571      33.0       150.0   0.123134       0.559701   \n",
       "3          7     76  0.460526      35.0       185.0   0.130597       0.690299   \n",
       "4          6     77  0.389610      30.0       215.0   0.111940       0.802239   \n",
       "5          5     77  0.298701      23.0       238.0   0.085821       0.888060   \n",
       "6          4     76  0.197368      15.0       253.0   0.055970       0.944030   \n",
       "7          3     77  0.077922       6.0       259.0   0.022388       0.966418   \n",
       "8          2     77  0.064935       5.0       264.0   0.018657       0.985075   \n",
       "9          1     77  0.051948       4.0       268.0   0.014925       1.000000   \n",
       "\n",
       "   random_cap  cum_random_cap  decile  lift_over_random_capture  \n",
       "0    0.100260        0.100260       1                  2.232991  \n",
       "1    0.100260        0.200521       2                  2.177166  \n",
       "2    0.100260        0.300781       3                  1.860826  \n",
       "3    0.098958        0.399740       4                  1.726871  \n",
       "4    0.100260        0.500000       5                  1.604478  \n",
       "5    0.100260        0.600260       6                  1.479457  \n",
       "6    0.098958        0.699219       7                  1.350121  \n",
       "7    0.100260        0.799479       8                  1.208809  \n",
       "8    0.100260        0.899740       9                  1.094844  \n",
       "9    0.100260        1.000000      10                  1.000000  "
      ]
     },
     "execution_count": 51,
     "metadata": {},
     "output_type": "execute_result"
    }
   ],
   "source": [
    "sorted_rank_df['cum_event_cap']=sorted_rank_df['event_cap'].cumsum()\n",
    "sorted_rank_df['random_cap']=sorted_rank_df['count']/max(sorted_rank_df['count'].cumsum())\n",
    "sorted_rank_df['cum_random_cap']=sorted_rank_df['random_cap'].cumsum()\n",
    "sorted_reindexed=sorted_rank_df.reset_index()\n",
    "sorted_reindexed['decile']=sorted_reindexed.index+1\n",
    "sorted_reindexed['lift_over_random_capture']=sorted_reindexed['cum_event_cap']/sorted_reindexed['cum_random_cap']\n",
    "sorted_reindexed"
   ]
  },
  {
   "cell_type": "code",
   "execution_count": 52,
   "metadata": {},
   "outputs": [
    {
     "data": {
      "image/png": "[encoded data removed]",
      "text/plain": [
       "<Figure size 432x288 with 1 Axes>"
      ]
     },
     "metadata": {},
     "output_type": "display_data"
    }
   ],
   "source": [
    "ax = sns.lineplot( x=\"decile\", y=\"cum_event_cap\", data=sorted_reindexed)\n",
    "ax = sns.lineplot( x=\"decile\", y=\"cum_random_cap\", data=sorted_reindexed)"
   ]
  },
  {
   "cell_type": "code",
   "execution_count": 53,
   "metadata": {},
   "outputs": [
    {
     "data": {
      "image/png": "[encoded data removed]",
      "text/plain": [
       "<Figure size 432x288 with 1 Axes>"
      ]
     },
     "metadata": {},
     "output_type": "display_data"
    }
   ],
   "source": [
    "ax = sns.lineplot( x=\"decile\", y=\"random_cap\", data=sorted_reindexed)\n",
    "ax = sns.lineplot( x=\"decile\", y=\"lift_over_random_capture\", data=sorted_reindexed)"
   ]
  },
  {
   "cell_type": "code",
   "execution_count": 54,
   "metadata": {},
   "outputs": [],
   "source": [
    "# Interview Question - With increase in event rate in the data, what outcome will you expect in terms of Model Lift?\n",
    "# A) Model Lift will increse\n",
    "# B) Model Lift will decrease\n",
    "\n",
    "# Answer (B) - With increased event rate, the model does not have a lot of opportunity to improve your chances\n",
    "# of success. That's why the Model Lift will suffer. However Model Accuracy will improve"
   ]
  }
 ],
 "metadata": {
  "kernelspec": {
   "display_name": "Python 3",
   "language": "python",
   "name": "python3"
  },
  "language_info": {
   "codemirror_mode": {
    "name": "ipython",
    "version": 3
   },
   "file_extension": ".py",
   "mimetype": "text/x-python",
   "name": "python",
   "nbconvert_exporter": "python",
   "pygments_lexer": "ipython3",
   "version": "3.6.5"
  }
 },
 "nbformat": 4,
 "nbformat_minor": 2
}
