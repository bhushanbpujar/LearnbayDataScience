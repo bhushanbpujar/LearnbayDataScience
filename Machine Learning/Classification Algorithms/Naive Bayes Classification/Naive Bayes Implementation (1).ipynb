{
 "cells": [
  {
   "cell_type": "code",
   "execution_count": 5,
   "metadata": {},
   "outputs": [],
   "source": [
    "import numpy as np\n",
    "import pandas as pd\n",
    "import seaborn as sns\n",
    "import matplotlib as plt"
   ]
  },
  {
   "cell_type": "code",
   "execution_count": 6,
   "metadata": {},
   "outputs": [],
   "source": [
    "df=pd.read_csv('C:/Users/aksin52/Documents/Learnbay Stats ML Curriculum/telecom_churn.csv')"
   ]
  },
  {
   "cell_type": "markdown",
   "metadata": {},
   "source": [
    "# Checking the data"
   ]
  },
  {
   "cell_type": "code",
   "execution_count": 4,
   "metadata": {
    "scrolled": true
   },
   "outputs": [
    {
     "data": {
      "text/html": [
       "<div>\n",
       "<style scoped>\n",
       "    .dataframe tbody tr th:only-of-type {\n",
       "        vertical-align: middle;\n",
       "    }\n",
       "\n",
       "    .dataframe tbody tr th {\n",
       "        vertical-align: top;\n",
       "    }\n",
       "\n",
       "    .dataframe thead th {\n",
       "        text-align: right;\n",
       "    }\n",
       "</style>\n",
       "<table border=\"1\" class=\"dataframe\">\n",
       "  <thead>\n",
       "    <tr style=\"text-align: right;\">\n",
       "      <th></th>\n",
       "      <th>state</th>\n",
       "      <th>account length</th>\n",
       "      <th>area code</th>\n",
       "      <th>international plan</th>\n",
       "      <th>voice mail plan</th>\n",
       "      <th>number vmail messages</th>\n",
       "      <th>total day minutes</th>\n",
       "      <th>total day calls</th>\n",
       "      <th>total day charge</th>\n",
       "      <th>total eve minutes</th>\n",
       "      <th>total eve calls</th>\n",
       "      <th>total eve charge</th>\n",
       "      <th>total night minutes</th>\n",
       "      <th>total night calls</th>\n",
       "      <th>total night charge</th>\n",
       "      <th>total intl minutes</th>\n",
       "      <th>total intl calls</th>\n",
       "      <th>total intl charge</th>\n",
       "      <th>customer service calls</th>\n",
       "      <th>churn</th>\n",
       "    </tr>\n",
       "  </thead>\n",
       "  <tbody>\n",
       "    <tr>\n",
       "      <th>0</th>\n",
       "      <td>KS</td>\n",
       "      <td>128</td>\n",
       "      <td>415</td>\n",
       "      <td>no</td>\n",
       "      <td>yes</td>\n",
       "      <td>25</td>\n",
       "      <td>265.1</td>\n",
       "      <td>110</td>\n",
       "      <td>45.07</td>\n",
       "      <td>197.4</td>\n",
       "      <td>99</td>\n",
       "      <td>16.78</td>\n",
       "      <td>244.7</td>\n",
       "      <td>91</td>\n",
       "      <td>11.01</td>\n",
       "      <td>10.0</td>\n",
       "      <td>3</td>\n",
       "      <td>2.70</td>\n",
       "      <td>1</td>\n",
       "      <td>0</td>\n",
       "    </tr>\n",
       "    <tr>\n",
       "      <th>1</th>\n",
       "      <td>OH</td>\n",
       "      <td>107</td>\n",
       "      <td>415</td>\n",
       "      <td>no</td>\n",
       "      <td>yes</td>\n",
       "      <td>26</td>\n",
       "      <td>161.6</td>\n",
       "      <td>123</td>\n",
       "      <td>27.47</td>\n",
       "      <td>195.5</td>\n",
       "      <td>103</td>\n",
       "      <td>16.62</td>\n",
       "      <td>254.4</td>\n",
       "      <td>103</td>\n",
       "      <td>11.45</td>\n",
       "      <td>13.7</td>\n",
       "      <td>3</td>\n",
       "      <td>3.70</td>\n",
       "      <td>1</td>\n",
       "      <td>0</td>\n",
       "    </tr>\n",
       "    <tr>\n",
       "      <th>2</th>\n",
       "      <td>NJ</td>\n",
       "      <td>137</td>\n",
       "      <td>415</td>\n",
       "      <td>no</td>\n",
       "      <td>no</td>\n",
       "      <td>0</td>\n",
       "      <td>243.4</td>\n",
       "      <td>114</td>\n",
       "      <td>41.38</td>\n",
       "      <td>121.2</td>\n",
       "      <td>110</td>\n",
       "      <td>10.30</td>\n",
       "      <td>162.6</td>\n",
       "      <td>104</td>\n",
       "      <td>7.32</td>\n",
       "      <td>12.2</td>\n",
       "      <td>5</td>\n",
       "      <td>3.29</td>\n",
       "      <td>0</td>\n",
       "      <td>0</td>\n",
       "    </tr>\n",
       "    <tr>\n",
       "      <th>3</th>\n",
       "      <td>OH</td>\n",
       "      <td>84</td>\n",
       "      <td>408</td>\n",
       "      <td>yes</td>\n",
       "      <td>no</td>\n",
       "      <td>0</td>\n",
       "      <td>299.4</td>\n",
       "      <td>71</td>\n",
       "      <td>50.90</td>\n",
       "      <td>61.9</td>\n",
       "      <td>88</td>\n",
       "      <td>5.26</td>\n",
       "      <td>196.9</td>\n",
       "      <td>89</td>\n",
       "      <td>8.86</td>\n",
       "      <td>6.6</td>\n",
       "      <td>7</td>\n",
       "      <td>1.78</td>\n",
       "      <td>2</td>\n",
       "      <td>0</td>\n",
       "    </tr>\n",
       "    <tr>\n",
       "      <th>4</th>\n",
       "      <td>OK</td>\n",
       "      <td>75</td>\n",
       "      <td>415</td>\n",
       "      <td>yes</td>\n",
       "      <td>no</td>\n",
       "      <td>0</td>\n",
       "      <td>166.7</td>\n",
       "      <td>113</td>\n",
       "      <td>28.34</td>\n",
       "      <td>148.3</td>\n",
       "      <td>122</td>\n",
       "      <td>12.61</td>\n",
       "      <td>186.9</td>\n",
       "      <td>121</td>\n",
       "      <td>8.41</td>\n",
       "      <td>10.1</td>\n",
       "      <td>3</td>\n",
       "      <td>2.73</td>\n",
       "      <td>3</td>\n",
       "      <td>0</td>\n",
       "    </tr>\n",
       "  </tbody>\n",
       "</table>\n",
       "</div>"
      ],
      "text/plain": [
       "  state  account length  area code international plan voice mail plan  \\\n",
       "0    KS             128        415                 no             yes   \n",
       "1    OH             107        415                 no             yes   \n",
       "2    NJ             137        415                 no              no   \n",
       "3    OH              84        408                yes              no   \n",
       "4    OK              75        415                yes              no   \n",
       "\n",
       "   number vmail messages  total day minutes  total day calls  \\\n",
       "0                     25              265.1              110   \n",
       "1                     26              161.6              123   \n",
       "2                      0              243.4              114   \n",
       "3                      0              299.4               71   \n",
       "4                      0              166.7              113   \n",
       "\n",
       "   total day charge  total eve minutes  total eve calls  total eve charge  \\\n",
       "0             45.07              197.4               99             16.78   \n",
       "1             27.47              195.5              103             16.62   \n",
       "2             41.38              121.2              110             10.30   \n",
       "3             50.90               61.9               88              5.26   \n",
       "4             28.34              148.3              122             12.61   \n",
       "\n",
       "   total night minutes  total night calls  total night charge  \\\n",
       "0                244.7                 91               11.01   \n",
       "1                254.4                103               11.45   \n",
       "2                162.6                104                7.32   \n",
       "3                196.9                 89                8.86   \n",
       "4                186.9                121                8.41   \n",
       "\n",
       "   total intl minutes  total intl calls  total intl charge  \\\n",
       "0                10.0                 3               2.70   \n",
       "1                13.7                 3               3.70   \n",
       "2                12.2                 5               3.29   \n",
       "3                 6.6                 7               1.78   \n",
       "4                10.1                 3               2.73   \n",
       "\n",
       "   customer service calls  churn  \n",
       "0                       1      0  \n",
       "1                       1      0  \n",
       "2                       0      0  \n",
       "3                       2      0  \n",
       "4                       3      0  "
      ]
     },
     "execution_count": 4,
     "metadata": {},
     "output_type": "execute_result"
    }
   ],
   "source": [
    "df.head()"
   ]
  },
  {
   "cell_type": "markdown",
   "metadata": {},
   "source": [
    "# Split Dependent and Independent"
   ]
  },
  {
   "cell_type": "code",
   "execution_count": 7,
   "metadata": {},
   "outputs": [],
   "source": [
    "X=df.drop(['churn'],axis=1)\n",
    "Y=df[['churn']]"
   ]
  },
  {
   "cell_type": "code",
   "execution_count": 70,
   "metadata": {},
   "outputs": [
    {
     "data": {
      "text/plain": [
       "churn    0.144914\n",
       "dtype: float64"
      ]
     },
     "execution_count": 70,
     "metadata": {},
     "output_type": "execute_result"
    }
   ],
   "source": [
    "Y.mean()"
   ]
  },
  {
   "cell_type": "markdown",
   "metadata": {},
   "source": [
    "# Missing Value Check"
   ]
  },
  {
   "cell_type": "code",
   "execution_count": 8,
   "metadata": {
    "scrolled": true
   },
   "outputs": [
    {
     "data": {
      "text/plain": [
       "state                     0.0\n",
       "account length            0.0\n",
       "area code                 0.0\n",
       "international plan        0.0\n",
       "voice mail plan           0.0\n",
       "number vmail messages     0.0\n",
       "total day minutes         0.0\n",
       "total day calls           0.0\n",
       "total day charge          0.0\n",
       "total eve minutes         0.0\n",
       "total eve calls           0.0\n",
       "total eve charge          0.0\n",
       "total night minutes       0.0\n",
       "total night calls         0.0\n",
       "total night charge        0.0\n",
       "total intl minutes        0.0\n",
       "total intl calls          0.0\n",
       "total intl charge         0.0\n",
       "customer service calls    0.0\n",
       "dtype: float64"
      ]
     },
     "execution_count": 8,
     "metadata": {},
     "output_type": "execute_result"
    }
   ],
   "source": [
    "X.isnull().sum()/X.count()"
   ]
  },
  {
   "cell_type": "code",
   "execution_count": 12,
   "metadata": {},
   "outputs": [],
   "source": [
    "correlation=X.corr()"
   ]
  },
  {
   "cell_type": "code",
   "execution_count": 13,
   "metadata": {
    "scrolled": true
   },
   "outputs": [
    {
     "data": {
      "image/png": "[encoded data removed]",
      "text/plain": [
       "<Figure size 432x288 with 2 Axes>"
      ]
     },
     "metadata": {},
     "output_type": "display_data"
    }
   ],
   "source": [
    "import seaborn as sns\n",
    "ax=sns.heatmap(correlation)"
   ]
  },
  {
   "cell_type": "code",
   "execution_count": 14,
   "metadata": {},
   "outputs": [],
   "source": [
    "X=df.drop(['total day charge','total eve charge','total intl charge','total night charge'],axis=1)"
   ]
  },
  {
   "cell_type": "code",
   "execution_count": 15,
   "metadata": {},
   "outputs": [
    {
     "data": {
      "image/png": "[encoded data removed]",
      "text/plain": [
       "<Figure size 432x288 with 2 Axes>"
      ]
     },
     "metadata": {},
     "output_type": "display_data"
    }
   ],
   "source": [
    "correlation_1=X.corr()\n",
    "ax=sns.heatmap(correlation_1)"
   ]
  },
  {
   "cell_type": "markdown",
   "metadata": {},
   "source": [
    "# Encoding categorical features"
   ]
  },
  {
   "cell_type": "code",
   "execution_count": 55,
   "metadata": {},
   "outputs": [],
   "source": [
    "char_features=['state','international plan','voice mail plan']"
   ]
  },
  {
   "cell_type": "code",
   "execution_count": 56,
   "metadata": {},
   "outputs": [],
   "source": [
    "X_char=pd.get_dummies(X[char_features],drop_first=True)"
   ]
  },
  {
   "cell_type": "code",
   "execution_count": 57,
   "metadata": {},
   "outputs": [],
   "source": [
    "X_num=df.drop(['state','international plan','voice mail plan'],axis=1)"
   ]
  },
  {
   "cell_type": "code",
   "execution_count": 127,
   "metadata": {},
   "outputs": [],
   "source": [
    "X_all=pd.concat([X_num,X_char],axis=1,join=\"inner\")"
   ]
  },
  {
   "cell_type": "code",
   "execution_count": 128,
   "metadata": {
    "scrolled": true
   },
   "outputs": [],
   "source": [
    "X_all=X_all.drop(['churn'],axis=1)"
   ]
  },
  {
   "cell_type": "code",
   "execution_count": 129,
   "metadata": {},
   "outputs": [
    {
     "data": {
      "text/plain": [
       "account length              int64\n",
       "area code                   int64\n",
       "number vmail messages       int64\n",
       "total day minutes         float64\n",
       "total day calls             int64\n",
       "total day charge          float64\n",
       "total eve minutes         float64\n",
       "total eve calls             int64\n",
       "total eve charge          float64\n",
       "total night minutes       float64\n",
       "total night calls           int64\n",
       "total night charge        float64\n",
       "total intl minutes        float64\n",
       "total intl calls            int64\n",
       "total intl charge         float64\n",
       "customer service calls      int64\n",
       "state_AL                    uint8\n",
       "state_AR                    uint8\n",
       "state_AZ                    uint8\n",
       "state_CA                    uint8\n",
       "state_CO                    uint8\n",
       "state_CT                    uint8\n",
       "state_DC                    uint8\n",
       "state_DE                    uint8\n",
       "state_FL                    uint8\n",
       "state_GA                    uint8\n",
       "state_HI                    uint8\n",
       "state_IA                    uint8\n",
       "state_ID                    uint8\n",
       "state_IL                    uint8\n",
       "                           ...   \n",
       "state_MN                    uint8\n",
       "state_MO                    uint8\n",
       "state_MS                    uint8\n",
       "state_MT                    uint8\n",
       "state_NC                    uint8\n",
       "state_ND                    uint8\n",
       "state_NE                    uint8\n",
       "state_NH                    uint8\n",
       "state_NJ                    uint8\n",
       "state_NM                    uint8\n",
       "state_NV                    uint8\n",
       "state_NY                    uint8\n",
       "state_OH                    uint8\n",
       "state_OK                    uint8\n",
       "state_OR                    uint8\n",
       "state_PA                    uint8\n",
       "state_RI                    uint8\n",
       "state_SC                    uint8\n",
       "state_SD                    uint8\n",
       "state_TN                    uint8\n",
       "state_TX                    uint8\n",
       "state_UT                    uint8\n",
       "state_VA                    uint8\n",
       "state_VT                    uint8\n",
       "state_WA                    uint8\n",
       "state_WI                    uint8\n",
       "state_WV                    uint8\n",
       "state_WY                    uint8\n",
       "international plan_yes      uint8\n",
       "voice mail plan_yes         uint8\n",
       "Length: 68, dtype: object"
      ]
     },
     "execution_count": 129,
     "metadata": {},
     "output_type": "execute_result"
    }
   ],
   "source": [
    "X_all.dtypes"
   ]
  },
  {
   "cell_type": "markdown",
   "metadata": {},
   "source": [
    "# Capping and Flooring of Outliers if Present"
   ]
  },
  {
   "cell_type": "code",
   "execution_count": 130,
   "metadata": {},
   "outputs": [],
   "source": [
    "def outlier_capping(x):\n",
    "    x = x.clip(upper=x.quantile(0.99))\n",
    "    x = x.clip(lower=x.quantile(0.01))\n",
    "    return x"
   ]
  },
  {
   "cell_type": "code",
   "execution_count": 131,
   "metadata": {
    "scrolled": false
   },
   "outputs": [
    {
     "data": {
      "text/html": [
       "<div>\n",
       "<style scoped>\n",
       "    .dataframe tbody tr th:only-of-type {\n",
       "        vertical-align: middle;\n",
       "    }\n",
       "\n",
       "    .dataframe tbody tr th {\n",
       "        vertical-align: top;\n",
       "    }\n",
       "\n",
       "    .dataframe thead th {\n",
       "        text-align: right;\n",
       "    }\n",
       "</style>\n",
       "<table border=\"1\" class=\"dataframe\">\n",
       "  <thead>\n",
       "    <tr style=\"text-align: right;\">\n",
       "      <th></th>\n",
       "      <th>account length</th>\n",
       "      <th>area code</th>\n",
       "      <th>number vmail messages</th>\n",
       "      <th>total day minutes</th>\n",
       "      <th>total day calls</th>\n",
       "      <th>total day charge</th>\n",
       "      <th>total eve minutes</th>\n",
       "      <th>total eve calls</th>\n",
       "      <th>total eve charge</th>\n",
       "      <th>total night minutes</th>\n",
       "      <th>...</th>\n",
       "      <th>state_TX</th>\n",
       "      <th>state_UT</th>\n",
       "      <th>state_VA</th>\n",
       "      <th>state_VT</th>\n",
       "      <th>state_WA</th>\n",
       "      <th>state_WI</th>\n",
       "      <th>state_WV</th>\n",
       "      <th>state_WY</th>\n",
       "      <th>international plan_yes</th>\n",
       "      <th>voice mail plan_yes</th>\n",
       "    </tr>\n",
       "  </thead>\n",
       "  <tbody>\n",
       "    <tr>\n",
       "      <th>count</th>\n",
       "      <td>3333.000000</td>\n",
       "      <td>3333.000000</td>\n",
       "      <td>3333.000000</td>\n",
       "      <td>3333.000000</td>\n",
       "      <td>3333.000000</td>\n",
       "      <td>3333.000000</td>\n",
       "      <td>3333.000000</td>\n",
       "      <td>3333.000000</td>\n",
       "      <td>3333.000000</td>\n",
       "      <td>3333.000000</td>\n",
       "      <td>...</td>\n",
       "      <td>3333.000000</td>\n",
       "      <td>3333.000000</td>\n",
       "      <td>3333.000000</td>\n",
       "      <td>3333.000000</td>\n",
       "      <td>3333.000000</td>\n",
       "      <td>3333.000000</td>\n",
       "      <td>3333.000000</td>\n",
       "      <td>3333.000000</td>\n",
       "      <td>3333.000000</td>\n",
       "      <td>3333.000000</td>\n",
       "    </tr>\n",
       "    <tr>\n",
       "      <th>mean</th>\n",
       "      <td>100.981362</td>\n",
       "      <td>437.182418</td>\n",
       "      <td>8.074707</td>\n",
       "      <td>179.792499</td>\n",
       "      <td>100.482748</td>\n",
       "      <td>30.565254</td>\n",
       "      <td>201.000852</td>\n",
       "      <td>100.129913</td>\n",
       "      <td>17.085312</td>\n",
       "      <td>200.791174</td>\n",
       "      <td>...</td>\n",
       "      <td>0.021602</td>\n",
       "      <td>0.021602</td>\n",
       "      <td>0.023102</td>\n",
       "      <td>0.021902</td>\n",
       "      <td>0.019802</td>\n",
       "      <td>0.023402</td>\n",
       "      <td>0.031803</td>\n",
       "      <td>0.023102</td>\n",
       "      <td>0.096910</td>\n",
       "      <td>0.276628</td>\n",
       "    </tr>\n",
       "    <tr>\n",
       "      <th>std</th>\n",
       "      <td>39.276205</td>\n",
       "      <td>42.371290</td>\n",
       "      <td>13.622222</td>\n",
       "      <td>53.535083</td>\n",
       "      <td>19.628346</td>\n",
       "      <td>9.100850</td>\n",
       "      <td>49.821440</td>\n",
       "      <td>19.546408</td>\n",
       "      <td>4.234920</td>\n",
       "      <td>49.519955</td>\n",
       "      <td>...</td>\n",
       "      <td>0.145402</td>\n",
       "      <td>0.145402</td>\n",
       "      <td>0.150251</td>\n",
       "      <td>0.146386</td>\n",
       "      <td>0.139340</td>\n",
       "      <td>0.151200</td>\n",
       "      <td>0.175502</td>\n",
       "      <td>0.150251</td>\n",
       "      <td>0.295879</td>\n",
       "      <td>0.447398</td>\n",
       "    </tr>\n",
       "    <tr>\n",
       "      <th>min</th>\n",
       "      <td>12.320000</td>\n",
       "      <td>408.000000</td>\n",
       "      <td>0.000000</td>\n",
       "      <td>51.832000</td>\n",
       "      <td>54.000000</td>\n",
       "      <td>8.813200</td>\n",
       "      <td>79.524000</td>\n",
       "      <td>53.000000</td>\n",
       "      <td>6.759200</td>\n",
       "      <td>79.428000</td>\n",
       "      <td>...</td>\n",
       "      <td>0.000000</td>\n",
       "      <td>0.000000</td>\n",
       "      <td>0.000000</td>\n",
       "      <td>0.000000</td>\n",
       "      <td>0.000000</td>\n",
       "      <td>0.000000</td>\n",
       "      <td>0.000000</td>\n",
       "      <td>0.000000</td>\n",
       "      <td>0.000000</td>\n",
       "      <td>0.000000</td>\n",
       "    </tr>\n",
       "    <tr>\n",
       "      <th>25%</th>\n",
       "      <td>74.000000</td>\n",
       "      <td>408.000000</td>\n",
       "      <td>0.000000</td>\n",
       "      <td>143.700000</td>\n",
       "      <td>87.000000</td>\n",
       "      <td>24.430000</td>\n",
       "      <td>166.600000</td>\n",
       "      <td>87.000000</td>\n",
       "      <td>14.160000</td>\n",
       "      <td>167.000000</td>\n",
       "      <td>...</td>\n",
       "      <td>0.000000</td>\n",
       "      <td>0.000000</td>\n",
       "      <td>0.000000</td>\n",
       "      <td>0.000000</td>\n",
       "      <td>0.000000</td>\n",
       "      <td>0.000000</td>\n",
       "      <td>0.000000</td>\n",
       "      <td>0.000000</td>\n",
       "      <td>0.000000</td>\n",
       "      <td>0.000000</td>\n",
       "    </tr>\n",
       "    <tr>\n",
       "      <th>50%</th>\n",
       "      <td>101.000000</td>\n",
       "      <td>415.000000</td>\n",
       "      <td>0.000000</td>\n",
       "      <td>179.400000</td>\n",
       "      <td>101.000000</td>\n",
       "      <td>30.500000</td>\n",
       "      <td>201.400000</td>\n",
       "      <td>100.000000</td>\n",
       "      <td>17.120000</td>\n",
       "      <td>201.200000</td>\n",
       "      <td>...</td>\n",
       "      <td>0.000000</td>\n",
       "      <td>0.000000</td>\n",
       "      <td>0.000000</td>\n",
       "      <td>0.000000</td>\n",
       "      <td>0.000000</td>\n",
       "      <td>0.000000</td>\n",
       "      <td>0.000000</td>\n",
       "      <td>0.000000</td>\n",
       "      <td>0.000000</td>\n",
       "      <td>0.000000</td>\n",
       "    </tr>\n",
       "    <tr>\n",
       "      <th>75%</th>\n",
       "      <td>127.000000</td>\n",
       "      <td>510.000000</td>\n",
       "      <td>20.000000</td>\n",
       "      <td>216.400000</td>\n",
       "      <td>114.000000</td>\n",
       "      <td>36.790000</td>\n",
       "      <td>235.300000</td>\n",
       "      <td>114.000000</td>\n",
       "      <td>20.000000</td>\n",
       "      <td>235.300000</td>\n",
       "      <td>...</td>\n",
       "      <td>0.000000</td>\n",
       "      <td>0.000000</td>\n",
       "      <td>0.000000</td>\n",
       "      <td>0.000000</td>\n",
       "      <td>0.000000</td>\n",
       "      <td>0.000000</td>\n",
       "      <td>0.000000</td>\n",
       "      <td>0.000000</td>\n",
       "      <td>0.000000</td>\n",
       "      <td>1.000000</td>\n",
       "    </tr>\n",
       "    <tr>\n",
       "      <th>max</th>\n",
       "      <td>195.000000</td>\n",
       "      <td>510.000000</td>\n",
       "      <td>43.000000</td>\n",
       "      <td>305.168000</td>\n",
       "      <td>146.000000</td>\n",
       "      <td>51.876800</td>\n",
       "      <td>318.936000</td>\n",
       "      <td>147.000000</td>\n",
       "      <td>27.113600</td>\n",
       "      <td>317.448000</td>\n",
       "      <td>...</td>\n",
       "      <td>1.000000</td>\n",
       "      <td>1.000000</td>\n",
       "      <td>1.000000</td>\n",
       "      <td>1.000000</td>\n",
       "      <td>1.000000</td>\n",
       "      <td>1.000000</td>\n",
       "      <td>1.000000</td>\n",
       "      <td>1.000000</td>\n",
       "      <td>1.000000</td>\n",
       "      <td>1.000000</td>\n",
       "    </tr>\n",
       "  </tbody>\n",
       "</table>\n",
       "<p>8 rows × 68 columns</p>\n",
       "</div>"
      ],
      "text/plain": [
       "       account length    area code  number vmail messages  total day minutes  \\\n",
       "count     3333.000000  3333.000000            3333.000000        3333.000000   \n",
       "mean       100.981362   437.182418               8.074707         179.792499   \n",
       "std         39.276205    42.371290              13.622222          53.535083   \n",
       "min         12.320000   408.000000               0.000000          51.832000   \n",
       "25%         74.000000   408.000000               0.000000         143.700000   \n",
       "50%        101.000000   415.000000               0.000000         179.400000   \n",
       "75%        127.000000   510.000000              20.000000         216.400000   \n",
       "max        195.000000   510.000000              43.000000         305.168000   \n",
       "\n",
       "       total day calls  total day charge  total eve minutes  total eve calls  \\\n",
       "count      3333.000000       3333.000000        3333.000000      3333.000000   \n",
       "mean        100.482748         30.565254         201.000852       100.129913   \n",
       "std          19.628346          9.100850          49.821440        19.546408   \n",
       "min          54.000000          8.813200          79.524000        53.000000   \n",
       "25%          87.000000         24.430000         166.600000        87.000000   \n",
       "50%         101.000000         30.500000         201.400000       100.000000   \n",
       "75%         114.000000         36.790000         235.300000       114.000000   \n",
       "max         146.000000         51.876800         318.936000       147.000000   \n",
       "\n",
       "       total eve charge  total night minutes         ...           \\\n",
       "count       3333.000000          3333.000000         ...            \n",
       "mean          17.085312           200.791174         ...            \n",
       "std            4.234920            49.519955         ...            \n",
       "min            6.759200            79.428000         ...            \n",
       "25%           14.160000           167.000000         ...            \n",
       "50%           17.120000           201.200000         ...            \n",
       "75%           20.000000           235.300000         ...            \n",
       "max           27.113600           317.448000         ...            \n",
       "\n",
       "          state_TX     state_UT     state_VA     state_VT     state_WA  \\\n",
       "count  3333.000000  3333.000000  3333.000000  3333.000000  3333.000000   \n",
       "mean      0.021602     0.021602     0.023102     0.021902     0.019802   \n",
       "std       0.145402     0.145402     0.150251     0.146386     0.139340   \n",
       "min       0.000000     0.000000     0.000000     0.000000     0.000000   \n",
       "25%       0.000000     0.000000     0.000000     0.000000     0.000000   \n",
       "50%       0.000000     0.000000     0.000000     0.000000     0.000000   \n",
       "75%       0.000000     0.000000     0.000000     0.000000     0.000000   \n",
       "max       1.000000     1.000000     1.000000     1.000000     1.000000   \n",
       "\n",
       "          state_WI     state_WV     state_WY  international plan_yes  \\\n",
       "count  3333.000000  3333.000000  3333.000000             3333.000000   \n",
       "mean      0.023402     0.031803     0.023102                0.096910   \n",
       "std       0.151200     0.175502     0.150251                0.295879   \n",
       "min       0.000000     0.000000     0.000000                0.000000   \n",
       "25%       0.000000     0.000000     0.000000                0.000000   \n",
       "50%       0.000000     0.000000     0.000000                0.000000   \n",
       "75%       0.000000     0.000000     0.000000                0.000000   \n",
       "max       1.000000     1.000000     1.000000                1.000000   \n",
       "\n",
       "       voice mail plan_yes  \n",
       "count          3333.000000  \n",
       "mean              0.276628  \n",
       "std               0.447398  \n",
       "min               0.000000  \n",
       "25%               0.000000  \n",
       "50%               0.000000  \n",
       "75%               1.000000  \n",
       "max               1.000000  \n",
       "\n",
       "[8 rows x 68 columns]"
      ]
     },
     "execution_count": 131,
     "metadata": {},
     "output_type": "execute_result"
    }
   ],
   "source": [
    "X_all=X_all.apply(lambda x: outlier_capping(x))\n",
    "X_all.describe()"
   ]
  },
  {
   "cell_type": "code",
   "execution_count": 16,
   "metadata": {
    "scrolled": true
   },
   "outputs": [
    {
     "data": {
      "text/plain": [
       "(3333, 71)"
      ]
     },
     "execution_count": 16,
     "metadata": {},
     "output_type": "execute_result"
    }
   ],
   "source": [
    "X.shape"
   ]
  },
  {
   "cell_type": "markdown",
   "metadata": {},
   "source": [
    "# Feature Scaling "
   ]
  },
  {
   "cell_type": "code",
   "execution_count": 62,
   "metadata": {},
   "outputs": [],
   "source": [
    "#Import the Class\n",
    "from sklearn.preprocessing import StandardScaler \n",
    "#Build an Object\n",
    "stdsc=StandardScaler() \n",
    "#Apply Method on the Object\n",
    "X_std=pd.DataFrame(stdsc.fit_transform(X_all),index=X_all.index,columns=X_all.columns).add_suffix('_std')"
   ]
  },
  {
   "cell_type": "code",
   "execution_count": 30,
   "metadata": {},
   "outputs": [
    {
     "data": {
      "text/plain": [
       "pandas.core.frame.DataFrame"
      ]
     },
     "execution_count": 30,
     "metadata": {},
     "output_type": "execute_result"
    }
   ],
   "source": [
    "type(X_std)"
   ]
  },
  {
   "cell_type": "code",
   "execution_count": 98,
   "metadata": {
    "scrolled": false
   },
   "outputs": [
    {
     "data": {
      "text/html": [
       "<div>\n",
       "<style scoped>\n",
       "    .dataframe tbody tr th:only-of-type {\n",
       "        vertical-align: middle;\n",
       "    }\n",
       "\n",
       "    .dataframe tbody tr th {\n",
       "        vertical-align: top;\n",
       "    }\n",
       "\n",
       "    .dataframe thead th {\n",
       "        text-align: right;\n",
       "    }\n",
       "</style>\n",
       "<table border=\"1\" class=\"dataframe\">\n",
       "  <thead>\n",
       "    <tr style=\"text-align: right;\">\n",
       "      <th></th>\n",
       "      <th>account length_std</th>\n",
       "      <th>area code_std</th>\n",
       "      <th>number vmail messages_std</th>\n",
       "      <th>total day minutes_std</th>\n",
       "      <th>total day calls_std</th>\n",
       "      <th>total day charge_std</th>\n",
       "      <th>total eve minutes_std</th>\n",
       "      <th>total eve calls_std</th>\n",
       "      <th>total eve charge_std</th>\n",
       "      <th>total night minutes_std</th>\n",
       "      <th>...</th>\n",
       "      <th>state_TX_std</th>\n",
       "      <th>state_UT_std</th>\n",
       "      <th>state_VA_std</th>\n",
       "      <th>state_VT_std</th>\n",
       "      <th>state_WA_std</th>\n",
       "      <th>state_WI_std</th>\n",
       "      <th>state_WV_std</th>\n",
       "      <th>state_WY_std</th>\n",
       "      <th>international plan_yes_std</th>\n",
       "      <th>voice mail plan_yes_std</th>\n",
       "    </tr>\n",
       "  </thead>\n",
       "  <tbody>\n",
       "    <tr>\n",
       "      <th>0</th>\n",
       "      <td>0.688017</td>\n",
       "      <td>-0.523603</td>\n",
       "      <td>1.242663</td>\n",
       "      <td>1.593727</td>\n",
       "      <td>0.484946</td>\n",
       "      <td>1.594018</td>\n",
       "      <td>-0.072286</td>\n",
       "      <td>-0.057815</td>\n",
       "      <td>-0.072105</td>\n",
       "      <td>0.886823</td>\n",
       "      <td>...</td>\n",
       "      <td>-0.14859</td>\n",
       "      <td>-0.14859</td>\n",
       "      <td>-0.153781</td>\n",
       "      <td>-0.149642</td>\n",
       "      <td>-0.142134</td>\n",
       "      <td>-0.1548</td>\n",
       "      <td>-0.18124</td>\n",
       "      <td>-0.153781</td>\n",
       "      <td>-0.327580</td>\n",
       "      <td>1.617086</td>\n",
       "    </tr>\n",
       "    <tr>\n",
       "      <th>1</th>\n",
       "      <td>0.153262</td>\n",
       "      <td>-0.523603</td>\n",
       "      <td>1.316083</td>\n",
       "      <td>-0.339875</td>\n",
       "      <td>1.147352</td>\n",
       "      <td>-0.340157</td>\n",
       "      <td>-0.110428</td>\n",
       "      <td>0.146857</td>\n",
       "      <td>-0.109892</td>\n",
       "      <td>1.082733</td>\n",
       "      <td>...</td>\n",
       "      <td>-0.14859</td>\n",
       "      <td>-0.14859</td>\n",
       "      <td>-0.153781</td>\n",
       "      <td>-0.149642</td>\n",
       "      <td>-0.142134</td>\n",
       "      <td>-0.1548</td>\n",
       "      <td>-0.18124</td>\n",
       "      <td>-0.153781</td>\n",
       "      <td>-0.327580</td>\n",
       "      <td>1.617086</td>\n",
       "    </tr>\n",
       "    <tr>\n",
       "      <th>2</th>\n",
       "      <td>0.917198</td>\n",
       "      <td>-0.523603</td>\n",
       "      <td>-0.592849</td>\n",
       "      <td>1.188324</td>\n",
       "      <td>0.688763</td>\n",
       "      <td>1.188501</td>\n",
       "      <td>-1.601978</td>\n",
       "      <td>0.505032</td>\n",
       "      <td>-1.602470</td>\n",
       "      <td>-0.771344</td>\n",
       "      <td>...</td>\n",
       "      <td>-0.14859</td>\n",
       "      <td>-0.14859</td>\n",
       "      <td>-0.153781</td>\n",
       "      <td>-0.149642</td>\n",
       "      <td>-0.142134</td>\n",
       "      <td>-0.1548</td>\n",
       "      <td>-0.18124</td>\n",
       "      <td>-0.153781</td>\n",
       "      <td>-0.327580</td>\n",
       "      <td>-0.618396</td>\n",
       "    </tr>\n",
       "    <tr>\n",
       "      <th>3</th>\n",
       "      <td>-0.432422</td>\n",
       "      <td>-0.688834</td>\n",
       "      <td>-0.592849</td>\n",
       "      <td>2.234524</td>\n",
       "      <td>-1.502275</td>\n",
       "      <td>2.234714</td>\n",
       "      <td>-2.438610</td>\n",
       "      <td>-0.620663</td>\n",
       "      <td>-2.438691</td>\n",
       "      <td>-0.078590</td>\n",
       "      <td>...</td>\n",
       "      <td>-0.14859</td>\n",
       "      <td>-0.14859</td>\n",
       "      <td>-0.153781</td>\n",
       "      <td>-0.149642</td>\n",
       "      <td>-0.142134</td>\n",
       "      <td>-0.1548</td>\n",
       "      <td>-0.18124</td>\n",
       "      <td>-0.153781</td>\n",
       "      <td>3.052685</td>\n",
       "      <td>-0.618396</td>\n",
       "    </tr>\n",
       "    <tr>\n",
       "      <th>4</th>\n",
       "      <td>-0.661603</td>\n",
       "      <td>-0.523603</td>\n",
       "      <td>-0.592849</td>\n",
       "      <td>-0.244596</td>\n",
       "      <td>0.637809</td>\n",
       "      <td>-0.244547</td>\n",
       "      <td>-1.057953</td>\n",
       "      <td>1.119048</td>\n",
       "      <td>-1.056923</td>\n",
       "      <td>-0.280559</td>\n",
       "      <td>...</td>\n",
       "      <td>-0.14859</td>\n",
       "      <td>-0.14859</td>\n",
       "      <td>-0.153781</td>\n",
       "      <td>-0.149642</td>\n",
       "      <td>-0.142134</td>\n",
       "      <td>-0.1548</td>\n",
       "      <td>-0.18124</td>\n",
       "      <td>-0.153781</td>\n",
       "      <td>3.052685</td>\n",
       "      <td>-0.618396</td>\n",
       "    </tr>\n",
       "  </tbody>\n",
       "</table>\n",
       "<p>5 rows × 68 columns</p>\n",
       "</div>"
      ],
      "text/plain": [
       "   account length_std  area code_std  number vmail messages_std  \\\n",
       "0            0.688017      -0.523603                   1.242663   \n",
       "1            0.153262      -0.523603                   1.316083   \n",
       "2            0.917198      -0.523603                  -0.592849   \n",
       "3           -0.432422      -0.688834                  -0.592849   \n",
       "4           -0.661603      -0.523603                  -0.592849   \n",
       "\n",
       "   total day minutes_std  total day calls_std  total day charge_std  \\\n",
       "0               1.593727             0.484946              1.594018   \n",
       "1              -0.339875             1.147352             -0.340157   \n",
       "2               1.188324             0.688763              1.188501   \n",
       "3               2.234524            -1.502275              2.234714   \n",
       "4              -0.244596             0.637809             -0.244547   \n",
       "\n",
       "   total eve minutes_std  total eve calls_std  total eve charge_std  \\\n",
       "0              -0.072286            -0.057815             -0.072105   \n",
       "1              -0.110428             0.146857             -0.109892   \n",
       "2              -1.601978             0.505032             -1.602470   \n",
       "3              -2.438610            -0.620663             -2.438691   \n",
       "4              -1.057953             1.119048             -1.056923   \n",
       "\n",
       "   total night minutes_std           ...             state_TX_std  \\\n",
       "0                 0.886823           ...                 -0.14859   \n",
       "1                 1.082733           ...                 -0.14859   \n",
       "2                -0.771344           ...                 -0.14859   \n",
       "3                -0.078590           ...                 -0.14859   \n",
       "4                -0.280559           ...                 -0.14859   \n",
       "\n",
       "   state_UT_std  state_VA_std  state_VT_std  state_WA_std  state_WI_std  \\\n",
       "0      -0.14859     -0.153781     -0.149642     -0.142134       -0.1548   \n",
       "1      -0.14859     -0.153781     -0.149642     -0.142134       -0.1548   \n",
       "2      -0.14859     -0.153781     -0.149642     -0.142134       -0.1548   \n",
       "3      -0.14859     -0.153781     -0.149642     -0.142134       -0.1548   \n",
       "4      -0.14859     -0.153781     -0.149642     -0.142134       -0.1548   \n",
       "\n",
       "   state_WV_std  state_WY_std  international plan_yes_std  \\\n",
       "0      -0.18124     -0.153781                   -0.327580   \n",
       "1      -0.18124     -0.153781                   -0.327580   \n",
       "2      -0.18124     -0.153781                   -0.327580   \n",
       "3      -0.18124     -0.153781                    3.052685   \n",
       "4      -0.18124     -0.153781                    3.052685   \n",
       "\n",
       "   voice mail plan_yes_std  \n",
       "0                 1.617086  \n",
       "1                 1.617086  \n",
       "2                -0.618396  \n",
       "3                -0.618396  \n",
       "4                -0.618396  \n",
       "\n",
       "[5 rows x 68 columns]"
      ]
     },
     "execution_count": 98,
     "metadata": {},
     "output_type": "execute_result"
    }
   ],
   "source": [
    "X_std.head()"
   ]
  },
  {
   "cell_type": "code",
   "execution_count": 132,
   "metadata": {},
   "outputs": [],
   "source": [
    "# Select K Best for Categorical Features\n",
    "from sklearn.feature_selection import SelectKBest, chi2\n",
    "selector = SelectKBest(chi2, k=50)\n",
    "selector.fit_transform(X_all, Y)\n",
    "# Get columns to keep and create new dataframe with those only\n",
    "cols = selector.get_support(indices=True)\n",
    "select_features = X_all.iloc[:,cols]"
   ]
  },
  {
   "cell_type": "markdown",
   "metadata": {},
   "source": [
    "# Train Test Split"
   ]
  },
  {
   "cell_type": "code",
   "execution_count": 133,
   "metadata": {},
   "outputs": [],
   "source": [
    "from sklearn.model_selection import train_test_split\n",
    "X_train, X_test, y_train, y_test = train_test_split(select_features,Y, test_size=0.3,random_state=42)"
   ]
  },
  {
   "cell_type": "markdown",
   "metadata": {},
   "source": [
    "# Check for randomness of train and test by testing the event rates across the two datasets"
   ]
  },
  {
   "cell_type": "code",
   "execution_count": 34,
   "metadata": {},
   "outputs": [
    {
     "data": {
      "text/plain": [
       "churn    0.145735\n",
       "dtype: float64"
      ]
     },
     "execution_count": 34,
     "metadata": {},
     "output_type": "execute_result"
    }
   ],
   "source": [
    "y_train.mean()"
   ]
  },
  {
   "cell_type": "code",
   "execution_count": 35,
   "metadata": {},
   "outputs": [
    {
     "data": {
      "text/plain": [
       "churn    0.143\n",
       "dtype: float64"
      ]
     },
     "execution_count": 35,
     "metadata": {},
     "output_type": "execute_result"
    }
   ],
   "source": [
    "y_test.mean()"
   ]
  },
  {
   "cell_type": "code",
   "execution_count": 101,
   "metadata": {
    "scrolled": true
   },
   "outputs": [
    {
     "data": {
      "text/plain": [
       "account length            float64\n",
       "area code                 float64\n",
       "number vmail messages     float64\n",
       "total day minutes         float64\n",
       "total day calls           float64\n",
       "total day charge          float64\n",
       "total eve minutes         float64\n",
       "total eve calls           float64\n",
       "total eve charge          float64\n",
       "total night minutes       float64\n",
       "total night calls         float64\n",
       "total night charge        float64\n",
       "total intl minutes        float64\n",
       "total intl calls          float64\n",
       "total intl charge         float64\n",
       "customer service calls    float64\n",
       "state_AL                  float64\n",
       "state_AR                  float64\n",
       "state_AZ                  float64\n",
       "state_CA                  float64\n",
       "state_CT                  float64\n",
       "state_DC                  float64\n",
       "state_FL                  float64\n",
       "state_HI                  float64\n",
       "state_IA                  float64\n",
       "state_ID                  float64\n",
       "state_IL                  float64\n",
       "state_IN                  float64\n",
       "state_KS                  float64\n",
       "state_LA                  float64\n",
       "state_MA                  float64\n",
       "state_MD                  float64\n",
       "state_ME                  float64\n",
       "state_MI                  float64\n",
       "state_MN                  float64\n",
       "state_MO                  float64\n",
       "state_MS                  float64\n",
       "state_MT                  float64\n",
       "state_NC                  float64\n",
       "state_ND                  float64\n",
       "state_NE                  float64\n",
       "state_NH                  float64\n",
       "state_NJ                  float64\n",
       "state_NM                  float64\n",
       "state_NV                  float64\n",
       "state_NY                  float64\n",
       "state_OH                  float64\n",
       "state_PA                  float64\n",
       "state_RI                  float64\n",
       "state_SC                  float64\n",
       "state_TN                  float64\n",
       "state_TX                  float64\n",
       "state_VA                  float64\n",
       "state_VT                  float64\n",
       "state_WA                  float64\n",
       "state_WI                  float64\n",
       "state_WV                  float64\n",
       "state_WY                  float64\n",
       "international plan_yes    float64\n",
       "voice mail plan_yes       float64\n",
       "dtype: object"
      ]
     },
     "execution_count": 101,
     "metadata": {},
     "output_type": "execute_result"
    }
   ],
   "source": [
    "X_test.dtypes"
   ]
  },
  {
   "cell_type": "code",
   "execution_count": null,
   "metadata": {},
   "outputs": [],
   "source": [
    "# Building the Naive Bayes Model"
   ]
  },
  {
   "cell_type": "code",
   "execution_count": 134,
   "metadata": {
    "scrolled": true
   },
   "outputs": [
    {
     "name": "stderr",
     "output_type": "stream",
     "text": [
      "C:\\Anaconda_Python\\lib\\site-packages\\sklearn\\utils\\validation.py:72: DataConversionWarning: A column-vector y was passed when a 1d array was expected. Please change the shape of y to (n_samples, ), for example using ravel().\n",
      "  return f(**kwargs)\n"
     ]
    },
    {
     "data": {
      "text/plain": [
       "GaussianNB()"
      ]
     },
     "execution_count": 134,
     "metadata": {},
     "output_type": "execute_result"
    }
   ],
   "source": [
    "from sklearn.naive_bayes import GaussianNB\n",
    "clf=GaussianNB()\n",
    "clf.fit(X_train,y_train)"
   ]
  },
  {
   "cell_type": "markdown",
   "metadata": {},
   "source": [
    "# Making Class Predictions"
   ]
  },
  {
   "cell_type": "code",
   "execution_count": 135,
   "metadata": {},
   "outputs": [],
   "source": [
    "y_pred=clf.predict(X_test)"
   ]
  },
  {
   "cell_type": "markdown",
   "metadata": {},
   "source": [
    "# Model Evaluation"
   ]
  },
  {
   "cell_type": "code",
   "execution_count": 136,
   "metadata": {},
   "outputs": [
    {
     "name": "stdout",
     "output_type": "stream",
     "text": [
      "Accuracy: 0.662\n",
      "Precision 0.25925925925925924\n",
      "Recall 0.7342657342657343\n",
      "f1_score 0.3832116788321168\n"
     ]
    }
   ],
   "source": [
    "from sklearn import metrics\n",
    "print(\"Accuracy:\",metrics.accuracy_score(y_test, y_pred))\n",
    "print(\"Precision\",metrics.precision_score(y_test,y_pred))\n",
    "print(\"Recall\",metrics.recall_score(y_test,y_pred))\n",
    "print(\"f1_score\",metrics.f1_score(y_test,y_pred))"
   ]
  },
  {
   "cell_type": "code",
   "execution_count": 137,
   "metadata": {
    "scrolled": true
   },
   "outputs": [
    {
     "data": {
      "text/plain": [
       "<sklearn.metrics._plot.confusion_matrix.ConfusionMatrixDisplay at 0x22037724be0>"
      ]
     },
     "execution_count": 137,
     "metadata": {},
     "output_type": "execute_result"
    },
    {
     "data": {
      "image/png": "[encoded data removed]",
      "text/plain": [
       "<Figure size 432x288 with 2 Axes>"
      ]
     },
     "metadata": {},
     "output_type": "display_data"
    }
   ],
   "source": [
    "metrics.plot_confusion_matrix(clf,X_test,y_test)"
   ]
  },
  {
   "cell_type": "code",
   "execution_count": 138,
   "metadata": {},
   "outputs": [
    {
     "data": {
      "text/plain": [
       "0.692103695604279"
      ]
     },
     "execution_count": 138,
     "metadata": {},
     "output_type": "execute_result"
    }
   ],
   "source": [
    "metrics.roc_auc_score(y_test,y_pred)"
   ]
  },
  {
   "cell_type": "markdown",
   "metadata": {},
   "source": [
    "# Visualizing the Model Performance - Lorenz Curve"
   ]
  },
  {
   "cell_type": "code",
   "execution_count": 94,
   "metadata": {},
   "outputs": [],
   "source": [
    "y_pred_prob = clf.predict_proba(X_all)"
   ]
  },
  {
   "cell_type": "code",
   "execution_count": 95,
   "metadata": {},
   "outputs": [
    {
     "data": {
      "text/plain": [
       "array([[1.50793852e-03, 9.98492061e-01],\n",
       "       [9.84395352e-01, 1.56046477e-02],\n",
       "       [4.04885339e-07, 9.99999595e-01],\n",
       "       ...,\n",
       "       [9.99999993e-01, 7.24932229e-09],\n",
       "       [1.60763151e-02, 9.83923685e-01],\n",
       "       [9.98908210e-01, 1.09178964e-03]])"
      ]
     },
     "execution_count": 95,
     "metadata": {},
     "output_type": "execute_result"
    }
   ],
   "source": [
    "y_pred_prob"
   ]
  },
  {
   "cell_type": "code",
   "execution_count": 139,
   "metadata": {},
   "outputs": [
    {
     "data": {
      "text/html": [
       "<div>\n",
       "<style scoped>\n",
       "    .dataframe tbody tr th:only-of-type {\n",
       "        vertical-align: middle;\n",
       "    }\n",
       "\n",
       "    .dataframe tbody tr th {\n",
       "        vertical-align: top;\n",
       "    }\n",
       "\n",
       "    .dataframe thead th {\n",
       "        text-align: right;\n",
       "    }\n",
       "</style>\n",
       "<table border=\"1\" class=\"dataframe\">\n",
       "  <thead>\n",
       "    <tr style=\"text-align: right;\">\n",
       "      <th></th>\n",
       "      <th>P_Rank_nb</th>\n",
       "      <th>count</th>\n",
       "      <th>mean</th>\n",
       "      <th>N_events</th>\n",
       "      <th>cum_events</th>\n",
       "      <th>event_cap</th>\n",
       "      <th>cum_event_cap</th>\n",
       "      <th>random_cap</th>\n",
       "      <th>cum_random_cap</th>\n",
       "      <th>decile</th>\n",
       "      <th>lift_over_random</th>\n",
       "    </tr>\n",
       "  </thead>\n",
       "  <tbody>\n",
       "    <tr>\n",
       "      <th>0</th>\n",
       "      <td>10</td>\n",
       "      <td>334</td>\n",
       "      <td>0.377246</td>\n",
       "      <td>126.0</td>\n",
       "      <td>126.0</td>\n",
       "      <td>0.260870</td>\n",
       "      <td>0.260870</td>\n",
       "      <td>0.10021</td>\n",
       "      <td>0.10021</td>\n",
       "      <td>1</td>\n",
       "      <td>2.603228</td>\n",
       "    </tr>\n",
       "    <tr>\n",
       "      <th>1</th>\n",
       "      <td>9</td>\n",
       "      <td>333</td>\n",
       "      <td>0.213213</td>\n",
       "      <td>71.0</td>\n",
       "      <td>197.0</td>\n",
       "      <td>0.146998</td>\n",
       "      <td>0.407867</td>\n",
       "      <td>0.09991</td>\n",
       "      <td>0.20012</td>\n",
       "      <td>2</td>\n",
       "      <td>2.038114</td>\n",
       "    </tr>\n",
       "    <tr>\n",
       "      <th>2</th>\n",
       "      <td>8</td>\n",
       "      <td>333</td>\n",
       "      <td>0.192192</td>\n",
       "      <td>64.0</td>\n",
       "      <td>261.0</td>\n",
       "      <td>0.132505</td>\n",
       "      <td>0.540373</td>\n",
       "      <td>0.09991</td>\n",
       "      <td>0.30003</td>\n",
       "      <td>3</td>\n",
       "      <td>1.801062</td>\n",
       "    </tr>\n",
       "    <tr>\n",
       "      <th>3</th>\n",
       "      <td>7</td>\n",
       "      <td>333</td>\n",
       "      <td>0.273273</td>\n",
       "      <td>91.0</td>\n",
       "      <td>352.0</td>\n",
       "      <td>0.188406</td>\n",
       "      <td>0.728778</td>\n",
       "      <td>0.09991</td>\n",
       "      <td>0.39994</td>\n",
       "      <td>4</td>\n",
       "      <td>1.822220</td>\n",
       "    </tr>\n",
       "    <tr>\n",
       "      <th>4</th>\n",
       "      <td>6</td>\n",
       "      <td>333</td>\n",
       "      <td>0.048048</td>\n",
       "      <td>16.0</td>\n",
       "      <td>368.0</td>\n",
       "      <td>0.033126</td>\n",
       "      <td>0.761905</td>\n",
       "      <td>0.09991</td>\n",
       "      <td>0.49985</td>\n",
       "      <td>5</td>\n",
       "      <td>1.524267</td>\n",
       "    </tr>\n",
       "    <tr>\n",
       "      <th>5</th>\n",
       "      <td>5</td>\n",
       "      <td>334</td>\n",
       "      <td>0.038922</td>\n",
       "      <td>13.0</td>\n",
       "      <td>381.0</td>\n",
       "      <td>0.026915</td>\n",
       "      <td>0.788820</td>\n",
       "      <td>0.10021</td>\n",
       "      <td>0.60006</td>\n",
       "      <td>6</td>\n",
       "      <td>1.314568</td>\n",
       "    </tr>\n",
       "    <tr>\n",
       "      <th>6</th>\n",
       "      <td>4</td>\n",
       "      <td>333</td>\n",
       "      <td>0.093093</td>\n",
       "      <td>31.0</td>\n",
       "      <td>412.0</td>\n",
       "      <td>0.064182</td>\n",
       "      <td>0.853002</td>\n",
       "      <td>0.09991</td>\n",
       "      <td>0.69997</td>\n",
       "      <td>7</td>\n",
       "      <td>1.218627</td>\n",
       "    </tr>\n",
       "    <tr>\n",
       "      <th>7</th>\n",
       "      <td>3</td>\n",
       "      <td>333</td>\n",
       "      <td>0.072072</td>\n",
       "      <td>24.0</td>\n",
       "      <td>436.0</td>\n",
       "      <td>0.049689</td>\n",
       "      <td>0.902692</td>\n",
       "      <td>0.09991</td>\n",
       "      <td>0.79988</td>\n",
       "      <td>8</td>\n",
       "      <td>1.128534</td>\n",
       "    </tr>\n",
       "    <tr>\n",
       "      <th>8</th>\n",
       "      <td>2</td>\n",
       "      <td>333</td>\n",
       "      <td>0.075075</td>\n",
       "      <td>25.0</td>\n",
       "      <td>461.0</td>\n",
       "      <td>0.051760</td>\n",
       "      <td>0.954451</td>\n",
       "      <td>0.09991</td>\n",
       "      <td>0.89979</td>\n",
       "      <td>9</td>\n",
       "      <td>1.060749</td>\n",
       "    </tr>\n",
       "    <tr>\n",
       "      <th>9</th>\n",
       "      <td>1</td>\n",
       "      <td>334</td>\n",
       "      <td>0.065868</td>\n",
       "      <td>22.0</td>\n",
       "      <td>483.0</td>\n",
       "      <td>0.045549</td>\n",
       "      <td>1.000000</td>\n",
       "      <td>0.10021</td>\n",
       "      <td>1.00000</td>\n",
       "      <td>10</td>\n",
       "      <td>1.000000</td>\n",
       "    </tr>\n",
       "  </tbody>\n",
       "</table>\n",
       "</div>"
      ],
      "text/plain": [
       "   P_Rank_nb  count      mean  N_events  cum_events  event_cap  cum_event_cap  \\\n",
       "0         10    334  0.377246     126.0       126.0   0.260870       0.260870   \n",
       "1          9    333  0.213213      71.0       197.0   0.146998       0.407867   \n",
       "2          8    333  0.192192      64.0       261.0   0.132505       0.540373   \n",
       "3          7    333  0.273273      91.0       352.0   0.188406       0.728778   \n",
       "4          6    333  0.048048      16.0       368.0   0.033126       0.761905   \n",
       "5          5    334  0.038922      13.0       381.0   0.026915       0.788820   \n",
       "6          4    333  0.093093      31.0       412.0   0.064182       0.853002   \n",
       "7          3    333  0.072072      24.0       436.0   0.049689       0.902692   \n",
       "8          2    333  0.075075      25.0       461.0   0.051760       0.954451   \n",
       "9          1    334  0.065868      22.0       483.0   0.045549       1.000000   \n",
       "\n",
       "   random_cap  cum_random_cap  decile  lift_over_random  \n",
       "0     0.10021         0.10021       1          2.603228  \n",
       "1     0.09991         0.20012       2          2.038114  \n",
       "2     0.09991         0.30003       3          1.801062  \n",
       "3     0.09991         0.39994       4          1.822220  \n",
       "4     0.09991         0.49985       5          1.524267  \n",
       "5     0.10021         0.60006       6          1.314568  \n",
       "6     0.09991         0.69997       7          1.218627  \n",
       "7     0.09991         0.79988       8          1.128534  \n",
       "8     0.09991         0.89979       9          1.060749  \n",
       "9     0.10021         1.00000      10          1.000000  "
      ]
     },
     "execution_count": 139,
     "metadata": {},
     "output_type": "execute_result"
    }
   ],
   "source": [
    "y_pred_prob = clf.predict_proba(select_features)[:, 1]\n",
    "df['y_pred_P']=pd.DataFrame(y_pred_prob)\n",
    "df['P_Rank_nb']=pd.qcut(df['y_pred_P'].rank(method='first').values,10,duplicates='drop').codes+1\n",
    "rank_df=df.groupby('P_Rank_nb')['churn'].agg(['count','mean'])\n",
    "rank_df=pd.DataFrame(rank_df)\n",
    "sorted_rank_df=rank_df.sort_values(by='P_Rank_nb',ascending=False)\n",
    "sorted_rank_df['N_events']=rank_df['count']*rank_df['mean']\n",
    "sorted_rank_df['cum_events']=sorted_rank_df['N_events'].cumsum()\n",
    "sorted_rank_df['event_cap']=sorted_rank_df['N_events']/max(sorted_rank_df['N_events'].cumsum())\n",
    "sorted_rank_df['cum_event_cap']=sorted_rank_df['event_cap'].cumsum()\n",
    "sorted_rank_df['random_cap']=sorted_rank_df['count']/max(sorted_rank_df['count'].cumsum())\n",
    "sorted_rank_df['cum_random_cap']=sorted_rank_df['random_cap'].cumsum()\n",
    "sorted_reindexed=sorted_rank_df.reset_index()\n",
    "sorted_reindexed['decile']=sorted_reindexed.index+1\n",
    "sorted_reindexed['lift_over_random']=sorted_reindexed['cum_event_cap']/sorted_reindexed['cum_random_cap']\n",
    "sorted_reindexed"
   ]
  },
  {
   "cell_type": "code",
   "execution_count": 116,
   "metadata": {},
   "outputs": [
    {
     "data": {
      "image/png": "[encoded data removed]",
      "text/plain": [
       "<Figure size 432x288 with 1 Axes>"
      ]
     },
     "metadata": {},
     "output_type": "display_data"
    }
   ],
   "source": [
    "ax = sns.lineplot( x=\"decile\", y=\"lift_over_random\", data=sorted_reindexed)\n",
    "ax = sns.lineplot( x=\"decile\", y=\"random_cap\", data=sorted_reindexed)"
   ]
  },
  {
   "cell_type": "code",
   "execution_count": null,
   "metadata": {},
   "outputs": [],
   "source": [
    "# Create a feature that shows how much money telecom is making\n",
    "# Divide that into \"High Value Customer\" and \"Low Value Customer\" Groups\n",
    "# Create Tenure deciles\n",
    "# Divide into \"High Tenure\" and \"Low Tenure\" groups\n",
    "# Slice the data with respect to Top 4 Probability Deciles and Bottom 6\n",
    "# Make a Cross tab to show how many customers between Tenure and Value Buckets are getting captures"
   ]
  },
  {
   "cell_type": "code",
   "execution_count": 140,
   "metadata": {},
   "outputs": [
    {
     "data": {
      "text/plain": [
       "account length            float64\n",
       "area code                 float64\n",
       "number vmail messages     float64\n",
       "total day minutes         float64\n",
       "total day calls           float64\n",
       "total day charge          float64\n",
       "total eve minutes         float64\n",
       "total eve calls           float64\n",
       "total eve charge          float64\n",
       "total night minutes       float64\n",
       "total night calls         float64\n",
       "total night charge        float64\n",
       "total intl minutes        float64\n",
       "total intl calls          float64\n",
       "total intl charge         float64\n",
       "customer service calls    float64\n",
       "state_AL                  float64\n",
       "state_AR                  float64\n",
       "state_AZ                  float64\n",
       "state_CA                  float64\n",
       "state_CO                  float64\n",
       "state_CT                  float64\n",
       "state_DC                  float64\n",
       "state_DE                  float64\n",
       "state_FL                  float64\n",
       "state_GA                  float64\n",
       "state_HI                  float64\n",
       "state_IA                  float64\n",
       "state_ID                  float64\n",
       "state_IL                  float64\n",
       "                           ...   \n",
       "state_MN                  float64\n",
       "state_MO                  float64\n",
       "state_MS                  float64\n",
       "state_MT                  float64\n",
       "state_NC                  float64\n",
       "state_ND                  float64\n",
       "state_NE                  float64\n",
       "state_NH                  float64\n",
       "state_NJ                  float64\n",
       "state_NM                  float64\n",
       "state_NV                  float64\n",
       "state_NY                  float64\n",
       "state_OH                  float64\n",
       "state_OK                  float64\n",
       "state_OR                  float64\n",
       "state_PA                  float64\n",
       "state_RI                  float64\n",
       "state_SC                  float64\n",
       "state_SD                  float64\n",
       "state_TN                  float64\n",
       "state_TX                  float64\n",
       "state_UT                  float64\n",
       "state_VA                  float64\n",
       "state_VT                  float64\n",
       "state_WA                  float64\n",
       "state_WI                  float64\n",
       "state_WV                  float64\n",
       "state_WY                  float64\n",
       "international plan_yes    float64\n",
       "voice mail plan_yes       float64\n",
       "Length: 68, dtype: object"
      ]
     },
     "execution_count": 140,
     "metadata": {},
     "output_type": "execute_result"
    }
   ],
   "source": [
    "X_all.dtypes"
   ]
  },
  {
   "cell_type": "code",
   "execution_count": 141,
   "metadata": {},
   "outputs": [],
   "source": [
    "df['Tenure_Rank']=pd.qcut(df['account length'].rank(method='first').values,10,duplicates='drop').codes+1"
   ]
  },
  {
   "cell_type": "code",
   "execution_count": 144,
   "metadata": {},
   "outputs": [
    {
     "data": {
      "text/html": [
       "<div>\n",
       "<style scoped>\n",
       "    .dataframe tbody tr th:only-of-type {\n",
       "        vertical-align: middle;\n",
       "    }\n",
       "\n",
       "    .dataframe tbody tr th {\n",
       "        vertical-align: top;\n",
       "    }\n",
       "\n",
       "    .dataframe thead th {\n",
       "        text-align: right;\n",
       "    }\n",
       "</style>\n",
       "<table border=\"1\" class=\"dataframe\">\n",
       "  <thead>\n",
       "    <tr style=\"text-align: right;\">\n",
       "      <th></th>\n",
       "      <th>min</th>\n",
       "      <th>max</th>\n",
       "      <th>mean</th>\n",
       "    </tr>\n",
       "    <tr>\n",
       "      <th>Tenure_Rank</th>\n",
       "      <th></th>\n",
       "      <th></th>\n",
       "      <th></th>\n",
       "    </tr>\n",
       "  </thead>\n",
       "  <tbody>\n",
       "    <tr>\n",
       "      <th>1</th>\n",
       "      <td>1</td>\n",
       "      <td>50</td>\n",
       "      <td>32.125749</td>\n",
       "    </tr>\n",
       "    <tr>\n",
       "      <th>2</th>\n",
       "      <td>50</td>\n",
       "      <td>67</td>\n",
       "      <td>59.411411</td>\n",
       "    </tr>\n",
       "    <tr>\n",
       "      <th>3</th>\n",
       "      <td>67</td>\n",
       "      <td>80</td>\n",
       "      <td>73.639640</td>\n",
       "    </tr>\n",
       "    <tr>\n",
       "      <th>4</th>\n",
       "      <td>80</td>\n",
       "      <td>91</td>\n",
       "      <td>85.507508</td>\n",
       "    </tr>\n",
       "    <tr>\n",
       "      <th>5</th>\n",
       "      <td>91</td>\n",
       "      <td>101</td>\n",
       "      <td>95.619760</td>\n",
       "    </tr>\n",
       "    <tr>\n",
       "      <th>6</th>\n",
       "      <td>101</td>\n",
       "      <td>111</td>\n",
       "      <td>105.666667</td>\n",
       "    </tr>\n",
       "    <tr>\n",
       "      <th>7</th>\n",
       "      <td>111</td>\n",
       "      <td>122</td>\n",
       "      <td>116.393393</td>\n",
       "    </tr>\n",
       "    <tr>\n",
       "      <th>8</th>\n",
       "      <td>122</td>\n",
       "      <td>134</td>\n",
       "      <td>127.447447</td>\n",
       "    </tr>\n",
       "    <tr>\n",
       "      <th>9</th>\n",
       "      <td>134</td>\n",
       "      <td>152</td>\n",
       "      <td>142.492492</td>\n",
       "    </tr>\n",
       "    <tr>\n",
       "      <th>10</th>\n",
       "      <td>152</td>\n",
       "      <td>243</td>\n",
       "      <td>172.353293</td>\n",
       "    </tr>\n",
       "  </tbody>\n",
       "</table>\n",
       "</div>"
      ],
      "text/plain": [
       "             min  max        mean\n",
       "Tenure_Rank                      \n",
       "1              1   50   32.125749\n",
       "2             50   67   59.411411\n",
       "3             67   80   73.639640\n",
       "4             80   91   85.507508\n",
       "5             91  101   95.619760\n",
       "6            101  111  105.666667\n",
       "7            111  122  116.393393\n",
       "8            122  134  127.447447\n",
       "9            134  152  142.492492\n",
       "10           152  243  172.353293"
      ]
     },
     "execution_count": 144,
     "metadata": {},
     "output_type": "execute_result"
    }
   ],
   "source": [
    "df.groupby('Tenure_Rank')['account length'].agg(['min','max','mean'])"
   ]
  },
  {
   "cell_type": "code",
   "execution_count": 145,
   "metadata": {},
   "outputs": [],
   "source": [
    "df['Tenure_Segment']=np.where(df['Tenure_Rank']<=3,\"Low Tenure\",\"High Tenure\")"
   ]
  },
  {
   "cell_type": "code",
   "execution_count": 156,
   "metadata": {},
   "outputs": [
    {
     "data": {
      "text/html": [
       "<div>\n",
       "<style scoped>\n",
       "    .dataframe tbody tr th:only-of-type {\n",
       "        vertical-align: middle;\n",
       "    }\n",
       "\n",
       "    .dataframe tbody tr th {\n",
       "        vertical-align: top;\n",
       "    }\n",
       "\n",
       "    .dataframe thead th {\n",
       "        text-align: right;\n",
       "    }\n",
       "</style>\n",
       "<table border=\"1\" class=\"dataframe\">\n",
       "  <thead>\n",
       "    <tr style=\"text-align: right;\">\n",
       "      <th></th>\n",
       "      <th>min</th>\n",
       "      <th>max</th>\n",
       "      <th>mean</th>\n",
       "    </tr>\n",
       "    <tr>\n",
       "      <th>Tenure_Segment</th>\n",
       "      <th></th>\n",
       "      <th></th>\n",
       "      <th></th>\n",
       "    </tr>\n",
       "  </thead>\n",
       "  <tbody>\n",
       "    <tr>\n",
       "      <th>High Tenure</th>\n",
       "      <td>80</td>\n",
       "      <td>243</td>\n",
       "      <td>120.794256</td>\n",
       "    </tr>\n",
       "    <tr>\n",
       "      <th>Low Tenure</th>\n",
       "      <td>1</td>\n",
       "      <td>80</td>\n",
       "      <td>55.036000</td>\n",
       "    </tr>\n",
       "  </tbody>\n",
       "</table>\n",
       "</div>"
      ],
      "text/plain": [
       "                min  max        mean\n",
       "Tenure_Segment                      \n",
       "High Tenure      80  243  120.794256\n",
       "Low Tenure        1   80   55.036000"
      ]
     },
     "execution_count": 156,
     "metadata": {},
     "output_type": "execute_result"
    }
   ],
   "source": [
    "df.groupby('Tenure_Segment')['account length'].agg(['min','max','mean'])"
   ]
  },
  {
   "cell_type": "code",
   "execution_count": 146,
   "metadata": {},
   "outputs": [],
   "source": [
    "df['Total_charges']=df['total day charge']+df['total eve charge']+df['total night charge']+df['total intl charge']"
   ]
  },
  {
   "cell_type": "code",
   "execution_count": 147,
   "metadata": {},
   "outputs": [],
   "source": [
    "df['Charges_Rank']=pd.qcut(df['Total_charges'].rank(method='first').values,10,duplicates='drop').codes+1"
   ]
  },
  {
   "cell_type": "code",
   "execution_count": 149,
   "metadata": {},
   "outputs": [
    {
     "data": {
      "text/html": [
       "<div>\n",
       "<style scoped>\n",
       "    .dataframe tbody tr th:only-of-type {\n",
       "        vertical-align: middle;\n",
       "    }\n",
       "\n",
       "    .dataframe tbody tr th {\n",
       "        vertical-align: top;\n",
       "    }\n",
       "\n",
       "    .dataframe thead th {\n",
       "        text-align: right;\n",
       "    }\n",
       "</style>\n",
       "<table border=\"1\" class=\"dataframe\">\n",
       "  <thead>\n",
       "    <tr style=\"text-align: right;\">\n",
       "      <th></th>\n",
       "      <th>min</th>\n",
       "      <th>max</th>\n",
       "      <th>mean</th>\n",
       "    </tr>\n",
       "    <tr>\n",
       "      <th>Charges_Rank</th>\n",
       "      <th></th>\n",
       "      <th></th>\n",
       "      <th></th>\n",
       "    </tr>\n",
       "  </thead>\n",
       "  <tbody>\n",
       "    <tr>\n",
       "      <th>1</th>\n",
       "      <td>0</td>\n",
       "      <td>1</td>\n",
       "      <td>0.110778</td>\n",
       "    </tr>\n",
       "    <tr>\n",
       "      <th>2</th>\n",
       "      <td>0</td>\n",
       "      <td>1</td>\n",
       "      <td>0.129129</td>\n",
       "    </tr>\n",
       "    <tr>\n",
       "      <th>3</th>\n",
       "      <td>0</td>\n",
       "      <td>1</td>\n",
       "      <td>0.147147</td>\n",
       "    </tr>\n",
       "    <tr>\n",
       "      <th>4</th>\n",
       "      <td>0</td>\n",
       "      <td>1</td>\n",
       "      <td>0.147147</td>\n",
       "    </tr>\n",
       "    <tr>\n",
       "      <th>5</th>\n",
       "      <td>0</td>\n",
       "      <td>1</td>\n",
       "      <td>0.044910</td>\n",
       "    </tr>\n",
       "    <tr>\n",
       "      <th>6</th>\n",
       "      <td>0</td>\n",
       "      <td>1</td>\n",
       "      <td>0.042042</td>\n",
       "    </tr>\n",
       "    <tr>\n",
       "      <th>7</th>\n",
       "      <td>0</td>\n",
       "      <td>1</td>\n",
       "      <td>0.072072</td>\n",
       "    </tr>\n",
       "    <tr>\n",
       "      <th>8</th>\n",
       "      <td>0</td>\n",
       "      <td>1</td>\n",
       "      <td>0.051051</td>\n",
       "    </tr>\n",
       "    <tr>\n",
       "      <th>9</th>\n",
       "      <td>0</td>\n",
       "      <td>1</td>\n",
       "      <td>0.078078</td>\n",
       "    </tr>\n",
       "    <tr>\n",
       "      <th>10</th>\n",
       "      <td>0</td>\n",
       "      <td>1</td>\n",
       "      <td>0.625749</td>\n",
       "    </tr>\n",
       "  </tbody>\n",
       "</table>\n",
       "</div>"
      ],
      "text/plain": [
       "              min  max      mean\n",
       "Charges_Rank                    \n",
       "1               0    1  0.110778\n",
       "2               0    1  0.129129\n",
       "3               0    1  0.147147\n",
       "4               0    1  0.147147\n",
       "5               0    1  0.044910\n",
       "6               0    1  0.042042\n",
       "7               0    1  0.072072\n",
       "8               0    1  0.051051\n",
       "9               0    1  0.078078\n",
       "10              0    1  0.625749"
      ]
     },
     "execution_count": 149,
     "metadata": {},
     "output_type": "execute_result"
    }
   ],
   "source": [
    "df.groupby('Charges_Rank')['churn'].agg(['min','max','mean'])"
   ]
  },
  {
   "cell_type": "code",
   "execution_count": 154,
   "metadata": {},
   "outputs": [],
   "source": [
    "df['Charges_Segment']=np.where(df['Charges_Rank']>=9,\"High Charges\",\"Low Charges\")"
   ]
  },
  {
   "cell_type": "code",
   "execution_count": 155,
   "metadata": {},
   "outputs": [
    {
     "data": {
      "text/html": [
       "<div>\n",
       "<style scoped>\n",
       "    .dataframe tbody tr th:only-of-type {\n",
       "        vertical-align: middle;\n",
       "    }\n",
       "\n",
       "    .dataframe tbody tr th {\n",
       "        vertical-align: top;\n",
       "    }\n",
       "\n",
       "    .dataframe thead th {\n",
       "        text-align: right;\n",
       "    }\n",
       "</style>\n",
       "<table border=\"1\" class=\"dataframe\">\n",
       "  <thead>\n",
       "    <tr style=\"text-align: right;\">\n",
       "      <th></th>\n",
       "      <th>min</th>\n",
       "      <th>max</th>\n",
       "      <th>mean</th>\n",
       "    </tr>\n",
       "    <tr>\n",
       "      <th>Charges_Segment</th>\n",
       "      <th></th>\n",
       "      <th></th>\n",
       "      <th></th>\n",
       "    </tr>\n",
       "  </thead>\n",
       "  <tbody>\n",
       "    <tr>\n",
       "      <th>High Charges</th>\n",
       "      <td>68.24</td>\n",
       "      <td>96.15</td>\n",
       "      <td>74.135997</td>\n",
       "    </tr>\n",
       "    <tr>\n",
       "      <th>Low Charges</th>\n",
       "      <td>22.93</td>\n",
       "      <td>68.23</td>\n",
       "      <td>55.775439</td>\n",
       "    </tr>\n",
       "  </tbody>\n",
       "</table>\n",
       "</div>"
      ],
      "text/plain": [
       "                   min    max       mean\n",
       "Charges_Segment                         \n",
       "High Charges     68.24  96.15  74.135997\n",
       "Low Charges      22.93  68.23  55.775439"
      ]
     },
     "execution_count": 155,
     "metadata": {},
     "output_type": "execute_result"
    }
   ],
   "source": [
    "df.groupby('Charges_Segment')['Total_charges'].agg(['min','max','mean'])"
   ]
  },
  {
   "cell_type": "markdown",
   "metadata": {},
   "source": [
    "# Slice the data as per Top 4 MODEL DECILES"
   ]
  },
  {
   "cell_type": "code",
   "execution_count": 157,
   "metadata": {},
   "outputs": [],
   "source": [
    "df['Predicted_Churn_Rank']=np.where(df['P_Rank_nb']>=7,\"Top 4\",\"Bottom 6\")"
   ]
  },
  {
   "cell_type": "code",
   "execution_count": 158,
   "metadata": {},
   "outputs": [
    {
     "data": {
      "text/html": [
       "<div>\n",
       "<style scoped>\n",
       "    .dataframe tbody tr th:only-of-type {\n",
       "        vertical-align: middle;\n",
       "    }\n",
       "\n",
       "    .dataframe tbody tr th {\n",
       "        vertical-align: top;\n",
       "    }\n",
       "\n",
       "    .dataframe thead th {\n",
       "        text-align: right;\n",
       "    }\n",
       "</style>\n",
       "<table border=\"1\" class=\"dataframe\">\n",
       "  <thead>\n",
       "    <tr style=\"text-align: right;\">\n",
       "      <th></th>\n",
       "      <th>state</th>\n",
       "      <th>account length</th>\n",
       "      <th>area code</th>\n",
       "      <th>international plan</th>\n",
       "      <th>voice mail plan</th>\n",
       "      <th>number vmail messages</th>\n",
       "      <th>total day minutes</th>\n",
       "      <th>total day calls</th>\n",
       "      <th>total day charge</th>\n",
       "      <th>total eve minutes</th>\n",
       "      <th>...</th>\n",
       "      <th>churn</th>\n",
       "      <th>y_pred_P</th>\n",
       "      <th>P_Rank_RF</th>\n",
       "      <th>P_Rank_nb</th>\n",
       "      <th>Tenure_Rank</th>\n",
       "      <th>Tenure_Segment</th>\n",
       "      <th>Total_charges</th>\n",
       "      <th>Charges_Rank</th>\n",
       "      <th>Charges_Segment</th>\n",
       "      <th>Predicted_Churn_Rank</th>\n",
       "    </tr>\n",
       "  </thead>\n",
       "  <tbody>\n",
       "    <tr>\n",
       "      <th>0</th>\n",
       "      <td>KS</td>\n",
       "      <td>128</td>\n",
       "      <td>415</td>\n",
       "      <td>no</td>\n",
       "      <td>yes</td>\n",
       "      <td>25</td>\n",
       "      <td>265.1</td>\n",
       "      <td>110</td>\n",
       "      <td>45.07</td>\n",
       "      <td>197.4</td>\n",
       "      <td>...</td>\n",
       "      <td>0</td>\n",
       "      <td>0.998238</td>\n",
       "      <td>8</td>\n",
       "      <td>8</td>\n",
       "      <td>8</td>\n",
       "      <td>High Tenure</td>\n",
       "      <td>75.56</td>\n",
       "      <td>10</td>\n",
       "      <td>High Charges</td>\n",
       "      <td>Top 4</td>\n",
       "    </tr>\n",
       "    <tr>\n",
       "      <th>1</th>\n",
       "      <td>OH</td>\n",
       "      <td>107</td>\n",
       "      <td>415</td>\n",
       "      <td>no</td>\n",
       "      <td>yes</td>\n",
       "      <td>26</td>\n",
       "      <td>161.6</td>\n",
       "      <td>123</td>\n",
       "      <td>27.47</td>\n",
       "      <td>195.5</td>\n",
       "      <td>...</td>\n",
       "      <td>0</td>\n",
       "      <td>0.047638</td>\n",
       "      <td>5</td>\n",
       "      <td>4</td>\n",
       "      <td>6</td>\n",
       "      <td>High Tenure</td>\n",
       "      <td>59.24</td>\n",
       "      <td>5</td>\n",
       "      <td>Low Charges</td>\n",
       "      <td>Bottom 6</td>\n",
       "    </tr>\n",
       "    <tr>\n",
       "      <th>2</th>\n",
       "      <td>NJ</td>\n",
       "      <td>137</td>\n",
       "      <td>415</td>\n",
       "      <td>no</td>\n",
       "      <td>no</td>\n",
       "      <td>0</td>\n",
       "      <td>243.4</td>\n",
       "      <td>114</td>\n",
       "      <td>41.38</td>\n",
       "      <td>121.2</td>\n",
       "      <td>...</td>\n",
       "      <td>0</td>\n",
       "      <td>1.000000</td>\n",
       "      <td>10</td>\n",
       "      <td>10</td>\n",
       "      <td>9</td>\n",
       "      <td>High Tenure</td>\n",
       "      <td>62.29</td>\n",
       "      <td>7</td>\n",
       "      <td>Low Charges</td>\n",
       "      <td>Top 4</td>\n",
       "    </tr>\n",
       "    <tr>\n",
       "      <th>3</th>\n",
       "      <td>OH</td>\n",
       "      <td>84</td>\n",
       "      <td>408</td>\n",
       "      <td>yes</td>\n",
       "      <td>no</td>\n",
       "      <td>0</td>\n",
       "      <td>299.4</td>\n",
       "      <td>71</td>\n",
       "      <td>50.90</td>\n",
       "      <td>61.9</td>\n",
       "      <td>...</td>\n",
       "      <td>0</td>\n",
       "      <td>0.999731</td>\n",
       "      <td>8</td>\n",
       "      <td>9</td>\n",
       "      <td>4</td>\n",
       "      <td>High Tenure</td>\n",
       "      <td>66.80</td>\n",
       "      <td>8</td>\n",
       "      <td>Low Charges</td>\n",
       "      <td>Top 4</td>\n",
       "    </tr>\n",
       "    <tr>\n",
       "      <th>4</th>\n",
       "      <td>OK</td>\n",
       "      <td>75</td>\n",
       "      <td>415</td>\n",
       "      <td>yes</td>\n",
       "      <td>no</td>\n",
       "      <td>0</td>\n",
       "      <td>166.7</td>\n",
       "      <td>113</td>\n",
       "      <td>28.34</td>\n",
       "      <td>148.3</td>\n",
       "      <td>...</td>\n",
       "      <td>0</td>\n",
       "      <td>0.996317</td>\n",
       "      <td>7</td>\n",
       "      <td>8</td>\n",
       "      <td>3</td>\n",
       "      <td>Low Tenure</td>\n",
       "      <td>52.09</td>\n",
       "      <td>3</td>\n",
       "      <td>Low Charges</td>\n",
       "      <td>Top 4</td>\n",
       "    </tr>\n",
       "  </tbody>\n",
       "</table>\n",
       "<p>5 rows × 29 columns</p>\n",
       "</div>"
      ],
      "text/plain": [
       "  state  account length  area code international plan voice mail plan  \\\n",
       "0    KS             128        415                 no             yes   \n",
       "1    OH             107        415                 no             yes   \n",
       "2    NJ             137        415                 no              no   \n",
       "3    OH              84        408                yes              no   \n",
       "4    OK              75        415                yes              no   \n",
       "\n",
       "   number vmail messages  total day minutes  total day calls  \\\n",
       "0                     25              265.1              110   \n",
       "1                     26              161.6              123   \n",
       "2                      0              243.4              114   \n",
       "3                      0              299.4               71   \n",
       "4                      0              166.7              113   \n",
       "\n",
       "   total day charge  total eve minutes          ...           churn  y_pred_P  \\\n",
       "0             45.07              197.4          ...               0  0.998238   \n",
       "1             27.47              195.5          ...               0  0.047638   \n",
       "2             41.38              121.2          ...               0  1.000000   \n",
       "3             50.90               61.9          ...               0  0.999731   \n",
       "4             28.34              148.3          ...               0  0.996317   \n",
       "\n",
       "   P_Rank_RF  P_Rank_nb  Tenure_Rank  Tenure_Segment  Total_charges  \\\n",
       "0          8          8            8     High Tenure          75.56   \n",
       "1          5          4            6     High Tenure          59.24   \n",
       "2         10         10            9     High Tenure          62.29   \n",
       "3          8          9            4     High Tenure          66.80   \n",
       "4          7          8            3      Low Tenure          52.09   \n",
       "\n",
       "   Charges_Rank  Charges_Segment  Predicted_Churn_Rank  \n",
       "0            10     High Charges                 Top 4  \n",
       "1             5      Low Charges              Bottom 6  \n",
       "2             7      Low Charges                 Top 4  \n",
       "3             8      Low Charges                 Top 4  \n",
       "4             3      Low Charges                 Top 4  \n",
       "\n",
       "[5 rows x 29 columns]"
      ]
     },
     "execution_count": 158,
     "metadata": {},
     "output_type": "execute_result"
    }
   ],
   "source": [
    "df.head()"
   ]
  },
  {
   "cell_type": "code",
   "execution_count": 161,
   "metadata": {},
   "outputs": [],
   "source": [
    "df_top4=df.loc[df['Predicted_Churn_Rank']=='Top 4',:]"
   ]
  },
  {
   "cell_type": "code",
   "execution_count": 159,
   "metadata": {},
   "outputs": [],
   "source": [
    "df_bottom6=df.loc[df['Predicted_Churn_Rank']=='Bottom 6',:]"
   ]
  },
  {
   "cell_type": "code",
   "execution_count": 162,
   "metadata": {},
   "outputs": [
    {
     "data": {
      "text/html": [
       "<div>\n",
       "<style scoped>\n",
       "    .dataframe tbody tr th:only-of-type {\n",
       "        vertical-align: middle;\n",
       "    }\n",
       "\n",
       "    .dataframe tbody tr th {\n",
       "        vertical-align: top;\n",
       "    }\n",
       "\n",
       "    .dataframe thead th {\n",
       "        text-align: right;\n",
       "    }\n",
       "</style>\n",
       "<table border=\"1\" class=\"dataframe\">\n",
       "  <thead>\n",
       "    <tr style=\"text-align: right;\">\n",
       "      <th>Tenure_Segment</th>\n",
       "      <th>High Tenure</th>\n",
       "      <th>Low Tenure</th>\n",
       "    </tr>\n",
       "    <tr>\n",
       "      <th>Charges_Segment</th>\n",
       "      <th></th>\n",
       "      <th></th>\n",
       "    </tr>\n",
       "  </thead>\n",
       "  <tbody>\n",
       "    <tr>\n",
       "      <th>High Charges</th>\n",
       "      <td>0.510040</td>\n",
       "      <td>0.463415</td>\n",
       "    </tr>\n",
       "    <tr>\n",
       "      <th>Low Charges</th>\n",
       "      <td>0.186747</td>\n",
       "      <td>0.148148</td>\n",
       "    </tr>\n",
       "  </tbody>\n",
       "</table>\n",
       "</div>"
      ],
      "text/plain": [
       "Tenure_Segment   High Tenure  Low Tenure\n",
       "Charges_Segment                         \n",
       "High Charges        0.510040    0.463415\n",
       "Low Charges         0.186747    0.148148"
      ]
     },
     "execution_count": 162,
     "metadata": {},
     "output_type": "execute_result"
    }
   ],
   "source": [
    "pd.crosstab(index=df_top4['Charges_Segment'], columns=df_top4['Tenure_Segment'],values=df_top4['churn'],aggfunc='mean')"
   ]
  },
  {
   "cell_type": "code",
   "execution_count": 163,
   "metadata": {},
   "outputs": [
    {
     "data": {
      "text/html": [
       "<div>\n",
       "<style scoped>\n",
       "    .dataframe tbody tr th:only-of-type {\n",
       "        vertical-align: middle;\n",
       "    }\n",
       "\n",
       "    .dataframe tbody tr th {\n",
       "        vertical-align: top;\n",
       "    }\n",
       "\n",
       "    .dataframe thead th {\n",
       "        text-align: right;\n",
       "    }\n",
       "</style>\n",
       "<table border=\"1\" class=\"dataframe\">\n",
       "  <thead>\n",
       "    <tr style=\"text-align: right;\">\n",
       "      <th>Tenure_Segment</th>\n",
       "      <th>High Tenure</th>\n",
       "      <th>Low Tenure</th>\n",
       "    </tr>\n",
       "    <tr>\n",
       "      <th>Charges_Segment</th>\n",
       "      <th></th>\n",
       "      <th></th>\n",
       "    </tr>\n",
       "  </thead>\n",
       "  <tbody>\n",
       "    <tr>\n",
       "      <th>High Charges</th>\n",
       "      <td>249</td>\n",
       "      <td>123</td>\n",
       "    </tr>\n",
       "    <tr>\n",
       "      <th>Low Charges</th>\n",
       "      <td>664</td>\n",
       "      <td>297</td>\n",
       "    </tr>\n",
       "  </tbody>\n",
       "</table>\n",
       "</div>"
      ],
      "text/plain": [
       "Tenure_Segment   High Tenure  Low Tenure\n",
       "Charges_Segment                         \n",
       "High Charges             249         123\n",
       "Low Charges              664         297"
      ]
     },
     "execution_count": 163,
     "metadata": {},
     "output_type": "execute_result"
    }
   ],
   "source": [
    "pd.crosstab(index=df_top4['Charges_Segment'], columns=df_top4['Tenure_Segment'],values=df_top4['churn'],aggfunc='count')"
   ]
  },
  {
   "cell_type": "code",
   "execution_count": null,
   "metadata": {},
   "outputs": [],
   "source": []
  }
 ],
 "metadata": {
  "kernelspec": {
   "display_name": "Python 3",
   "language": "python",
   "name": "python3"
  },
  "language_info": {
   "codemirror_mode": {
    "name": "ipython",
    "version": 3
   },
   "file_extension": ".py",
   "mimetype": "text/x-python",
   "name": "python",
   "nbconvert_exporter": "python",
   "pygments_lexer": "ipython3",
   "version": "3.6.5"
  }
 },
 "nbformat": 4,
 "nbformat_minor": 2
}
