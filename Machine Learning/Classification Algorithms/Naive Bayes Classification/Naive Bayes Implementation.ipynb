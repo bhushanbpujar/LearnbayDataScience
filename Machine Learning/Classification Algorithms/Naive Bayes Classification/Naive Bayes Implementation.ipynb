{
 "cells": [
  {
   "cell_type": "code",
   "execution_count": 2,
   "metadata": {},
   "outputs": [],
   "source": [
    "import numpy as np\n",
    "import pandas as pd\n",
    "import seaborn as sns\n",
    "import matplotlib as plt"
   ]
  },
  {
   "cell_type": "code",
   "execution_count": 3,
   "metadata": {},
   "outputs": [],
   "source": [
    "df=pd.read_csv('C:/Users/aksin52/Documents/Learnbay Stats ML Curriculum/telecom_churn.csv')"
   ]
  },
  {
   "cell_type": "markdown",
   "metadata": {},
   "source": [
    "# Checking the data"
   ]
  },
  {
   "cell_type": "code",
   "execution_count": 4,
   "metadata": {
    "scrolled": true
   },
   "outputs": [
    {
     "data": {
      "text/html": [
       "<div>\n",
       "<style scoped>\n",
       "    .dataframe tbody tr th:only-of-type {\n",
       "        vertical-align: middle;\n",
       "    }\n",
       "\n",
       "    .dataframe tbody tr th {\n",
       "        vertical-align: top;\n",
       "    }\n",
       "\n",
       "    .dataframe thead th {\n",
       "        text-align: right;\n",
       "    }\n",
       "</style>\n",
       "<table border=\"1\" class=\"dataframe\">\n",
       "  <thead>\n",
       "    <tr style=\"text-align: right;\">\n",
       "      <th></th>\n",
       "      <th>state</th>\n",
       "      <th>account length</th>\n",
       "      <th>area code</th>\n",
       "      <th>international plan</th>\n",
       "      <th>voice mail plan</th>\n",
       "      <th>number vmail messages</th>\n",
       "      <th>total day minutes</th>\n",
       "      <th>total day calls</th>\n",
       "      <th>total day charge</th>\n",
       "      <th>total eve minutes</th>\n",
       "      <th>total eve calls</th>\n",
       "      <th>total eve charge</th>\n",
       "      <th>total night minutes</th>\n",
       "      <th>total night calls</th>\n",
       "      <th>total night charge</th>\n",
       "      <th>total intl minutes</th>\n",
       "      <th>total intl calls</th>\n",
       "      <th>total intl charge</th>\n",
       "      <th>customer service calls</th>\n",
       "      <th>churn</th>\n",
       "    </tr>\n",
       "  </thead>\n",
       "  <tbody>\n",
       "    <tr>\n",
       "      <th>0</th>\n",
       "      <td>KS</td>\n",
       "      <td>128</td>\n",
       "      <td>415</td>\n",
       "      <td>no</td>\n",
       "      <td>yes</td>\n",
       "      <td>25</td>\n",
       "      <td>265.1</td>\n",
       "      <td>110</td>\n",
       "      <td>45.07</td>\n",
       "      <td>197.4</td>\n",
       "      <td>99</td>\n",
       "      <td>16.78</td>\n",
       "      <td>244.7</td>\n",
       "      <td>91</td>\n",
       "      <td>11.01</td>\n",
       "      <td>10.0</td>\n",
       "      <td>3</td>\n",
       "      <td>2.70</td>\n",
       "      <td>1</td>\n",
       "      <td>0</td>\n",
       "    </tr>\n",
       "    <tr>\n",
       "      <th>1</th>\n",
       "      <td>OH</td>\n",
       "      <td>107</td>\n",
       "      <td>415</td>\n",
       "      <td>no</td>\n",
       "      <td>yes</td>\n",
       "      <td>26</td>\n",
       "      <td>161.6</td>\n",
       "      <td>123</td>\n",
       "      <td>27.47</td>\n",
       "      <td>195.5</td>\n",
       "      <td>103</td>\n",
       "      <td>16.62</td>\n",
       "      <td>254.4</td>\n",
       "      <td>103</td>\n",
       "      <td>11.45</td>\n",
       "      <td>13.7</td>\n",
       "      <td>3</td>\n",
       "      <td>3.70</td>\n",
       "      <td>1</td>\n",
       "      <td>0</td>\n",
       "    </tr>\n",
       "    <tr>\n",
       "      <th>2</th>\n",
       "      <td>NJ</td>\n",
       "      <td>137</td>\n",
       "      <td>415</td>\n",
       "      <td>no</td>\n",
       "      <td>no</td>\n",
       "      <td>0</td>\n",
       "      <td>243.4</td>\n",
       "      <td>114</td>\n",
       "      <td>41.38</td>\n",
       "      <td>121.2</td>\n",
       "      <td>110</td>\n",
       "      <td>10.30</td>\n",
       "      <td>162.6</td>\n",
       "      <td>104</td>\n",
       "      <td>7.32</td>\n",
       "      <td>12.2</td>\n",
       "      <td>5</td>\n",
       "      <td>3.29</td>\n",
       "      <td>0</td>\n",
       "      <td>0</td>\n",
       "    </tr>\n",
       "    <tr>\n",
       "      <th>3</th>\n",
       "      <td>OH</td>\n",
       "      <td>84</td>\n",
       "      <td>408</td>\n",
       "      <td>yes</td>\n",
       "      <td>no</td>\n",
       "      <td>0</td>\n",
       "      <td>299.4</td>\n",
       "      <td>71</td>\n",
       "      <td>50.90</td>\n",
       "      <td>61.9</td>\n",
       "      <td>88</td>\n",
       "      <td>5.26</td>\n",
       "      <td>196.9</td>\n",
       "      <td>89</td>\n",
       "      <td>8.86</td>\n",
       "      <td>6.6</td>\n",
       "      <td>7</td>\n",
       "      <td>1.78</td>\n",
       "      <td>2</td>\n",
       "      <td>0</td>\n",
       "    </tr>\n",
       "    <tr>\n",
       "      <th>4</th>\n",
       "      <td>OK</td>\n",
       "      <td>75</td>\n",
       "      <td>415</td>\n",
       "      <td>yes</td>\n",
       "      <td>no</td>\n",
       "      <td>0</td>\n",
       "      <td>166.7</td>\n",
       "      <td>113</td>\n",
       "      <td>28.34</td>\n",
       "      <td>148.3</td>\n",
       "      <td>122</td>\n",
       "      <td>12.61</td>\n",
       "      <td>186.9</td>\n",
       "      <td>121</td>\n",
       "      <td>8.41</td>\n",
       "      <td>10.1</td>\n",
       "      <td>3</td>\n",
       "      <td>2.73</td>\n",
       "      <td>3</td>\n",
       "      <td>0</td>\n",
       "    </tr>\n",
       "  </tbody>\n",
       "</table>\n",
       "</div>"
      ],
      "text/plain": [
       "  state  account length  area code international plan voice mail plan  \\\n",
       "0    KS             128        415                 no             yes   \n",
       "1    OH             107        415                 no             yes   \n",
       "2    NJ             137        415                 no              no   \n",
       "3    OH              84        408                yes              no   \n",
       "4    OK              75        415                yes              no   \n",
       "\n",
       "   number vmail messages  total day minutes  total day calls  \\\n",
       "0                     25              265.1              110   \n",
       "1                     26              161.6              123   \n",
       "2                      0              243.4              114   \n",
       "3                      0              299.4               71   \n",
       "4                      0              166.7              113   \n",
       "\n",
       "   total day charge  total eve minutes  total eve calls  total eve charge  \\\n",
       "0             45.07              197.4               99             16.78   \n",
       "1             27.47              195.5              103             16.62   \n",
       "2             41.38              121.2              110             10.30   \n",
       "3             50.90               61.9               88              5.26   \n",
       "4             28.34              148.3              122             12.61   \n",
       "\n",
       "   total night minutes  total night calls  total night charge  \\\n",
       "0                244.7                 91               11.01   \n",
       "1                254.4                103               11.45   \n",
       "2                162.6                104                7.32   \n",
       "3                196.9                 89                8.86   \n",
       "4                186.9                121                8.41   \n",
       "\n",
       "   total intl minutes  total intl calls  total intl charge  \\\n",
       "0                10.0                 3               2.70   \n",
       "1                13.7                 3               3.70   \n",
       "2                12.2                 5               3.29   \n",
       "3                 6.6                 7               1.78   \n",
       "4                10.1                 3               2.73   \n",
       "\n",
       "   customer service calls  churn  \n",
       "0                       1      0  \n",
       "1                       1      0  \n",
       "2                       0      0  \n",
       "3                       2      0  \n",
       "4                       3      0  "
      ]
     },
     "execution_count": 4,
     "metadata": {},
     "output_type": "execute_result"
    }
   ],
   "source": [
    "df.head()"
   ]
  },
  {
   "cell_type": "code",
   "execution_count": 4,
   "metadata": {
    "scrolled": true
   },
   "outputs": [
    {
     "data": {
      "text/plain": [
       "state                      object\n",
       "account length              int64\n",
       "area code                   int64\n",
       "international plan         object\n",
       "voice mail plan            object\n",
       "number vmail messages       int64\n",
       "total day minutes         float64\n",
       "total day calls             int64\n",
       "total day charge          float64\n",
       "total eve minutes         float64\n",
       "total eve calls             int64\n",
       "total eve charge          float64\n",
       "total night minutes       float64\n",
       "total night calls           int64\n",
       "total night charge        float64\n",
       "total intl minutes        float64\n",
       "total intl calls            int64\n",
       "total intl charge         float64\n",
       "customer service calls      int64\n",
       "churn                       int64\n",
       "dtype: object"
      ]
     },
     "execution_count": 4,
     "metadata": {},
     "output_type": "execute_result"
    }
   ],
   "source": [
    "df.dtypes"
   ]
  },
  {
   "cell_type": "markdown",
   "metadata": {},
   "source": [
    "# Split Dependent and Independent"
   ]
  },
  {
   "cell_type": "code",
   "execution_count": 80,
   "metadata": {},
   "outputs": [],
   "source": [
    "X=df.drop(['churn'],axis=1)\n",
    "Y=df['churn']"
   ]
  },
  {
   "cell_type": "markdown",
   "metadata": {},
   "source": [
    "# Missing Value Check"
   ]
  },
  {
   "cell_type": "code",
   "execution_count": 77,
   "metadata": {
    "scrolled": true
   },
   "outputs": [
    {
     "data": {
      "text/plain": [
       "state                     0.0\n",
       "account length            0.0\n",
       "area code                 0.0\n",
       "international plan        0.0\n",
       "voice mail plan           0.0\n",
       "number vmail messages     0.0\n",
       "total day minutes         0.0\n",
       "total day calls           0.0\n",
       "total day charge          0.0\n",
       "total eve minutes         0.0\n",
       "total eve calls           0.0\n",
       "total eve charge          0.0\n",
       "total night minutes       0.0\n",
       "total night calls         0.0\n",
       "total night charge        0.0\n",
       "total intl minutes        0.0\n",
       "total intl calls          0.0\n",
       "total intl charge         0.0\n",
       "customer service calls    0.0\n",
       "dtype: float64"
      ]
     },
     "execution_count": 77,
     "metadata": {},
     "output_type": "execute_result"
    }
   ],
   "source": [
    "X.isnull().sum()/X.count()"
   ]
  },
  {
   "cell_type": "code",
   "execution_count": 81,
   "metadata": {},
   "outputs": [],
   "source": [
    "correlation=X.corr()"
   ]
  },
  {
   "cell_type": "code",
   "execution_count": 82,
   "metadata": {
    "scrolled": true
   },
   "outputs": [
    {
     "data": {
      "image/png": "[encoded data removed]",
      "text/plain": [
       "<Figure size 432x288 with 2 Axes>"
      ]
     },
     "metadata": {},
     "output_type": "display_data"
    }
   ],
   "source": [
    "import seaborn as sns\n",
    "ax=sns.heatmap(correlation)"
   ]
  },
  {
   "cell_type": "code",
   "execution_count": 83,
   "metadata": {},
   "outputs": [],
   "source": [
    "X=df.drop(['churn','total day charge','total eve charge','total intl charge','total night charge'],axis=1)\n",
    "Y=df['churn']"
   ]
  },
  {
   "cell_type": "markdown",
   "metadata": {},
   "source": [
    "# Encoding categorical features"
   ]
  },
  {
   "cell_type": "code",
   "execution_count": 84,
   "metadata": {},
   "outputs": [],
   "source": [
    "char_features=['state','international plan','voice mail plan']"
   ]
  },
  {
   "cell_type": "code",
   "execution_count": 85,
   "metadata": {},
   "outputs": [],
   "source": [
    "X_char=pd.get_dummies(X[char_features])"
   ]
  },
  {
   "cell_type": "code",
   "execution_count": 86,
   "metadata": {},
   "outputs": [],
   "source": [
    "X_num=df.drop(['state','international plan','voice mail plan'],axis=1)"
   ]
  },
  {
   "cell_type": "code",
   "execution_count": 87,
   "metadata": {},
   "outputs": [],
   "source": [
    "X_all=pd.concat([X_num,X_char],axis=1,join=\"inner\")"
   ]
  },
  {
   "cell_type": "code",
   "execution_count": 88,
   "metadata": {},
   "outputs": [],
   "source": [
    "X=X_all.drop(['churn'],axis=1)"
   ]
  },
  {
   "cell_type": "code",
   "execution_count": 89,
   "metadata": {
    "scrolled": true
   },
   "outputs": [
    {
     "data": {
      "text/plain": [
       "(3333, 71)"
      ]
     },
     "execution_count": 89,
     "metadata": {},
     "output_type": "execute_result"
    }
   ],
   "source": [
    "X.shape"
   ]
  },
  {
   "cell_type": "markdown",
   "metadata": {},
   "source": [
    "# Capping and Flooring of Outliers if Present"
   ]
  },
  {
   "cell_type": "code",
   "execution_count": 14,
   "metadata": {},
   "outputs": [],
   "source": [
    "def outlier_capping(x):\n",
    "    x = x.clip_upper(x.quantile(0.99))\n",
    "    x = x.clip_lower(x.quantile(0.01))\n",
    "    return x"
   ]
  },
  {
   "cell_type": "code",
   "execution_count": 15,
   "metadata": {
    "scrolled": false
   },
   "outputs": [
    {
     "data": {
      "text/html": [
       "<div>\n",
       "<style scoped>\n",
       "    .dataframe tbody tr th:only-of-type {\n",
       "        vertical-align: middle;\n",
       "    }\n",
       "\n",
       "    .dataframe tbody tr th {\n",
       "        vertical-align: top;\n",
       "    }\n",
       "\n",
       "    .dataframe thead th {\n",
       "        text-align: right;\n",
       "    }\n",
       "</style>\n",
       "<table border=\"1\" class=\"dataframe\">\n",
       "  <thead>\n",
       "    <tr style=\"text-align: right;\">\n",
       "      <th></th>\n",
       "      <th>account length</th>\n",
       "      <th>area code</th>\n",
       "      <th>number vmail messages</th>\n",
       "      <th>total day minutes</th>\n",
       "      <th>total day calls</th>\n",
       "      <th>total day charge</th>\n",
       "      <th>total eve minutes</th>\n",
       "      <th>total eve calls</th>\n",
       "      <th>total eve charge</th>\n",
       "      <th>total night minutes</th>\n",
       "      <th>...</th>\n",
       "      <th>state_VA</th>\n",
       "      <th>state_VT</th>\n",
       "      <th>state_WA</th>\n",
       "      <th>state_WI</th>\n",
       "      <th>state_WV</th>\n",
       "      <th>state_WY</th>\n",
       "      <th>international plan_no</th>\n",
       "      <th>international plan_yes</th>\n",
       "      <th>voice mail plan_no</th>\n",
       "      <th>voice mail plan_yes</th>\n",
       "    </tr>\n",
       "  </thead>\n",
       "  <tbody>\n",
       "    <tr>\n",
       "      <th>count</th>\n",
       "      <td>3333.000000</td>\n",
       "      <td>3333.000000</td>\n",
       "      <td>3333.000000</td>\n",
       "      <td>3333.000000</td>\n",
       "      <td>3333.000000</td>\n",
       "      <td>3333.000000</td>\n",
       "      <td>3333.000000</td>\n",
       "      <td>3333.000000</td>\n",
       "      <td>3333.000000</td>\n",
       "      <td>3333.000000</td>\n",
       "      <td>...</td>\n",
       "      <td>3333.000000</td>\n",
       "      <td>3333.000000</td>\n",
       "      <td>3333.000000</td>\n",
       "      <td>3333.000000</td>\n",
       "      <td>3333.000000</td>\n",
       "      <td>3333.000000</td>\n",
       "      <td>3333.000000</td>\n",
       "      <td>3333.000000</td>\n",
       "      <td>3333.000000</td>\n",
       "      <td>3333.000000</td>\n",
       "    </tr>\n",
       "    <tr>\n",
       "      <th>mean</th>\n",
       "      <td>100.981362</td>\n",
       "      <td>437.182418</td>\n",
       "      <td>8.074707</td>\n",
       "      <td>179.792499</td>\n",
       "      <td>100.482748</td>\n",
       "      <td>30.565254</td>\n",
       "      <td>201.000852</td>\n",
       "      <td>100.129913</td>\n",
       "      <td>17.085312</td>\n",
       "      <td>200.791174</td>\n",
       "      <td>...</td>\n",
       "      <td>0.023102</td>\n",
       "      <td>0.021902</td>\n",
       "      <td>0.019802</td>\n",
       "      <td>0.023402</td>\n",
       "      <td>0.031803</td>\n",
       "      <td>0.023102</td>\n",
       "      <td>0.903090</td>\n",
       "      <td>0.096910</td>\n",
       "      <td>0.723372</td>\n",
       "      <td>0.276628</td>\n",
       "    </tr>\n",
       "    <tr>\n",
       "      <th>std</th>\n",
       "      <td>39.276205</td>\n",
       "      <td>42.371290</td>\n",
       "      <td>13.622222</td>\n",
       "      <td>53.535083</td>\n",
       "      <td>19.628346</td>\n",
       "      <td>9.100850</td>\n",
       "      <td>49.821440</td>\n",
       "      <td>19.546408</td>\n",
       "      <td>4.234920</td>\n",
       "      <td>49.519955</td>\n",
       "      <td>...</td>\n",
       "      <td>0.150251</td>\n",
       "      <td>0.146386</td>\n",
       "      <td>0.139340</td>\n",
       "      <td>0.151200</td>\n",
       "      <td>0.175502</td>\n",
       "      <td>0.150251</td>\n",
       "      <td>0.295879</td>\n",
       "      <td>0.295879</td>\n",
       "      <td>0.447398</td>\n",
       "      <td>0.447398</td>\n",
       "    </tr>\n",
       "    <tr>\n",
       "      <th>min</th>\n",
       "      <td>12.320000</td>\n",
       "      <td>408.000000</td>\n",
       "      <td>0.000000</td>\n",
       "      <td>51.832000</td>\n",
       "      <td>54.000000</td>\n",
       "      <td>8.813200</td>\n",
       "      <td>79.524000</td>\n",
       "      <td>53.000000</td>\n",
       "      <td>6.759200</td>\n",
       "      <td>79.428000</td>\n",
       "      <td>...</td>\n",
       "      <td>0.000000</td>\n",
       "      <td>0.000000</td>\n",
       "      <td>0.000000</td>\n",
       "      <td>0.000000</td>\n",
       "      <td>0.000000</td>\n",
       "      <td>0.000000</td>\n",
       "      <td>0.000000</td>\n",
       "      <td>0.000000</td>\n",
       "      <td>0.000000</td>\n",
       "      <td>0.000000</td>\n",
       "    </tr>\n",
       "    <tr>\n",
       "      <th>25%</th>\n",
       "      <td>74.000000</td>\n",
       "      <td>408.000000</td>\n",
       "      <td>0.000000</td>\n",
       "      <td>143.700000</td>\n",
       "      <td>87.000000</td>\n",
       "      <td>24.430000</td>\n",
       "      <td>166.600000</td>\n",
       "      <td>87.000000</td>\n",
       "      <td>14.160000</td>\n",
       "      <td>167.000000</td>\n",
       "      <td>...</td>\n",
       "      <td>0.000000</td>\n",
       "      <td>0.000000</td>\n",
       "      <td>0.000000</td>\n",
       "      <td>0.000000</td>\n",
       "      <td>0.000000</td>\n",
       "      <td>0.000000</td>\n",
       "      <td>1.000000</td>\n",
       "      <td>0.000000</td>\n",
       "      <td>0.000000</td>\n",
       "      <td>0.000000</td>\n",
       "    </tr>\n",
       "    <tr>\n",
       "      <th>50%</th>\n",
       "      <td>101.000000</td>\n",
       "      <td>415.000000</td>\n",
       "      <td>0.000000</td>\n",
       "      <td>179.400000</td>\n",
       "      <td>101.000000</td>\n",
       "      <td>30.500000</td>\n",
       "      <td>201.400000</td>\n",
       "      <td>100.000000</td>\n",
       "      <td>17.120000</td>\n",
       "      <td>201.200000</td>\n",
       "      <td>...</td>\n",
       "      <td>0.000000</td>\n",
       "      <td>0.000000</td>\n",
       "      <td>0.000000</td>\n",
       "      <td>0.000000</td>\n",
       "      <td>0.000000</td>\n",
       "      <td>0.000000</td>\n",
       "      <td>1.000000</td>\n",
       "      <td>0.000000</td>\n",
       "      <td>1.000000</td>\n",
       "      <td>0.000000</td>\n",
       "    </tr>\n",
       "    <tr>\n",
       "      <th>75%</th>\n",
       "      <td>127.000000</td>\n",
       "      <td>510.000000</td>\n",
       "      <td>20.000000</td>\n",
       "      <td>216.400000</td>\n",
       "      <td>114.000000</td>\n",
       "      <td>36.790000</td>\n",
       "      <td>235.300000</td>\n",
       "      <td>114.000000</td>\n",
       "      <td>20.000000</td>\n",
       "      <td>235.300000</td>\n",
       "      <td>...</td>\n",
       "      <td>0.000000</td>\n",
       "      <td>0.000000</td>\n",
       "      <td>0.000000</td>\n",
       "      <td>0.000000</td>\n",
       "      <td>0.000000</td>\n",
       "      <td>0.000000</td>\n",
       "      <td>1.000000</td>\n",
       "      <td>0.000000</td>\n",
       "      <td>1.000000</td>\n",
       "      <td>1.000000</td>\n",
       "    </tr>\n",
       "    <tr>\n",
       "      <th>max</th>\n",
       "      <td>195.000000</td>\n",
       "      <td>510.000000</td>\n",
       "      <td>43.000000</td>\n",
       "      <td>305.168000</td>\n",
       "      <td>146.000000</td>\n",
       "      <td>51.876800</td>\n",
       "      <td>318.936000</td>\n",
       "      <td>147.000000</td>\n",
       "      <td>27.113600</td>\n",
       "      <td>317.448000</td>\n",
       "      <td>...</td>\n",
       "      <td>1.000000</td>\n",
       "      <td>1.000000</td>\n",
       "      <td>1.000000</td>\n",
       "      <td>1.000000</td>\n",
       "      <td>1.000000</td>\n",
       "      <td>1.000000</td>\n",
       "      <td>1.000000</td>\n",
       "      <td>1.000000</td>\n",
       "      <td>1.000000</td>\n",
       "      <td>1.000000</td>\n",
       "    </tr>\n",
       "  </tbody>\n",
       "</table>\n",
       "<p>8 rows × 71 columns</p>\n",
       "</div>"
      ],
      "text/plain": [
       "       account length    area code  number vmail messages  total day minutes  \\\n",
       "count     3333.000000  3333.000000            3333.000000        3333.000000   \n",
       "mean       100.981362   437.182418               8.074707         179.792499   \n",
       "std         39.276205    42.371290              13.622222          53.535083   \n",
       "min         12.320000   408.000000               0.000000          51.832000   \n",
       "25%         74.000000   408.000000               0.000000         143.700000   \n",
       "50%        101.000000   415.000000               0.000000         179.400000   \n",
       "75%        127.000000   510.000000              20.000000         216.400000   \n",
       "max        195.000000   510.000000              43.000000         305.168000   \n",
       "\n",
       "       total day calls  total day charge  total eve minutes  total eve calls  \\\n",
       "count      3333.000000       3333.000000        3333.000000      3333.000000   \n",
       "mean        100.482748         30.565254         201.000852       100.129913   \n",
       "std          19.628346          9.100850          49.821440        19.546408   \n",
       "min          54.000000          8.813200          79.524000        53.000000   \n",
       "25%          87.000000         24.430000         166.600000        87.000000   \n",
       "50%         101.000000         30.500000         201.400000       100.000000   \n",
       "75%         114.000000         36.790000         235.300000       114.000000   \n",
       "max         146.000000         51.876800         318.936000       147.000000   \n",
       "\n",
       "       total eve charge  total night minutes         ...           \\\n",
       "count       3333.000000          3333.000000         ...            \n",
       "mean          17.085312           200.791174         ...            \n",
       "std            4.234920            49.519955         ...            \n",
       "min            6.759200            79.428000         ...            \n",
       "25%           14.160000           167.000000         ...            \n",
       "50%           17.120000           201.200000         ...            \n",
       "75%           20.000000           235.300000         ...            \n",
       "max           27.113600           317.448000         ...            \n",
       "\n",
       "          state_VA     state_VT     state_WA     state_WI     state_WV  \\\n",
       "count  3333.000000  3333.000000  3333.000000  3333.000000  3333.000000   \n",
       "mean      0.023102     0.021902     0.019802     0.023402     0.031803   \n",
       "std       0.150251     0.146386     0.139340     0.151200     0.175502   \n",
       "min       0.000000     0.000000     0.000000     0.000000     0.000000   \n",
       "25%       0.000000     0.000000     0.000000     0.000000     0.000000   \n",
       "50%       0.000000     0.000000     0.000000     0.000000     0.000000   \n",
       "75%       0.000000     0.000000     0.000000     0.000000     0.000000   \n",
       "max       1.000000     1.000000     1.000000     1.000000     1.000000   \n",
       "\n",
       "          state_WY  international plan_no  international plan_yes  \\\n",
       "count  3333.000000            3333.000000             3333.000000   \n",
       "mean      0.023102               0.903090                0.096910   \n",
       "std       0.150251               0.295879                0.295879   \n",
       "min       0.000000               0.000000                0.000000   \n",
       "25%       0.000000               1.000000                0.000000   \n",
       "50%       0.000000               1.000000                0.000000   \n",
       "75%       0.000000               1.000000                0.000000   \n",
       "max       1.000000               1.000000                1.000000   \n",
       "\n",
       "       voice mail plan_no  voice mail plan_yes  \n",
       "count         3333.000000          3333.000000  \n",
       "mean             0.723372             0.276628  \n",
       "std              0.447398             0.447398  \n",
       "min              0.000000             0.000000  \n",
       "25%              0.000000             0.000000  \n",
       "50%              1.000000             0.000000  \n",
       "75%              1.000000             1.000000  \n",
       "max              1.000000             1.000000  \n",
       "\n",
       "[8 rows x 71 columns]"
      ]
     },
     "execution_count": 15,
     "metadata": {},
     "output_type": "execute_result"
    }
   ],
   "source": [
    "X=X.apply(lambda x: outlier_capping(x))\n",
    "X.describe()"
   ]
  },
  {
   "cell_type": "code",
   "execution_count": 16,
   "metadata": {
    "scrolled": true
   },
   "outputs": [
    {
     "data": {
      "text/plain": [
       "(3333, 71)"
      ]
     },
     "execution_count": 16,
     "metadata": {},
     "output_type": "execute_result"
    }
   ],
   "source": [
    "X.shape"
   ]
  },
  {
   "cell_type": "markdown",
   "metadata": {},
   "source": [
    "# Feature Scaling "
   ]
  },
  {
   "cell_type": "code",
   "execution_count": 90,
   "metadata": {},
   "outputs": [],
   "source": [
    "from sklearn.preprocessing import StandardScaler\n",
    "stdsc=StandardScaler()\n",
    "X_std=pd.DataFrame(stdsc.fit_transform(X),index=X.index,columns=X.columns).add_suffix('_std')"
   ]
  },
  {
   "cell_type": "code",
   "execution_count": 91,
   "metadata": {},
   "outputs": [
    {
     "data": {
      "text/plain": [
       "pandas.core.frame.DataFrame"
      ]
     },
     "execution_count": 91,
     "metadata": {},
     "output_type": "execute_result"
    }
   ],
   "source": [
    "type(X_std)"
   ]
  },
  {
   "cell_type": "code",
   "execution_count": 92,
   "metadata": {
    "scrolled": true
   },
   "outputs": [
    {
     "data": {
      "text/html": [
       "<div>\n",
       "<style scoped>\n",
       "    .dataframe tbody tr th:only-of-type {\n",
       "        vertical-align: middle;\n",
       "    }\n",
       "\n",
       "    .dataframe tbody tr th {\n",
       "        vertical-align: top;\n",
       "    }\n",
       "\n",
       "    .dataframe thead th {\n",
       "        text-align: right;\n",
       "    }\n",
       "</style>\n",
       "<table border=\"1\" class=\"dataframe\">\n",
       "  <thead>\n",
       "    <tr style=\"text-align: right;\">\n",
       "      <th></th>\n",
       "      <th>account length_std</th>\n",
       "      <th>area code_std</th>\n",
       "      <th>number vmail messages_std</th>\n",
       "      <th>total day minutes_std</th>\n",
       "      <th>total day calls_std</th>\n",
       "      <th>total day charge_std</th>\n",
       "      <th>total eve minutes_std</th>\n",
       "      <th>total eve calls_std</th>\n",
       "      <th>total eve charge_std</th>\n",
       "      <th>total night minutes_std</th>\n",
       "      <th>...</th>\n",
       "      <th>state_VA_std</th>\n",
       "      <th>state_VT_std</th>\n",
       "      <th>state_WA_std</th>\n",
       "      <th>state_WI_std</th>\n",
       "      <th>state_WV_std</th>\n",
       "      <th>state_WY_std</th>\n",
       "      <th>international plan_no_std</th>\n",
       "      <th>international plan_yes_std</th>\n",
       "      <th>voice mail plan_no_std</th>\n",
       "      <th>voice mail plan_yes_std</th>\n",
       "    </tr>\n",
       "  </thead>\n",
       "  <tbody>\n",
       "    <tr>\n",
       "      <th>0</th>\n",
       "      <td>0.676489</td>\n",
       "      <td>-0.523603</td>\n",
       "      <td>1.234883</td>\n",
       "      <td>1.566767</td>\n",
       "      <td>0.476643</td>\n",
       "      <td>1.567036</td>\n",
       "      <td>-0.070610</td>\n",
       "      <td>-0.055940</td>\n",
       "      <td>-0.070427</td>\n",
       "      <td>0.866743</td>\n",
       "      <td>...</td>\n",
       "      <td>-0.153781</td>\n",
       "      <td>-0.149642</td>\n",
       "      <td>-0.142134</td>\n",
       "      <td>-0.1548</td>\n",
       "      <td>-0.18124</td>\n",
       "      <td>-0.153781</td>\n",
       "      <td>0.327580</td>\n",
       "      <td>-0.327580</td>\n",
       "      <td>-1.617086</td>\n",
       "      <td>1.617086</td>\n",
       "    </tr>\n",
       "    <tr>\n",
       "      <th>1</th>\n",
       "      <td>0.149065</td>\n",
       "      <td>-0.523603</td>\n",
       "      <td>1.307948</td>\n",
       "      <td>-0.333738</td>\n",
       "      <td>1.124503</td>\n",
       "      <td>-0.334013</td>\n",
       "      <td>-0.108080</td>\n",
       "      <td>0.144867</td>\n",
       "      <td>-0.107549</td>\n",
       "      <td>1.058571</td>\n",
       "      <td>...</td>\n",
       "      <td>-0.153781</td>\n",
       "      <td>-0.149642</td>\n",
       "      <td>-0.142134</td>\n",
       "      <td>-0.1548</td>\n",
       "      <td>-0.18124</td>\n",
       "      <td>-0.153781</td>\n",
       "      <td>0.327580</td>\n",
       "      <td>-0.327580</td>\n",
       "      <td>-1.617086</td>\n",
       "      <td>1.617086</td>\n",
       "    </tr>\n",
       "    <tr>\n",
       "      <th>2</th>\n",
       "      <td>0.902529</td>\n",
       "      <td>-0.523603</td>\n",
       "      <td>-0.591760</td>\n",
       "      <td>1.168304</td>\n",
       "      <td>0.675985</td>\n",
       "      <td>1.168464</td>\n",
       "      <td>-1.573383</td>\n",
       "      <td>0.496279</td>\n",
       "      <td>-1.573900</td>\n",
       "      <td>-0.756869</td>\n",
       "      <td>...</td>\n",
       "      <td>-0.153781</td>\n",
       "      <td>-0.149642</td>\n",
       "      <td>-0.142134</td>\n",
       "      <td>-0.1548</td>\n",
       "      <td>-0.18124</td>\n",
       "      <td>-0.153781</td>\n",
       "      <td>0.327580</td>\n",
       "      <td>-0.327580</td>\n",
       "      <td>0.618396</td>\n",
       "      <td>-0.618396</td>\n",
       "    </tr>\n",
       "    <tr>\n",
       "      <th>3</th>\n",
       "      <td>-0.428590</td>\n",
       "      <td>-0.688834</td>\n",
       "      <td>-0.591760</td>\n",
       "      <td>2.196596</td>\n",
       "      <td>-1.466936</td>\n",
       "      <td>2.196759</td>\n",
       "      <td>-2.742865</td>\n",
       "      <td>-0.608159</td>\n",
       "      <td>-2.743268</td>\n",
       "      <td>-0.078551</td>\n",
       "      <td>...</td>\n",
       "      <td>-0.153781</td>\n",
       "      <td>-0.149642</td>\n",
       "      <td>-0.142134</td>\n",
       "      <td>-0.1548</td>\n",
       "      <td>-0.18124</td>\n",
       "      <td>-0.153781</td>\n",
       "      <td>-3.052685</td>\n",
       "      <td>3.052685</td>\n",
       "      <td>0.618396</td>\n",
       "      <td>-0.618396</td>\n",
       "    </tr>\n",
       "    <tr>\n",
       "      <th>4</th>\n",
       "      <td>-0.654629</td>\n",
       "      <td>-0.523603</td>\n",
       "      <td>-0.591760</td>\n",
       "      <td>-0.240090</td>\n",
       "      <td>0.626149</td>\n",
       "      <td>-0.240041</td>\n",
       "      <td>-1.038932</td>\n",
       "      <td>1.098699</td>\n",
       "      <td>-1.037939</td>\n",
       "      <td>-0.276311</td>\n",
       "      <td>...</td>\n",
       "      <td>-0.153781</td>\n",
       "      <td>-0.149642</td>\n",
       "      <td>-0.142134</td>\n",
       "      <td>-0.1548</td>\n",
       "      <td>-0.18124</td>\n",
       "      <td>-0.153781</td>\n",
       "      <td>-3.052685</td>\n",
       "      <td>3.052685</td>\n",
       "      <td>0.618396</td>\n",
       "      <td>-0.618396</td>\n",
       "    </tr>\n",
       "  </tbody>\n",
       "</table>\n",
       "<p>5 rows × 71 columns</p>\n",
       "</div>"
      ],
      "text/plain": [
       "   account length_std  area code_std  number vmail messages_std  \\\n",
       "0            0.676489      -0.523603                   1.234883   \n",
       "1            0.149065      -0.523603                   1.307948   \n",
       "2            0.902529      -0.523603                  -0.591760   \n",
       "3           -0.428590      -0.688834                  -0.591760   \n",
       "4           -0.654629      -0.523603                  -0.591760   \n",
       "\n",
       "   total day minutes_std  total day calls_std  total day charge_std  \\\n",
       "0               1.566767             0.476643              1.567036   \n",
       "1              -0.333738             1.124503             -0.334013   \n",
       "2               1.168304             0.675985              1.168464   \n",
       "3               2.196596            -1.466936              2.196759   \n",
       "4              -0.240090             0.626149             -0.240041   \n",
       "\n",
       "   total eve minutes_std  total eve calls_std  total eve charge_std  \\\n",
       "0              -0.070610            -0.055940             -0.070427   \n",
       "1              -0.108080             0.144867             -0.107549   \n",
       "2              -1.573383             0.496279             -1.573900   \n",
       "3              -2.742865            -0.608159             -2.743268   \n",
       "4              -1.038932             1.098699             -1.037939   \n",
       "\n",
       "   total night minutes_std           ...             state_VA_std  \\\n",
       "0                 0.866743           ...                -0.153781   \n",
       "1                 1.058571           ...                -0.153781   \n",
       "2                -0.756869           ...                -0.153781   \n",
       "3                -0.078551           ...                -0.153781   \n",
       "4                -0.276311           ...                -0.153781   \n",
       "\n",
       "   state_VT_std  state_WA_std  state_WI_std  state_WV_std  state_WY_std  \\\n",
       "0     -0.149642     -0.142134       -0.1548      -0.18124     -0.153781   \n",
       "1     -0.149642     -0.142134       -0.1548      -0.18124     -0.153781   \n",
       "2     -0.149642     -0.142134       -0.1548      -0.18124     -0.153781   \n",
       "3     -0.149642     -0.142134       -0.1548      -0.18124     -0.153781   \n",
       "4     -0.149642     -0.142134       -0.1548      -0.18124     -0.153781   \n",
       "\n",
       "   international plan_no_std  international plan_yes_std  \\\n",
       "0                   0.327580                   -0.327580   \n",
       "1                   0.327580                   -0.327580   \n",
       "2                   0.327580                   -0.327580   \n",
       "3                  -3.052685                    3.052685   \n",
       "4                  -3.052685                    3.052685   \n",
       "\n",
       "   voice mail plan_no_std  voice mail plan_yes_std  \n",
       "0               -1.617086                 1.617086  \n",
       "1               -1.617086                 1.617086  \n",
       "2                0.618396                -0.618396  \n",
       "3                0.618396                -0.618396  \n",
       "4                0.618396                -0.618396  \n",
       "\n",
       "[5 rows x 71 columns]"
      ]
     },
     "execution_count": 92,
     "metadata": {},
     "output_type": "execute_result"
    }
   ],
   "source": [
    "X_std.head()"
   ]
  },
  {
   "cell_type": "markdown",
   "metadata": {},
   "source": [
    "# Train Test Split"
   ]
  },
  {
   "cell_type": "code",
   "execution_count": 104,
   "metadata": {},
   "outputs": [],
   "source": [
    "from sklearn.model_selection import train_test_split\n",
    "X_train, X_test, y_train, y_test =  train_test_split(X,Y, test_size=0.3,random_state=42)"
   ]
  },
  {
   "cell_type": "markdown",
   "metadata": {},
   "source": [
    "# Check for randomness of train and test by testing the event rates across the two datasets"
   ]
  },
  {
   "cell_type": "code",
   "execution_count": 105,
   "metadata": {},
   "outputs": [
    {
     "data": {
      "text/plain": [
       "0.14573510501500214"
      ]
     },
     "execution_count": 105,
     "metadata": {},
     "output_type": "execute_result"
    }
   ],
   "source": [
    "y_train.mean()"
   ]
  },
  {
   "cell_type": "code",
   "execution_count": 106,
   "metadata": {},
   "outputs": [
    {
     "data": {
      "text/plain": [
       "0.143"
      ]
     },
     "execution_count": 106,
     "metadata": {},
     "output_type": "execute_result"
    }
   ],
   "source": [
    "y_test.mean()"
   ]
  },
  {
   "cell_type": "code",
   "execution_count": 108,
   "metadata": {
    "scrolled": true
   },
   "outputs": [
    {
     "data": {
      "text/plain": [
       "19.55531603900547"
      ]
     },
     "execution_count": 108,
     "metadata": {},
     "output_type": "execute_result"
    }
   ],
   "source": [
    "X_test['total eve calls'].std()"
   ]
  },
  {
   "cell_type": "code",
   "execution_count": 109,
   "metadata": {},
   "outputs": [
    {
     "data": {
      "text/plain": [
       "20.081856448464848"
      ]
     },
     "execution_count": 109,
     "metadata": {},
     "output_type": "execute_result"
    }
   ],
   "source": [
    "X_train['total eve calls'].std()"
   ]
  },
  {
   "cell_type": "code",
   "execution_count": null,
   "metadata": {},
   "outputs": [],
   "source": [
    "# Building the Naive Bayes Model"
   ]
  },
  {
   "cell_type": "code",
   "execution_count": 110,
   "metadata": {
    "scrolled": true
   },
   "outputs": [
    {
     "data": {
      "text/plain": [
       "GaussianNB()"
      ]
     },
     "execution_count": 110,
     "metadata": {},
     "output_type": "execute_result"
    }
   ],
   "source": [
    "from sklearn.naive_bayes import GaussianNB\n",
    "clf=GaussianNB()\n",
    "clf.fit(X_train,y_train)"
   ]
  },
  {
   "cell_type": "markdown",
   "metadata": {},
   "source": [
    "# Making Class Predictions"
   ]
  },
  {
   "cell_type": "code",
   "execution_count": 111,
   "metadata": {},
   "outputs": [],
   "source": [
    "y_pred=clf.predict(X_test)"
   ]
  },
  {
   "cell_type": "markdown",
   "metadata": {},
   "source": [
    "# Model Evaluation"
   ]
  },
  {
   "cell_type": "code",
   "execution_count": 112,
   "metadata": {},
   "outputs": [
    {
     "name": "stdout",
     "output_type": "stream",
     "text": [
      "Accuracy: 0.568\n",
      "Precision 0.1838074398249453\n",
      "Recall 0.5874125874125874\n",
      "f1_score 0.28\n"
     ]
    }
   ],
   "source": [
    "from sklearn import metrics\n",
    "print(\"Accuracy:\",metrics.accuracy_score(y_test, y_pred))\n",
    "print(\"Precision\",metrics.precision_score(y_test,y_pred))\n",
    "print(\"Recall\",metrics.recall_score(y_test,y_pred))\n",
    "print(\"f1_score\",metrics.f1_score(y_test,y_pred))"
   ]
  },
  {
   "cell_type": "code",
   "execution_count": 113,
   "metadata": {
    "scrolled": true
   },
   "outputs": [
    {
     "data": {
      "text/plain": [
       "<sklearn.metrics._plot.confusion_matrix.ConfusionMatrixDisplay at 0x2e778de8d30>"
      ]
     },
     "execution_count": 113,
     "metadata": {},
     "output_type": "execute_result"
    },
    {
     "data": {
      "image/png": "[encoded data removed]",
      "text/plain": [
       "<Figure size 432x288 with 2 Axes>"
      ]
     },
     "metadata": {},
     "output_type": "display_data"
    }
   ],
   "source": [
    "metrics.plot_confusion_matrix(clf,X_test,y_test)"
   ]
  },
  {
   "cell_type": "code",
   "execution_count": 114,
   "metadata": {},
   "outputs": [
    {
     "data": {
      "text/plain": [
       "0.5760866904390826"
      ]
     },
     "execution_count": 114,
     "metadata": {},
     "output_type": "execute_result"
    }
   ],
   "source": [
    "metrics.roc_auc_score(y_test,y_pred)"
   ]
  },
  {
   "cell_type": "markdown",
   "metadata": {},
   "source": [
    "# Visualizing the Model Performance - Lorenz Curve"
   ]
  },
  {
   "cell_type": "code",
   "execution_count": 115,
   "metadata": {},
   "outputs": [
    {
     "data": {
      "text/html": [
       "<div>\n",
       "<style scoped>\n",
       "    .dataframe tbody tr th:only-of-type {\n",
       "        vertical-align: middle;\n",
       "    }\n",
       "\n",
       "    .dataframe tbody tr th {\n",
       "        vertical-align: top;\n",
       "    }\n",
       "\n",
       "    .dataframe thead th {\n",
       "        text-align: right;\n",
       "    }\n",
       "</style>\n",
       "<table border=\"1\" class=\"dataframe\">\n",
       "  <thead>\n",
       "    <tr style=\"text-align: right;\">\n",
       "      <th></th>\n",
       "      <th>P_Rank_RF</th>\n",
       "      <th>count</th>\n",
       "      <th>mean</th>\n",
       "      <th>N_events</th>\n",
       "      <th>cum_events</th>\n",
       "      <th>event_cap</th>\n",
       "      <th>cum_event_cap</th>\n",
       "      <th>random_cap</th>\n",
       "      <th>cum_random_cap</th>\n",
       "      <th>decile</th>\n",
       "      <th>lift_over_random</th>\n",
       "    </tr>\n",
       "  </thead>\n",
       "  <tbody>\n",
       "    <tr>\n",
       "      <th>0</th>\n",
       "      <td>10</td>\n",
       "      <td>334</td>\n",
       "      <td>0.428144</td>\n",
       "      <td>143.0</td>\n",
       "      <td>143.0</td>\n",
       "      <td>0.296066</td>\n",
       "      <td>0.296066</td>\n",
       "      <td>0.10021</td>\n",
       "      <td>0.10021</td>\n",
       "      <td>1</td>\n",
       "      <td>2.954458</td>\n",
       "    </tr>\n",
       "    <tr>\n",
       "      <th>1</th>\n",
       "      <td>9</td>\n",
       "      <td>333</td>\n",
       "      <td>0.237237</td>\n",
       "      <td>79.0</td>\n",
       "      <td>222.0</td>\n",
       "      <td>0.163561</td>\n",
       "      <td>0.459627</td>\n",
       "      <td>0.09991</td>\n",
       "      <td>0.20012</td>\n",
       "      <td>2</td>\n",
       "      <td>2.296758</td>\n",
       "    </tr>\n",
       "    <tr>\n",
       "      <th>2</th>\n",
       "      <td>8</td>\n",
       "      <td>333</td>\n",
       "      <td>0.147147</td>\n",
       "      <td>49.0</td>\n",
       "      <td>271.0</td>\n",
       "      <td>0.101449</td>\n",
       "      <td>0.561077</td>\n",
       "      <td>0.09991</td>\n",
       "      <td>0.30003</td>\n",
       "      <td>3</td>\n",
       "      <td>1.870068</td>\n",
       "    </tr>\n",
       "    <tr>\n",
       "      <th>3</th>\n",
       "      <td>7</td>\n",
       "      <td>333</td>\n",
       "      <td>0.090090</td>\n",
       "      <td>30.0</td>\n",
       "      <td>301.0</td>\n",
       "      <td>0.062112</td>\n",
       "      <td>0.623188</td>\n",
       "      <td>0.09991</td>\n",
       "      <td>0.39994</td>\n",
       "      <td>4</td>\n",
       "      <td>1.558205</td>\n",
       "    </tr>\n",
       "    <tr>\n",
       "      <th>4</th>\n",
       "      <td>6</td>\n",
       "      <td>333</td>\n",
       "      <td>0.156156</td>\n",
       "      <td>52.0</td>\n",
       "      <td>353.0</td>\n",
       "      <td>0.107660</td>\n",
       "      <td>0.730849</td>\n",
       "      <td>0.09991</td>\n",
       "      <td>0.49985</td>\n",
       "      <td>5</td>\n",
       "      <td>1.462136</td>\n",
       "    </tr>\n",
       "    <tr>\n",
       "      <th>5</th>\n",
       "      <td>5</td>\n",
       "      <td>334</td>\n",
       "      <td>0.122754</td>\n",
       "      <td>41.0</td>\n",
       "      <td>394.0</td>\n",
       "      <td>0.084886</td>\n",
       "      <td>0.815735</td>\n",
       "      <td>0.10021</td>\n",
       "      <td>0.60006</td>\n",
       "      <td>6</td>\n",
       "      <td>1.359422</td>\n",
       "    </tr>\n",
       "    <tr>\n",
       "      <th>6</th>\n",
       "      <td>4</td>\n",
       "      <td>333</td>\n",
       "      <td>0.072072</td>\n",
       "      <td>24.0</td>\n",
       "      <td>418.0</td>\n",
       "      <td>0.049689</td>\n",
       "      <td>0.865424</td>\n",
       "      <td>0.09991</td>\n",
       "      <td>0.69997</td>\n",
       "      <td>7</td>\n",
       "      <td>1.236374</td>\n",
       "    </tr>\n",
       "    <tr>\n",
       "      <th>7</th>\n",
       "      <td>3</td>\n",
       "      <td>333</td>\n",
       "      <td>0.060060</td>\n",
       "      <td>20.0</td>\n",
       "      <td>438.0</td>\n",
       "      <td>0.041408</td>\n",
       "      <td>0.906832</td>\n",
       "      <td>0.09991</td>\n",
       "      <td>0.79988</td>\n",
       "      <td>8</td>\n",
       "      <td>1.133710</td>\n",
       "    </tr>\n",
       "    <tr>\n",
       "      <th>8</th>\n",
       "      <td>2</td>\n",
       "      <td>333</td>\n",
       "      <td>0.078078</td>\n",
       "      <td>26.0</td>\n",
       "      <td>464.0</td>\n",
       "      <td>0.053830</td>\n",
       "      <td>0.960663</td>\n",
       "      <td>0.09991</td>\n",
       "      <td>0.89979</td>\n",
       "      <td>9</td>\n",
       "      <td>1.067652</td>\n",
       "    </tr>\n",
       "    <tr>\n",
       "      <th>9</th>\n",
       "      <td>1</td>\n",
       "      <td>334</td>\n",
       "      <td>0.056886</td>\n",
       "      <td>19.0</td>\n",
       "      <td>483.0</td>\n",
       "      <td>0.039337</td>\n",
       "      <td>1.000000</td>\n",
       "      <td>0.10021</td>\n",
       "      <td>1.00000</td>\n",
       "      <td>10</td>\n",
       "      <td>1.000000</td>\n",
       "    </tr>\n",
       "  </tbody>\n",
       "</table>\n",
       "</div>"
      ],
      "text/plain": [
       "   P_Rank_RF  count      mean  N_events  cum_events  event_cap  cum_event_cap  \\\n",
       "0         10    334  0.428144     143.0       143.0   0.296066       0.296066   \n",
       "1          9    333  0.237237      79.0       222.0   0.163561       0.459627   \n",
       "2          8    333  0.147147      49.0       271.0   0.101449       0.561077   \n",
       "3          7    333  0.090090      30.0       301.0   0.062112       0.623188   \n",
       "4          6    333  0.156156      52.0       353.0   0.107660       0.730849   \n",
       "5          5    334  0.122754      41.0       394.0   0.084886       0.815735   \n",
       "6          4    333  0.072072      24.0       418.0   0.049689       0.865424   \n",
       "7          3    333  0.060060      20.0       438.0   0.041408       0.906832   \n",
       "8          2    333  0.078078      26.0       464.0   0.053830       0.960663   \n",
       "9          1    334  0.056886      19.0       483.0   0.039337       1.000000   \n",
       "\n",
       "   random_cap  cum_random_cap  decile  lift_over_random  \n",
       "0     0.10021         0.10021       1          2.954458  \n",
       "1     0.09991         0.20012       2          2.296758  \n",
       "2     0.09991         0.30003       3          1.870068  \n",
       "3     0.09991         0.39994       4          1.558205  \n",
       "4     0.09991         0.49985       5          1.462136  \n",
       "5     0.10021         0.60006       6          1.359422  \n",
       "6     0.09991         0.69997       7          1.236374  \n",
       "7     0.09991         0.79988       8          1.133710  \n",
       "8     0.09991         0.89979       9          1.067652  \n",
       "9     0.10021         1.00000      10          1.000000  "
      ]
     },
     "execution_count": 115,
     "metadata": {},
     "output_type": "execute_result"
    }
   ],
   "source": [
    "y_pred_prob = clf.predict_proba(X)[:, 1]\n",
    "df['y_pred_P']=pd.DataFrame(y_pred_prob)\n",
    "df['P_Rank_RF']=pd.qcut(df['y_pred_P'].rank(method='first').values,10,duplicates='drop').codes+1\n",
    "rank_df=df.groupby('P_Rank_RF')['churn'].agg(['count','mean'])\n",
    "rank_df=pd.DataFrame(rank_df)\n",
    "sorted_rank_df=rank_df.sort_values(by='P_Rank_RF',ascending=False)\n",
    "sorted_rank_df['N_events']=rank_df['count']*rank_df['mean']\n",
    "sorted_rank_df['cum_events']=sorted_rank_df['N_events'].cumsum()\n",
    "sorted_rank_df['event_cap']=sorted_rank_df['N_events']/max(sorted_rank_df['N_events'].cumsum())\n",
    "sorted_rank_df['cum_event_cap']=sorted_rank_df['event_cap'].cumsum()\n",
    "sorted_rank_df['random_cap']=sorted_rank_df['count']/max(sorted_rank_df['count'].cumsum())\n",
    "sorted_rank_df['cum_random_cap']=sorted_rank_df['random_cap'].cumsum()\n",
    "sorted_reindexed=sorted_rank_df.reset_index()\n",
    "sorted_reindexed['decile']=sorted_reindexed.index+1\n",
    "sorted_reindexed['lift_over_random']=sorted_reindexed['cum_event_cap']/sorted_reindexed['cum_random_cap']\n",
    "sorted_reindexed"
   ]
  },
  {
   "cell_type": "code",
   "execution_count": 116,
   "metadata": {},
   "outputs": [
    {
     "data": {
      "image/png": "[encoded data removed]",
      "text/plain": [
       "<Figure size 432x288 with 1 Axes>"
      ]
     },
     "metadata": {},
     "output_type": "display_data"
    }
   ],
   "source": [
    "ax = sns.lineplot( x=\"decile\", y=\"lift_over_random\", data=sorted_reindexed)\n",
    "ax = sns.lineplot( x=\"decile\", y=\"random_cap\", data=sorted_reindexed)"
   ]
  },
  {
   "cell_type": "code",
   "execution_count": null,
   "metadata": {},
   "outputs": [],
   "source": []
  }
 ],
 "metadata": {
  "kernelspec": {
   "display_name": "Python 3",
   "language": "python",
   "name": "python3"
  },
  "language_info": {
   "codemirror_mode": {
    "name": "ipython",
    "version": 3
   },
   "file_extension": ".py",
   "mimetype": "text/x-python",
   "name": "python",
   "nbconvert_exporter": "python",
   "pygments_lexer": "ipython3",
   "version": "3.6.5"
  }
 },
 "nbformat": 4,
 "nbformat_minor": 2
}
