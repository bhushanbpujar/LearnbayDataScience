{
 "cells": [
  {
   "cell_type": "code",
   "execution_count": 2,
   "metadata": {},
   "outputs": [],
   "source": [
    "import numpy as np\n",
    "import pandas as pd\n",
    "from varclushi import VarClusHi"
   ]
  },
  {
   "cell_type": "markdown",
   "metadata": {},
   "source": [
    "Create a VarClusHi object and pass the dataframe (df) to be analyzed as a parameter, you can also specify\n",
    "\n",
    "a feature list (feat_list, default all columns of df)\n",
    "max second eigenvalue (maxeigval2, default 1)\n",
    "max clusters (maxclus, default None)\n",
    "Then call method varclus(), which performs hierachical variable clustering algorithm"
   ]
  },
  {
   "cell_type": "code",
   "execution_count": 3,
   "metadata": {},
   "outputs": [],
   "source": [
    "df = pd.read_csv('C:/Users/aksin52/Documents/Learnbay Stats ML Curriculum/diabetes.csv')"
   ]
  },
  {
   "cell_type": "code",
   "execution_count": 4,
   "metadata": {},
   "outputs": [],
   "source": [
    "X=df.drop(['Outcome'],axis=1)\n",
    "Y=df[['Outcome']]"
   ]
  },
  {
   "cell_type": "code",
   "execution_count": 8,
   "metadata": {},
   "outputs": [
    {
     "data": {
      "text/plain": [
       "(768, 8)"
      ]
     },
     "execution_count": 8,
     "metadata": {},
     "output_type": "execute_result"
    }
   ],
   "source": [
    "X.shape"
   ]
  },
  {
   "cell_type": "code",
   "execution_count": 5,
   "metadata": {},
   "outputs": [],
   "source": [
    "from sklearn.preprocessing import StandardScaler\n",
    "std=StandardScaler()\n",
    "X_std=pd.DataFrame(std.fit_transform(X),index=X.index,columns=X.columns)"
   ]
  },
  {
   "cell_type": "code",
   "execution_count": 6,
   "metadata": {},
   "outputs": [
    {
     "name": "stdout",
     "output_type": "stream",
     "text": [
      "Covariance Matrix \n",
      "%s [[ 1.00130378  0.12962746  0.14146618 -0.08177826 -0.07363049  0.01770615\n",
      "  -0.03356638  0.54505093]\n",
      " [ 0.12962746  1.00130378  0.15278853  0.05740263  0.33178913  0.2213593\n",
      "   0.13751636  0.26385788]\n",
      " [ 0.14146618  0.15278853  1.00130378  0.2076409   0.08904933  0.2821727\n",
      "   0.04131875  0.23984024]\n",
      " [-0.08177826  0.05740263  0.2076409   1.00130378  0.43735204  0.39308503\n",
      "   0.18416737 -0.11411885]\n",
      " [-0.07363049  0.33178913  0.08904933  0.43735204  1.00130378  0.19811702\n",
      "   0.18531222 -0.04221793]\n",
      " [ 0.01770615  0.2213593   0.2821727   0.39308503  0.19811702  1.00130378\n",
      "   0.14083033  0.03628912]\n",
      " [-0.03356638  0.13751636  0.04131875  0.18416737  0.18531222  0.14083033\n",
      "   1.00130378  0.03360507]\n",
      " [ 0.54505093  0.26385788  0.23984024 -0.11411885 -0.04221793  0.03628912\n",
      "   0.03360507  1.00130378]]\n"
     ]
    }
   ],
   "source": [
    "cov_matrix = np.cov(X_std.T)\n",
    "print('Covariance Matrix \\n%s', cov_matrix)"
   ]
  },
  {
   "cell_type": "code",
   "execution_count": 7,
   "metadata": {},
   "outputs": [
    {
     "name": "stdout",
     "output_type": "stream",
     "text": [
      "Eigen Vectors \n",
      "%s [[-0.1284321  -0.59378583 -0.58879003  0.11784098 -0.19359817  0.47560573\n",
      "  -0.08069115  0.01308692]\n",
      " [-0.39308257 -0.17402908 -0.06015291  0.45035526 -0.09416176 -0.46632804\n",
      "   0.40432871 -0.46792282]\n",
      " [-0.36000261 -0.18389207 -0.19211793 -0.01129554  0.6341159  -0.32795306\n",
      "  -0.05598649  0.53549442]\n",
      " [-0.43982428  0.33196534  0.28221253  0.5662838  -0.00958944  0.48786206\n",
      "  -0.03797608  0.2376738 ]\n",
      " [-0.43502617  0.25078106 -0.13200992 -0.54862138  0.27065061  0.34693481\n",
      "   0.34994376 -0.33670893]\n",
      " [-0.45194134  0.1009598  -0.03536644 -0.34151764 -0.68537218 -0.25320376\n",
      "  -0.05364595  0.36186463]\n",
      " [-0.27061144  0.122069   -0.08609107 -0.00825873  0.08578409 -0.11981049\n",
      "  -0.8336801  -0.43318905]\n",
      " [-0.19802707 -0.62058853  0.71208542 -0.21166198  0.03335717  0.10928996\n",
      "  -0.0712006  -0.07524755]]\n",
      "\n",
      " Eigen Values \n",
      "%s [2.09711056 1.73346726 0.42036353 0.40498938 0.68351839 0.76333832\n",
      " 0.87667054 1.03097228]\n"
     ]
    }
   ],
   "source": [
    "eig_vals, eig_vecs = np.linalg.eig(cov_matrix)\n",
    "print('Eigen Vectors \\n%s', eig_vecs)\n",
    "print('\\n Eigen Values \\n%s', eig_vals)"
   ]
  },
  {
   "cell_type": "code",
   "execution_count": 32,
   "metadata": {},
   "outputs": [
    {
     "name": "stdout",
     "output_type": "stream",
     "text": [
      "Cumulative Variance Explained [ 26.17974932  47.81987607  60.69024944  71.63436249  81.16366731\n",
      "  89.69652215  94.9442244  100.        ]\n"
     ]
    }
   ],
   "source": [
    "tot = sum(eig_vals)\n",
    "var_exp = [( i /tot ) * 100 for i in sorted(eig_vals, reverse=True)]\n",
    "cum_var_exp = np.cumsum(var_exp)\n",
    "print(\"Cumulative Variance Explained\", cum_var_exp)"
   ]
  },
  {
   "cell_type": "code",
   "execution_count": 35,
   "metadata": {},
   "outputs": [
    {
     "data": {
      "text/plain": [
       "<varclushi.varclushi.VarClusHi at 0x1dbb70eb630>"
      ]
     },
     "execution_count": 35,
     "metadata": {},
     "output_type": "execute_result"
    }
   ],
   "source": [
    "demo1_vc = VarClusHi(X_std,maxeigval2=0.42036353,maxclus=3)\n",
    "demo1_vc.varclus()"
   ]
  },
  {
   "cell_type": "code",
   "execution_count": null,
   "metadata": {},
   "outputs": [],
   "source": [
    "Call info, you can get the number of clusters, number of variables in each cluster (N_vars), \n",
    "variance explained by each cluster (Eigval1), etc."
   ]
  },
  {
   "cell_type": "code",
   "execution_count": 36,
   "metadata": {},
   "outputs": [
    {
     "data": {
      "text/html": [
       "<div>\n",
       "<style scoped>\n",
       "    .dataframe tbody tr th:only-of-type {\n",
       "        vertical-align: middle;\n",
       "    }\n",
       "\n",
       "    .dataframe tbody tr th {\n",
       "        vertical-align: top;\n",
       "    }\n",
       "\n",
       "    .dataframe thead th {\n",
       "        text-align: right;\n",
       "    }\n",
       "</style>\n",
       "<table border=\"1\" class=\"dataframe\">\n",
       "  <thead>\n",
       "    <tr style=\"text-align: right;\">\n",
       "      <th></th>\n",
       "      <th>Cluster</th>\n",
       "      <th>N_Vars</th>\n",
       "      <th>Eigval1</th>\n",
       "      <th>Eigval2</th>\n",
       "      <th>VarProp</th>\n",
       "    </tr>\n",
       "  </thead>\n",
       "  <tbody>\n",
       "    <tr>\n",
       "      <th>0</th>\n",
       "      <td>0</td>\n",
       "      <td>3</td>\n",
       "      <td>1.447801</td>\n",
       "      <td>0.887974</td>\n",
       "      <td>0.482600</td>\n",
       "    </tr>\n",
       "    <tr>\n",
       "      <th>1</th>\n",
       "      <td>1</td>\n",
       "      <td>2</td>\n",
       "      <td>1.544341</td>\n",
       "      <td>0.455659</td>\n",
       "      <td>0.772171</td>\n",
       "    </tr>\n",
       "    <tr>\n",
       "      <th>2</th>\n",
       "      <td>2</td>\n",
       "      <td>3</td>\n",
       "      <td>1.594711</td>\n",
       "      <td>0.808802</td>\n",
       "      <td>0.531570</td>\n",
       "    </tr>\n",
       "  </tbody>\n",
       "</table>\n",
       "</div>"
      ],
      "text/plain": [
       "  Cluster N_Vars   Eigval1   Eigval2   VarProp\n",
       "0       0      3  1.447801  0.887974  0.482600\n",
       "1       1      2  1.544341  0.455659  0.772171\n",
       "2       2      3  1.594711  0.808802  0.531570"
      ]
     },
     "execution_count": 36,
     "metadata": {},
     "output_type": "execute_result"
    }
   ],
   "source": [
    "demo1_vc.info"
   ]
  },
  {
   "cell_type": "code",
   "execution_count": null,
   "metadata": {},
   "outputs": [],
   "source": [
    "Call rsquare, you can get the (1 - rsquare) ratio of each variable"
   ]
  },
  {
   "cell_type": "code",
   "execution_count": 25,
   "metadata": {
    "scrolled": true
   },
   "outputs": [
    {
     "data": {
      "text/html": [
       "<div>\n",
       "<style scoped>\n",
       "    .dataframe tbody tr th:only-of-type {\n",
       "        vertical-align: middle;\n",
       "    }\n",
       "\n",
       "    .dataframe tbody tr th {\n",
       "        vertical-align: top;\n",
       "    }\n",
       "\n",
       "    .dataframe thead th {\n",
       "        text-align: right;\n",
       "    }\n",
       "</style>\n",
       "<table border=\"1\" class=\"dataframe\">\n",
       "  <thead>\n",
       "    <tr style=\"text-align: right;\">\n",
       "      <th></th>\n",
       "      <th>Cluster</th>\n",
       "      <th>Variable</th>\n",
       "      <th>RS_Own</th>\n",
       "      <th>RS_NC</th>\n",
       "      <th>RS_Ratio</th>\n",
       "    </tr>\n",
       "  </thead>\n",
       "  <tbody>\n",
       "    <tr>\n",
       "      <th>0</th>\n",
       "      <td>0</td>\n",
       "      <td>Glucose</td>\n",
       "      <td>0.548782</td>\n",
       "      <td>0.049998</td>\n",
       "      <td>0.474966</td>\n",
       "    </tr>\n",
       "    <tr>\n",
       "      <th>1</th>\n",
       "      <td>0</td>\n",
       "      <td>Insulin</td>\n",
       "      <td>0.599575</td>\n",
       "      <td>0.114668</td>\n",
       "      <td>0.452288</td>\n",
       "    </tr>\n",
       "    <tr>\n",
       "      <th>2</th>\n",
       "      <td>0</td>\n",
       "      <td>DiabetesPedigreeFunction</td>\n",
       "      <td>0.299445</td>\n",
       "      <td>0.029821</td>\n",
       "      <td>0.722089</td>\n",
       "    </tr>\n",
       "    <tr>\n",
       "      <th>3</th>\n",
       "      <td>1</td>\n",
       "      <td>Pregnancies</td>\n",
       "      <td>0.772171</td>\n",
       "      <td>0.000729</td>\n",
       "      <td>0.227996</td>\n",
       "    </tr>\n",
       "    <tr>\n",
       "      <th>4</th>\n",
       "      <td>1</td>\n",
       "      <td>Age</td>\n",
       "      <td>0.772171</td>\n",
       "      <td>0.015617</td>\n",
       "      <td>0.231444</td>\n",
       "    </tr>\n",
       "    <tr>\n",
       "      <th>5</th>\n",
       "      <td>2</td>\n",
       "      <td>SkinThickness</td>\n",
       "      <td>0.557513</td>\n",
       "      <td>0.110525</td>\n",
       "      <td>0.497470</td>\n",
       "    </tr>\n",
       "    <tr>\n",
       "      <th>6</th>\n",
       "      <td>2</td>\n",
       "      <td>BMI</td>\n",
       "      <td>0.631529</td>\n",
       "      <td>0.074036</td>\n",
       "      <td>0.397932</td>\n",
       "    </tr>\n",
       "    <tr>\n",
       "      <th>7</th>\n",
       "      <td>2</td>\n",
       "      <td>BloodPressure</td>\n",
       "      <td>0.405669</td>\n",
       "      <td>0.046951</td>\n",
       "      <td>0.623610</td>\n",
       "    </tr>\n",
       "  </tbody>\n",
       "</table>\n",
       "</div>"
      ],
      "text/plain": [
       "  Cluster                  Variable    RS_Own     RS_NC  RS_Ratio\n",
       "0       0                   Glucose  0.548782  0.049998  0.474966\n",
       "1       0                   Insulin  0.599575  0.114668  0.452288\n",
       "2       0  DiabetesPedigreeFunction  0.299445  0.029821  0.722089\n",
       "3       1               Pregnancies  0.772171  0.000729  0.227996\n",
       "4       1                       Age  0.772171  0.015617  0.231444\n",
       "5       2             SkinThickness  0.557513  0.110525  0.497470\n",
       "6       2                       BMI  0.631529  0.074036  0.397932\n",
       "7       2             BloodPressure  0.405669  0.046951  0.623610"
      ]
     },
     "execution_count": 25,
     "metadata": {},
     "output_type": "execute_result"
    }
   ],
   "source": [
    "demo1_vc.rsquare"
   ]
  },
  {
   "cell_type": "code",
   "execution_count": 28,
   "metadata": {},
   "outputs": [],
   "source": [
    "selected_list=['Insulin','Pregnancies','BMI']\n",
    "X_reduced=X[selected_list]"
   ]
  },
  {
   "cell_type": "code",
   "execution_count": 26,
   "metadata": {},
   "outputs": [],
   "source": [
    "import seaborn as sns\n",
    "corr=X.corr()"
   ]
  },
  {
   "cell_type": "code",
   "execution_count": 27,
   "metadata": {
    "scrolled": true
   },
   "outputs": [
    {
     "data": {
      "image/png": "[encoded data removed]",
      "text/plain": [
       "<Figure size 432x288 with 2 Axes>"
      ]
     },
     "metadata": {},
     "output_type": "display_data"
    }
   ],
   "source": [
    "ax=sns.heatmap(corr)"
   ]
  },
  {
   "cell_type": "code",
   "execution_count": 29,
   "metadata": {
    "scrolled": true
   },
   "outputs": [
    {
     "data": {
      "image/png": "[encoded data removed]",
      "text/plain": [
       "<Figure size 432x288 with 2 Axes>"
      ]
     },
     "metadata": {},
     "output_type": "display_data"
    }
   ],
   "source": [
    "corr2=X_reduced.corr()\n",
    "ax=sns.heatmap(corr2)"
   ]
  },
  {
   "cell_type": "code",
   "execution_count": 30,
   "metadata": {
    "scrolled": true
   },
   "outputs": [
    {
     "data": {
      "text/plain": [
       "(768, 3)"
      ]
     },
     "execution_count": 30,
     "metadata": {},
     "output_type": "execute_result"
    }
   ],
   "source": [
    "X_reduced.shape"
   ]
  },
  {
   "cell_type": "code",
   "execution_count": 31,
   "metadata": {},
   "outputs": [
    {
     "data": {
      "text/plain": [
       "(768, 8)"
      ]
     },
     "execution_count": 31,
     "metadata": {},
     "output_type": "execute_result"
    }
   ],
   "source": [
    "X.shape"
   ]
  }
 ],
 "metadata": {
  "kernelspec": {
   "display_name": "Python 3",
   "language": "python",
   "name": "python3"
  },
  "language_info": {
   "codemirror_mode": {
    "name": "ipython",
    "version": 3
   },
   "file_extension": ".py",
   "mimetype": "text/x-python",
   "name": "python",
   "nbconvert_exporter": "python",
   "pygments_lexer": "ipython3",
   "version": "3.6.5"
  }
 },
 "nbformat": 4,
 "nbformat_minor": 2
}
