{
 "cells": [
  {
   "cell_type": "code",
   "execution_count": 3,
   "metadata": {},
   "outputs": [],
   "source": [
    "# call by value and call by reference : functions\n"
   ]
  },
  {
   "cell_type": "code",
   "execution_count": null,
   "metadata": {},
   "outputs": [],
   "source": [
    "# call by value, refrence, address"
   ]
  },
  {
   "cell_type": "code",
   "execution_count": 2,
   "metadata": {},
   "outputs": [
    {
     "name": "stdout",
     "output_type": "stream",
     "text": [
      "Funct: 20\n",
      "10\n"
     ]
    }
   ],
   "source": [
    "# primitive(simple) types are passed by value\n",
    "def funct(a):\n",
    "    a = a*2\n",
    "    print(\"Funct:\", a)\n",
    "    \n",
    "x = 10\n",
    "funct(x)\n",
    "print(x)"
   ]
  },
  {
   "cell_type": "code",
   "execution_count": 7,
   "metadata": {},
   "outputs": [
    {
     "name": "stdout",
     "output_type": "stream",
     "text": [
      "Funct: 10\n",
      "[10, 20]\n"
     ]
    }
   ],
   "source": [
    "def funct(seq):\n",
    "    seq = 10\n",
    "    print(\"Funct:\", seq)\n",
    "\n",
    "x = [10,20]\n",
    "funct(x)\n",
    "print(x)"
   ]
  },
  {
   "cell_type": "code",
   "execution_count": 6,
   "metadata": {},
   "outputs": [
    {
     "name": "stdout",
     "output_type": "stream",
     "text": [
      "Funct: [10, 1000]\n",
      "[10, 1000]\n"
     ]
    }
   ],
   "source": [
    "# collection/compound types: list, tuple, dict are collections\n",
    "def funct(seq):\n",
    "    seq[1] = 1000\n",
    "    print(\"Funct:\", seq)\n",
    "\n",
    "x = [10,20] \n",
    "funct(x)\n",
    "print(x) # ???"
   ]
  }
 ],
 "metadata": {
  "kernelspec": {
   "display_name": "Python 3",
   "language": "python",
   "name": "python3"
  },
  "language_info": {
   "codemirror_mode": {
    "name": "ipython",
    "version": 3
   },
   "file_extension": ".py",
   "mimetype": "text/x-python",
   "name": "python",
   "nbconvert_exporter": "python",
   "pygments_lexer": "ipython3",
   "version": "3.8.3"
  }
 },
 "nbformat": 4,
 "nbformat_minor": 4
}
