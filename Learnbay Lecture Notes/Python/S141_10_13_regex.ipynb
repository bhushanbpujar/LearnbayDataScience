{
 "cells": [
  {
   "cell_type": "code",
   "execution_count": 65,
   "metadata": {},
   "outputs": [
    {
     "name": "stdout",
     "output_type": "stream",
     "text": [
      "abcd       True\n",
      "9abcd      False\n",
      "99         False\n",
      "1234       False\n",
      "abd        True\n",
      "#123       False\n",
      "this.      False\n",
      "that.      False\n",
      "what?      False\n"
     ]
    }
   ],
   "source": [
    "# check if all strings start with 'a'\n",
    "strs = [\"abcd\", \"9abcd\", \"99\", \"1234\", \"abd\", \"#123\", \"this.\", \"that.\", \"what?\"]\n",
    "for s in strs:\n",
    "    print(f\"{s:10} {s.startswith('a')}\")"
   ]
  },
  {
   "cell_type": "code",
   "execution_count": 2,
   "metadata": {},
   "outputs": [
    {
     "name": "stdout",
     "output_type": "stream",
     "text": [
      "abcd       <re.Match object; span=(0, 1), match='a'>\n",
      "9abcd      None\n",
      "99         None\n",
      "1234       None\n",
      "abd        <re.Match object; span=(0, 1), match='a'>\n",
      "#123       None\n",
      "this.      None\n",
      "that.      None\n",
      "what?      None\n"
     ]
    }
   ],
   "source": [
    "import re\n",
    "strs = [\"abcd\", \"9abcd\", \"99\", \"1234\", \"abd\", \"#123\", \"this.\", \"that.\", \"what?\"]\n",
    "for s in strs:\n",
    "    print(f\"{s:10} {re.match('a', s)}\")"
   ]
  },
  {
   "cell_type": "code",
   "execution_count": 3,
   "metadata": {},
   "outputs": [
    {
     "name": "stdout",
     "output_type": "stream",
     "text": [
      "abcd       <re.Match object; span=(0, 1), match='a'>\n",
      "9abcd      <re.Match object; span=(1, 2), match='a'>\n",
      "99         None\n",
      "1234       None\n",
      "abda       <re.Match object; span=(0, 1), match='a'>\n",
      "#123       None\n",
      "this.      None\n",
      "that.      <re.Match object; span=(2, 3), match='a'>\n",
      "what?      <re.Match object; span=(2, 3), match='a'>\n"
     ]
    }
   ],
   "source": [
    "import re\n",
    "strs = [\"abcd\", \"9abcd\", \"99\", \"1234\", \"abda\", \"#123\", \"this.\", \"that.\", \"what?\"]\n",
    "for s in strs:\n",
    "    print(f\"{s:10} {re.search('a', s)}\")"
   ]
  },
  {
   "cell_type": "code",
   "execution_count": 4,
   "metadata": {},
   "outputs": [
    {
     "name": "stdout",
     "output_type": "stream",
     "text": [
      "abcd       <re.Match object; span=(0, 1), match='a'>\n",
      "9abcd      None\n",
      "99         None\n",
      "1234       None\n",
      "abda       <re.Match object; span=(0, 1), match='a'>\n",
      "#123       None\n",
      "this.      None\n",
      "that.      None\n",
      "what?      None\n",
      "^abcd      None\n"
     ]
    }
   ],
   "source": [
    "# anchor tags\n",
    "# ^ => this  anchors pattern to start of string\n",
    "# $ => anchors  to end of string\n",
    "import re\n",
    "strs = [\"abcd\", \"9abcd\", \"99\", \"1234\", \"abda\", \"#123\", \"this.\", \"that.\", \"what?\", \"^abcd\"]\n",
    "for s in strs:\n",
    "    print(f\"{s:10} {re.search('^a', s)}\")"
   ]
  },
  {
   "cell_type": "code",
   "execution_count": 5,
   "metadata": {},
   "outputs": [
    {
     "name": "stdout",
     "output_type": "stream",
     "text": [
      "abcd       <re.Match object; span=(0, 1), match='a'>\n",
      "9abcd      None\n",
      "99         None\n",
      "1234       None\n",
      "abda       <re.Match object; span=(0, 1), match='a'>\n",
      "#123       None\n",
      "this.      None\n",
      "that.      None\n",
      "what?      None\n",
      "^abcd      None\n"
     ]
    }
   ],
   "source": [
    "\n",
    "import re\n",
    "strs = [\"abcd\", \"9abcd\", \"99\", \"1234\", \"abda\", \"#123\", \"this.\", \"that.\", \"what?\", \"^abcd\"]\n",
    "for s in strs:\n",
    "    print(\"{:10} {}\".format(s, re.search('^a', s)))"
   ]
  },
  {
   "cell_type": "code",
   "execution_count": 6,
   "metadata": {},
   "outputs": [
    {
     "name": "stdout",
     "output_type": "stream",
     "text": [
      "abcd       None\n",
      "9abcd      None\n",
      "99         None\n",
      "1234       None\n",
      "abda       None\n",
      "#123       None\n",
      "this.      None\n",
      "that.      None\n",
      "what?      None\n",
      "^abcd      <re.Match object; span=(0, 2), match='^a'>\n"
     ]
    }
   ],
   "source": [
    "import re\n",
    "strs = [\"abcd\", \"9abcd\", \"99\", \"1234\", \"abda\", \"#123\", \"this.\", \"that.\", \"what?\", \"^abcd\"]\n",
    "for s in strs:\n",
    "    print(\"{:10} {}\".format(s, re.search('\\^a', s))) # \\^ is not a python escape, it's an escape for re/regex engine"
   ]
  },
  {
   "cell_type": "code",
   "execution_count": 7,
   "metadata": {},
   "outputs": [
    {
     "name": "stdout",
     "output_type": "stream",
     "text": [
      "abcd       False\n",
      "9abcd      False\n",
      "99         False\n",
      "1234       False\n",
      "abd        False\n",
      "#123       False\n",
      "this.      False\n",
      "that.      False\n",
      "what?      False\n",
      "^abcd      True\n"
     ]
    }
   ],
   "source": [
    "import re\n",
    "strs = [\"abcd\", \"9abcd\", \"99\", \"1234\", \"abd\", \"#123\", \"this.\", \"that.\", \"what?\", \"^abcd\"]\n",
    "for s in strs:\n",
    "    print(\"{:10} {}\".format(s, s.startswith('^a')))"
   ]
  },
  {
   "cell_type": "markdown",
   "metadata": {},
   "source": [
    "### check if all strings start with '9'"
   ]
  },
  {
   "cell_type": "code",
   "execution_count": 8,
   "metadata": {},
   "outputs": [
    {
     "name": "stdout",
     "output_type": "stream",
     "text": [
      "abcd       False\n",
      "9abcd      True\n",
      "99         True\n",
      "1234       False\n",
      "abd        False\n",
      "#123       False\n",
      "this.      False\n",
      "that.      False\n",
      "what?      False\n"
     ]
    }
   ],
   "source": [
    "strs = [\"abcd\", \"9abcd\", \"99\", \"1234\", \"abd\", \"#123\", \"this.\", \"that.\", \"what?\"]\n",
    "for s in strs:\n",
    "    print(f\"{s:10} {s.startswith('9')}\")"
   ]
  },
  {
   "cell_type": "code",
   "execution_count": null,
   "metadata": {},
   "outputs": [],
   "source": []
  },
  {
   "cell_type": "markdown",
   "metadata": {},
   "source": [
    "### check if all strings start with a digit.. "
   ]
  },
  {
   "cell_type": "code",
   "execution_count": 9,
   "metadata": {},
   "outputs": [
    {
     "name": "stdout",
     "output_type": "stream",
     "text": [
      "abcd       False\n",
      "9abcd      True\n",
      "99         True\n",
      "1234       True\n",
      "abd        False\n",
      "#123       False\n",
      "this.      False\n",
      "that.      False\n",
      "what?      False\n"
     ]
    }
   ],
   "source": [
    "strs = [\"abcd\", \"9abcd\", \"99\", \"1234\", \"abd\", \"#123\", \"this.\", \"that.\", \"what?\"]\n",
    "for s in strs:\n",
    "    print(f\"{s:10} {s[0].isnumeric()}\")"
   ]
  },
  {
   "cell_type": "code",
   "execution_count": 10,
   "metadata": {},
   "outputs": [],
   "source": [
    "# search set matches only a single char\n",
    "# [abD] => only match one of  a/b/D\n",
    "# [ab,/D] => only match one of  'a' or 'b' or  ',' or '/' or 'D'\n",
    "# [a-z] => all small alphabets\n",
    "# [A-Z] ... \n",
    "# [0-9] => all digits\n",
    "# [a-zA-Z] => all alphabets\n",
    "# [3-9p-yA-D]\n",
    "\n",
    "# not match these\n",
    "# [~A-Z] => match anything apart from capital alphabets"
   ]
  },
  {
   "cell_type": "code",
   "execution_count": 11,
   "metadata": {},
   "outputs": [
    {
     "name": "stdout",
     "output_type": "stream",
     "text": [
      "abcd       None\n",
      "9abcd      <re.Match object; span=(0, 1), match='9'>\n",
      "99         <re.Match object; span=(0, 1), match='9'>\n",
      "1234       <re.Match object; span=(0, 1), match='1'>\n",
      "abda       None\n",
      "#123       None\n",
      "this.      None\n",
      "that.      None\n",
      "what?      None\n",
      "^abcd      None\n"
     ]
    }
   ],
   "source": [
    "import re\n",
    "strs = [\"abcd\", \"9abcd\", \"99\", \"1234\", \"abda\", \"#123\", \"this.\", \"that.\", \"what?\", \"^abcd\"]\n",
    "for s in strs:\n",
    "    print(\"{:10} {}\".format(s, re.search('^[0-9]', s)))"
   ]
  },
  {
   "cell_type": "code",
   "execution_count": 12,
   "metadata": {},
   "outputs": [],
   "source": [
    "# special symbols\n",
    "# \\d => match a digit => [0-9]\n",
    "# \\D => don't match a digit => [~0-9]\n",
    "# \\w => alpha numeric => [a-zA-Z0-9]\n",
    "# \\W => not alpha numeric => [~a-zA-Z0-9]\n",
    "# \\s => match a space char  => [ \\n\\t...]\n",
    "# \\S"
   ]
  },
  {
   "cell_type": "code",
   "execution_count": 13,
   "metadata": {},
   "outputs": [
    {
     "name": "stdout",
     "output_type": "stream",
     "text": [
      "abcd       None\n",
      "9abcd      <re.Match object; span=(0, 1), match='9'>\n",
      "99         <re.Match object; span=(0, 1), match='9'>\n",
      "1234       <re.Match object; span=(0, 1), match='1'>\n",
      "abda       None\n",
      "#123       None\n",
      "this.      None\n",
      "that.      None\n",
      "what?      None\n",
      "^abcd      None\n"
     ]
    }
   ],
   "source": [
    "import re\n",
    "strs = [\"abcd\", \"9abcd\", \"99\", \"1234\", \"abda\", \"#123\", \"this.\", \"that.\", \"what?\", \"^abcd\"]\n",
    "for s in strs:\n",
    "    print(\"{:10} {}\".format(s, re.search('^\\d', s)))"
   ]
  },
  {
   "cell_type": "code",
   "execution_count": null,
   "metadata": {},
   "outputs": [],
   "source": []
  },
  {
   "cell_type": "markdown",
   "metadata": {},
   "source": [
    "#### check if string contains only digits "
   ]
  },
  {
   "cell_type": "code",
   "execution_count": 14,
   "metadata": {},
   "outputs": [
    {
     "name": "stdout",
     "output_type": "stream",
     "text": [
      "abcd       False\n",
      "9abcd      False\n",
      "99         True\n",
      "1234       True\n",
      "abd        False\n",
      "#123       False\n",
      "this.      False\n",
      "that.      False\n",
      "what?      False\n"
     ]
    }
   ],
   "source": [
    "\n",
    "strs = [\"abcd\", \"9abcd\", \"99\", \"1234\", \"abd\", \"#123\", \"this.\", \"that.\", \"what?\"]\n",
    "for s in strs:\n",
    "    print(f\"{s:10} {s.isnumeric()}\")"
   ]
  },
  {
   "cell_type": "code",
   "execution_count": 15,
   "metadata": {},
   "outputs": [
    {
     "name": "stdout",
     "output_type": "stream",
     "text": [
      "abcd       None\n",
      "9abcd      None\n",
      "99         <re.Match object; span=(0, 2), match='99'>\n",
      "1234       None\n",
      "abda       None\n",
      "#123       None\n",
      "99b1       None\n",
      "this.      None\n",
      "that.      None\n",
      "what?      None\n",
      "^abcd      None\n"
     ]
    }
   ],
   "source": [
    "# v1 : not perfect\n",
    "import re\n",
    "strs = [\"abcd\", \"9abcd\", \"99\", \"1234\", \"abda\", \"#123\", \"99b1\", \"this.\", \"that.\", \"what?\", \"^abcd\"]\n",
    "for s in strs:\n",
    "    print(\"{:10} {}\".format(s, re.search('^\\d\\d$', s)))"
   ]
  },
  {
   "cell_type": "code",
   "execution_count": 16,
   "metadata": {},
   "outputs": [],
   "source": [
    "# repetitions\n",
    "# * => should repeat previous thing 0-n times\n",
    "# + => should repeat previous thing 1-n times\n",
    "# ex : a+ .. match any consecutive seq of  'a'\n",
    "# ex : [abd]+ .. match any consecutive seq of  'a' or 'b' or 'd'"
   ]
  },
  {
   "cell_type": "code",
   "execution_count": 17,
   "metadata": {},
   "outputs": [
    {
     "name": "stdout",
     "output_type": "stream",
     "text": [
      "abcd       None\n",
      "9abcd      None\n",
      "99         <re.Match object; span=(0, 2), match='99'>\n",
      "1234       <re.Match object; span=(0, 4), match='1234'>\n",
      "abda       None\n",
      "#123       None\n",
      "99b1       None\n",
      "this.      None\n",
      "that.      None\n",
      "what?      None\n",
      "^abcd      None\n"
     ]
    }
   ],
   "source": [
    "# v2\n",
    "import re\n",
    "strs = [\"abcd\", \"9abcd\", \"99\", \"1234\", \"abda\", \"#123\", \"99b1\", \"this.\", \"that.\", \"what?\", \"^abcd\"]\n",
    "for s in strs:\n",
    "    print(\"{:10} {}\".format(s, re.search('^\\d+$', s)))"
   ]
  },
  {
   "cell_type": "code",
   "execution_count": 18,
   "metadata": {},
   "outputs": [
    {
     "name": "stdout",
     "output_type": "stream",
     "text": [
      "abcd       <re.Match object; span=(0, 1), match='a'>\n",
      "bcd        None\n",
      "1234       None\n",
      "aaaaaa     <re.Match object; span=(0, 6), match='aaaaaa'>\n",
      "abaaaaa    <re.Match object; span=(0, 1), match='a'>\n",
      "baaaadddaa <re.Match object; span=(1, 5), match='aaaa'>\n"
     ]
    }
   ],
   "source": [
    "import re\n",
    "strs = [\"abcd\", \"bcd\", \"1234\", \"aaaaaa\", \"abaaaaa\", \"baaaadddaa\"]\n",
    "for s in strs:\n",
    "    print(\"{:10} {}\".format(s, re.search('a+', s)))"
   ]
  },
  {
   "cell_type": "code",
   "execution_count": 19,
   "metadata": {},
   "outputs": [
    {
     "name": "stdout",
     "output_type": "stream",
     "text": [
      "abcd       <re.Match object; span=(0, 1), match='a'>\n",
      "bcd        None\n",
      "1234       None\n",
      "aaaaaa     <re.Match object; span=(0, 6), match='aaaaaa'>\n",
      "abaaaaa    <re.Match object; span=(0, 1), match='a'>\n",
      "baaaadddaa None\n"
     ]
    }
   ],
   "source": [
    "import re\n",
    "strs = [\"abcd\", \"bcd\", \"1234\", \"aaaaaa\", \"abaaaaa\", \"baaaadddaa\"]\n",
    "for s in strs:\n",
    "    print(\"{:10} {}\".format(s, re.search('^a+', s)))"
   ]
  },
  {
   "cell_type": "code",
   "execution_count": 20,
   "metadata": {},
   "outputs": [
    {
     "name": "stdout",
     "output_type": "stream",
     "text": [
      "abcd       None\n",
      "bcd        None\n",
      "1234       None\n",
      "aaaaaa     <re.Match object; span=(0, 6), match='aaaaaa'>\n",
      "abaaaaa    <re.Match object; span=(2, 7), match='aaaaa'>\n",
      "baaaadddaa <re.Match object; span=(8, 10), match='aa'>\n"
     ]
    }
   ],
   "source": [
    "import re\n",
    "strs = [\"abcd\", \"bcd\", \"1234\", \"aaaaaa\", \"abaaaaa\", \"baaaadddaa\"]\n",
    "for s in strs:\n",
    "    print(\"{:10} {}\".format(s, re.search('a+$', s)))"
   ]
  },
  {
   "cell_type": "code",
   "execution_count": null,
   "metadata": {},
   "outputs": [],
   "source": []
  },
  {
   "cell_type": "markdown",
   "metadata": {},
   "source": [
    "### check if string starts with an alphabet and ends with a . "
   ]
  },
  {
   "cell_type": "code",
   "execution_count": 21,
   "metadata": {},
   "outputs": [
    {
     "name": "stdout",
     "output_type": "stream",
     "text": [
      "abcd       False\n",
      "9abcd      False\n",
      "99         False\n",
      "1234       False\n",
      "abd        False\n",
      "#123       False\n",
      "this.      True\n",
      "that.      True\n",
      "what?      False\n",
      "a.         True\n",
      "a          False\n",
      ".          False\n"
     ]
    }
   ],
   "source": [
    "strs = [\"abcd\", \"9abcd\", \"99\", \"1234\", \"abd\", \"#123\", \"this.\", \"that.\", \"what?\", \"a.\", \"a\", \".\"]\n",
    "for s in strs:\n",
    "    print(f\"{s:10} {(s[0].isalpha() and s[-1] == '.')}\")"
   ]
  },
  {
   "cell_type": "code",
   "execution_count": 22,
   "metadata": {},
   "outputs": [],
   "source": [
    "# . => match any character\n",
    "# matches  only one character\n",
    "# since . is a special symbol in re itself, hence we need to escape it like this '\\.'"
   ]
  },
  {
   "cell_type": "code",
   "execution_count": 23,
   "metadata": {},
   "outputs": [
    {
     "name": "stdout",
     "output_type": "stream",
     "text": [
      "abcd       None\n",
      "9abcd      None\n",
      "99         None\n",
      "1234       None\n",
      "abd        None\n",
      "#123       None\n",
      "th122   ?....mmmm222222. <re.Match object; span=(0, 24), match='th122   ?....mmmm222222.'>\n",
      "that.      <re.Match object; span=(0, 5), match='that.'>\n",
      "what?      None\n",
      "a.         None\n",
      "a          None\n",
      ".          None\n"
     ]
    }
   ],
   "source": [
    "# doesn;t work for all cases : 'a.'\n",
    "strs = [\"abcd\", \"9abcd\", \"99\", \"1234\", \"abd\", \"#123\", \"th122   ?....mmmm222222.\", \"that.\", \"what?\", \"a.\", \"a\", \".\"]\n",
    "for s in strs:\n",
    "    print(\"{:10} {}\".format(s, re.search('^[a-zA-Z].+\\.$', s))) # \\.$  => end with dot"
   ]
  },
  {
   "cell_type": "code",
   "execution_count": 24,
   "metadata": {},
   "outputs": [
    {
     "name": "stdout",
     "output_type": "stream",
     "text": [
      "abcd       None\n",
      "9abcd      None\n",
      "99         None\n",
      "1234       None\n",
      "abd        None\n",
      "#123       None\n",
      "this.      <re.Match object; span=(0, 5), match='this.'>\n",
      "that.      <re.Match object; span=(0, 5), match='that.'>\n",
      "what?      None\n",
      "a.         <re.Match object; span=(0, 2), match='a.'>\n",
      "a          None\n",
      ".          None\n"
     ]
    }
   ],
   "source": [
    "strs = [\"abcd\", \"9abcd\", \"99\", \"1234\", \"abd\", \"#123\", \"this.\", \"that.\", \"what?\", \"a.\", \"a\", \".\"]\n",
    "for s in strs:\n",
    "    print(\"{:10} {}\".format(s, re.search('^[a-zA-Z].*\\.$', s))) # \\.$  => end with dot"
   ]
  },
  {
   "cell_type": "code",
   "execution_count": null,
   "metadata": {},
   "outputs": [],
   "source": []
  },
  {
   "cell_type": "markdown",
   "metadata": {},
   "source": [
    "### # check if string starts with an alphabet and ends with a '.' or a '?'"
   ]
  },
  {
   "cell_type": "code",
   "execution_count": 25,
   "metadata": {},
   "outputs": [
    {
     "name": "stdout",
     "output_type": "stream",
     "text": [
      "abcd       False\n",
      "9abcd      False\n",
      "99         False\n",
      "1234       False\n",
      "abd        False\n",
      "#123       False\n",
      "this.      True\n",
      "that.      True\n",
      "what?      True\n"
     ]
    }
   ],
   "source": [
    "strs = [\"abcd\", \"9abcd\", \"99\", \"1234\", \"abd\", \"#123\", \"this.\", \"that.\", \"what?\"]\n",
    "for s in strs:\n",
    "    print(f\"{s:10} {(s[0].isalpha() and s[-1] in ['.','?'])}\")"
   ]
  },
  {
   "cell_type": "code",
   "execution_count": 26,
   "metadata": {},
   "outputs": [
    {
     "name": "stdout",
     "output_type": "stream",
     "text": [
      "abcd       None\n",
      "9abcd      None\n",
      "99         None\n",
      "1234       None\n",
      "abd        None\n",
      "#123       None\n",
      "this.      <re.Match object; span=(0, 5), match='this.'>\n",
      "that.      <re.Match object; span=(0, 5), match='that.'>\n",
      "what?      <re.Match object; span=(0, 5), match='what?'>\n"
     ]
    }
   ],
   "source": [
    "strs = [\"abcd\", \"9abcd\", \"99\", \"1234\", \"abd\", \"#123\", \"this.\", \"that.\", \"what?\"]\n",
    "for s in strs:\n",
    "    print(\"{:10} {}\".format(s, re.search('^[a-zA-Z].*[.?]$', s))) "
   ]
  },
  {
   "cell_type": "code",
   "execution_count": null,
   "metadata": {},
   "outputs": [],
   "source": [
    "\n"
   ]
  },
  {
   "cell_type": "markdown",
   "metadata": {},
   "source": [
    "### check  if the string starts with a 4 letter  word "
   ]
  },
  {
   "cell_type": "code",
   "execution_count": 27,
   "metadata": {},
   "outputs": [
    {
     "name": "stdout",
     "output_type": "stream",
     "text": [
      "abcd abcd  False\n",
      "sentence   False\n",
      "not this one False\n",
      "1234 no    False\n",
      "abc        False\n",
      "abcd       False\n",
      "this,that  False\n",
      "that?      True\n",
      "what?      True\n"
     ]
    }
   ],
   "source": [
    "\n",
    "strs = [\"abcd abcd\", \"sentence\", \"not this one\", \"1234 no\", \"abc\", \"abcd\", \"this,that\", \"that?\", \"what?\"]\n",
    "for s in strs:\n",
    "    print(f\"{s:10} {(s[0].isalpha() and s[-1] in ['.','?'])}\")"
   ]
  },
  {
   "cell_type": "code",
   "execution_count": 28,
   "metadata": {},
   "outputs": [
    {
     "name": "stdout",
     "output_type": "stream",
     "text": [
      "abcd abcd  <re.Match object; span=(0, 5), match='abcd '>\n",
      "sentence   None\n",
      "not this one None\n",
      "1234 no    None\n",
      "abc        None\n",
      "abcd       None\n",
      "this,that  <re.Match object; span=(0, 5), match='this,'>\n",
      "that?      <re.Match object; span=(0, 5), match='that?'>\n",
      "what?      <re.Match object; span=(0, 5), match='what?'>\n"
     ]
    }
   ],
   "source": [
    "\n",
    "strs = [\"abcd abcd\", \"sentence\", \"not this one\", \"1234 no\", \"abc\", \"abcd\", \"this,that\", \"that?\", \"what?\"]\n",
    "for s in strs:\n",
    "    print(\"{:10} {}\".format(s, re.search('^[a-zA-Z][a-zA-Z][a-zA-Z][a-zA-Z]\\W', s))) "
   ]
  },
  {
   "cell_type": "code",
   "execution_count": 29,
   "metadata": {},
   "outputs": [],
   "source": [
    "# repetition of something\n",
    "# {m,n} : m-n no of times\n",
    "# {m}   :  exactly m times\n",
    "# {,n}  : max n time\n",
    "# {m,}  : atleast m times"
   ]
  },
  {
   "cell_type": "code",
   "execution_count": 30,
   "metadata": {},
   "outputs": [
    {
     "name": "stdout",
     "output_type": "stream",
     "text": [
      "abcd abcd  <re.Match object; span=(0, 5), match='abcd '>\n",
      "sentence   None\n",
      "not this one None\n",
      "1234 no    None\n",
      "abc        None\n",
      "abcd       None\n",
      "this,that  <re.Match object; span=(0, 5), match='this,'>\n",
      "that?      <re.Match object; span=(0, 5), match='that?'>\n",
      "what?      <re.Match object; span=(0, 5), match='what?'>\n"
     ]
    }
   ],
   "source": [
    "\n",
    "strs = [\"abcd abcd\", \"sentence\", \"not this one\", \"1234 no\", \"abc\", \"abcd\", \"this,that\", \"that?\", \"what?\"]\n",
    "for s in strs:\n",
    "    print(\"{:10} {}\".format(s, re.search('^[a-zA-Z]{4}\\W', s))) "
   ]
  },
  {
   "cell_type": "code",
   "execution_count": 31,
   "metadata": {},
   "outputs": [
    {
     "name": "stdout",
     "output_type": "stream",
     "text": [
      "abcd abcd  <re.Match object; span=(0, 4), match='abcd'>\n",
      "sentence   None\n",
      "not this one None\n",
      "1234 no    None\n",
      "abc        None\n",
      "abcd       <re.Match object; span=(0, 4), match='abcd'>\n",
      "this,that  <re.Match object; span=(0, 4), match='this'>\n",
      "that?      <re.Match object; span=(0, 4), match='that'>\n",
      "what?      <re.Match object; span=(0, 4), match='what'>\n"
     ]
    }
   ],
   "source": [
    "# \\b => non-capturing  => [,.?....]|$\n",
    "# word boundary => any kind of puncutator , end of string also\n",
    "\n",
    "strs = [\"abcd abcd\", \"sentence\", \"not this one\", \"1234 no\", \"abc\", \"abcd\", \"this,that\", \"that?\", \"what?\"]\n",
    "for s in strs:\n",
    "    print(\"{:10} {}\".format(s, re.search('^[a-zA-Z]{4}\\\\b', s)))"
   ]
  },
  {
   "cell_type": "code",
   "execution_count": 32,
   "metadata": {},
   "outputs": [
    {
     "name": "stdout",
     "output_type": "stream",
     "text": [
      "abcd abcd  <re.Match object; span=(0, 4), match='abcd'>\n",
      "sentence   None\n",
      "not this one None\n",
      "1234 no    None\n",
      "abc        None\n",
      "abcd       <re.Match object; span=(0, 4), match='abcd'>\n",
      "this,that  <re.Match object; span=(0, 4), match='this'>\n",
      "that?      <re.Match object; span=(0, 4), match='that'>\n",
      "what?      <re.Match object; span=(0, 4), match='what'>\n"
     ]
    }
   ],
   "source": [
    "strs = [\"abcd abcd\", \"sentence\", \"not this one\", \"1234 no\", \"abc\", \"abcd\", \"this,that\", \"that?\", \"what?\"]\n",
    "for s in strs:\n",
    "    print(\"{:10} {}\".format(s, re.search(r'^[a-zA-Z]{4}\\b', s)))"
   ]
  },
  {
   "cell_type": "code",
   "execution_count": null,
   "metadata": {},
   "outputs": [],
   "source": []
  },
  {
   "cell_type": "code",
   "execution_count": null,
   "metadata": {},
   "outputs": [],
   "source": []
  },
  {
   "cell_type": "code",
   "execution_count": 33,
   "metadata": {},
   "outputs": [],
   "source": [
    "import re"
   ]
  },
  {
   "cell_type": "code",
   "execution_count": 34,
   "metadata": {},
   "outputs": [
    {
     "ename": "SyntaxError",
     "evalue": "invalid syntax (<ipython-input-34-58878cdbee4d>, line 2)",
     "output_type": "error",
     "traceback": [
      "\u001b[1;36m  File \u001b[1;32m\"<ipython-input-34-58878cdbee4d>\"\u001b[1;36m, line \u001b[1;32m2\u001b[0m\n\u001b[1;33m    re.match(<pattern>, <string>) => match object / None\u001b[0m\n\u001b[1;37m             ^\u001b[0m\n\u001b[1;31mSyntaxError\u001b[0m\u001b[1;31m:\u001b[0m invalid syntax\n"
     ]
    }
   ],
   "source": [
    "# syntax\n",
    "re.match(<pattern>, <string>) => match object / None\n",
    "match always start to match from beginning"
   ]
  },
  {
   "cell_type": "code",
   "execution_count": 35,
   "metadata": {},
   "outputs": [
    {
     "ename": "SyntaxError",
     "evalue": "invalid syntax (<ipython-input-35-9caffb74fc1b>, line 2)",
     "output_type": "error",
     "traceback": [
      "\u001b[1;36m  File \u001b[1;32m\"<ipython-input-35-9caffb74fc1b>\"\u001b[1;36m, line \u001b[1;32m2\u001b[0m\n\u001b[1;33m    re.search(<pattern>, <string>) => match object / None\u001b[0m\n\u001b[1;37m              ^\u001b[0m\n\u001b[1;31mSyntaxError\u001b[0m\u001b[1;31m:\u001b[0m invalid syntax\n"
     ]
    }
   ],
   "source": [
    "# syntax\n",
    "re.search(<pattern>, <string>) => match object / None\n",
    "search finds a match anywhere in string"
   ]
  },
  {
   "cell_type": "code",
   "execution_count": 36,
   "metadata": {},
   "outputs": [
    {
     "name": "stdout",
     "output_type": "stream",
     "text": [
      "['A', 'ASCII', 'DEBUG', 'DOTALL', 'I', 'IGNORECASE', 'L', 'LOCALE', 'M', 'MULTILINE', 'Match', 'Pattern', 'RegexFlag', 'S', 'Scanner', 'T', 'TEMPLATE', 'U', 'UNICODE', 'VERBOSE', 'X', '_MAXCACHE', '__all__', '__builtins__', '__cached__', '__doc__', '__file__', '__loader__', '__name__', '__package__', '__spec__', '__version__', '_cache', '_compile', '_compile_repl', '_expand', '_locale', '_pickle', '_special_chars_map', '_subx', 'compile', 'copyreg', 'enum', 'error', 'escape', 'findall', 'finditer', 'fullmatch', 'functools', 'match', 'purge', 'search', 'split', 'sre_compile', 'sre_parse', 'sub', 'subn', 'template']\n"
     ]
    }
   ],
   "source": [
    "# other functions\n",
    "print(dir(re))"
   ]
  },
  {
   "cell_type": "code",
   "execution_count": 37,
   "metadata": {},
   "outputs": [
    {
     "name": "stdout",
     "output_type": "stream",
     "text": [
      "12 abcd abc bcdpq ['bc', 'bc', 'bc']\n",
      "12 abcd abc bcdpq ['ab', 'cd', 'ab', 'bc', 'dp']\n"
     ]
    }
   ],
   "source": [
    "# find all => gives all matching strings, not match objects\n",
    "s = \"12 abcd abc bcdpq\"\n",
    "print(\"{:10} {}\".format(s, re.findall(r'bc', s)))\n",
    "print(\"{:10} {}\".format(s, re.findall(r'[a-z]{2}', s))) # two consecutive alpha"
   ]
  },
  {
   "cell_type": "code",
   "execution_count": 38,
   "metadata": {},
   "outputs": [
    {
     "name": "stdout",
     "output_type": "stream",
     "text": [
      "<re.Match object; span=(3, 5), match='ab'>\n",
      "<re.Match object; span=(5, 7), match='cd'>\n",
      "<re.Match object; span=(8, 10), match='ab'>\n",
      "<re.Match object; span=(12, 14), match='bc'>\n",
      "<re.Match object; span=(14, 16), match='dp'>\n"
     ]
    }
   ],
   "source": [
    "# find iter => gives and iterator, via which you get all match objects\n",
    "s = \"12 abcd abc bcdpq\"\n",
    "for m in re.finditer(r'[a-z]{2}', s):\n",
    "    print(m)"
   ]
  },
  {
   "cell_type": "code",
   "execution_count": 39,
   "metadata": {},
   "outputs": [
    {
     "name": "stdout",
     "output_type": "stream",
     "text": [
      "abcd abcd  <re.Match object; span=(0, 1), match='a'>\n",
      "sentence   None\n",
      "not this one None\n",
      "1234 no    None\n",
      "Abc        None\n",
      "Abcd       None\n",
      "this,that  <re.Match object; span=(7, 8), match='a'>\n",
      "that?      <re.Match object; span=(2, 3), match='a'>\n",
      "what?      <re.Match object; span=(2, 3), match='a'>\n"
     ]
    }
   ],
   "source": [
    "# IGNORECASE\n",
    "strs = [\"abcd abcd\", \"sentence\", \"not this one\", \"1234 no\", \"Abc\", \"Abcd\", \"this,that\", \"that?\", \"what?\"]\n",
    "for s in strs:\n",
    "    print(\"{:10} {}\".format(s, re.search(r'a', s)))"
   ]
  },
  {
   "cell_type": "code",
   "execution_count": 40,
   "metadata": {},
   "outputs": [
    {
     "name": "stdout",
     "output_type": "stream",
     "text": [
      "abcd abcd  <re.Match object; span=(0, 2), match='ab'>\n",
      "sentence   None\n",
      "not this one None\n",
      "1234 no    None\n",
      "Abc        <re.Match object; span=(0, 2), match='Ab'>\n",
      "Abcd       <re.Match object; span=(0, 2), match='Ab'>\n",
      "this,that  None\n",
      "that?      None\n",
      "what?      None\n"
     ]
    }
   ],
   "source": [
    "# IGNORECASE\n",
    "strs = [\"abcd abcd\", \"sentence\", \"not this one\", \"1234 no\", \"Abc\", \"Abcd\", \"this,that\", \"that?\", \"what?\"]\n",
    "for s in strs:\n",
    "    print(\"{:10} {}\".format(s, re.search(r'aB', s,re.IGNORECASE|re.DOTALL))) # bitwise or"
   ]
  },
  {
   "cell_type": "code",
   "execution_count": 41,
   "metadata": {},
   "outputs": [],
   "source": [
    "# info inside match object"
   ]
  },
  {
   "cell_type": "code",
   "execution_count": 42,
   "metadata": {},
   "outputs": [
    {
     "name": "stdout",
     "output_type": "stream",
     "text": [
      "<re.Match object; span=(0, 9), match='abc 123 ?'>\n",
      "['__class__', '__copy__', '__deepcopy__', '__delattr__', '__dir__', '__doc__', '__eq__', '__format__', '__ge__', '__getattribute__', '__getitem__', '__gt__', '__hash__', '__init__', '__init_subclass__', '__le__', '__lt__', '__ne__', '__new__', '__reduce__', '__reduce_ex__', '__repr__', '__setattr__', '__sizeof__', '__str__', '__subclasshook__', 'end', 'endpos', 'expand', 'group', 'groupdict', 'groups', 'lastgroup', 'lastindex', 'pos', 're', 'regs', 'span', 'start', 'string']\n",
      "\n",
      "0 9 (0, 9)\n",
      "abc 123 ?\n",
      "abc 123 ?\n",
      "()\n"
     ]
    }
   ],
   "source": [
    "r = re.search('^[a-zA-Z].*[.?]$', \"abc 123 ?\")\n",
    "print(r)\n",
    "print(dir(r))\n",
    "\n",
    "print()\n",
    "print(r.start(), r.end(), r.span())\n",
    "print(r.string)\n",
    "print(r.group())\n",
    "print(r.groups())"
   ]
  },
  {
   "cell_type": "markdown",
   "metadata": {},
   "source": [
    "### capture groups"
   ]
  },
  {
   "cell_type": "code",
   "execution_count": 43,
   "metadata": {
    "scrolled": true
   },
   "outputs": [
    {
     "name": "stdout",
     "output_type": "stream",
     "text": [
      "abc 123 ?\n",
      "('a', 'bc 123 ')\n"
     ]
    }
   ],
   "source": [
    "# (<pattern>) => whatever is caputred by this patten is stored separately \n",
    "r = re.search('^([a-zA-Z])(.*)[.?]$', \"abc 123 ?\")  # this has 2 capture  groups\n",
    "print(r.group())\n",
    "print(r.groups())"
   ]
  },
  {
   "cell_type": "code",
   "execution_count": 44,
   "metadata": {},
   "outputs": [],
   "source": [
    "# '[id]@[domain]'\n",
    "# domain\n",
    "# <x>.<y>\n",
    "# <x>.<y>.<z>\n",
    "# <x>"
   ]
  },
  {
   "cell_type": "code",
   "execution_count": 45,
   "metadata": {},
   "outputs": [
    {
     "name": "stdout",
     "output_type": "stream",
     "text": [
      "abcda True\n",
      "sentence False\n",
      "not this one False\n",
      "1234 no False\n",
      "Abc False\n",
      "Abcd False\n",
      "this,that True\n",
      "that? False\n",
      "what? False\n",
      "No match for: a\n"
     ]
    }
   ],
   "source": [
    "# write a re to check if first and last char of string are same or not\n",
    "\n",
    "strs = [\"abcda\", \"sentence\", \"not this one\", \"1234 no\", \"Abc\", \"Abcd\", \"this,that\", \"that?\", \"what?\", \"a\"]\n",
    "for s in strs:\n",
    "    r = re.search(r'(.).*(.)', s)\n",
    "    if r is None:\n",
    "        print('No match for:', s)\n",
    "    else:\n",
    "        print(s, r.groups()[0] == r.groups()[1])"
   ]
  },
  {
   "cell_type": "code",
   "execution_count": 46,
   "metadata": {},
   "outputs": [
    {
     "name": "stdout",
     "output_type": "stream",
     "text": [
      "abcd       None\n",
      "9abcd      None\n",
      "99         None\n",
      "1234       None\n",
      "abd        None\n",
      "#123       None\n",
      "this.      <re.Match object; span=(0, 5), match='this.'>\n",
      "that.      <re.Match object; span=(0, 5), match='that.'>\n",
      "what?      <re.Match object; span=(0, 5), match='what?'>\n"
     ]
    }
   ],
   "source": [
    "strs = [\"abcd\", \"9abcd\", \"99\", \"1234\", \"abd\", \"#123\", \"this.\", \"that.\", \"what?\"]\n",
    "for s in strs:\n",
    "    print(\"{:10} {}\".format(s, re.search('^[a-zA-Z].*[.?]$', s))) "
   ]
  },
  {
   "cell_type": "code",
   "execution_count": null,
   "metadata": {},
   "outputs": [],
   "source": []
  },
  {
   "cell_type": "code",
   "execution_count": 48,
   "metadata": {},
   "outputs": [
    {
     "name": "stdout",
     "output_type": "stream",
     "text": [
      "abcda <re.Match object; span=(0, 5), match='abcda'> ('a',)\n",
      "1sentence1 <re.Match object; span=(0, 10), match='1sentence1'> ('1',)\n",
      "not this one <re.Match object; span=(0, 11), match='not this on'> ('n',)\n",
      "No match for: 1234 no\n",
      "No match for: Abc\n",
      "No match for: Abcd\n",
      "this,that <re.Match object; span=(0, 9), match='this,that'> ('t',)\n",
      "that? <re.Match object; span=(0, 4), match='that'> ('t',)\n",
      "No match for: what?\n",
      "No match for: a\n"
     ]
    }
   ],
   "source": [
    "# back ref\n",
    "# back reference are numbered from 1 onwards\n",
    "# write a re to check if first and last char of string are same or not\n",
    "\n",
    "strs = [\"abcda\", \"1sentence1\", \"not this one\", \"1234 no\", \"Abc\", \"Abcd\", \"this,that\", \"that?\", \"what?\", \"a\"]\n",
    "for s in strs:\n",
    "    r = re.search(r'(.).*\\1', s)\n",
    "    if r is None:\n",
    "        print('No match for:', s)\n",
    "    else:\n",
    "        print(s, r, r.groups())"
   ]
  },
  {
   "cell_type": "code",
   "execution_count": 49,
   "metadata": {},
   "outputs": [
    {
     "name": "stdout",
     "output_type": "stream",
     "text": [
      "abcda <re.Match object; span=(0, 5), match='abcda'> ('a',)\n",
      "1sentence1 <re.Match object; span=(0, 10), match='1sentence1'> ('1',)\n",
      "No match for: not this one\n",
      "No match for: 1234 no\n",
      "No match for: Abc\n",
      "No match for: Abcd\n",
      "this,that <re.Match object; span=(0, 9), match='this,that'> ('t',)\n",
      "No match for: that?\n",
      "No match for: what?\n",
      "No match for: a\n"
     ]
    }
   ],
   "source": [
    "strs = [\"abcda\", \"1sentence1\", \"not this one\", \"1234 no\", \"Abc\", \"Abcd\", \"this,that\", \"that?\", \"what?\", \"a\"]\n",
    "for s in strs:\n",
    "    r = re.search(r'^(.).*\\1$', s)\n",
    "    if r is None:\n",
    "        print('No match for:', s)\n",
    "    else:\n",
    "        print(s, r, r.groups())"
   ]
  },
  {
   "cell_type": "code",
   "execution_count": 50,
   "metadata": {},
   "outputs": [
    {
     "name": "stdout",
     "output_type": "stream",
     "text": [
      "abcba <re.Match object; span=(0, 5), match='abcba'> ('a', 'b')\n",
      "No match for: 1sentence1\n",
      "No match for: not this one\n",
      "No match for: 1234 no\n",
      "No match for: Abc\n",
      "No match for: Abcd\n",
      "No match for: this,that\n",
      "No match for: that?\n",
      "No match for: what?\n",
      "No match for: a\n"
     ]
    }
   ],
   "source": [
    "strs = [\"abcba\", \"1sentence1\", \"not this one\", \"1234 no\", \"Abc\", \"Abcd\", \"this,that\", \"that?\", \"what?\", \"a\"]\n",
    "for s in strs:\n",
    "    r = re.search(r'^(.)(.).*\\2\\1$', s)\n",
    "    if r is None:\n",
    "        print('No match for:', s)\n",
    "    else:\n",
    "        print(s, r, r.groups())"
   ]
  },
  {
   "cell_type": "code",
   "execution_count": 51,
   "metadata": {},
   "outputs": [
    {
     "name": "stdout",
     "output_type": "stream",
     "text": [
      "abcba <re.Match object; span=(0, 5), match='abcba'> ('a', 'b')\n",
      "No match for: 1sentence1\n",
      "not this one <re.Match object; span=(0, 11), match='not this on'> ('n', 'o')\n",
      "No match for: 1234 no\n",
      "No match for: Abc\n",
      "No match for: Abcd\n",
      "No match for: this,that\n",
      "No match for: that?\n",
      "No match for: what?\n",
      "No match for: a\n"
     ]
    }
   ],
   "source": [
    "strs = [\"abcba\", \"1sentence1\", \"not this one\", \"1234 no\", \"Abc\", \"Abcd\", \"this,that\", \"that?\", \"what?\", \"a\"]\n",
    "for s in strs:\n",
    "    r = re.search(r'(.)(.).*\\2\\1', s)\n",
    "    if r is None:\n",
    "        print('No match for:', s)\n",
    "    else:\n",
    "        print(s, r, r.groups())"
   ]
  },
  {
   "cell_type": "code",
   "execution_count": 52,
   "metadata": {},
   "outputs": [
    {
     "name": "stdout",
     "output_type": "stream",
     "text": [
      "No match for: abcba\n",
      "1sentence1 <re.Match object; span=(2, 7), match='enten'> ('e', 'n')\n",
      "No match for: not this one\n",
      "No match for: 1234 no\n",
      "No match for: Abc\n",
      "No match for: Abcd\n",
      "this,that <re.Match object; span=(0, 7), match='this,th'> ('t', 'h')\n",
      "No match for: that?\n",
      "No match for: what?\n",
      "No match for: a\n"
     ]
    }
   ],
   "source": [
    "strs = [\"abcba\", \"1sentence1\", \"not this one\", \"1234 no\", \"Abc\", \"Abcd\", \"this,that\", \"that?\", \"what?\", \"a\"]\n",
    "for s in strs:\n",
    "    r = re.search(r'(.)(.).*\\1\\2', s)\n",
    "    if r is None:\n",
    "        print('No match for:', s)\n",
    "    else:\n",
    "        print(s, r, r.groups())"
   ]
  },
  {
   "cell_type": "code",
   "execution_count": 53,
   "metadata": {},
   "outputs": [],
   "source": [
    "# greedy vs non-greedy search"
   ]
  },
  {
   "cell_type": "code",
   "execution_count": 55,
   "metadata": {},
   "outputs": [
    {
     "name": "stdout",
     "output_type": "stream",
     "text": [
      "-abcabab- <re.Match object; span=(1, 8), match='abcabab'> ('a', 'b')\n",
      "1sentence1 <re.Match object; span=(2, 7), match='enten'> ('e', 'n')\n",
      "a aquestion? another question? <re.Match object; span=(1, 14), match=' aquestion? a'> (' ', 'a')\n",
      "No match for: what?\n",
      "No match for: a\n"
     ]
    }
   ],
   "source": [
    "strs = [\"-abcabab-\", \"1sentence1\", \"a question? another question?\", \"what?\", \"a\"]\n",
    "for s in strs:\n",
    "    r = re.search(r'(.)(.).*\\1\\2', s)\n",
    "    if r is None:\n",
    "        print('No match for:', s)\n",
    "    else:\n",
    "        print(s, r, r.groups())"
   ]
  },
  {
   "cell_type": "code",
   "execution_count": null,
   "metadata": {},
   "outputs": [],
   "source": [
    "# ? and non-greedy\n",
    "# ? : 0-1 match of previous pattern {,1}\n",
    "# +? : 1-n but non-greedy\n",
    "# *? : 0-n but non-greedy"
   ]
  },
  {
   "cell_type": "code",
   "execution_count": 60,
   "metadata": {},
   "outputs": [
    {
     "name": "stdout",
     "output_type": "stream",
     "text": [
      "-abcabab- <re.Match object; span=(1, 6), match='abcab'> ('a', 'b')\n",
      "1sentence1 <re.Match object; span=(2, 7), match='enten'> ('e', 'n')\n",
      "a question? another question? <re.Match object; span=(1, 21), match=' question? another q'> (' ', 'q')\n",
      "No match for: what?\n",
      "No match for: a\n"
     ]
    }
   ],
   "source": [
    "# first or shortest match : ?\n",
    "strs = [\"-abcabab-\", \"1sentence1\", \"a question? another question?\", \"what?\", \"a\"]\n",
    "for s in strs:\n",
    "    r = re.search(r'(.)(.).*?\\1\\2', s)\n",
    "    if r is None:\n",
    "        print('No match for:', s)\n",
    "    else:\n",
    "        print(s, r, r.groups())"
   ]
  },
  {
   "cell_type": "code",
   "execution_count": 62,
   "metadata": {},
   "outputs": [
    {
     "name": "stdout",
     "output_type": "stream",
     "text": [
      "No match for: -abcabab-\n",
      "No match for: 1sentence1\n",
      "a question# another#### question# <re.Match object; span=(0, 33), match='a question# another#### question#'> ()\n",
      "No match for: what?\n",
      "No match for: a\n"
     ]
    }
   ],
   "source": [
    "# longest possible match\n",
    "strs = [\"-abcabab-\", \"1sentence1\", \"a question# another#### question#\", \"what?\", \"a\"]\n",
    "for s in strs:\n",
    "    r = re.search(r'.*#', s)\n",
    "    if r is None:\n",
    "        print('No match for:', s)\n",
    "    else:\n",
    "        print(s, r, r.groups())"
   ]
  },
  {
   "cell_type": "code",
   "execution_count": 63,
   "metadata": {},
   "outputs": [
    {
     "name": "stdout",
     "output_type": "stream",
     "text": [
      "No match for: -abcabab-\n",
      "No match for: 1sentence1\n",
      "a question# another#### question# <re.Match object; span=(0, 11), match='a question#'> ()\n",
      "No match for: what?\n",
      "No match for: a\n"
     ]
    }
   ],
   "source": [
    "# first or shortest match : ?\n",
    "strs = [\"-abcabab-\", \"1sentence1\", \"a question# another#### question#\", \"what?\", \"a\"]\n",
    "for s in strs:\n",
    "    r = re.search(r'.*?#', s)\n",
    "    if r is None:\n",
    "        print('No match for:', s)\n",
    "    else:\n",
    "        print(s, r, r.groups())"
   ]
  },
  {
   "cell_type": "code",
   "execution_count": null,
   "metadata": {},
   "outputs": [],
   "source": []
  }
 ],
 "metadata": {
  "kernelspec": {
   "display_name": "Python 3",
   "language": "python",
   "name": "python3"
  },
  "language_info": {
   "codemirror_mode": {
    "name": "ipython",
    "version": 3
   },
   "file_extension": ".py",
   "mimetype": "text/x-python",
   "name": "python",
   "nbconvert_exporter": "python",
   "pygments_lexer": "ipython3",
   "version": "3.7.4"
  }
 },
 "nbformat": 4,
 "nbformat_minor": 2
}
