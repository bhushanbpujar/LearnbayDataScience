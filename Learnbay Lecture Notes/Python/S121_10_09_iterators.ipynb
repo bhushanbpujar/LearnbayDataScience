{
 "cells": [
  {
   "cell_type": "code",
   "execution_count": null,
   "metadata": {},
   "outputs": [],
   "source": [
    "# iterators and iterables\n",
    "# iteration"
   ]
  },
  {
   "cell_type": "code",
   "execution_count": 3,
   "metadata": {},
   "outputs": [
    {
     "name": "stdout",
     "output_type": "stream",
     "text": [
      "True\n",
      "True\n",
      "False\n"
     ]
    }
   ],
   "source": [
    "print('__iter__' in dir(list))\n",
    "print('__iter__' in dir(str))\n",
    "print('__iter__' in dir(True))"
   ]
  },
  {
   "cell_type": "code",
   "execution_count": null,
   "metadata": {},
   "outputs": [],
   "source": [
    "iter => iterables   : gives you an iterator\n",
    "next => iterators only"
   ]
  },
  {
   "cell_type": "code",
   "execution_count": 6,
   "metadata": {},
   "outputs": [
    {
     "name": "stdout",
     "output_type": "stream",
     "text": [
      "<list_iterator object at 0x7fb78c226a00>\n",
      "['__class__', '__delattr__', '__dir__', '__doc__', '__eq__', '__format__', '__ge__', '__getattribute__', '__gt__', '__hash__', '__init__', '__init_subclass__', '__iter__', '__le__', '__length_hint__', '__lt__', '__ne__', '__new__', '__next__', '__reduce__', '__reduce_ex__', '__repr__', '__setattr__', '__setstate__', '__sizeof__', '__str__', '__subclasshook__']\n"
     ]
    }
   ],
   "source": [
    "a = [10,44,33,22]\n",
    "it = iter(a)\n",
    "print(it)\n",
    "print(dir(it)) # it is an iterator"
   ]
  },
  {
   "cell_type": "code",
   "execution_count": 9,
   "metadata": {},
   "outputs": [
    {
     "name": "stdout",
     "output_type": "stream",
     "text": [
      "10\n",
      "\n",
      "44\n",
      "\n",
      "33\n",
      "\n",
      "22\n",
      "\n"
     ]
    },
    {
     "ename": "StopIteration",
     "evalue": "",
     "output_type": "error",
     "traceback": [
      "\u001b[0;31m---------------------------------------------------------------------------\u001b[0m",
      "\u001b[0;31mStopIteration\u001b[0m                             Traceback (most recent call last)",
      "\u001b[0;32m<ipython-input-9-d4f47fb49824>\u001b[0m in \u001b[0;36m<module>\u001b[0;34m\u001b[0m\n\u001b[1;32m     18\u001b[0m \u001b[0;34m\u001b[0m\u001b[0m\n\u001b[1;32m     19\u001b[0m \u001b[0mprint\u001b[0m\u001b[0;34m(\u001b[0m\u001b[0;34m)\u001b[0m\u001b[0;34m\u001b[0m\u001b[0;34m\u001b[0m\u001b[0m\n\u001b[0;32m---> 20\u001b[0;31m \u001b[0mr\u001b[0m \u001b[0;34m=\u001b[0m \u001b[0mnext\u001b[0m\u001b[0;34m(\u001b[0m\u001b[0mit\u001b[0m\u001b[0;34m)\u001b[0m\u001b[0;34m\u001b[0m\u001b[0;34m\u001b[0m\u001b[0m\n\u001b[0m\u001b[1;32m     21\u001b[0m \u001b[0mprint\u001b[0m\u001b[0;34m(\u001b[0m\u001b[0mr\u001b[0m\u001b[0;34m)\u001b[0m\u001b[0;34m\u001b[0m\u001b[0;34m\u001b[0m\u001b[0m\n",
      "\u001b[0;31mStopIteration\u001b[0m: "
     ]
    }
   ],
   "source": [
    "a = [10,44,33,22]\n",
    "it = iter(a)\n",
    "\n",
    "r = next(it)\n",
    "print(r)\n",
    "\n",
    "print()\n",
    "r = next(it)\n",
    "print(r)\n",
    "\n",
    "print()\n",
    "r = next(it)\n",
    "print(r)\n",
    "\n",
    "print()\n",
    "r = next(it)\n",
    "print(r)\n",
    "\n",
    "print()\n",
    "r = next(it)\n",
    "print(r)"
   ]
  },
  {
   "cell_type": "code",
   "execution_count": 14,
   "metadata": {},
   "outputs": [
    {
     "name": "stdout",
     "output_type": "stream",
     "text": [
      "<list_iterator object at 0x7fb78c259bb0>\n",
      "10\n",
      "10\n",
      "44\n",
      "33\n",
      "44\n"
     ]
    }
   ],
   "source": [
    "a = [10,44,33,22]\n",
    "it1 = iter(a)\n",
    "it2 = iter(a)\n",
    "\n",
    "print(it1)\n",
    "\n",
    "print(next(it1))\n",
    "print(next(it2))\n",
    "print(next(it2))\n",
    "print(next(it2))\n",
    "print(next(it1))"
   ]
  },
  {
   "cell_type": "code",
   "execution_count": 16,
   "metadata": {},
   "outputs": [
    {
     "name": "stdout",
     "output_type": "stream",
     "text": [
      "10\n",
      "44\n",
      "33\n",
      "22\n",
      "Second timee\n"
     ]
    }
   ],
   "source": [
    "# iterator gets exhaused after being used once\n",
    "a = [10,44,33,22]\n",
    "it1 = iter(a)\n",
    "\n",
    "for v in it1:\n",
    "    print(v)\n",
    "    \n",
    "print(\"Second timee\")\n",
    "for v in it1:\n",
    "    print(v)"
   ]
  },
  {
   "cell_type": "code",
   "execution_count": 26,
   "metadata": {},
   "outputs": [
    {
     "name": "stdout",
     "output_type": "stream",
     "text": [
      "10\n",
      "44\n",
      "33\n",
      "22\n",
      "Reached End\n"
     ]
    }
   ],
   "source": [
    "# iteration via while and iterators\n",
    "a = [10,44,33,22]\n",
    "\n",
    "try:\n",
    "    it1 = iter(a)\n",
    "    while True:\n",
    "        x = next(it1)\n",
    "        print(x)\n",
    "except Exception:\n",
    "    pass\n",
    "\n",
    "print(\"Reached End\")"
   ]
  },
  {
   "cell_type": "code",
   "execution_count": 21,
   "metadata": {},
   "outputs": [
    {
     "name": "stdout",
     "output_type": "stream",
     "text": [
      "9\n"
     ]
    }
   ],
   "source": [
    "# loop variables live after the loop also\n",
    "for x in range(10):\n",
    "    pass\n",
    "print(x)"
   ]
  },
  {
   "cell_type": "code",
   "execution_count": 22,
   "metadata": {},
   "outputs": [
    {
     "name": "stdout",
     "output_type": "stream",
     "text": [
      "ab\n"
     ]
    }
   ],
   "source": [
    "if True:\n",
    "    abcdddd = \"ab\"\n",
    "print(abcdddd)"
   ]
  },
  {
   "cell_type": "code",
   "execution_count": 31,
   "metadata": {},
   "outputs": [
    {
     "name": "stdout",
     "output_type": "stream",
     "text": [
      "[10, 20, 30, 40]\n",
      "[10, 20, 30]\n",
      "[20, 30]\n"
     ]
    }
   ],
   "source": [
    "# slicing always creates a copy\n",
    "a = [10,20,30]\n",
    "a1 = a[::] # all elements\n",
    "a2 = a[1:3] # all elements\n",
    "\n",
    "a.append(40)\n",
    "print(a)\n",
    "print(a1)\n",
    "print(a2)"
   ]
  },
  {
   "cell_type": "code",
   "execution_count": 35,
   "metadata": {},
   "outputs": [
    {
     "name": "stdout",
     "output_type": "stream",
     "text": [
      "\n",
      "11\n",
      "22\n",
      "33\n",
      "10\n",
      "\n",
      "11\n",
      "22\n",
      "33\n",
      "10\n",
      "\n",
      "11\n",
      "22\n",
      "33\n",
      "10\n",
      "\n",
      "11\n",
      "22\n",
      "33\n",
      "10\n",
      "[10, 33, 22, 11]\n"
     ]
    }
   ],
   "source": [
    "# given a list 'a' print a in revrse order element by element\n",
    "a = [10,33,22,11]\n",
    "\n",
    "print()\n",
    "for v in a[::-1]:\n",
    "    print(v)\n",
    "\n",
    "print()\n",
    "for i in range(len(a)-1, -1, -1):\n",
    "    print(a[i])\n",
    "    \n",
    "print()\n",
    "i = len(a) - 1\n",
    "while i >= 0:\n",
    "    print(a[i])\n",
    "    i -= 1\n",
    "    \n",
    "print()\n",
    "for v in reversed(a): # reversed gives a reverse iterator\n",
    "    print(v)\n",
    "    \n",
    "print(a)"
   ]
  },
  {
   "cell_type": "code",
   "execution_count": 39,
   "metadata": {},
   "outputs": [
    {
     "name": "stdout",
     "output_type": "stream",
     "text": [
      "11\n",
      "22\n",
      "[10, 33, 22, 11]\n"
     ]
    }
   ],
   "source": [
    "a = [10,33,22,11]\n",
    "\n",
    "it =reversed(a) # reversed gives a reverse iterator\n",
    "print(next(it))\n",
    "print(next(it))\n",
    "# ....\n",
    "print(a)"
   ]
  },
  {
   "cell_type": "code",
   "execution_count": 41,
   "metadata": {},
   "outputs": [
    {
     "name": "stdout",
     "output_type": "stream",
     "text": [
      "['__bool__', '__class__', '__contains__', '__delattr__', '__dir__', '__doc__', '__eq__', '__format__', '__ge__', '__getattribute__', '__getitem__', '__gt__', '__hash__', '__init__', '__init_subclass__', '__iter__', '__le__', '__len__', '__lt__', '__ne__', '__new__', '__reduce__', '__reduce_ex__', '__repr__', '__reversed__', '__setattr__', '__sizeof__', '__str__', '__subclasshook__', 'count', 'index', 'start', 'step', 'stop']\n",
      "0\n",
      "1\n",
      "2\n",
      "3\n",
      "second time\n",
      "0\n",
      "1\n",
      "2\n",
      "3\n"
     ]
    }
   ],
   "source": [
    "r = range(4)\n",
    "print(dir(r))\n",
    "\n",
    "for v in r:\n",
    "    print(v)\n",
    "\n",
    "print(\"second time\")\n",
    "for v in r:\n",
    "    print(v)"
   ]
  },
  {
   "cell_type": "code",
   "execution_count": 43,
   "metadata": {},
   "outputs": [
    {
     "name": "stdout",
     "output_type": "stream",
     "text": [
      "0\n",
      "1\n",
      "2\n",
      "3\n",
      "second time\n"
     ]
    }
   ],
   "source": [
    "r = range(4)\n",
    "\n",
    "it = iter(r)\n",
    "for v in it:\n",
    "    print(v)\n",
    "\n",
    "print(\"second time\")\n",
    "for v in it:\n",
    "    print(v)"
   ]
  }
 ],
 "metadata": {
  "kernelspec": {
   "display_name": "Python 3",
   "language": "python",
   "name": "python3"
  },
  "language_info": {
   "codemirror_mode": {
    "name": "ipython",
    "version": 3
   },
   "file_extension": ".py",
   "mimetype": "text/x-python",
   "name": "python",
   "nbconvert_exporter": "python",
   "pygments_lexer": "ipython3",
   "version": "3.8.3"
  }
 },
 "nbformat": 4,
 "nbformat_minor": 4
}
