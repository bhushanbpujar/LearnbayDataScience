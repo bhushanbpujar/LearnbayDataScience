{
 "cells": [
  {
   "cell_type": "markdown",
   "metadata": {},
   "source": [
    "### strings\n",
    "- python doesn't have characters"
   ]
  },
  {
   "cell_type": "code",
   "execution_count": 1,
   "metadata": {},
   "outputs": [
    {
     "name": "stdout",
     "output_type": "stream",
     "text": [
      "abcd\n",
      "abcd\n",
      "abcd\n"
     ]
    }
   ],
   "source": [
    "# ways to represent string\n",
    "s = 'abcd'\n",
    "print(s)\n",
    "s = \"abcd\"\n",
    "print(s)\n",
    "s = \"\"\"abcd\"\"\"\n",
    "print(s)"
   ]
  },
  {
   "cell_type": "code",
   "execution_count": 2,
   "metadata": {},
   "outputs": [
    {
     "name": "stdout",
     "output_type": "stream",
     "text": [
      "gaurav says 'python is easy'\n"
     ]
    }
   ],
   "source": [
    "s = \"gaurav says 'python is easy'\"\n",
    "print(s)"
   ]
  },
  {
   "cell_type": "code",
   "execution_count": 3,
   "metadata": {},
   "outputs": [
    {
     "ename": "SyntaxError",
     "evalue": "invalid syntax (<ipython-input-3-611afc5ad039>, line 1)",
     "output_type": "error",
     "traceback": [
      "\u001b[0;36m  File \u001b[0;32m\"<ipython-input-3-611afc5ad039>\"\u001b[0;36m, line \u001b[0;32m1\u001b[0m\n\u001b[0;31m    s = \"gaurav says \"python is easy\"\"\u001b[0m\n\u001b[0m                      ^\u001b[0m\n\u001b[0;31mSyntaxError\u001b[0m\u001b[0;31m:\u001b[0m invalid syntax\n"
     ]
    }
   ],
   "source": [
    "s = \"gaurav says \"python is easy\"\"\n",
    "print(s)"
   ]
  },
  {
   "cell_type": "code",
   "execution_count": 4,
   "metadata": {},
   "outputs": [
    {
     "name": "stdout",
     "output_type": "stream",
     "text": [
      "gaurav says \"python is easy\"\n"
     ]
    }
   ],
   "source": [
    "s = \"gaurav says \\\"python is easy\\\"\" # escaping or excape  sequence\n",
    "print(s)"
   ]
  },
  {
   "cell_type": "code",
   "execution_count": null,
   "metadata": {},
   "outputs": [],
   "source": [
    "# escape sequences\n",
    "\\\"\n",
    "\\'\n",
    "\\n => new  line\n",
    "\\t => tab\n",
    "\\\\ => \\\n",
    "..."
   ]
  },
  {
   "cell_type": "code",
   "execution_count": 9,
   "metadata": {},
   "outputs": [
    {
     "name": "stdout",
     "output_type": "stream",
     "text": [
      "Li\\ne1 \n",
      "Line 2\tafter tab\n"
     ]
    }
   ],
   "source": [
    "s = \"Li\\\\ne1 \\nLine 2\\tafter tab\"\n",
    "print(s)"
   ]
  },
  {
   "cell_type": "code",
   "execution_count": 10,
   "metadata": {},
   "outputs": [
    {
     "name": "stdout",
     "output_type": "stream",
     "text": [
      "Li\\ne1 \\nLine 2\\tafter tab\n"
     ]
    }
   ],
   "source": [
    "# raw string: avoid  escapes : used with regex(regular expressions)\n",
    "s = r\"Li\\ne1 \\nLine 2\\tafter tab\"\n",
    "print(s)"
   ]
  },
  {
   "cell_type": "code",
   "execution_count": 12,
   "metadata": {},
   "outputs": [
    {
     "name": "stdout",
     "output_type": "stream",
     "text": [
      "this is a sti\"rng 'something' \n",
      "this is a sti\"rng 'something' \n"
     ]
    }
   ],
   "source": [
    "# triple quotes: multiline strings\n",
    "s = \"\"\"this is a sti\"rng 'something' \"\"\"\n",
    "print(s)\n",
    "s = '''this is a sti\"rng 'something' '''\n",
    "print(s)"
   ]
  },
  {
   "cell_type": "code",
   "execution_count": 38,
   "metadata": {},
   "outputs": [
    {
     "name": "stdout",
     "output_type": "stream",
     "text": [
      "Line 1\n",
      "Line2   after space\n",
      "'Line 1\\nLine2   after space'\n"
     ]
    }
   ],
   "source": [
    "s = \"\"\"Line 1\n",
    "Line2   after space\"\"\"\n",
    "print(s)\n",
    "print(repr(s))"
   ]
  },
  {
   "cell_type": "code",
   "execution_count": 16,
   "metadata": {},
   "outputs": [
    {
     "name": "stdout",
     "output_type": "stream",
     "text": [
      "Line 1 a llllllllllllllllllllllllloooooooooooooong Line2   after space\n"
     ]
    }
   ],
   "source": [
    "# expression continuation\n",
    "s = \"Line 1 a llllllllllllllllllllllllloooooooooooooong \" \\\n",
    "\"Line2   after space\"\n",
    "print(s)"
   ]
  },
  {
   "cell_type": "code",
   "execution_count": 19,
   "metadata": {},
   "outputs": [
    {
     "name": "stdout",
     "output_type": "stream",
     "text": [
      "10\n",
      "10 20 30 abcd\n"
     ]
    }
   ],
   "source": [
    "#  print\n",
    "print(10)\n",
    "print(10,    20 ,30, \"abcd\")"
   ]
  },
  {
   "cell_type": "code",
   "execution_count": 34,
   "metadata": {},
   "outputs": [
    {
     "name": "stdout",
     "output_type": "stream",
     "text": [
      "10\n",
      "10+20+30+abcd\tcontinuation\n",
      "10......1111\n"
     ]
    }
   ],
   "source": [
    "#  print: end, sep arguments  are  not sticky\n",
    "print(10)\n",
    "print(10,    20 ,30, \"abcd\", sep='+', end = \"\\t\")\n",
    "print(\"continuation\")\n",
    "print(10, sep='+', end = \"......\") # here sep is useless\n",
    "print(1111)"
   ]
  },
  {
   "cell_type": "markdown",
   "metadata": {},
   "source": [
    "### back to string\n",
    " - sequence type\n",
    " - length\n",
    " - immutable"
   ]
  },
  {
   "cell_type": "code",
   "execution_count": 37,
   "metadata": {},
   "outputs": [
    {
     "name": "stdout",
     "output_type": "stream",
     "text": [
      "4\n",
      "6\n"
     ]
    }
   ],
   "source": [
    "# len: find length of any sequence\n",
    "print(len(\"abcd\"))\n",
    "print(len(\"\\tabcd\\n\"))"
   ]
  },
  {
   "cell_type": "code",
   "execution_count": 46,
   "metadata": {},
   "outputs": [
    {
     "name": "stdout",
     "output_type": "stream",
     "text": [
      "a\n",
      "e\n",
      "\n",
      "f\n",
      "e\n",
      "a\n",
      "\n",
      "f\n"
     ]
    },
    {
     "ename": "TypeError",
     "evalue": "string indices must be integers",
     "output_type": "error",
     "traceback": [
      "\u001b[0;31m---------------------------------------------------------------------------\u001b[0m",
      "\u001b[0;31mTypeError\u001b[0m                                 Traceback (most recent call last)",
      "\u001b[0;32m<ipython-input-46-3f6dd53c0eb8>\u001b[0m in \u001b[0;36m<module>\u001b[0;34m\u001b[0m\n\u001b[1;32m     15\u001b[0m \u001b[0mprint\u001b[0m\u001b[0;34m(\u001b[0m\u001b[0;34m)\u001b[0m\u001b[0;34m\u001b[0m\u001b[0;34m\u001b[0m\u001b[0m\n\u001b[1;32m     16\u001b[0m \u001b[0mprint\u001b[0m\u001b[0;34m(\u001b[0m\u001b[0ms\u001b[0m\u001b[0;34m[\u001b[0m\u001b[0mlen\u001b[0m\u001b[0;34m(\u001b[0m\u001b[0ms\u001b[0m\u001b[0;34m)\u001b[0m \u001b[0;34m-\u001b[0m \u001b[0;36m1\u001b[0m\u001b[0;34m]\u001b[0m\u001b[0;34m)\u001b[0m\u001b[0;34m\u001b[0m\u001b[0;34m\u001b[0m\u001b[0m\n\u001b[0;32m---> 17\u001b[0;31m \u001b[0mprint\u001b[0m\u001b[0;34m(\u001b[0m\u001b[0ms\u001b[0m\u001b[0;34m[\u001b[0m\u001b[0mlen\u001b[0m\u001b[0;34m(\u001b[0m\u001b[0ms\u001b[0m\u001b[0;34m)\u001b[0m \u001b[0;34m-\u001b[0m \u001b[0;36m1.3\u001b[0m\u001b[0;34m]\u001b[0m\u001b[0;34m)\u001b[0m\u001b[0;34m\u001b[0m\u001b[0;34m\u001b[0m\u001b[0m\n\u001b[0m",
      "\u001b[0;31mTypeError\u001b[0m: string indices must be integers"
     ]
    }
   ],
   "source": [
    "# indexing: uses [] operator\n",
    "s = \"abcdef\"\n",
    "#    012345 : indexes : indexes are always integers \n",
    "#    654321 : negative indexes start with 1\n",
    "\n",
    "print(s[0])\n",
    "print(s[4])\n",
    "#print(s[6]) # index error\n",
    "\n",
    "print()\n",
    "print(s[-1])\n",
    "print(s[-2])\n",
    "print(s[-len(s)])\n",
    "\n",
    "print()\n",
    "print(s[len(s) - 1])\n",
    "print(s[len(s) - 1.3])"
   ]
  },
  {
   "cell_type": "code",
   "execution_count": 47,
   "metadata": {},
   "outputs": [
    {
     "name": "stdout",
     "output_type": "stream",
     "text": [
      "False\n",
      "True\n"
     ]
    }
   ],
   "source": [
    "print(-1 == 1) # -5 = -1 * 5\n",
    "print(0 == -0) # -0 = -1 * 0\n",
    " #  -5 -4 -3 -2 -1 -0 0 1 2 3 4\n",
    " #  -5 -4 -3 -2 -1 0 1 2 3 4"
   ]
  },
  {
   "cell_type": "code",
   "execution_count": 48,
   "metadata": {},
   "outputs": [
    {
     "ename": "TypeError",
     "evalue": "'str' object does not support item assignment",
     "output_type": "error",
     "traceback": [
      "\u001b[0;31m---------------------------------------------------------------------------\u001b[0m",
      "\u001b[0;31mTypeError\u001b[0m                                 Traceback (most recent call last)",
      "\u001b[0;32m<ipython-input-48-bef96b7e7b4b>\u001b[0m in \u001b[0;36m<module>\u001b[0;34m\u001b[0m\n\u001b[1;32m      1\u001b[0m \u001b[0;31m# mutability\u001b[0m\u001b[0;34m\u001b[0m\u001b[0;34m\u001b[0m\u001b[0;34m\u001b[0m\u001b[0m\n\u001b[1;32m      2\u001b[0m \u001b[0ms\u001b[0m \u001b[0;34m=\u001b[0m \u001b[0;34m\"abcdef\"\u001b[0m\u001b[0;34m\u001b[0m\u001b[0;34m\u001b[0m\u001b[0m\n\u001b[0;32m----> 3\u001b[0;31m \u001b[0ms\u001b[0m\u001b[0;34m[\u001b[0m\u001b[0;36m0\u001b[0m\u001b[0;34m]\u001b[0m \u001b[0;34m=\u001b[0m \u001b[0;34m\"p\"\u001b[0m\u001b[0;34m\u001b[0m\u001b[0;34m\u001b[0m\u001b[0m\n\u001b[0m",
      "\u001b[0;31mTypeError\u001b[0m: 'str' object does not support item assignment"
     ]
    }
   ],
   "source": [
    "# mutability\n",
    "s = \"abcdef\"\n",
    "s[0] = \"p\""
   ]
  },
  {
   "cell_type": "code",
   "execution_count": 61,
   "metadata": {},
   "outputs": [
    {
     "name": "stdout",
     "output_type": "stream",
     "text": [
      "abcdef\n",
      "\n",
      "cdef\n",
      "cde\n",
      "abcd\n",
      "def\n",
      "\n",
      "ef\n",
      "abcd\n"
     ]
    }
   ],
   "source": [
    "# slice: also uses [] operator\n",
    "s = \"abcdef\"\n",
    "#    012345 : indexes : indexes are always integers \n",
    "#    654321 : negative indexes start with 1\n",
    "\n",
    "print(s[:]) # slicing  is similar to indexing, but uses a :\n",
    "# [start: end : step] : start is included, end is excluded\n",
    "# default step = +1 \n",
    "# + in step => left to right\n",
    "\n",
    "print()\n",
    "print(s[2:]) # start=2            [2-5] # s[2::+1]\n",
    "print(s[2:5]) # start=2 => end=5  [2-4]\n",
    "print(s[:4]) # end=4              [0,3]\n",
    "print(s[3:6])\n",
    "\n",
    "print()\n",
    "print(s[-2:])\n",
    "print(s[:-2])"
   ]
  },
  {
   "cell_type": "code",
   "execution_count": 58,
   "metadata": {},
   "outputs": [
    {
     "name": "stdout",
     "output_type": "stream",
     "text": [
      "''\n",
      "def\n"
     ]
    }
   ],
   "source": [
    "# invalid slices\n",
    "s = \"abcdef\"\n",
    "#    012345 \n",
    "print(repr(s[6:9])) # empty string\n",
    "print(s[3:9])"
   ]
  },
  {
   "cell_type": "code",
   "execution_count": 71,
   "metadata": {},
   "outputs": [
    {
     "name": "stdout",
     "output_type": "stream",
     "text": [
      "ace\n",
      "bd\n",
      "\n",
      "fdb\n",
      "fedcba\n",
      "fd\n",
      "''\n",
      "'fd'\n",
      "\n",
      "''\n"
     ]
    }
   ],
   "source": [
    "# step\n",
    "s = \"abcdef\"\n",
    "#    012345 : indexes : indexes are always integers \n",
    "#    654321 : negative indexes start with 1\n",
    "\n",
    "print(s[::2]) # start=0  end=6 step=+2 [0-5 +2]\n",
    "print(s[1:4:2]) # start=1  end=4 step=+2 [1-3 +2]\n",
    "\n",
    "print()\n",
    "print(s[::-2]) # start=-1  end=-7 step=-2 [-1 - -7 -2]\n",
    "print(s[::-1])\n",
    "print(s[5:1:-2])\n",
    "print(repr(s[1:5:-2])) # empty\n",
    "print(repr(s[-1:-5:-2]))\n",
    "\n",
    "print()\n",
    "print(repr(s[-1:-5:2]))"
   ]
  },
  {
   "cell_type": "code",
   "execution_count": 85,
   "metadata": {},
   "outputs": [
    {
     "name": "stdout",
     "output_type": "stream",
     "text": [
      "65\n",
      "97\n",
      "98\n",
      "48\n",
      "\n",
      "True\n",
      "False\n",
      "True\n",
      "True\n",
      "False\n",
      "True\n"
     ]
    }
   ],
   "source": [
    "# ord , chr\n",
    "# A = 65 # ascii\n",
    "# a = 97\n",
    "\n",
    "# python  uses UNICODE strings\n",
    "\n",
    "print(ord('A')) # ordinal value\n",
    "print(ord('a'))\n",
    "print(ord('b'))\n",
    "print(ord('0')) # string of length == 1\n",
    "\n",
    "print()\n",
    "print( \"a\" > \"A\" )\n",
    "print( \"A\" > \"A\" ) # dictionary order\n",
    "print( \"C\" > \"B\" )\n",
    "print( \"C\" > \"BCD\" )\n",
    "print( \"C\" > \"CCD\" )\n",
    "print( \"CADF\" > \"CABZ\" )"
   ]
  },
  {
   "cell_type": "code",
   "execution_count": 87,
   "metadata": {},
   "outputs": [
    {
     "name": "stdout",
     "output_type": "stream",
     "text": [
      "c\n",
      "A\n"
     ]
    }
   ],
   "source": [
    "print(chr(99))\n",
    "print(chr(65))"
   ]
  }
 ],
 "metadata": {
  "kernelspec": {
   "display_name": "Python 3",
   "language": "python",
   "name": "python3"
  },
  "language_info": {
   "codemirror_mode": {
    "name": "ipython",
    "version": 3
   },
   "file_extension": ".py",
   "mimetype": "text/x-python",
   "name": "python",
   "nbconvert_exporter": "python",
   "pygments_lexer": "ipython3",
   "version": "3.8.3"
  }
 },
 "nbformat": 4,
 "nbformat_minor": 4
}
