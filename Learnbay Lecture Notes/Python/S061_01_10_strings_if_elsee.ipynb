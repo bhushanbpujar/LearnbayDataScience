{
 "cells": [
  {
   "cell_type": "markdown",
   "metadata": {},
   "source": [
    "### strings"
   ]
  },
  {
   "cell_type": "code",
   "execution_count": 1,
   "metadata": {},
   "outputs": [
    {
     "name": "stdout",
     "output_type": "stream",
     "text": [
      "['__add__', '__class__', '__contains__', '__delattr__', '__dir__', '__doc__', '__eq__', '__format__', '__ge__', '__getattribute__', '__getitem__', '__getnewargs__', '__gt__', '__hash__', '__init__', '__init_subclass__', '__iter__', '__le__', '__len__', '__lt__', '__mod__', '__mul__', '__ne__', '__new__', '__reduce__', '__reduce_ex__', '__repr__', '__rmod__', '__rmul__', '__setattr__', '__sizeof__', '__str__', '__subclasshook__', 'capitalize', 'casefold', 'center', 'count', 'encode', 'endswith', 'expandtabs', 'find', 'format', 'format_map', 'index', 'isalnum', 'isalpha', 'isascii', 'isdecimal', 'isdigit', 'isidentifier', 'islower', 'isnumeric', 'isprintable', 'isspace', 'istitle', 'isupper', 'join', 'ljust', 'lower', 'lstrip', 'maketrans', 'partition', 'replace', 'rfind', 'rindex', 'rjust', 'rpartition', 'rsplit', 'rstrip', 'split', 'splitlines', 'startswith', 'strip', 'swapcase', 'title', 'translate', 'upper', 'zfill']\n"
     ]
    }
   ],
   "source": [
    "print(dir(str))"
   ]
  },
  {
   "cell_type": "code",
   "execution_count": 6,
   "metadata": {},
   "outputs": [
    {
     "name": "stdout",
     "output_type": "stream",
     "text": [
      "0\n",
      "1\n",
      "4\n",
      "2\n"
     ]
    }
   ],
   "source": [
    "s = \"abcd 12 a b \"\n",
    "\n",
    "print(s.count('A'))\n",
    "print(s.count('cd'))\n",
    "print(s.count(' '))\n",
    "print(s.count('a'))"
   ]
  },
  {
   "cell_type": "code",
   "execution_count": 5,
   "metadata": {},
   "outputs": [
    {
     "name": "stdout",
     "output_type": "stream",
     "text": [
      "13\n"
     ]
    }
   ],
   "source": [
    "s = \"abcABC12 a b \"\n",
    "print(len(s))"
   ]
  },
  {
   "cell_type": "code",
   "execution_count": 8,
   "metadata": {},
   "outputs": [
    {
     "name": "stdout",
     "output_type": "stream",
     "text": [
      "True\n",
      "False\n"
     ]
    }
   ],
   "source": [
    "s = \"abcd\"\n",
    "print(s.startswith(\"ab\"))\n",
    "print(s.startswith(\"cd\"))"
   ]
  },
  {
   "cell_type": "code",
   "execution_count": 11,
   "metadata": {},
   "outputs": [
    {
     "name": "stdout",
     "output_type": "stream",
     "text": [
      "True\n",
      "True\n",
      "False\n"
     ]
    }
   ],
   "source": [
    "# membership check for sequences : in keyword\n",
    "s = \"abcdef\"\n",
    "\n",
    "print(\"a\" in s)\n",
    "print(\"bc\" in s)\n",
    "print(\"BCD\" in s)"
   ]
  },
  {
   "cell_type": "code",
   "execution_count": 14,
   "metadata": {},
   "outputs": [
    {
     "name": "stdout",
     "output_type": "stream",
     "text": [
      "('1+2+3+4', '', '')\n",
      "['1', '2', '3', '4']\n"
     ]
    }
   ],
   "source": [
    "s = \"1+2+3+4\"\n",
    "\n",
    "print(s.partition('-'))\n",
    "print(s.split('+'))"
   ]
  },
  {
   "cell_type": "markdown",
   "metadata": {},
   "source": [
    "### if else"
   ]
  },
  {
   "cell_type": "code",
   "execution_count": 16,
   "metadata": {},
   "outputs": [
    {
     "name": "stdout",
     "output_type": "stream",
     "text": [
      "n1:111\n",
      "n2:1\n",
      "111\n"
     ]
    }
   ],
   "source": [
    "n1 = int(input(\"n1:\"))\n",
    "n2 = int(input(\"n2:\"))\n",
    "\n",
    "res = n1\n",
    "if res < n2:\n",
    "    res = n2\n",
    "    \n",
    "print(res)"
   ]
  },
  {
   "cell_type": "code",
   "execution_count": null,
   "metadata": {},
   "outputs": [],
   "source": [
    "n1 = int(input(\"n1:\"))\n",
    "n2 = int(input(\"n2:\"))\n",
    "\n",
    "if n1 < n2:\n",
    "    print(n2)\n",
    "else:\n",
    "    print(n1)"
   ]
  },
  {
   "cell_type": "code",
   "execution_count": null,
   "metadata": {},
   "outputs": [],
   "source": [
    "if <condition>: # condition means something that  can be evaluated to true or false\n",
    "    ..\n",
    "elif <condition>:\n",
    "    ..\n",
    "elif <condition>:\n",
    "    ..\n",
    "    ...\n",
    "else:\n",
    "    .."
   ]
  },
  {
   "cell_type": "code",
   "execution_count": 22,
   "metadata": {},
   "outputs": [
    {
     "name": "stdout",
     "output_type": "stream",
     "text": [
      "abd\n",
      "End\n"
     ]
    }
   ],
   "source": [
    "s  = input()\n",
    "if s.isdigit():\n",
    "    print(\"digit\")\n",
    "elif s.isspace():\n",
    "    print(\"space\")\n",
    "    \n",
    "print(\"End\")"
   ]
  },
  {
   "cell_type": "code",
   "execution_count": 25,
   "metadata": {},
   "outputs": [
    {
     "name": "stdout",
     "output_type": "stream",
     "text": [
      "abcd\n"
     ]
    }
   ],
   "source": [
    "if False:\n",
    "    print(\"never\")\n",
    "elif True:\n",
    "    print(\"abcd\")\n",
    "else:\n",
    "    print(\"abcd\")"
   ]
  },
  {
   "cell_type": "code",
   "execution_count": 28,
   "metadata": {},
   "outputs": [
    {
     "name": "stdout",
     "output_type": "stream",
     "text": [
      "n1:3\n",
      "n2:1\n",
      "n3:2\n",
      "3\n"
     ]
    }
   ],
   "source": [
    "n1 = int(input(\"n1:\"))\n",
    "n2 = int(input(\"n2:\"))\n",
    "n3 = int(input(\"n3:\"))\n",
    "\n",
    "if n1 >= n2 and n1 >= n3:\n",
    "    print(n1)\n",
    "elif  n2 >= n1 and n2 >= n3:\n",
    "    print(n2)\n",
    "else:\n",
    "    print(n3)"
   ]
  },
  {
   "cell_type": "code",
   "execution_count": 32,
   "metadata": {},
   "outputs": [
    {
     "name": "stdout",
     "output_type": "stream",
     "text": [
      "n1:3\n",
      "n2:2\n",
      "n3:1\n",
      "3\n"
     ]
    }
   ],
   "source": [
    "n1 = int(input(\"n1:\"))\n",
    "n2 = int(input(\"n2:\"))\n",
    "n3 = int(input(\"n3:\"))\n",
    "\n",
    "res =  n1\n",
    "if n2 > res:\n",
    "    res = n2\n",
    "if n3 > res:\n",
    "    res = n3\n",
    "\n",
    "print(res)"
   ]
  },
  {
   "cell_type": "code",
   "execution_count": null,
   "metadata": {},
   "outputs": [],
   "source": [
    "n1 = int(input(\"n1:\"))\n",
    "n2 = int(input(\"n2:\"))\n",
    "n3 = int(input(\"n3:\"))\n",
    "\n",
    "if n1 >= n2:\n",
    "    if n1 >= n3:\n",
    "        print(n1)\n",
    "    else:\n",
    "        print(n3)\n",
    "else:\n",
    "    if n2 >= n3:\n",
    "        print(n2)\n",
    "    else:\n",
    "        print(n3)"
   ]
  },
  {
   "cell_type": "code",
   "execution_count": 33,
   "metadata": {},
   "outputs": [
    {
     "name": "stdout",
     "output_type": "stream",
     "text": [
      "123\n",
      "odd\n"
     ]
    }
   ],
   "source": [
    "# even/odd\n",
    "n = int(input())\n",
    "\n",
    "if n%2:\n",
    "    print(\"odd\")\n",
    "else:\n",
    "    print(\"even\")"
   ]
  },
  {
   "cell_type": "code",
   "execution_count": 36,
   "metadata": {},
   "outputs": [
    {
     "name": "stdout",
     "output_type": "stream",
     "text": [
      " \n",
      "1\n"
     ]
    }
   ],
   "source": [
    "s =  input()\n",
    "\n",
    "if s:\n",
    "    print(len(s))\n",
    "else:\n",
    "    print(\"don't enter empty string\")"
   ]
  },
  {
   "cell_type": "code",
   "execution_count": 38,
   "metadata": {},
   "outputs": [
    {
     "name": "stdout",
     "output_type": "stream",
     "text": [
      "False\n"
     ]
    }
   ],
   "source": [
    "if None:\n",
    "    print(\"True\")\n",
    "else:\n",
    "    print(\"False\")"
   ]
  },
  {
   "cell_type": "code",
   "execution_count": null,
   "metadata": {},
   "outputs": [],
   "source": [
    "# and, or, not"
   ]
  },
  {
   "cell_type": "code",
   "execution_count": 46,
   "metadata": {},
   "outputs": [
    {
     "name": "stdout",
     "output_type": "stream",
     "text": [
      "3\n",
      "0\n",
      "1.5\n",
      "a\n",
      "''\n",
      "'a'\n"
     ]
    }
   ],
   "source": [
    "print(1 and 2 and 3)\n",
    "print(1 and 0 and 3)\n",
    "print(\"abc\" and 123 and 1.5)\n",
    "print(\"abc\" and 123 and \"a\")\n",
    "print(repr(\"\" and 123 and \"a\"))\n",
    "print(repr(\" \" and -123 and \"a\"))"
   ]
  },
  {
   "cell_type": "code",
   "execution_count": null,
   "metadata": {},
   "outputs": [],
   "source": [
    "s != \"\" "
   ]
  },
  {
   "cell_type": "code",
   "execution_count": 48,
   "metadata": {},
   "outputs": [
    {
     "name": "stdout",
     "output_type": "stream",
     "text": [
      "1\n",
      "1\n",
      "abc\n",
      "123\n",
      "0.0\n"
     ]
    }
   ],
   "source": [
    "print(1 or 2 or 3)\n",
    "print(0 or 1 or 3)\n",
    "print(\"abc\" or 123 or 1.5)\n",
    "print(\"\" or 123 or \"a\")\n",
    "print(\"\" or 0 or 0.0)"
   ]
  },
  {
   "cell_type": "code",
   "execution_count": 51,
   "metadata": {},
   "outputs": [
    {
     "name": "stdout",
     "output_type": "stream",
     "text": [
      "5\n",
      "Multiple of 3 or 5 or both\n"
     ]
    }
   ],
   "source": [
    "n =  int(input())\n",
    "\n",
    "if n%3  == 0 or n%5 == 0:\n",
    "    print(\"Multiple of 3 or 5 or both\")\n",
    "else:\n",
    "    print(\"not multiple of 3 and 5\")"
   ]
  },
  {
   "cell_type": "code",
   "execution_count": 52,
   "metadata": {},
   "outputs": [
    {
     "name": "stdout",
     "output_type": "stream",
     "text": [
      "9\n",
      "not multiple of 3 and 5\n"
     ]
    }
   ],
   "source": [
    "# no. should be multiple of both 3 and 5\n",
    "n =  int(input())\n",
    "\n",
    "if n%3  == 0 and n%5 == 0:\n",
    "    print(\"Multiple of both 3 and 5\")\n",
    "else:\n",
    "    print(\"not multiple of 3 and 5\")"
   ]
  },
  {
   "cell_type": "code",
   "execution_count": 54,
   "metadata": {},
   "outputs": [
    {
     "name": "stdout",
     "output_type": "stream",
     "text": [
      "False\n",
      "True\n",
      "True\n",
      "False\n",
      "\n",
      "False\n",
      "False\n"
     ]
    }
   ],
   "source": [
    "print(not True)\n",
    "print(not False)\n",
    "print(not \"\")\n",
    "print(not \"abcd\")\n",
    "\n",
    "print()\n",
    "print(not \"0\")\n",
    "print(not -0.9)"
   ]
  },
  {
   "cell_type": "code",
   "execution_count": 56,
   "metadata": {},
   "outputs": [
    {
     "name": "stdout",
     "output_type": "stream",
     "text": [
      "there's something\n"
     ]
    }
   ],
   "source": [
    "f = print\n",
    "\n",
    "if  f:\n",
    "    print(\"there's something\")\n",
    "else:\n",
    "    print(\"empty\")"
   ]
  },
  {
   "cell_type": "code",
   "execution_count": 55,
   "metadata": {},
   "outputs": [
    {
     "name": "stdout",
     "output_type": "stream",
     "text": [
      "\n",
      "empty\n"
     ]
    }
   ],
   "source": [
    "f = print() # calling\n",
    "\n",
    "if  f:\n",
    "    print(\"there's something\")\n",
    "else:\n",
    "    print(\"empty\")"
   ]
  },
  {
   "cell_type": "code",
   "execution_count": 58,
   "metadata": {},
   "outputs": [
    {
     "name": "stdout",
     "output_type": "stream",
     "text": [
      "ddd\n",
      "not  digit\n"
     ]
    }
   ],
   "source": [
    "s = input()\n",
    "\n",
    "if s.isdigit:\n",
    "    print(\"is digit\")\n",
    "else:\n",
    "    print(\"not  digit\")"
   ]
  },
  {
   "cell_type": "code",
   "execution_count": null,
   "metadata": {},
   "outputs": [],
   "source": [
    "s = input()\n",
    "\n",
    "if s.isdigit():\n",
    "    print(\"is digit\")\n",
    "else:\n",
    "    print(\"not  digit\")"
   ]
  },
  {
   "cell_type": "markdown",
   "metadata": {},
   "source": [
    "### string formatting"
   ]
  },
  {
   "cell_type": "code",
   "execution_count": 59,
   "metadata": {},
   "outputs": [
    {
     "name": "stdout",
     "output_type": "stream",
     "text": [
      "x = 10 y = 20\n"
     ]
    }
   ],
   "source": [
    "x = 10\n",
    "y = 20\n",
    "print(f\"x = {x} y = {y}\")"
   ]
  },
  {
   "cell_type": "code",
   "execution_count": 64,
   "metadata": {},
   "outputs": [
    {
     "name": "stdout",
     "output_type": "stream",
     "text": [
      "Time = 2020-10-01 03:59:46.155518\n"
     ]
    }
   ],
   "source": [
    "import datetime\n",
    "print(f\"Time = {datetime.datetime.now()}\")"
   ]
  },
  {
   "cell_type": "code",
   "execution_count": 88,
   "metadata": {},
   "outputs": [
    {
     "name": "stdout",
     "output_type": "stream",
     "text": [
      "x = 10 y = 20.000000\n",
      "x = 10 y = 20.000000  abcd\n",
      "30 10.000000  abcd\n",
      "x = 10\n",
      "20 <class 'int'>\n"
     ]
    }
   ],
   "source": [
    "# formatting using format string\n",
    "# %d => int\n",
    "# %f => float\n",
    "# %s => string\n",
    "x: int = 10\n",
    "y:float = 20\n",
    "print(\"x = %d y = %f\" % (x,y))\n",
    "print(\"x = %d y = %f  %s\" % (x,y, \"abcd\")) # %: modulus operator  used for string formatting\n",
    "print(\"%d %f  %s\" % (x+y, 10, \"abcd\"))\n",
    "print(\"x = %d\" % x)\n",
    "print(y, type(y))"
   ]
  },
  {
   "cell_type": "code",
   "execution_count": 84,
   "metadata": {},
   "outputs": [
    {
     "name": "stdout",
     "output_type": "stream",
     "text": [
      "x = 30 y = True  abcd\n"
     ]
    }
   ],
   "source": [
    "# formatting using format function\n",
    "x = 10\n",
    "y = 20\n",
    "print(\"x = {} y = {}  {}\".format(x+y, True, \"abcd\"))"
   ]
  },
  {
   "cell_type": "code",
   "execution_count": 75,
   "metadata": {},
   "outputs": [
    {
     "name": "stdout",
     "output_type": "stream",
     "text": [
      "2\n",
      "aa\n"
     ]
    }
   ],
   "source": [
    "print(1*2)\n",
    "print(\"a\" * 2)"
   ]
  },
  {
   "cell_type": "code",
   "execution_count": 77,
   "metadata": {},
   "outputs": [
    {
     "name": "stdout",
     "output_type": "stream",
     "text": [
      "[] <class 'list'>\n",
      "<class 'list'>\n"
     ]
    }
   ],
   "source": [
    "a = []\n",
    "print(a, type(a))\n",
    "r = dir()\n",
    "print(type(r))"
   ]
  },
  {
   "cell_type": "code",
   "execution_count": 86,
   "metadata": {},
   "outputs": [
    {
     "name": "stdout",
     "output_type": "stream",
     "text": [
      "2020-10-01 04:13:35.966103 ABCD: This is datetime\n"
     ]
    }
   ],
   "source": [
    "print(datetime.datetime.now(), \"ABCD:\", \"This is datetime\")\n",
    "log()"
   ]
  },
  {
   "cell_type": "code",
   "execution_count": null,
   "metadata": {},
   "outputs": [],
   "source": [
    "\"SELECT * from {};\".format(table_name)"
   ]
  },
  {
   "cell_type": "code",
   "execution_count": 87,
   "metadata": {},
   "outputs": [
    {
     "name": "stdout",
     "output_type": "stream",
     "text": [
      "11\n",
      "x = 11 y = 5\n"
     ]
    }
   ],
   "source": [
    "# x= .. y = ..\n",
    "\n",
    "x = int(input())\n",
    "y = x//2\n",
    "\n",
    "s = \"x = \" + str(x) + \" y = \" + str(y)\n",
    "print(s)\n"
   ]
  },
  {
   "cell_type": "code",
   "execution_count": 91,
   "metadata": {},
   "outputs": [],
   "source": [
    "s = \"x = %d y = %f\" % (x,y)\n"
   ]
  },
  {
   "cell_type": "code",
   "execution_count": 89,
   "metadata": {},
   "outputs": [
    {
     "name": "stdout",
     "output_type": "stream",
     "text": [
      "x = %d y = %f 10 20\n"
     ]
    }
   ],
   "source": [
    "print(\"x = %d y = %f\" , x,y)"
   ]
  },
  {
   "cell_type": "code",
   "execution_count": 92,
   "metadata": {},
   "outputs": [
    {
     "name": "stdout",
     "output_type": "stream",
     "text": [
      "x = 10 y = 20\n"
     ]
    }
   ],
   "source": [
    "x = 10\n",
    "y = 20\n",
    "s = f\"x = {x} y = {y}\"\n",
    "print(s)"
   ]
  },
  {
   "cell_type": "code",
   "execution_count": 97,
   "metadata": {},
   "outputs": [
    {
     "name": "stdout",
     "output_type": "stream",
     "text": [
      "10 1.5 1, 1/1.5\n"
     ]
    }
   ],
   "source": [
    "r = \"{} {s} {x}, {x}/{s}\".format(10, s=1.5, x = 1)\n",
    "print(r)"
   ]
  },
  {
   "cell_type": "code",
   "execution_count": 100,
   "metadata": {},
   "outputs": [
    {
     "name": "stdout",
     "output_type": "stream",
     "text": [
      "gaurav\n",
      "abcd\n",
      "gaurav\n",
      " abcd\n"
     ]
    }
   ],
   "source": [
    "print(\"gaurav\\nabcd\")\n",
    "print(\"gaurav\\n abcd\")"
   ]
  }
 ],
 "metadata": {
  "kernelspec": {
   "display_name": "Python 3",
   "language": "python",
   "name": "python3"
  },
  "language_info": {
   "codemirror_mode": {
    "name": "ipython",
    "version": 3
   },
   "file_extension": ".py",
   "mimetype": "text/x-python",
   "name": "python",
   "nbconvert_exporter": "python",
   "pygments_lexer": "ipython3",
   "version": "3.8.3"
  }
 },
 "nbformat": 4,
 "nbformat_minor": 4
}
