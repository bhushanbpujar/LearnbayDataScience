{
 "cells": [
  {
   "cell_type": "code",
   "execution_count": 1,
   "metadata": {},
   "outputs": [
    {
     "ename": "ValueError",
     "evalue": "too many values to unpack (expected 3)",
     "output_type": "error",
     "traceback": [
      "\u001b[0;31m---------------------------------------------------------------------------\u001b[0m",
      "\u001b[0;31mValueError\u001b[0m                                Traceback (most recent call last)",
      "\u001b[0;32m<ipython-input-1-bef1237952e1>\u001b[0m in \u001b[0;36m<module>\u001b[0;34m\u001b[0m\n\u001b[1;32m      8\u001b[0m \u001b[0;34m\u001b[0m\u001b[0m\n\u001b[1;32m      9\u001b[0m \u001b[0;32mfor\u001b[0m \u001b[0mexam_list\u001b[0m \u001b[0;32min\u001b[0m \u001b[0mexams_info\u001b[0m\u001b[0;34m:\u001b[0m\u001b[0;34m\u001b[0m\u001b[0;34m\u001b[0m\u001b[0m\n\u001b[0;32m---> 10\u001b[0;31m     \u001b[0;32mfor\u001b[0m \u001b[0mexam_name\u001b[0m\u001b[0;34m,\u001b[0m\u001b[0mwhen_happens\u001b[0m\u001b[0;34m,\u001b[0m\u001b[0mtotal_score\u001b[0m \u001b[0;32min\u001b[0m \u001b[0mexam_list\u001b[0m\u001b[0;34m:\u001b[0m\u001b[0;34m\u001b[0m\u001b[0;34m\u001b[0m\u001b[0m\n\u001b[0m\u001b[1;32m     11\u001b[0m         \u001b[0mprint\u001b[0m\u001b[0;34m(\u001b[0m\u001b[0;34mf\"exam name is {exam_name} and happen in {when_happens} for total marks {total_score}\"\u001b[0m\u001b[0;34m)\u001b[0m\u001b[0;34m\u001b[0m\u001b[0;34m\u001b[0m\u001b[0m\n\u001b[1;32m     12\u001b[0m \u001b[0;34m\u001b[0m\u001b[0m\n",
      "\u001b[0;31mValueError\u001b[0m: too many values to unpack (expected 3)"
     ]
    }
   ],
   "source": [
    "exams_info=[ (\"1st  board exam\",\"7th class\",600),\n",
    "            (\"2nd board exam\",\"10th class\",600),\n",
    "            (\"3rd board exam\",\"Inter 1st year\",500),\n",
    "            (\"4th board exam\",\"Inter2nd year\",500),\n",
    "            (\"Eamcet\",\"After Inter\",1000),\n",
    "            (\"Btech\",\"4 Years\",100)\n",
    "            ]\n",
    "\n",
    "for exam_list in exams_info:\n",
    "    for exam_name,when_happens,total_score in exam_list:\n",
    "        print(f\"exam name is {exam_name} and happen in {when_happens} for total marks {total_score}\")"
   ]
  },
  {
   "cell_type": "code",
   "execution_count": null,
   "metadata": {},
   "outputs": [],
   "source": [
    "# dict\n",
    "[]\n",
    "()\n",
    "{} # => dict, set"
   ]
  },
  {
   "cell_type": "code",
   "execution_count": null,
   "metadata": {},
   "outputs": [],
   "source": [
    "# dict\n",
    "- mapping type (hashmap) # hashing => maps keys to array indexes..\n",
    "- mutable\n",
    "- key and value\n",
    "- key has to be an immutable type: str, tuple, int, float, boolean\n",
    "- value : any type\n",
    "- keys have to unique, values need not be"
   ]
  },
  {
   "cell_type": "code",
   "execution_count": null,
   "metadata": {},
   "outputs": [],
   "source": [
    "# a=[10,20,30,40, 8]\n",
    "#     0 1  2  3   4  "
   ]
  },
  {
   "cell_type": "code",
   "execution_count": null,
   "metadata": {},
   "outputs": [],
   "source": [
    "# search or lookup by value\n",
    "a  = [???]\n",
    "query  = ?\n",
    "for i,v in enumerate(a):\n",
    "    if v == query:\n",
    "        pos = i\n",
    "        break\n",
    "        \n",
    "a.index(query) # ?? internally a loop\n",
    "# O(n)"
   ]
  },
  {
   "cell_type": "code",
   "execution_count": null,
   "metadata": {},
   "outputs": [],
   "source": [
    "# lookup by index\n",
    "a[idx] ...\n",
    "# O(1)"
   ]
  },
  {
   "cell_type": "code",
   "execution_count": null,
   "metadata": {},
   "outputs": [],
   "source": [
    "# array/list\n",
    "# a=[10,20,30,40, 8] : value\n",
    "#     0 1  2  3   4  : key   in array always numeric.. 0 - (n-1)"
   ]
  },
  {
   "cell_type": "code",
   "execution_count": 2,
   "metadata": {},
   "outputs": [
    {
     "name": "stdout",
     "output_type": "stream",
     "text": [
      "{10: 100} <class 'dict'>\n"
     ]
    }
   ],
   "source": [
    "d = {10:100} # key=>10   ; value=> 100\n",
    "print(d, type(d))"
   ]
  },
  {
   "cell_type": "code",
   "execution_count": 6,
   "metadata": {},
   "outputs": [
    {
     "name": "stdout",
     "output_type": "stream",
     "text": [
      "{1: 'abcd', 'a': [10, 20]}\n",
      "abcd\n",
      "[10, 20]\n"
     ]
    },
    {
     "ename": "KeyError",
     "evalue": "'abcd'",
     "output_type": "error",
     "traceback": [
      "\u001b[0;31m---------------------------------------------------------------------------\u001b[0m",
      "\u001b[0;31mKeyError\u001b[0m                                  Traceback (most recent call last)",
      "\u001b[0;32m<ipython-input-6-ecaeefab0587>\u001b[0m in \u001b[0;36m<module>\u001b[0;34m\u001b[0m\n\u001b[1;32m      3\u001b[0m \u001b[0mprint\u001b[0m\u001b[0;34m(\u001b[0m\u001b[0md\u001b[0m\u001b[0;34m[\u001b[0m\u001b[0;36m1\u001b[0m\u001b[0;34m]\u001b[0m\u001b[0;34m)\u001b[0m\u001b[0;34m\u001b[0m\u001b[0;34m\u001b[0m\u001b[0m\n\u001b[1;32m      4\u001b[0m \u001b[0mprint\u001b[0m\u001b[0;34m(\u001b[0m\u001b[0md\u001b[0m\u001b[0;34m[\u001b[0m\u001b[0;34m'a'\u001b[0m\u001b[0;34m]\u001b[0m\u001b[0;34m)\u001b[0m\u001b[0;34m\u001b[0m\u001b[0;34m\u001b[0m\u001b[0m\n\u001b[0;32m----> 5\u001b[0;31m \u001b[0mprint\u001b[0m\u001b[0;34m(\u001b[0m\u001b[0md\u001b[0m\u001b[0;34m[\u001b[0m\u001b[0;34m\"abcd\"\u001b[0m\u001b[0;34m]\u001b[0m\u001b[0;34m)\u001b[0m\u001b[0;34m\u001b[0m\u001b[0;34m\u001b[0m\u001b[0m\n\u001b[0m",
      "\u001b[0;31mKeyError\u001b[0m: 'abcd'"
     ]
    }
   ],
   "source": [
    "d = {1:\"abcd\", \"a\": [10,20]}\n",
    "print(d)\n",
    "print(d[1]) # loookup... key\n",
    "print(d['a'])\n",
    "print(d[\"abcd\"])"
   ]
  },
  {
   "cell_type": "code",
   "execution_count": 8,
   "metadata": {},
   "outputs": [
    {
     "name": "stdout",
     "output_type": "stream",
     "text": [
      "{1: '1234', 2: 'pqr'}\n"
     ]
    }
   ],
   "source": [
    "# keys are always unique\n",
    "d = {1:\"abcd\",2:\"pqr\",1:\"1234\"}\n",
    "print(d)"
   ]
  },
  {
   "cell_type": "code",
   "execution_count": 11,
   "metadata": {},
   "outputs": [
    {
     "name": "stdout",
     "output_type": "stream",
     "text": [
      "{} 0\n",
      "{} 0\n"
     ]
    }
   ],
   "source": [
    "# empty dict\n",
    "d = {}\n",
    "print(d, len(d))\n",
    "\n",
    "d = dict()\n",
    "print(d, len(d))"
   ]
  },
  {
   "cell_type": "code",
   "execution_count": 15,
   "metadata": {},
   "outputs": [
    {
     "name": "stdout",
     "output_type": "stream",
     "text": [
      "{10: 100}\n",
      "{10: 100, 'ab': 10000000}\n",
      "{10: 10000000, 'ab': 10000000}\n"
     ]
    }
   ],
   "source": [
    "# update or inserting keys and values\n",
    "\n",
    "d = {}\n",
    "d[10] = 100 # insert a key 10 with value 100\n",
    "print(d)\n",
    "d[\"ab\"] = 10000000 # insert\n",
    "print(d)\n",
    "d[10] = 10000000 # update key if it already exists\n",
    "print(d)"
   ]
  },
  {
   "cell_type": "code",
   "execution_count": 16,
   "metadata": {},
   "outputs": [
    {
     "name": "stdout",
     "output_type": "stream",
     "text": [
      "{'A': 65, 'B': 66, 'C': 67, 'D': 68, 'E': 69, 'F': 70, 'G': 71, 'H': 72, 'I': 73, 'J': 74, 'K': 75, 'L': 76, 'M': 77, 'N': 78, 'O': 79, 'P': 80, 'Q': 81, 'R': 82, 'S': 83, 'T': 84, 'U': 85, 'V': 86, 'W': 87, 'X': 88, 'Y': 89, 'Z': 90}\n"
     ]
    }
   ],
   "source": [
    "d = {}\n",
    "for i in range(65,91):\n",
    "    d[chr(i)] = i\n",
    "    \n",
    "print(d)"
   ]
  },
  {
   "cell_type": "code",
   "execution_count": 17,
   "metadata": {},
   "outputs": [
    {
     "name": "stdout",
     "output_type": "stream",
     "text": [
      "{'A': None, 'B': None, 'C': None, 'D': None, 'E': None, 'F': None, 'G': None, 'H': None, 'I': None, 'J': None, 'K': None, 'L': None, 'M': None, 'N': None, 'O': None, 'P': None, 'Q': None, 'R': None, 'S': None, 'T': None, 'U': None, 'V': None, 'W': None, 'X': None, 'Y': None, 'Z': None}\n"
     ]
    }
   ],
   "source": [
    "d = {}\n",
    "for i in range(65,91):\n",
    "    d[chr(i)] = None\n",
    "    \n",
    "print(d)"
   ]
  },
  {
   "cell_type": "code",
   "execution_count": 18,
   "metadata": {},
   "outputs": [
    {
     "name": "stdout",
     "output_type": "stream",
     "text": [
      "this is dict\n",
      "{'t': None, 'h': None, 'i': None, 's': None, ' ': None, 'd': None, 'c': None}\n"
     ]
    }
   ],
   "source": [
    "s = input()\n",
    "d = {}\n",
    "for i in s:\n",
    "    d[i] = None\n",
    "print(d)"
   ]
  },
  {
   "cell_type": "code",
   "execution_count": 23,
   "metadata": {},
   "outputs": [
    {
     "name": "stdout",
     "output_type": "stream",
     "text": [
      "dict_keys([10, 20])\n",
      "dict_values([100, 200])\n",
      "dict_items([(10, 100), (20, 200)])\n",
      "\n",
      "(10, 100)\n",
      "(20, 200)\n"
     ]
    }
   ],
   "source": [
    "d = {10:100,20:200}\n",
    "print(d.keys()) # this behaves like a list\n",
    "print(d.values()) # this behaves like a list\n",
    "print(d.items()) # this behaves like a list\n",
    "\n",
    "print()\n",
    "for v in d.items():\n",
    "    print(v)"
   ]
  },
  {
   "cell_type": "code",
   "execution_count": 19,
   "metadata": {},
   "outputs": [
    {
     "name": "stdout",
     "output_type": "stream",
     "text": [
      "True\n",
      "False\n",
      "True\n"
     ]
    }
   ],
   "source": [
    "# membership check: always done only for keys\n",
    "d = {10:100,20:200}\n",
    "print(10 in d)\n",
    "print(100 in d)\n",
    "print(100 not in d)"
   ]
  },
  {
   "cell_type": "code",
   "execution_count": 25,
   "metadata": {},
   "outputs": [
    {
     "name": "stdout",
     "output_type": "stream",
     "text": [
      "this is dict\n",
      "{'t': 1, 'h': 1, 'i': 1, 's': 1, ' ': 1, 'd': 1, 'c': 1}\n"
     ]
    }
   ],
   "source": [
    "# unique value\n",
    "s = input()\n",
    "d = {}\n",
    "for i in s:\n",
    "    if i not in d:\n",
    "        d[i] = 1\n",
    "print(d)"
   ]
  },
  {
   "cell_type": "code",
   "execution_count": 26,
   "metadata": {},
   "outputs": [
    {
     "name": "stdout",
     "output_type": "stream",
     "text": [
      "this is dict\n",
      "{'t': 2, 'h': 1, 'i': 3, 's': 2, ' ': 2, 'd': 1, 'c': 1}\n"
     ]
    }
   ],
   "source": [
    "# count frequency of each character in a string\n",
    "s = input()\n",
    "d = {}\n",
    "for i in s: # O(n)\n",
    "    if i not in d:\n",
    "        d[i] = 1\n",
    "    else:\n",
    "        d[i] = d[i] + 1\n",
    "print(d)\n",
    "# i : t    h           i            s                 ' '                     i                       s\n",
    "# {} {t:1} {t:1, h:1} {t:1,h:1,i:1} {t:1,h:1,i:1,s:1} {t:1,h:1,i:1,s:1,' ':1} {t:1,h:1,i:2,s:1,' ':1} {t:1,h:1,i:2,s:2,' ':1}..."
   ]
  },
  {
   "cell_type": "code",
   "execution_count": 28,
   "metadata": {},
   "outputs": [
    {
     "name": "stdout",
     "output_type": "stream",
     "text": [
      "{'h', 's', 'i', 'a', 'd', 't', 'c', ' '}\n",
      "['__and__', '__class__', '__contains__', '__delattr__', '__dir__', '__doc__', '__eq__', '__format__', '__ge__', '__getattribute__', '__gt__', '__hash__', '__iand__', '__init__', '__init_subclass__', '__ior__', '__isub__', '__iter__', '__ixor__', '__le__', '__len__', '__lt__', '__ne__', '__new__', '__or__', '__rand__', '__reduce__', '__reduce_ex__', '__repr__', '__ror__', '__rsub__', '__rxor__', '__setattr__', '__sizeof__', '__str__', '__sub__', '__subclasshook__', '__xor__', 'add', 'clear', 'copy', 'difference', 'difference_update', 'discard', 'intersection', 'intersection_update', 'isdisjoint', 'issubset', 'issuperset', 'pop', 'remove', 'symmetric_difference', 'symmetric_difference_update', 'union', 'update']\n"
     ]
    }
   ],
   "source": [
    "r = set(\"this is a dict\")\n",
    "print(r)\n",
    "print(dir(r))"
   ]
  },
  {
   "cell_type": "code",
   "execution_count": 31,
   "metadata": {},
   "outputs": [
    {
     "name": "stdout",
     "output_type": "stream",
     "text": [
      "this is a sttring\n",
      "'t' => 3\n",
      "'h' => 1\n",
      "'i' => 3\n",
      "'s' => 3\n",
      "' ' => 3\n",
      "'a' => 1\n",
      "'r' => 1\n",
      "'n' => 1\n",
      "'g' => 1\n"
     ]
    }
   ],
   "source": [
    "s = input()\n",
    "d = {}\n",
    "for i in s: # O(n)\n",
    "    if i not in d:\n",
    "        d[i] = 1\n",
    "    else:\n",
    "        d[i] = d[i] + 1\n",
    "\n",
    "for k, v in d.items():\n",
    "    print(f\"{repr(k)} => {v}\")"
   ]
  },
  {
   "cell_type": "code",
   "execution_count": 32,
   "metadata": {},
   "outputs": [
    {
     "name": "stdout",
     "output_type": "stream",
     "text": [
      "['__class__', '__contains__', '__delattr__', '__delitem__', '__dir__', '__doc__', '__eq__', '__format__', '__ge__', '__getattribute__', '__getitem__', '__gt__', '__hash__', '__init__', '__init_subclass__', '__iter__', '__le__', '__len__', '__lt__', '__ne__', '__new__', '__reduce__', '__reduce_ex__', '__repr__', '__reversed__', '__setattr__', '__setitem__', '__sizeof__', '__str__', '__subclasshook__', 'clear', 'copy', 'fromkeys', 'get', 'items', 'keys', 'pop', 'popitem', 'setdefault', 'update', 'values']\n"
     ]
    }
   ],
   "source": [
    "print(dir(dict))"
   ]
  },
  {
   "cell_type": "code",
   "execution_count": 42,
   "metadata": {},
   "outputs": [
    {
     "name": "stdout",
     "output_type": "stream",
     "text": [
      "None\n",
      "2\n",
      "\n",
      "2\n",
      "1\n"
     ]
    }
   ],
   "source": [
    "d = {'t': 2, 'h': 1, 'i': 3, 's': 2, ' ': 2, 'd': 1, 'c': 1}\n",
    "# d[1] => key error\n",
    "r = d.get(1)\n",
    "print(r)\n",
    "r = d.get('t')\n",
    "print(r)\n",
    "\n",
    "print()\n",
    "# get with default\n",
    "r = d.get('t', 1)\n",
    "print(r)\n",
    "r = d.get('ttttt', 1)\n",
    "print(r)"
   ]
  },
  {
   "cell_type": "code",
   "execution_count": 43,
   "metadata": {},
   "outputs": [
    {
     "name": "stdout",
     "output_type": "stream",
     "text": [
      "this is string\n",
      "'t' => 2\n",
      "'h' => 1\n",
      "'i' => 3\n",
      "'s' => 3\n",
      "' ' => 2\n",
      "'r' => 1\n",
      "'n' => 1\n",
      "'g' => 1\n"
     ]
    }
   ],
   "source": [
    "s = input()\n",
    "d = {}\n",
    "\n",
    "for i in s: # O(n)\n",
    "    d[i] = d.get(i, 0) + 1\n",
    "\n",
    "# print data\n",
    "for k, v in d.items():\n",
    "    print(f\"{repr(k)} => {v}\")"
   ]
  },
  {
   "cell_type": "code",
   "execution_count": 47,
   "metadata": {},
   "outputs": [
    {
     "name": "stdout",
     "output_type": "stream",
     "text": [
      "2\n",
      "{'h': 1, 'i': 3, 's': 2, ' ': 2, 'd': 1, 'c': 1}\n",
      "\n",
      "None\n",
      "{'h': 1, 'i': 3, 's': 2, ' ': 2, 'd': 1, 'c': 1}\n"
     ]
    }
   ],
   "source": [
    "# deleting key and value\n",
    "\n",
    "d = {'t': 2, 'h': 1, 'i': 3, 's': 2, ' ': 2, 'd': 1, 'c': 1}\n",
    "\n",
    "r = d.pop('t')\n",
    "print(r)\n",
    "print(d) # t is gone\n",
    "\n",
    "print()\n",
    "#r = d.pop('t')\n",
    "r = d.pop('t', None)\n",
    "print(r)\n",
    "print(d)"
   ]
  },
  {
   "cell_type": "code",
   "execution_count": 49,
   "metadata": {},
   "outputs": [
    {
     "name": "stdout",
     "output_type": "stream",
     "text": [
      "('d', 1)\n",
      "(' ', 2)\n"
     ]
    }
   ],
   "source": [
    "r = d.popitem()\n",
    "print(r)\n",
    "r = d.popitem()\n",
    "print(r)"
   ]
  },
  {
   "cell_type": "code",
   "execution_count": 51,
   "metadata": {},
   "outputs": [
    {
     "name": "stdout",
     "output_type": "stream",
     "text": [
      "{1: 100}\n",
      "{1: 100, 2: 20000}\n"
     ]
    }
   ],
   "source": [
    "d = {1:100}\n",
    "d.setdefault(1,20000)\n",
    "print(d)\n",
    "d.setdefault(2,20000)\n",
    "print(d)"
   ]
  },
  {
   "cell_type": "code",
   "execution_count": 53,
   "metadata": {},
   "outputs": [
    {
     "name": "stdout",
     "output_type": "stream",
     "text": [
      "{1: 10, 2: 20, 3: 10}\n",
      "{3: 10, 2: 20}\n"
     ]
    }
   ],
   "source": [
    "d1 = {1:10,2:20}\n",
    "d2 = {3:10,2:20}\n",
    "d1.update(d2)\n",
    "print(d1)\n",
    "print(d2)"
   ]
  },
  {
   "cell_type": "code",
   "execution_count": 60,
   "metadata": {},
   "outputs": [
    {
     "name": "stdout",
     "output_type": "stream",
     "text": [
      "{1: 200, 2: 22222}\n",
      "dict_items([(1, 200), (2, 22222)])\n"
     ]
    }
   ],
   "source": [
    "a = [(1,200), [2,22222]]\n",
    "d = dict(a)\n",
    "print(d)\n",
    "print(d.items())"
   ]
  },
  {
   "cell_type": "code",
   "execution_count": 65,
   "metadata": {},
   "outputs": [
    {
     "name": "stdout",
     "output_type": "stream",
     "text": [
      "{(1, 2): [1, 2, 3, 4], 1: {1: 2, 2: 3}}\n",
      "[1, 2, 3, 4]\n",
      "{(1, 2): [1, 2, 3, 4, 5], 1: {1: 2, 2: 3}}\n"
     ]
    }
   ],
   "source": [
    "d = {(1,2): [1,2,3,4], 1: {1:2,2:3}}\n",
    "print(d)\n",
    "print(d[(1,2)])\n",
    "d[(1,2)].append(5)\n",
    "print(d)"
   ]
  },
  {
   "cell_type": "code",
   "execution_count": 67,
   "metadata": {},
   "outputs": [
    {
     "name": "stdout",
     "output_type": "stream",
     "text": [
      "10000\n"
     ]
    }
   ],
   "source": [
    "def sq(x):\n",
    "    return x**2\n",
    "def cu(x):\n",
    "    return x**3\n",
    "functs = {2: sq, 3: cu}\n",
    "\n",
    "f = functs[2]\n",
    "print(f(100))"
   ]
  },
  {
   "cell_type": "code",
   "execution_count": 71,
   "metadata": {},
   "outputs": [
    {
     "name": "stdout",
     "output_type": "stream",
     "text": [
      "['__add__', '__class__', '__contains__', '__delattr__', '__dir__', '__doc__', '__eq__', '__format__', '__ge__', '__getattribute__', '__getitem__', '__getnewargs__', '__gt__', '__hash__', '__init__', '__init_subclass__', '__iter__', '__le__', '__len__', '__lt__', '__mod__', '__mul__', '__ne__', '__new__', '__reduce__', '__reduce_ex__', '__repr__', '__rmod__', '__rmul__', '__setattr__', '__sizeof__', '__str__', '__subclasshook__', 'capitalize', 'casefold', 'center', 'count', 'encode', 'endswith', 'expandtabs', 'find', 'format', 'format_map', 'index', 'isalnum', 'isalpha', 'isascii', 'isdecimal', 'isdigit', 'isidentifier', 'islower', 'isnumeric', 'isprintable', 'isspace', 'istitle', 'isupper', 'join', 'ljust', 'lower', 'lstrip', 'maketrans', 'partition', 'replace', 'rfind', 'rindex', 'rjust', 'rpartition', 'rsplit', 'rstrip', 'split', 'splitlines', 'startswith', 'strip', 'swapcase', 'title', 'translate', 'upper', 'zfill']\n",
      "\n",
      "abcdpqr\n",
      "abcdpqr\n"
     ]
    }
   ],
   "source": [
    "# magic methods\n",
    "s = \"abcd\"\n",
    "print(dir(s))\n",
    "\n",
    "print()\n",
    "r = s.__add__(\"pqr\")\n",
    "print(r)\n",
    "\n",
    "r = s + \"pqr\"\n",
    "print(r)"
   ]
  },
  {
   "cell_type": "code",
   "execution_count": 73,
   "metadata": {},
   "outputs": [
    {
     "name": "stdout",
     "output_type": "stream",
     "text": [
      "['__abs__', '__add__', '__and__', '__bool__', '__ceil__', '__class__', '__delattr__', '__dir__', '__divmod__', '__doc__', '__eq__', '__float__', '__floor__', '__floordiv__', '__format__', '__ge__', '__getattribute__', '__getnewargs__', '__gt__', '__hash__', '__index__', '__init__', '__init_subclass__', '__int__', '__invert__', '__le__', '__lshift__', '__lt__', '__mod__', '__mul__', '__ne__', '__neg__', '__new__', '__or__', '__pos__', '__pow__', '__radd__', '__rand__', '__rdivmod__', '__reduce__', '__reduce_ex__', '__repr__', '__rfloordiv__', '__rlshift__', '__rmod__', '__rmul__', '__ror__', '__round__', '__rpow__', '__rrshift__', '__rshift__', '__rsub__', '__rtruediv__', '__rxor__', '__setattr__', '__sizeof__', '__str__', '__sub__', '__subclasshook__', '__truediv__', '__trunc__', '__xor__', 'as_integer_ratio', 'bit_length', 'conjugate', 'denominator', 'from_bytes', 'imag', 'numerator', 'real', 'to_bytes']\n"
     ]
    }
   ],
   "source": [
    "print(dir(1))"
   ]
  },
  {
   "cell_type": "code",
   "execution_count": 76,
   "metadata": {},
   "outputs": [
    {
     "name": "stdout",
     "output_type": "stream",
     "text": [
      "Equivalent to base**exp with 2 arguments or base**exp % mod with 3 arguments\n",
      "\n",
      "Some types, such as ints, are able to use a more efficient algorithm when\n",
      "invoked using the three argument form.\n"
     ]
    }
   ],
   "source": [
    "print(pow.__doc__)"
   ]
  },
  {
   "cell_type": "code",
   "execution_count": 77,
   "metadata": {},
   "outputs": [
    {
     "name": "stdout",
     "output_type": "stream",
     "text": [
      "Help on built-in function pow in module builtins:\n",
      "\n",
      "pow(base, exp, mod=None)\n",
      "    Equivalent to base**exp with 2 arguments or base**exp % mod with 3 arguments\n",
      "    \n",
      "    Some types, such as ints, are able to use a more efficient algorithm when\n",
      "    invoked using the three argument form.\n",
      "\n",
      "None\n"
     ]
    }
   ],
   "source": [
    "print(help(pow))"
   ]
  },
  {
   "cell_type": "code",
   "execution_count": null,
   "metadata": {},
   "outputs": [],
   "source": []
  }
 ],
 "metadata": {
  "kernelspec": {
   "display_name": "Python 3",
   "language": "python",
   "name": "python3"
  },
  "language_info": {
   "codemirror_mode": {
    "name": "ipython",
    "version": 3
   },
   "file_extension": ".py",
   "mimetype": "text/x-python",
   "name": "python",
   "nbconvert_exporter": "python",
   "pygments_lexer": "ipython3",
   "version": "3.8.3"
  }
 },
 "nbformat": 4,
 "nbformat_minor": 4
}
