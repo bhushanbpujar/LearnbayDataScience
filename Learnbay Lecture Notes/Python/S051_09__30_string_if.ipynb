{
 "cells": [
  {
   "cell_type": "code",
   "execution_count": 3,
   "metadata": {},
   "outputs": [
    {
     "name": "stdout",
     "output_type": "stream",
     "text": [
      "Hello\n"
     ]
    }
   ],
   "source": [
    "\"\"\"\n",
    "Multi  line comment.\n",
    "\"\"\"\n",
    "\n",
    "print(\"Hello\")"
   ]
  },
  {
   "cell_type": "code",
   "execution_count": 4,
   "metadata": {},
   "outputs": [
    {
     "name": "stdout",
     "output_type": "stream",
     "text": [
      "Enter 2 numbers: 11 22\n"
     ]
    }
   ],
   "source": [
    "x = input(\"Enter 2 numbers: \")"
   ]
  },
  {
   "cell_type": "code",
   "execution_count": 6,
   "metadata": {},
   "outputs": [
    {
     "name": "stdout",
     "output_type": "stream",
     "text": [
      "'11 22'\n"
     ]
    }
   ],
   "source": [
    "print(repr(x))"
   ]
  },
  {
   "cell_type": "markdown",
   "metadata": {},
   "source": [
    "## string functions"
   ]
  },
  {
   "cell_type": "code",
   "execution_count": null,
   "metadata": {},
   "outputs": [],
   "source": []
  },
  {
   "cell_type": "code",
   "execution_count": null,
   "metadata": {},
   "outputs": [],
   "source": []
  },
  {
   "cell_type": "code",
   "execution_count": 10,
   "metadata": {},
   "outputs": [
    {
     "name": "stdout",
     "output_type": "stream",
     "text": [
      "Enter a string\n"
     ]
    },
    {
     "ename": "IndexError",
     "evalue": "string index out of range",
     "output_type": "error",
     "traceback": [
      "\u001b[0;31m---------------------------------------------------------------------------\u001b[0m",
      "\u001b[0;31mIndexError\u001b[0m                                Traceback (most recent call last)",
      "\u001b[0;32m<ipython-input-10-5191591757b9>\u001b[0m in \u001b[0;36m<module>\u001b[0;34m\u001b[0m\n\u001b[1;32m      1\u001b[0m \u001b[0mx\u001b[0m\u001b[0;34m=\u001b[0m\u001b[0minput\u001b[0m\u001b[0;34m(\u001b[0m\u001b[0;34m\"Enter a string\"\u001b[0m\u001b[0;34m)\u001b[0m\u001b[0;34m\u001b[0m\u001b[0;34m\u001b[0m\u001b[0m\n\u001b[0;32m----> 2\u001b[0;31m \u001b[0mprint\u001b[0m\u001b[0;34m(\u001b[0m\u001b[0mord\u001b[0m\u001b[0;34m(\u001b[0m\u001b[0mx\u001b[0m\u001b[0;34m[\u001b[0m\u001b[0;36m0\u001b[0m\u001b[0;34m]\u001b[0m\u001b[0;34m)\u001b[0m\u001b[0;34m)\u001b[0m\u001b[0;34m\u001b[0m\u001b[0;34m\u001b[0m\u001b[0m\n\u001b[0m\u001b[1;32m      3\u001b[0m \u001b[0mprint\u001b[0m\u001b[0;34m(\u001b[0m\u001b[0mord\u001b[0m\u001b[0;34m(\u001b[0m\u001b[0mx\u001b[0m\u001b[0;34m[\u001b[0m\u001b[0;34m-\u001b[0m\u001b[0;36m1\u001b[0m\u001b[0;34m]\u001b[0m\u001b[0;34m)\u001b[0m\u001b[0;34m)\u001b[0m\u001b[0;34m\u001b[0m\u001b[0;34m\u001b[0m\u001b[0m\n",
      "\u001b[0;31mIndexError\u001b[0m: string index out of range"
     ]
    }
   ],
   "source": [
    "x=input(\"Enter a string\")\n",
    "print(ord(x[0]))\n",
    "print(ord(x[-1]))"
   ]
  },
  {
   "cell_type": "code",
   "execution_count": 21,
   "metadata": {},
   "outputs": [
    {
     "name": "stdout",
     "output_type": "stream",
     "text": [
      "Enter a stringabcd\n",
      "97 \n",
      " 100\n",
      "This is outside if\n"
     ]
    }
   ],
   "source": [
    "x=input(\"Enter a string\")\n",
    "\n",
    "if len(x) > 0: # if block\n",
    "    pass\n",
    "    print(ord(x[0]), '\\n', ord(x[-1]))\n",
    "    \n",
    "print(\"This is outside if\")\n"
   ]
  },
  {
   "cell_type": "code",
   "execution_count": 20,
   "metadata": {},
   "outputs": [
    {
     "name": "stdout",
     "output_type": "stream",
     "text": [
      "World\n",
      "Hello\n"
     ]
    }
   ],
   "source": [
    "print(\"World\")\n",
    "pass\n",
    "print(\"Hello\")"
   ]
  },
  {
   "cell_type": "code",
   "execution_count": 22,
   "metadata": {},
   "outputs": [
    {
     "name": "stdout",
     "output_type": "stream",
     "text": [
      "['__add__', '__class__', '__contains__', '__delattr__', '__dir__', '__doc__', '__eq__', '__format__', '__ge__', '__getattribute__', '__getitem__', '__getnewargs__', '__gt__', '__hash__', '__init__', '__init_subclass__', '__iter__', '__le__', '__len__', '__lt__', '__mod__', '__mul__', '__ne__', '__new__', '__reduce__', '__reduce_ex__', '__repr__', '__rmod__', '__rmul__', '__setattr__', '__sizeof__', '__str__', '__subclasshook__', 'capitalize', 'casefold', 'center', 'count', 'encode', 'endswith', 'expandtabs', 'find', 'format', 'format_map', 'index', 'isalnum', 'isalpha', 'isascii', 'isdecimal', 'isdigit', 'isidentifier', 'islower', 'isnumeric', 'isprintable', 'isspace', 'istitle', 'isupper', 'join', 'ljust', 'lower', 'lstrip', 'maketrans', 'partition', 'replace', 'rfind', 'rindex', 'rjust', 'rpartition', 'rsplit', 'rstrip', 'split', 'splitlines', 'startswith', 'strip', 'swapcase', 'title', 'translate', 'upper', 'zfill']\n"
     ]
    }
   ],
   "source": [
    "#\n",
    "print(dir(str))"
   ]
  },
  {
   "cell_type": "code",
   "execution_count": 24,
   "metadata": {},
   "outputs": [
    {
     "name": "stdout",
     "output_type": "stream",
     "text": [
      "ABCD123ABCD\n",
      "abcd123ABCD\n"
     ]
    }
   ],
   "source": [
    "s = \"abcd123ABCD\"\n",
    "r = s.upper()\n",
    "print(r)\n",
    "print(s)"
   ]
  },
  {
   "cell_type": "code",
   "execution_count": 25,
   "metadata": {},
   "outputs": [
    {
     "name": "stdout",
     "output_type": "stream",
     "text": [
      "abcd123abcd\n",
      "abcd123ABCD\n"
     ]
    }
   ],
   "source": [
    "s = \"abcd123ABCD\"\n",
    "r = s.lower()\n",
    "print(r)\n",
    "print(s)"
   ]
  },
  {
   "cell_type": "code",
   "execution_count": 29,
   "metadata": {},
   "outputs": [
    {
     "name": "stdout",
     "output_type": "stream",
     "text": [
      "True\n",
      "False\n"
     ]
    }
   ],
   "source": [
    "print(\"abcd2 3 , .\".islower())\n",
    "print(\"abAAcd23\".islower())"
   ]
  },
  {
   "cell_type": "code",
   "execution_count": 38,
   "metadata": {},
   "outputs": [
    {
     "name": "stdout",
     "output_type": "stream",
     "text": [
      "Enter a number : abcd\n"
     ]
    },
    {
     "ename": "ValueError",
     "evalue": "invalid literal for int() with base 10: 'abcd'",
     "output_type": "error",
     "traceback": [
      "\u001b[0;31m---------------------------------------------------------------------------\u001b[0m",
      "\u001b[0;31mValueError\u001b[0m                                Traceback (most recent call last)",
      "\u001b[0;32m<ipython-input-38-d46e1672f158>\u001b[0m in \u001b[0;36m<module>\u001b[0;34m\u001b[0m\n\u001b[1;32m      2\u001b[0m \u001b[0;31m# if the thing is not a number set its value to 0\u001b[0m\u001b[0;34m\u001b[0m\u001b[0;34m\u001b[0m\u001b[0;34m\u001b[0m\u001b[0m\n\u001b[1;32m      3\u001b[0m \u001b[0;34m\u001b[0m\u001b[0m\n\u001b[0;32m----> 4\u001b[0;31m \u001b[0mx\u001b[0m \u001b[0;34m=\u001b[0m \u001b[0mint\u001b[0m\u001b[0;34m(\u001b[0m\u001b[0minput\u001b[0m\u001b[0;34m(\u001b[0m\u001b[0;34m\"Enter a number : \"\u001b[0m\u001b[0;34m)\u001b[0m\u001b[0;34m)\u001b[0m\u001b[0;34m\u001b[0m\u001b[0;34m\u001b[0m\u001b[0m\n\u001b[0m\u001b[1;32m      5\u001b[0m \u001b[0mprint\u001b[0m\u001b[0;34m(\u001b[0m\u001b[0mx\u001b[0m\u001b[0;34m)\u001b[0m\u001b[0;34m\u001b[0m\u001b[0;34m\u001b[0m\u001b[0m\n",
      "\u001b[0;31mValueError\u001b[0m: invalid literal for int() with base 10: 'abcd'"
     ]
    }
   ],
   "source": [
    "# wap to  input a number 'x' and  print it\n",
    "# if the thing is not a number set its value to 0\n",
    "\n",
    "x = int(input(\"Enter a number : \"))\n",
    "print(x)\n"
   ]
  },
  {
   "cell_type": "code",
   "execution_count": 37,
   "metadata": {},
   "outputs": [
    {
     "name": "stdout",
     "output_type": "stream",
     "text": [
      "True\n",
      "False\n",
      "False\n"
     ]
    }
   ],
   "source": [
    "print(\"123\".isdigit())\n",
    "print(\" 123\".isdigit())\n",
    "print(\"12.3\".isnumeric())"
   ]
  },
  {
   "cell_type": "code",
   "execution_count": 40,
   "metadata": {},
   "outputs": [
    {
     "name": "stdout",
     "output_type": "stream",
     "text": [
      "Enter a number : abcd\n",
      "1\n"
     ]
    }
   ],
   "source": [
    "x = input(\"Enter a number : \")\n",
    "\n",
    "if x.isdigit():\n",
    "    x = int(x)\n",
    "else:\n",
    "    x = 0\n",
    "\n",
    "print(x + 1)\n"
   ]
  },
  {
   "cell_type": "code",
   "execution_count": null,
   "metadata": {},
   "outputs": [],
   "source": []
  },
  {
   "cell_type": "code",
   "execution_count": 53,
   "metadata": {},
   "outputs": [
    {
     "name": "stdout",
     "output_type": "stream",
     "text": [
      "Enter a number:33\n",
      "odd\n"
     ]
    }
   ],
   "source": [
    "# even odd\n",
    "\n",
    "x = input(\"Enter a number:\")\n",
    "\n",
    "if x.isdigit():\n",
    "\n",
    "    x = int(x)\n",
    "    if x % 2 == 0: # nested if else\n",
    "        print(\"Even\")\n",
    "    else:\n",
    "        print(\"odd\")\n",
    "    \n",
    "else:\n",
    "    print(\"Please enter numbers\")"
   ]
  },
  {
   "cell_type": "code",
   "execution_count": 49,
   "metadata": {},
   "outputs": [
    {
     "name": "stdout",
     "output_type": "stream",
     "text": [
      "1\n",
      "5.5\n"
     ]
    }
   ],
   "source": [
    "print(11%2)\n",
    "print(11/2)"
   ]
  },
  {
   "cell_type": "code",
   "execution_count": 58,
   "metadata": {},
   "outputs": [
    {
     "name": "stdout",
     "output_type": "stream",
     "text": [
      "Enter num1 : 33\n",
      "enter num2 : 22\n",
      "33\n"
     ]
    }
   ],
   "source": [
    "# WAP to input 2 numbers..\n",
    "#  print larget one\n",
    "\n",
    "n1 = int(input(\"Enter num1 : \"))\n",
    "n2 = int(input(\"enter num2 : \"))\n",
    "\n",
    "if n1>n2:\n",
    "    print(n1)\n",
    "else:\n",
    "    print(n2)"
   ]
  },
  {
   "cell_type": "code",
   "execution_count": 60,
   "metadata": {},
   "outputs": [
    {
     "name": "stdout",
     "output_type": "stream",
     "text": [
      "False\n",
      "False\n",
      "False\n",
      "True\n"
     ]
    }
   ],
   "source": [
    "print(True and False)\n",
    "print(False and False)\n",
    "print(False and True)\n",
    "print(True and True)"
   ]
  },
  {
   "cell_type": "code",
   "execution_count": null,
   "metadata": {},
   "outputs": [],
   "source": [
    "s = input(\"Input first number:\")\n",
    "x = input(\"Input second number:\")\n",
    "\n",
    "if s.isdigit() and x.isdigit():\n",
    "    if int(s) > int(x):\n",
    "        print(s, \"is greater than \",x)\n",
    "    else:\n",
    "        print(x,\" is greater than \",s)\n",
    "else:\n",
    "    print(\"Please input numbers\")\n"
   ]
  },
  {
   "cell_type": "code",
   "execution_count": 59,
   "metadata": {},
   "outputs": [
    {
     "name": "stdout",
     "output_type": "stream",
     "text": [
      "Enter first number: 1\n",
      "Enter second number: 2\n",
      "2\n"
     ]
    }
   ],
   "source": [
    "x=input(\"Enter first number: \")\n",
    "x1=input(\"Enter second number: \")\n",
    "if x.isnumeric():\n",
    "    if x1.isnumeric():\n",
    "        if x>x1:\n",
    "            print(int(x))\n",
    "        else:\n",
    "            print(int(x1))\n",
    "    else:\n",
    "        print(\"x1 not a number\")\n",
    "else:\n",
    "    print(\"x is not a number\")\n"
   ]
  },
  {
   "cell_type": "code",
   "execution_count": null,
   "metadata": {},
   "outputs": [],
   "source": [
    "if <condition>:\n",
    "    .. \n",
    "else:b\n",
    "    .."
   ]
  },
  {
   "cell_type": "code",
   "execution_count": 63,
   "metadata": {},
   "outputs": [
    {
     "name": "stdout",
     "output_type": "stream",
     "text": [
      "'b cd  '\n",
      "\n",
      "' b cd'\n",
      "\n",
      "'b cd'\n"
     ]
    }
   ],
   "source": [
    "s = \" b cd  \"\n",
    "r = s.lstrip()\n",
    "print(repr(r))\n",
    "\n",
    "print()\n",
    "r = s.rstrip()\n",
    "print(repr(r))\n",
    "\n",
    "print()\n",
    "r = s.strip()\n",
    "print(repr(r))"
   ]
  },
  {
   "cell_type": "code",
   "execution_count": 71,
   "metadata": {},
   "outputs": [
    {
     "name": "stdout",
     "output_type": "stream",
     "text": [
      "Enter a number:  13\n",
      "Number\n"
     ]
    }
   ],
   "source": [
    "x = input(\"Enter a number: \").strip()\n",
    "\n",
    "if x.isdigit(): # chaining function calls\n",
    "    print(\"Number\")\n",
    "else:\n",
    "    print(\"Not a number\")"
   ]
  },
  {
   "cell_type": "code",
   "execution_count": 84,
   "metadata": {},
   "outputs": [
    {
     "name": "stdout",
     "output_type": "stream",
     "text": [
      "1\n",
      "-1\n",
      "0\n",
      "\n",
      "7\n",
      "-1\n",
      "\n",
      "6\n",
      "-1\n",
      "-1\n",
      "6\n",
      "\n",
      "6\n"
     ]
    }
   ],
   "source": [
    "s = \"abcdefabA B\"\n",
    "#    0123456789\n",
    "\n",
    "print(s.find('b')) # find is case senstitive\n",
    "print(s.find('D')) # if not present give -1\n",
    "print(s.find('a'))\n",
    "\n",
    "print()\n",
    "print(s.find('bA B'))\n",
    "print(s.find('bA D'))\n",
    "\n",
    "print()\n",
    "print(s.find('a',4))\n",
    "print(s.find('a',2, 5))\n",
    "print(s.find('a',2, 6))\n",
    "print(s.find('a',2, 7))\n",
    "\n",
    "print()\n",
    "print(s.rfind('a'))"
   ]
  },
  {
   "cell_type": "code",
   "execution_count": null,
   "metadata": {},
   "outputs": [],
   "source": []
  },
  {
   "cell_type": "code",
   "execution_count": 101,
   "metadata": {},
   "outputs": [
    {
     "name": "stdout",
     "output_type": "stream",
     "text": [
      "Enter numeric value: 123.45.55\n",
      "Cannot be converted to numeric\n"
     ]
    }
   ],
   "source": [
    "## input a float with validation # 123, 12.3, -123\n",
    "# abcd, \n",
    "s = input(\"Enter numeric value: \").strip()\n",
    "\n",
    "dot_pos = s.find(\".\")\n",
    "\n",
    "# int case\n",
    "if dot_pos == -1 and s.isdigit():\n",
    "    num = float(s)\n",
    "    print(\"integer\")\n",
    "else:\n",
    "    x = s[:dot_pos]\n",
    "    y = s[dot_pos+ 1:]\n",
    "    if x.isdigit() and y.isdigit():\n",
    "        num =  float(s)\n",
    "        print(\"Float\")\n",
    "    else:\n",
    "        print(\"Cannot be converted to numeric\")\n",
    "\n",
    "# tracing, dry-run\n",
    "#  s =  123\n",
    "# dot_pos -1"
   ]
  }
 ],
 "metadata": {
  "kernelspec": {
   "display_name": "Python 3",
   "language": "python",
   "name": "python3"
  },
  "language_info": {
   "codemirror_mode": {
    "name": "ipython",
    "version": 3
   },
   "file_extension": ".py",
   "mimetype": "text/x-python",
   "name": "python",
   "nbconvert_exporter": "python",
   "pygments_lexer": "ipython3",
   "version": "3.8.3"
  }
 },
 "nbformat": 4,
 "nbformat_minor": 4
}
