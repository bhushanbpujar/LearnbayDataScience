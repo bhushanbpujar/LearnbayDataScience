{
 "cells": [
  {
   "cell_type": "markdown",
   "metadata": {},
   "source": [
    "## functions"
   ]
  },
  {
   "cell_type": "code",
   "execution_count": 3,
   "metadata": {},
   "outputs": [
    {
     "name": "stdout",
     "output_type": "stream",
     "text": [
      "gaurav\n",
      "gaurav\n",
      "gaurav\n"
     ]
    }
   ],
   "source": [
    "# creating custom function\n",
    "# function definition\n",
    "def print_name():\n",
    "    print(\"gaurav\")\n",
    "    \n",
    "print_name()\n",
    "print_name()\n",
    "print_name()"
   ]
  },
  {
   "cell_type": "code",
   "execution_count": 7,
   "metadata": {},
   "outputs": [
    {
     "name": "stdout",
     "output_type": "stream",
     "text": [
      "enter a number:3\n",
      "3 is a odd\n"
     ]
    }
   ],
   "source": [
    "# define a function is_even() that inputs value from user and prints even/ odd on screen\n",
    "\n",
    "def is_even():\n",
    "    x = int(input(\"enter a number:\"))\n",
    "    if x % 2 == 0:\n",
    "        print(x,\"is a even number\")\n",
    "    else:\n",
    "        print(x,\"is a odd\")\n",
    "is_even()"
   ]
  }
 ],
 "metadata": {
  "kernelspec": {
   "display_name": "Python 3",
   "language": "python",
   "name": "python3"
  },
  "language_info": {
   "codemirror_mode": {
    "name": "ipython",
    "version": 3
   },
   "file_extension": ".py",
   "mimetype": "text/x-python",
   "name": "python",
   "nbconvert_exporter": "python",
   "pygments_lexer": "ipython3",
   "version": "3.8.3"
  }
 },
 "nbformat": 4,
 "nbformat_minor": 4
}
