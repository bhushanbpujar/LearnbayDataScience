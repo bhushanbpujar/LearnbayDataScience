{
 "cells": [
  {
   "cell_type": "code",
   "execution_count": null,
   "metadata": {},
   "outputs": [],
   "source": [
    "# loops\n",
    "- while\n",
    "- for"
   ]
  },
  {
   "cell_type": "code",
   "execution_count": 1,
   "metadata": {},
   "outputs": [
    {
     "name": "stdout",
     "output_type": "stream",
     "text": [
      "1 2 3\n"
     ]
    },
    {
     "data": {
      "text/plain": [
       "'1 2 3'"
      ]
     },
     "execution_count": 1,
     "metadata": {},
     "output_type": "execute_result"
    }
   ],
   "source": [
    "input()"
   ]
  },
  {
   "cell_type": "code",
   "execution_count": 2,
   "metadata": {},
   "outputs": [
    {
     "name": "stdout",
     "output_type": "stream",
     "text": [
      "Gaurav\n",
      "Gaurav\n",
      "Gaurav\n",
      "Gaurav\n",
      "Gaurav\n",
      "Gaurav\n"
     ]
    }
   ],
   "source": [
    "\n",
    "repeat =  int(input(\"Enter repeat: \"))\n",
    "\n",
    "print(\"Gaurav\")\n",
    "print(\"Gaurav\")\n",
    "print(\"Gaurav\")\n",
    "print(\"Gaurav\")\n",
    "print(\"Gaurav\")\n",
    "print(\"Gaurav\")"
   ]
  },
  {
   "cell_type": "code",
   "execution_count": 7,
   "metadata": {},
   "outputs": [
    {
     "name": "stdout",
     "output_type": "stream",
     "text": [
      "Enter repeat: 0\n",
      "End\n"
     ]
    }
   ],
   "source": [
    "\n",
    "repeat = int(input(\"Enter repeat: \"))\n",
    "\n",
    "i = 1\n",
    "while i <= repeat:\n",
    "    print(\"Gaurav\")\n",
    "    i += 1\n",
    "    \n",
    "print(\"End\")"
   ]
  },
  {
   "cell_type": "code",
   "execution_count": 8,
   "metadata": {},
   "outputs": [
    {
     "name": "stdout",
     "output_type": "stream",
     "text": [
      "Enter repeat: 5\n",
      "1\n",
      "2\n",
      "3\n",
      "4\n",
      "5\n"
     ]
    }
   ],
   "source": [
    "\n",
    "repeat = int(input(\"Enter repeat: \"))\n",
    "\n",
    "i = 1 # initialization\n",
    "while i <= repeat: #  condition\n",
    "    print(i)\n",
    "    i += 1 # update"
   ]
  },
  {
   "cell_type": "code",
   "execution_count": 9,
   "metadata": {},
   "outputs": [
    {
     "name": "stdout",
     "output_type": "stream",
     "text": [
      "Enter repeat: 5\n",
      "2\n",
      "3\n",
      "4\n",
      "5\n",
      "6\n"
     ]
    }
   ],
   "source": [
    "\n",
    "repeat = int(input(\"Enter repeat: \"))\n",
    "\n",
    "i = 1\n",
    "while i <= repeat:\n",
    "    i += 1\n",
    "    print(i)"
   ]
  },
  {
   "cell_type": "code",
   "execution_count": 11,
   "metadata": {},
   "outputs": [
    {
     "name": "stdout",
     "output_type": "stream",
     "text": [
      "5\n",
      "15\n"
     ]
    }
   ],
   "source": [
    "# WAP to find sum of no. from 1-n\n",
    "n  = int(input())\n",
    "\n",
    "i = 1\n",
    "s = 0\n",
    "while i <=n:\n",
    "    s += i\n",
    "    i+=1\n",
    "\n",
    "print(s)\n",
    "\n",
    "# n = 5\n",
    "# i 1 1 2 3 4  5   6\n",
    "# s 0 1 3 6 10 15"
   ]
  },
  {
   "cell_type": "code",
   "execution_count": null,
   "metadata": {},
   "outputs": [],
   "source": [
    "# WAP to input 2 numbers: base, exp\n",
    "# print base ^ exp without using ** or pow  function\n"
   ]
  },
  {
   "cell_type": "code",
   "execution_count": 12,
   "metadata": {},
   "outputs": [
    {
     "name": "stdout",
     "output_type": "stream",
     "text": [
      "5\n",
      "1\n",
      "2\n",
      "6\n",
      "24\n",
      "120\n"
     ]
    }
   ],
   "source": [
    "# factorial 5! = 1x2x3x4x5\n",
    "n  = int(input())\n",
    "i = 1\n",
    "s = 1\n",
    "while i <=n:\n",
    "    s *= i\n",
    "    i+=1\n",
    "    print(s)"
   ]
  },
  {
   "cell_type": "code",
   "execution_count": null,
   "metadata": {},
   "outputs": [],
   "source": [
    "# pow\n",
    "base=int(input('Enter base:'))\n",
    "exp=int(input('Enter exp:'))\n",
    "i=1\n",
    "res=1\n",
    "while i<=exp:\n",
    "    res=res*base\n",
    "    i+=1\n",
    "print(res)"
   ]
  },
  {
   "cell_type": "code",
   "execution_count": 14,
   "metadata": {},
   "outputs": [
    {
     "name": "stdout",
     "output_type": "stream",
     "text": [
      "Base: 2\n",
      "exp: 3\n"
     ]
    },
    {
     "data": {
      "text/plain": [
       "8"
      ]
     },
     "execution_count": 14,
     "metadata": {},
     "output_type": "execute_result"
    }
   ],
   "source": [
    "def mult(base,exp):\n",
    "    i=1\n",
    "    res=1\n",
    "    while i<=exp:\n",
    "        res=res*base\n",
    "        i+=1\n",
    "    return res\n",
    "\n",
    "base=int(input(\"Base: \"))\n",
    "exp=int(input(\"exp: \"))\n",
    "mult(base,exp)"
   ]
  },
  {
   "cell_type": "code",
   "execution_count": 16,
   "metadata": {},
   "outputs": [
    {
     "name": "stdout",
     "output_type": "stream",
     "text": [
      "Enter base:3\n",
      "Enter exp: 2\n",
      "9\n"
     ]
    }
   ],
   "source": [
    "base= int(input(\"Enter base:\"))\n",
    "exp = int(input(\"Enter exp: \"))\n",
    "i=1\n",
    "pow=1\n",
    "while i <= exp:\n",
    "    pow = pow*base\n",
    "    i+=1\n",
    "    \n",
    "print(pow)"
   ]
  },
  {
   "cell_type": "code",
   "execution_count": 17,
   "metadata": {},
   "outputs": [
    {
     "ename": "TypeError",
     "evalue": "'int' object is not callable",
     "output_type": "error",
     "traceback": [
      "\u001b[0;31m---------------------------------------------------------------------------\u001b[0m",
      "\u001b[0;31mTypeError\u001b[0m                                 Traceback (most recent call last)",
      "\u001b[0;32m<ipython-input-17-3e7c43f3620c>\u001b[0m in \u001b[0;36m<module>\u001b[0;34m\u001b[0m\n\u001b[0;32m----> 1\u001b[0;31m \u001b[0mpow\u001b[0m\u001b[0;34m(\u001b[0m\u001b[0;36m10\u001b[0m\u001b[0;34m,\u001b[0m\u001b[0;36m2\u001b[0m\u001b[0;34m)\u001b[0m\u001b[0;34m\u001b[0m\u001b[0;34m\u001b[0m\u001b[0m\n\u001b[0m",
      "\u001b[0;31mTypeError\u001b[0m: 'int' object is not callable"
     ]
    }
   ],
   "source": [
    "pow(10,2)"
   ]
  },
  {
   "cell_type": "code",
   "execution_count": 18,
   "metadata": {},
   "outputs": [
    {
     "data": {
      "text/plain": [
       "<function sum(iterable, /, start=0)>"
      ]
     },
     "execution_count": 18,
     "metadata": {},
     "output_type": "execute_result"
    }
   ],
   "source": [
    "sum"
   ]
  },
  {
   "cell_type": "code",
   "execution_count": 19,
   "metadata": {},
   "outputs": [
    {
     "name": "stdout",
     "output_type": "stream",
     "text": [
      "54321\n"
     ]
    }
   ],
   "source": [
    "n = 5\n",
    "\n",
    "r = 0\n",
    "while n > 0:\n",
    "    r = r*10 + n\n",
    "    n = n - 1\n",
    "\n",
    "print(r)\n",
    "\n",
    "# n 5 4 3  2    1     0\n",
    "# r 0 5 54 543  5432  54321"
   ]
  },
  {
   "cell_type": "code",
   "execution_count": null,
   "metadata": {},
   "outputs": [],
   "source": [
    "# WAP to input a no. and find sum of all its digits"
   ]
  },
  {
   "cell_type": "code",
   "execution_count": null,
   "metadata": {},
   "outputs": [],
   "source": [
    "# WAP to input a string and print oridnal value of each character"
   ]
  },
  {
   "cell_type": "code",
   "execution_count": 20,
   "metadata": {},
   "outputs": [
    {
     "name": "stdout",
     "output_type": "stream",
     "text": [
      "abcd\n",
      "a\n",
      "b\n",
      "c\n",
      "d\n"
     ]
    }
   ],
   "source": [
    "s = input()\n",
    "i = 0\n",
    "while i < len(s):\n",
    "    print(s[i])\n",
    "    i += 1"
   ]
  }
 ],
 "metadata": {
  "kernelspec": {
   "display_name": "Python 3",
   "language": "python",
   "name": "python3"
  },
  "language_info": {
   "codemirror_mode": {
    "name": "ipython",
    "version": 3
   },
   "file_extension": ".py",
   "mimetype": "text/x-python",
   "name": "python",
   "nbconvert_exporter": "python",
   "pygments_lexer": "ipython3",
   "version": "3.8.3"
  }
 },
 "nbformat": 4,
 "nbformat_minor": 4
}
