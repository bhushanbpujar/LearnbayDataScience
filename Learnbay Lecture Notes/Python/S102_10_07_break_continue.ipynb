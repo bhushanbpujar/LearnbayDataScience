{
 "cells": [
  {
   "cell_type": "code",
   "execution_count": 1,
   "metadata": {},
   "outputs": [
    {
     "name": "stdout",
     "output_type": "stream",
     "text": [
      "[1, 2, 3, [11, 22, 33]]\n",
      "[1, 2, 3, [11, 22, 33], 4]\n"
     ]
    }
   ],
   "source": [
    "a = [1,2,3,[11,22]]\n",
    "b = a.copy()\n",
    "b.append(4)\n",
    "b[3].append(33)\n",
    "print(a)\n",
    "print(b)"
   ]
  },
  {
   "cell_type": "code",
   "execution_count": null,
   "metadata": {},
   "outputs": [],
   "source": [
    "# break and continue"
   ]
  },
  {
   "cell_type": "code",
   "execution_count": 4,
   "metadata": {},
   "outputs": [
    {
     "name": "stdout",
     "output_type": "stream",
     "text": [
      "1\n",
      "9\n",
      "25\n",
      "49\n",
      "81\n"
     ]
    }
   ],
   "source": [
    "# break\n",
    "for i in range(10):\n",
    "    if i%2 == 1:\n",
    "        print(i*i)"
   ]
  },
  {
   "cell_type": "code",
   "execution_count": 5,
   "metadata": {},
   "outputs": [
    {
     "name": "stdout",
     "output_type": "stream",
     "text": [
      "0\n"
     ]
    }
   ],
   "source": [
    "# break\n",
    "for i in range(10):\n",
    "    print(i)\n",
    "    if i%5 == 0:\n",
    "        break"
   ]
  },
  {
   "cell_type": "code",
   "execution_count": 7,
   "metadata": {},
   "outputs": [
    {
     "name": "stdout",
     "output_type": "stream",
     "text": [
      "Enter y to exit:abcd\n",
      "Input:  abcd\n",
      "Enter y to exit:y\n",
      "After loop\n"
     ]
    }
   ],
   "source": [
    "while True: # infinite loop\n",
    "    i = input(\"Enter y to exit:\")\n",
    "    if i == 'y' or i == \"Y\":\n",
    "        break # stop loop and skip code below it\n",
    "    print(\"Input: \", i)\n",
    "    \n",
    "print(\"After loop\")"
   ]
  },
  {
   "cell_type": "code",
   "execution_count": 9,
   "metadata": {},
   "outputs": [
    {
     "name": "stdout",
     "output_type": "stream",
     "text": [
      "Enter y to exit:r\n",
      "x:  r\n",
      "Enter y to exit:\n",
      "x:  \n",
      "Enter y to exit:\n",
      "x:  \n",
      "Enter y to exit:\n",
      "x:  \n",
      "Enter y to exit:\n",
      "x:  \n",
      "Enter y to exit:\n",
      "x:  \n",
      "Enter y to exit:\n",
      "x:  \n",
      "Enter y to exit:\n",
      "x:  \n",
      "Enter y to exit:\n",
      "x:  \n",
      "Enter y to exit:\n",
      "x:  \n",
      "Enter y to exit:\n",
      "x:  \n",
      "Enter y to exit:\n",
      "x:  \n",
      "Enter y to exit:\n",
      "x:  \n",
      "Enter y to exit:\n",
      "x:  \n",
      "Enter y to exit:\n",
      "x:  \n",
      "Enter y to exit:\n",
      "x:  \n",
      "Enter y to exit:\n",
      "x:  \n",
      "Enter y to exit:\n",
      "x:  \n",
      "Enter y to exit:\n",
      "x:  \n",
      "Enter y to exit:\n",
      "x:  \n",
      "Enter y to exit:\n",
      "x:  \n",
      "Enter y to exit:\n",
      "x:  \n",
      "Enter y to exit:\n",
      "x:  \n",
      "Enter y to exit:\n",
      "x:  \n",
      "Enter y to exit:\n",
      "x:  \n",
      "Enter y to exit:\n",
      "x:  \n",
      "Enter y to exit:\n",
      "x:  \n",
      "Enter y to exit:\n",
      "x:  \n",
      "Enter y to exit:\n",
      "x:  \n",
      "Enter y to exit:\n",
      "x:  \n",
      "Enter y to exit:\n",
      "x:  \n",
      "Enter y to exit:\n",
      "x:  \n",
      "Enter y to exit:\n",
      "x:  \n",
      "Enter y to exit:y\n"
     ]
    }
   ],
   "source": [
    "def input_gen():\n",
    "    while True: # infinite loop\n",
    "        i = input(\"Enter y to exit:\")\n",
    "        if i == 'y' or i == \"Y\":\n",
    "            break # stop loop and skip code below it\n",
    "        yield i\n",
    "        \n",
    "for x in input_gen():\n",
    "    print(\"x: \", x)\n",
    "    "
   ]
  },
  {
   "cell_type": "code",
   "execution_count": 16,
   "metadata": {},
   "outputs": [
    {
     "name": "stdout",
     "output_type": "stream",
     "text": [
      "Enter y to exit:1\n",
      "Input:  1\n",
      "Enter y to exit:2\n",
      "Input:  2\n",
      "Enter y to exit:3\n",
      "Input:  3\n",
      "Enter y to exit:y\n"
     ]
    }
   ],
   "source": [
    "x=[1]\n",
    "for y in x:\n",
    "    i = input(\"Enter y to exit:\")\n",
    "    if i != 'y' and i != \"Y\":\n",
    "        print(\"Input: \", i)\n",
    "        x.append(1)"
   ]
  },
  {
   "cell_type": "code",
   "execution_count": null,
   "metadata": {},
   "outputs": [],
   "source": []
  },
  {
   "cell_type": "code",
   "execution_count": 8,
   "metadata": {},
   "outputs": [
    {
     "name": "stdout",
     "output_type": "stream",
     "text": [
      "Enter y to exit:a\n",
      "Input:  a\n",
      "Enter y to exit:a\n",
      "Input:  a\n",
      "Enter y to exit:\n",
      "Input:  \n",
      "Enter y to exit:\n",
      "Input:  \n",
      "Enter y to exit:a\n",
      "Input:  a\n",
      "Enter y to exit:a\n",
      "Input:  a\n",
      "Enter y to exit:a\n",
      "Input:  a\n",
      "Enter y to exit:\n",
      "Input:  \n",
      "Enter y to exit:\n",
      "Input:  \n",
      "Enter y to exit:\n",
      "Input:  \n",
      "Enter y to exit:\n",
      "Input:  \n",
      "Enter y to exit:\n",
      "Input:  \n",
      "Enter y to exit:\n",
      "Input:  \n",
      "Enter y to exit:\n",
      "Input:  \n",
      "Enter y to exit:\n",
      "Input:  \n",
      "Enter y to exit:\n",
      "Input:  \n",
      "Enter y to exit:\n",
      "Input:  \n",
      "Enter y to exit:\n",
      "Input:  \n",
      "Enter y to exit:\n",
      "Input:  \n",
      "Enter y to exit:\n",
      "Input:  \n",
      "Enter y to exit:\n",
      "Input:  \n",
      "Enter y to exit:\n",
      "Input:  \n",
      "Enter y to exit:\n",
      "Input:  \n",
      "Enter y to exit:\n",
      "Input:  \n",
      "Enter y to exit:\n",
      "Input:  \n"
     ]
    }
   ],
   "source": [
    "for x in range(ord('a'),ord('z')):    \n",
    "    i = input(\"Enter y to exit:\")\n",
    "    if i == 'y' or i == \"Y\":\n",
    "        break\n",
    "    print(\"Input: \", i)\n"
   ]
  },
  {
   "cell_type": "code",
   "execution_count": 12,
   "metadata": {},
   "outputs": [
    {
     "name": "stdout",
     "output_type": "stream",
     "text": [
      "0\n"
     ]
    }
   ],
   "source": [
    "for i in range(5):\n",
    "    if i:\n",
    "        break\n",
    "    print(i)"
   ]
  },
  {
   "cell_type": "code",
   "execution_count": 11,
   "metadata": {},
   "outputs": [
    {
     "name": "stdout",
     "output_type": "stream",
     "text": [
      "0\n",
      "1\n"
     ]
    }
   ],
   "source": [
    "for i in range(5):\n",
    "    print(i)\n",
    "    if i:\n",
    "        break"
   ]
  },
  {
   "cell_type": "code",
   "execution_count": 14,
   "metadata": {},
   "outputs": [
    {
     "name": "stdout",
     "output_type": "stream",
     "text": [
      "0\n",
      "01\n",
      "012\n",
      "0123\n",
      "01234\n"
     ]
    }
   ],
   "source": [
    "for i in range(5):\n",
    "    for j in range(i + 1):\n",
    "        print(j, end='')\n",
    "    print()\n",
    "\n",
    "# range 1 2   3     4    5\n",
    "# i     0 1 1 2     3    4\n",
    "# j     0 0 1 0 1 2 .... ....\n",
    "\n",
    "# 0\n",
    "# 01\n",
    "# 012\n",
    "# _"
   ]
  },
  {
   "cell_type": "code",
   "execution_count": 17,
   "metadata": {},
   "outputs": [
    {
     "name": "stdout",
     "output_type": "stream",
     "text": [
      "01234\n",
      "01234\n",
      "01234\n",
      "01234\n",
      "01234\n"
     ]
    }
   ],
   "source": [
    "for i in range(5):\n",
    "    for j in range(5):\n",
    "        print(j, end='')\n",
    "    print()"
   ]
  },
  {
   "cell_type": "code",
   "execution_count": 18,
   "metadata": {},
   "outputs": [
    {
     "name": "stdout",
     "output_type": "stream",
     "text": [
      "0\n",
      "01\n",
      "012\n",
      "0123\n",
      "01234\n"
     ]
    }
   ],
   "source": [
    "for i in range(5):\n",
    "    for j in range(5):\n",
    "        print(j, end='')\n",
    "        if i == j:\n",
    "            break\n",
    "    print()"
   ]
  },
  {
   "cell_type": "code",
   "execution_count": 21,
   "metadata": {},
   "outputs": [
    {
     "name": "stdout",
     "output_type": "stream",
     "text": [
      "0\n",
      "2\n",
      "4\n",
      "6\n",
      "8\n"
     ]
    }
   ],
   "source": [
    "# continue\n",
    "# continue to next iteration and skip code present below continue\n",
    "\n",
    "for i in range(10):\n",
    "    if i%2:\n",
    "        continue\n",
    "    print(i)"
   ]
  },
  {
   "cell_type": "code",
   "execution_count": 22,
   "metadata": {},
   "outputs": [
    {
     "name": "stdout",
     "output_type": "stream",
     "text": [
      "0\n",
      "1\n",
      "2\n",
      "3\n",
      "4\n",
      "5\n",
      "6\n",
      "7\n",
      "8\n",
      "9\n"
     ]
    }
   ],
   "source": [
    "for i in range(10):\n",
    "    print(i)\n",
    "    if i%3 == 0:\n",
    "        continue"
   ]
  },
  {
   "cell_type": "code",
   "execution_count": 24,
   "metadata": {},
   "outputs": [
    {
     "name": "stdout",
     "output_type": "stream",
     "text": [
      "1\n",
      "2\n",
      "4\n",
      "5\n",
      "7\n",
      "8\n"
     ]
    }
   ],
   "source": [
    "for i in range(10):\n",
    "    if i%3 == 0:\n",
    "        continue\n",
    "    print(i)"
   ]
  },
  {
   "cell_type": "code",
   "execution_count": null,
   "metadata": {},
   "outputs": [],
   "source": [
    "# this can't be done in python\n",
    "for i in range(5):\n",
    "    for j in range(5):\n",
    "        if i == j:\n",
    "            continue pos\n",
    "        print(i, end='')\n",
    "    pos:\n",
    "    print()\n",
    "            "
   ]
  },
  {
   "cell_type": "code",
   "execution_count": 27,
   "metadata": {},
   "outputs": [
    {
     "name": "stdout",
     "output_type": "stream",
     "text": [
      "Enter some no:a\n",
      "Enter some no:a\n",
      "Enter some no:dfd\n",
      "Enter some no:23\n",
      "23\n"
     ]
    }
   ],
   "source": [
    "while True:\n",
    "    x = input(\"Enter some no:\")\n",
    "    if x.isdigit():\n",
    "        break\n",
    "\n",
    "print(int(x))"
   ]
  }
 ],
 "metadata": {
  "kernelspec": {
   "display_name": "Python 3",
   "language": "python",
   "name": "python3"
  },
  "language_info": {
   "codemirror_mode": {
    "name": "ipython",
    "version": 3
   },
   "file_extension": ".py",
   "mimetype": "text/x-python",
   "name": "python",
   "nbconvert_exporter": "python",
   "pygments_lexer": "ipython3",
   "version": "3.8.3"
  }
 },
 "nbformat": 4,
 "nbformat_minor": 4
}
