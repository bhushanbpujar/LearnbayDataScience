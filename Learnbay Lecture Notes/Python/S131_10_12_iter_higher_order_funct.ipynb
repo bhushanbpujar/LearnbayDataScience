{
 "cells": [
  {
   "cell_type": "code",
   "execution_count": 2,
   "metadata": {},
   "outputs": [
    {
     "name": "stdout",
     "output_type": "stream",
     "text": [
      "[[1, 4, 16], [1.0, 0.5, 0.25], [-1, -2, -4], [1, 4, 16], [1.0, 0.5, 0.25], [-1, -2, -4], [1, 4, 16], [1.0, 0.5, 0.25], [-1, -2, -4]]\n"
     ]
    }
   ],
   "source": [
    "sq_lmbda =  lambda x: x**2\n",
    "inv_lmbda = lambda x:1/x\n",
    "neg_lmbda = lambda x : -x\n",
    "\n",
    "functs=[sq_lmbda,inv_lmbda,neg_lmbda]\n",
    "\n",
    "final=[]\n",
    "def map_multiple(functs,a):\n",
    "    for i in range(0,len(functs)):\n",
    "        for func in functs:\n",
    "            r=map(func,a)\n",
    "            final.append(list(r))\n",
    "    return final\n",
    "\n",
    "x=[1,2,4]\n",
    "r2=map_multiple(functs,x)\n",
    "print(list(r2))"
   ]
  },
  {
   "cell_type": "code",
   "execution_count": 3,
   "metadata": {},
   "outputs": [
    {
     "name": "stdout",
     "output_type": "stream",
     "text": [
      "[[1, 4, 16], [1.0, 0.25, 0.0625], [-1.0, -0.25, -0.0625]]\n"
     ]
    }
   ],
   "source": [
    "sequence = [1,2,4]\n",
    "#functs = [lambda x : [i ** 2 for i in x], lambda x : [(1/i) for i in x], lambda x : [(-1*i) for i in x]]\n",
    "functs = [lambda x : x**2, lambda x : (1/x), lambda x : (-1*x)]\n",
    "def map_multiple(functs, sequence):\n",
    "    ans = []\n",
    "    for funct in functs:\n",
    "        res = list(map(funct,sequence))\n",
    "        ans.append(res)\n",
    "        sequence = res\n",
    "    return ans\n",
    "print(map_multiple(functs, sequence))\n"
   ]
  },
  {
   "cell_type": "code",
   "execution_count": 4,
   "metadata": {},
   "outputs": [
    {
     "name": "stdout",
     "output_type": "stream",
     "text": [
      "[-1.0, -0.25, -0.0625]\n"
     ]
    }
   ],
   "source": [
    "sequence = [1,2,4]\n",
    "#functs = [lambda x : [i ** 2 for i in x], lambda x : [(1/i) for i in x], lambda x : [(-1*i) for i in x]]\n",
    "functs = [lambda x : x**2, lambda x : (1/x), lambda x : (-1*x)]\n",
    "def map_multiple(functs, sequence):\n",
    "    ans = []\n",
    "    for data in sequence:\n",
    "        for f in functs:\n",
    "            data = f(data)\n",
    "        ans.append(data)\n",
    "    return ans\n",
    "print(map_multiple(functs, sequence))\n"
   ]
  },
  {
   "cell_type": "code",
   "execution_count": 12,
   "metadata": {},
   "outputs": [
    {
     "name": "stdout",
     "output_type": "stream",
     "text": [
      "30 20 abcd\n",
      "abcd 20 30\n"
     ]
    }
   ],
   "source": [
    "def f(x,y,z, *args):\n",
    "    print(x,y,z)\n",
    "\n",
    "f(x=30, y=20 , z=\"abcd\")\n",
    "f(z=30, y=20 , x=\"abcd\")"
   ]
  },
  {
   "cell_type": "code",
   "execution_count": null,
   "metadata": {},
   "outputs": [],
   "source": [
    "def f(x,y,z, **kwargs):\n",
    "    print(x,y,z)"
   ]
  },
  {
   "cell_type": "code",
   "execution_count": null,
   "metadata": {},
   "outputs": [],
   "source": [
    "a=[10,20,30]\n",
    "print(dir(a))\n",
    "r=a.__eq__([30,40,50]) # a == [30,40,50]\n",
    "print(r)\n",
    "r1=a.__iter__() # r1 = iter(a)\n",
    "\n",
    "# length and index operator\n",
    "\n",
    "print(list(r1))\n",
    "r2=iter(a)\n",
    "print(list(r2))"
   ]
  },
  {
   "cell_type": "code",
   "execution_count": 26,
   "metadata": {},
   "outputs": [
    {
     "name": "stdout",
     "output_type": "stream",
     "text": [
      "1000\n",
      "1000\n"
     ]
    }
   ],
   "source": [
    "class ABC:\n",
    "    pass\n",
    "a =  ABC()\n",
    "a.__funct__ = lambda  : 1000\n",
    "\n",
    "print(a.__funct__())\n",
    "\n",
    "def funct(ob):\n",
    "    return ob.__funct__()\n",
    "    \n",
    "print(funct(a))"
   ]
  },
  {
   "cell_type": "code",
   "execution_count": 27,
   "metadata": {},
   "outputs": [
    {
     "name": "stdout",
     "output_type": "stream",
     "text": [
      "['__abs__', '__add__', '__and__', '__bool__', '__ceil__', '__class__', '__delattr__', '__dir__', '__divmod__', '__doc__', '__eq__', '__float__', '__floor__', '__floordiv__', '__format__', '__ge__', '__getattribute__', '__getnewargs__', '__gt__', '__hash__', '__index__', '__init__', '__init_subclass__', '__int__', '__invert__', '__le__', '__lshift__', '__lt__', '__mod__', '__mul__', '__ne__', '__neg__', '__new__', '__or__', '__pos__', '__pow__', '__radd__', '__rand__', '__rdivmod__', '__reduce__', '__reduce_ex__', '__repr__', '__rfloordiv__', '__rlshift__', '__rmod__', '__rmul__', '__ror__', '__round__', '__rpow__', '__rrshift__', '__rshift__', '__rsub__', '__rtruediv__', '__rxor__', '__setattr__', '__sizeof__', '__str__', '__sub__', '__subclasshook__', '__truediv__', '__trunc__', '__xor__', 'bit_length', 'conjugate', 'denominator', 'from_bytes', 'imag', 'numerator', 'real', 'to_bytes']\n"
     ]
    }
   ],
   "source": [
    "print(dir(1))"
   ]
  },
  {
   "cell_type": "code",
   "execution_count": null,
   "metadata": {},
   "outputs": [],
   "source": [
    "len, iter, next, == -> __eq__"
   ]
  },
  {
   "cell_type": "code",
   "execution_count": null,
   "metadata": {},
   "outputs": [],
   "source": [
    "__init__ => no wrapper, operator => constructor"
   ]
  },
  {
   "cell_type": "code",
   "execution_count": null,
   "metadata": {},
   "outputs": [],
   "source": [
    "\n",
    "#Priyanka\n",
    "file=open(\"temp.txt\",\"w\")\n",
    "s = '   '\n",
    "while s!='':\n",
    "    s=input(\"Enter a string: \")\n",
    "    f.write(s)\n",
    "    f.write('\\n')\n",
    "f.close()\n",
    "\n",
    "#Meenakshi\n",
    "f=open(\"inputs.txt\", \"w\")\n",
    "\n",
    "while True:\n",
    "    n=input(\"enter a string\")\n",
    "\n",
    "    if !n: # n=='' # len(n) == 0\n",
    "        break\n",
    "    f.write(n)\n",
    "\n",
    "f.close()"
   ]
  },
  {
   "cell_type": "code",
   "execution_count": 28,
   "metadata": {},
   "outputs": [
    {
     "data": {
      "text/plain": [
       "0"
      ]
     },
     "execution_count": 28,
     "metadata": {},
     "output_type": "execute_result"
    }
   ],
   "source": [
    "s = \"\"\n",
    "s.__len__()\n",
    "\n",
    "a = []\n",
    "a.__len__()"
   ]
  },
  {
   "cell_type": "code",
   "execution_count": 31,
   "metadata": {},
   "outputs": [
    {
     "name": "stdout",
     "output_type": "stream",
     "text": [
      "<class 'str_iterator'> <class 'list_iterator'> <class 'dict_keyiterator'>\n"
     ]
    }
   ],
   "source": [
    "it1 = iter(\"\")\n",
    "it2 = iter([])\n",
    "it3 = iter({})\n",
    "\n",
    "print(it1.__class__, it2.__class__, it3.__class__)"
   ]
  },
  {
   "cell_type": "code",
   "execution_count": null,
   "metadata": {},
   "outputs": [],
   "source": [
    "class my_seq:\n",
    "    ..\n",
    "    def __iter__:\n",
    "        ..\n",
    "        return iter_class(...)\n",
    "    \n",
    "    class iter_class:\n",
    "        ...\n",
    "        def __next__\n",
    "        def __iter__"
   ]
  },
  {
   "cell_type": "code",
   "execution_count": 38,
   "metadata": {},
   "outputs": [
    {
     "name": "stdout",
     "output_type": "stream",
     "text": [
      "     * \n",
      "    * * \n",
      "   * * * \n",
      "  * * * * \n",
      " * * * * * \n"
     ]
    }
   ],
   "source": [
    "for i in range(5): # no of lines\n",
    "    for j in range(5 - i): # spaces before symbol\n",
    "        print(\" \", end = '')\n",
    "        \n",
    "    for j in range(i+ 1): # no. of characters in a single line\n",
    "        print(\"* \", end = '')\n",
    "    print()"
   ]
  },
  {
   "cell_type": "code",
   "execution_count": 37,
   "metadata": {},
   "outputs": [
    {
     "name": "stdout",
     "output_type": "stream",
     "text": [
      "     *\n",
      "    ***\n",
      "   *****\n",
      "  *******\n",
      " *********\n"
     ]
    }
   ],
   "source": [
    "for i in range(5):\n",
    "    for j in range(5 - i):\n",
    "        print(\" \", end = '')\n",
    "        \n",
    "    for j in range(2*i+ 1):\n",
    "        print(\"*\", end = '')\n",
    "    print()"
   ]
  }
 ],
 "metadata": {
  "kernelspec": {
   "display_name": "Python 3",
   "language": "python",
   "name": "python3"
  },
  "language_info": {
   "codemirror_mode": {
    "name": "ipython",
    "version": 3
   },
   "file_extension": ".py",
   "mimetype": "text/x-python",
   "name": "python",
   "nbconvert_exporter": "python",
   "pygments_lexer": "ipython3",
   "version": "3.7.4"
  }
 },
 "nbformat": 4,
 "nbformat_minor": 2
}
