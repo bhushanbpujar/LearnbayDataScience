{
 "cells": [
  {
   "cell_type": "markdown",
   "metadata": {},
   "source": [
    "## functions"
   ]
  },
  {
   "cell_type": "code",
   "execution_count": 7,
   "metadata": {},
   "outputs": [
    {
     "name": "stdout",
     "output_type": "stream",
     "text": [
      "gaurav\n",
      "gaurav\n",
      "gaurav\n"
     ]
    }
   ],
   "source": [
    "# creating custom function\n",
    "# function definition\n",
    "def print_name(): # zero argument function\n",
    "    print(\"gaurav\")\n",
    "    \n",
    "print_name()\n",
    "print_name()\n",
    "print_name()"
   ]
  },
  {
   "cell_type": "code",
   "execution_count": 1,
   "metadata": {},
   "outputs": [
    {
     "name": "stdout",
     "output_type": "stream",
     "text": [
      "enter a number:2\n",
      "2 is a even number\n"
     ]
    }
   ],
   "source": [
    "# define a function is_even() that inputs value from user and prints even/ odd on screen\n",
    "\n",
    "def is_even():\n",
    "    x = int(input(\"enter a number:\"))\n",
    "    if x % 2 == 0:\n",
    "        print(x,\"is a even number\")\n",
    "    else:\n",
    "        print(x,\"is a odd\")\n",
    "\n",
    "is_even()"
   ]
  },
  {
   "cell_type": "code",
   "execution_count": 21,
   "metadata": {},
   "outputs": [
    {
     "name": "stdout",
     "output_type": "stream",
     "text": [
      "72\n"
     ]
    }
   ],
   "source": [
    "# hardcoded values\n",
    "y = pow(4,3) + pow(2,3)\n",
    "print(y)"
   ]
  },
  {
   "cell_type": "code",
   "execution_count": 11,
   "metadata": {},
   "outputs": [
    {
     "name": "stdout",
     "output_type": "stream",
     "text": [
      "3\n",
      "81\n"
     ]
    }
   ],
   "source": [
    "import random\n",
    "x = int(input())\n",
    "y = random.randint(3,6)\n",
    "print(pow(x,y))"
   ]
  },
  {
   "cell_type": "code",
   "execution_count": null,
   "metadata": {},
   "outputs": [],
   "source": [
    "# passing values to a function"
   ]
  },
  {
   "cell_type": "code",
   "execution_count": 22,
   "metadata": {},
   "outputs": [
    {
     "name": "stdout",
     "output_type": "stream",
     "text": [
      "16\n"
     ]
    }
   ],
   "source": [
    "def my_pow(num1, exp):\n",
    "    print(num1**exp)\n",
    "\n",
    "my_pow(2,4)"
   ]
  },
  {
   "cell_type": "code",
   "execution_count": 23,
   "metadata": {},
   "outputs": [
    {
     "name": "stdout",
     "output_type": "stream",
     "text": [
      "100\n",
      "None\n"
     ]
    }
   ],
   "source": [
    "r = my_pow(10,2)\n",
    "print(r)"
   ]
  },
  {
   "cell_type": "code",
   "execution_count": 25,
   "metadata": {},
   "outputs": [
    {
     "name": "stdout",
     "output_type": "stream",
     "text": [
      "17\n"
     ]
    }
   ],
   "source": [
    "def my_pow(num1, exp):\n",
    "    return num1**exp\n",
    "\n",
    "r = my_pow(2,4)\n",
    "print(r + my_pow(1, my_pow(2,3)))"
   ]
  },
  {
   "cell_type": "code",
   "execution_count": 9,
   "metadata": {},
   "outputs": [
    {
     "name": "stdout",
     "output_type": "stream",
     "text": [
      "Enter  p:  100\n",
      "Enter  r:  3\n",
      "Enter  t:  4\n",
      "12.0\n"
     ]
    }
   ],
   "source": [
    "# simple  interest : v1\n",
    "# (p*r*t)/100\n",
    "def si():\n",
    "    p = int(input(\"Enter  p:  \"))\n",
    "    r = int(input(\"Enter  r:  \"))\n",
    "    t = int(input(\"Enter  t:  \"))\n",
    "    res  = (p*r*t)/100\n",
    "    print(res)\n",
    "\n",
    "si()"
   ]
  },
  {
   "cell_type": "code",
   "execution_count": 19,
   "metadata": {},
   "outputs": [
    {
     "name": "stdout",
     "output_type": "stream",
     "text": [
      "Enter  p:  10\n",
      "Enter  r:  2\n",
      "Enter  t:  3\n",
      "0.6\n"
     ]
    }
   ],
   "source": [
    "# simple  interest : v2\n",
    "# (p*r*t)/100\n",
    "def si(p, r, t):\n",
    "    res  = (p*r*t)/100\n",
    "    print(res)\n",
    "\n",
    "x = int(input(\"Enter  p:  \"))\n",
    "y = int(input(\"Enter  r:  \"))\n",
    "z = int(input(\"Enter  t:  \"))\n",
    "si(x,y,z)"
   ]
  },
  {
   "cell_type": "code",
   "execution_count": 20,
   "metadata": {},
   "outputs": [
    {
     "name": "stdout",
     "output_type": "stream",
     "text": [
      "6.0\n"
     ]
    }
   ],
   "source": [
    "si(100,3,2)"
   ]
  },
  {
   "cell_type": "code",
   "execution_count": 26,
   "metadata": {},
   "outputs": [
    {
     "name": "stdout",
     "output_type": "stream",
     "text": [
      "Enter  p:  111\n",
      "Enter  r:  2\n",
      "Enter  t:  3\n",
      "6.66\n"
     ]
    }
   ],
   "source": [
    "# simple  interest : v2\n",
    "# (p*r*t)/100\n",
    "def si(p, r, t):\n",
    "    res  = (p*r*t)/100\n",
    "    return res\n",
    "\n",
    "\n",
    "x = int(input(\"Enter  p:  \"))\n",
    "y = int(input(\"Enter  r:  \"))\n",
    "z = int(input(\"Enter  t:  \"))\n",
    "r = si(x,y,z)\n",
    "print(r)"
   ]
  },
  {
   "cell_type": "code",
   "execution_count": 37,
   "metadata": {},
   "outputs": [
    {
     "name": "stdout",
     "output_type": "stream",
     "text": [
      "Enter  p:  111\n",
      "Enter  r:  2\n",
      "Enter  t:  3\n",
      "6.66\n"
     ]
    }
   ],
   "source": [
    "# simple  interest : v3\n",
    "# (p*r*t)/100\n",
    "def amount(p,r,t):\n",
    "    return p + si(p,r,t)\n",
    "\n",
    "def si(p, r, t):\n",
    "    res  = (p*r*t)/100\n",
    "    return res\n",
    "\n",
    "x = int(input(\"Enter  p:  \"))\n",
    "y = int(input(\"Enter  r:  \"))\n",
    "z = int(input(\"Enter  t:  \"))\n",
    "print(si(x,y,z))\n",
    "a = amount(x,y,z)\n",
    "print(r)"
   ]
  },
  {
   "cell_type": "code",
   "execution_count": null,
   "metadata": {},
   "outputs": [],
   "source": [
    "# returning value from a function"
   ]
  },
  {
   "cell_type": "code",
   "execution_count": 28,
   "metadata": {},
   "outputs": [
    {
     "name": "stdout",
     "output_type": "stream",
     "text": [
      "10\n",
      "None\n"
     ]
    }
   ],
   "source": [
    "def funct():\n",
    "    print(10)\n",
    "\n",
    "r = funct()\n",
    "print(r)"
   ]
  },
  {
   "cell_type": "code",
   "execution_count": 27,
   "metadata": {},
   "outputs": [
    {
     "name": "stdout",
     "output_type": "stream",
     "text": [
      "10\n"
     ]
    }
   ],
   "source": [
    "def funct():\n",
    "    return 10\n",
    "\n",
    "print(funct())"
   ]
  },
  {
   "cell_type": "code",
   "execution_count": 30,
   "metadata": {},
   "outputs": [
    {
     "name": "stdout",
     "output_type": "stream",
     "text": [
      "None\n"
     ]
    }
   ],
   "source": [
    "# empty return means None\n",
    "def funct():\n",
    "    return\n",
    "\n",
    "r = funct()\n",
    "print(r)"
   ]
  },
  {
   "cell_type": "code",
   "execution_count": 33,
   "metadata": {},
   "outputs": [
    {
     "name": "stdout",
     "output_type": "stream",
     "text": [
      "None\n"
     ]
    }
   ],
   "source": [
    "def funct():\n",
    "    pass\n",
    "\n",
    "r = funct()\n",
    "print(r)"
   ]
  },
  {
   "cell_type": "code",
   "execution_count": 36,
   "metadata": {},
   "outputs": [
    {
     "name": "stdout",
     "output_type": "stream",
     "text": [
      "100\n",
      "Value of x is 11\n"
     ]
    }
   ],
   "source": [
    "# function can have multiple return statements\n",
    "# but once a return is executed , function exits immediately\n",
    "def funct(x) -> int:\n",
    "    if  x % 2 == 0:\n",
    "        return x ** 2\n",
    "\n",
    "    return f\"Value of x is {x}\"\n",
    "\n",
    "r = funct(10)\n",
    "print(r)\n",
    "r = funct(11)\n",
    "print(r)"
   ]
  },
  {
   "cell_type": "code",
   "execution_count": null,
   "metadata": {},
   "outputs": [],
   "source": [
    "# default arguments\n",
    "- a argument can have a default value only if all args on its right also have a default"
   ]
  },
  {
   "cell_type": "code",
   "execution_count": 39,
   "metadata": {},
   "outputs": [
    {
     "name": "stdout",
     "output_type": "stream",
     "text": [
      "p = 10, r= 2 , t=3\n",
      "0.6\n",
      "p = 10, r= 2 , t=1\n",
      "0.2\n"
     ]
    }
   ],
   "source": [
    "def si(p, r, t=1):\n",
    "    print(\"p = {}, r= {} , t={}\".format(p,r,t))\n",
    "    res  = (p*r*t)/100\n",
    "    return res\n",
    "\n",
    "print(si(10,2,3))\n",
    "print(si(10,2))"
   ]
  },
  {
   "cell_type": "code",
   "execution_count": 42,
   "metadata": {},
   "outputs": [
    {
     "name": "stdout",
     "output_type": "stream",
     "text": [
      "p = 10, r= 2 , t=3\n",
      "0.6\n",
      "p = 10, r= 2 , t=1\n",
      "0.2\n",
      "p = 10, r= 10 , t=1\n",
      "1.0\n"
     ]
    }
   ],
   "source": [
    "def si(p, r=10, t=1):\n",
    "    print(\"p = {}, r= {} , t={}\".format(p,r,t))\n",
    "    res  = (p*r*t)/100\n",
    "    return res\n",
    "\n",
    "print(si(10,2,3))\n",
    "print(si(10,2))\n",
    "print(si(10))"
   ]
  },
  {
   "cell_type": "code",
   "execution_count": 44,
   "metadata": {},
   "outputs": [
    {
     "ename": "SyntaxError",
     "evalue": "non-default argument follows default argument (<ipython-input-44-d7039880a3a8>, line 1)",
     "output_type": "error",
     "traceback": [
      "\u001b[0;36m  File \u001b[0;32m\"<ipython-input-44-d7039880a3a8>\"\u001b[0;36m, line \u001b[0;32m1\u001b[0m\n\u001b[0;31m    def si(p, r=10, t):\u001b[0m\n\u001b[0m           ^\u001b[0m\n\u001b[0;31mSyntaxError\u001b[0m\u001b[0;31m:\u001b[0m non-default argument follows default argument\n"
     ]
    }
   ],
   "source": [
    "def si(p, r=10, t):\n",
    "    print(\"p = {}, r= {} , t={}\".format(p,r,t))\n",
    "    res  = (p*r*t)/100\n",
    "    return res\n",
    "\n",
    "print(si(10,2,3))\n",
    "print(si(10,2))\n",
    "print(si(10))"
   ]
  },
  {
   "cell_type": "code",
   "execution_count": null,
   "metadata": {},
   "outputs": [],
   "source": [
    "# scope\n",
    "- function's local scope\n",
    "- global scope"
   ]
  },
  {
   "cell_type": "code",
   "execution_count": 46,
   "metadata": {},
   "outputs": [
    {
     "name": "stdout",
     "output_type": "stream",
     "text": [
      "From funct 1000\n"
     ]
    },
    {
     "ename": "NameError",
     "evalue": "name 'xyz' is not defined",
     "output_type": "error",
     "traceback": [
      "\u001b[0;31m---------------------------------------------------------------------------\u001b[0m",
      "\u001b[0;31mNameError\u001b[0m                                 Traceback (most recent call last)",
      "\u001b[0;32m<ipython-input-46-b03f27a16c44>\u001b[0m in \u001b[0;36m<module>\u001b[0;34m\u001b[0m\n\u001b[1;32m      4\u001b[0m \u001b[0;34m\u001b[0m\u001b[0m\n\u001b[1;32m      5\u001b[0m \u001b[0mfunct\u001b[0m\u001b[0;34m(\u001b[0m\u001b[0;34m)\u001b[0m\u001b[0;34m\u001b[0m\u001b[0;34m\u001b[0m\u001b[0m\n\u001b[0;32m----> 6\u001b[0;31m \u001b[0mprint\u001b[0m\u001b[0;34m(\u001b[0m\u001b[0mxyz\u001b[0m\u001b[0;34m)\u001b[0m\u001b[0;34m\u001b[0m\u001b[0;34m\u001b[0m\u001b[0m\n\u001b[0m",
      "\u001b[0;31mNameError\u001b[0m: name 'xyz' is not defined"
     ]
    }
   ],
   "source": [
    "def funct():\n",
    "    xyz = 1000\n",
    "    print(\"From funct\", xyz)\n",
    "\n",
    "funct()\n",
    "print(xyz)"
   ]
  },
  {
   "cell_type": "code",
   "execution_count": 47,
   "metadata": {},
   "outputs": [
    {
     "name": "stdout",
     "output_type": "stream",
     "text": [
      "From funct 1000\n"
     ]
    },
    {
     "ename": "NameError",
     "evalue": "name 'xyz' is not defined",
     "output_type": "error",
     "traceback": [
      "\u001b[0;31m---------------------------------------------------------------------------\u001b[0m",
      "\u001b[0;31mNameError\u001b[0m                                 Traceback (most recent call last)",
      "\u001b[0;32m<ipython-input-47-a466a9d4510e>\u001b[0m in \u001b[0;36m<module>\u001b[0;34m\u001b[0m\n\u001b[1;32m      3\u001b[0m \u001b[0;34m\u001b[0m\u001b[0m\n\u001b[1;32m      4\u001b[0m \u001b[0mfunct\u001b[0m\u001b[0;34m(\u001b[0m\u001b[0;36m1000\u001b[0m\u001b[0;34m)\u001b[0m\u001b[0;34m\u001b[0m\u001b[0;34m\u001b[0m\u001b[0m\n\u001b[0;32m----> 5\u001b[0;31m \u001b[0mprint\u001b[0m\u001b[0;34m(\u001b[0m\u001b[0mxyz\u001b[0m\u001b[0;34m)\u001b[0m\u001b[0;34m\u001b[0m\u001b[0;34m\u001b[0m\u001b[0m\n\u001b[0m",
      "\u001b[0;31mNameError\u001b[0m: name 'xyz' is not defined"
     ]
    }
   ],
   "source": [
    "def funct(xyz):\n",
    "    print(\"From funct\", xyz)\n",
    "\n",
    "funct(1000)\n",
    "print(xyz)"
   ]
  },
  {
   "cell_type": "code",
   "execution_count": null,
   "metadata": {},
   "outputs": [],
   "source": [
    "# modifying arguments"
   ]
  },
  {
   "cell_type": "code",
   "execution_count": 50,
   "metadata": {},
   "outputs": [
    {
     "name": "stdout",
     "output_type": "stream",
     "text": [
      "Funct:  10\n",
      "Funct:  20\n",
      "After 10\n"
     ]
    }
   ],
   "source": [
    "def funct(x):\n",
    "    print(\"Funct: \", x)\n",
    "    x = x + 10\n",
    "    print(\"Funct: \", x)\n",
    "    \n",
    "a = 10\n",
    "funct(a)\n",
    "print(\"After\", a)"
   ]
  },
  {
   "cell_type": "code",
   "execution_count": null,
   "metadata": {},
   "outputs": [],
   "source": [
    "def hello():\n",
    "    global x # statement ; not an expression\n",
    "    print()\n",
    "\n",
    "x=100\n"
   ]
  },
  {
   "cell_type": "code",
   "execution_count": 55,
   "metadata": {},
   "outputs": [
    {
     "name": "stdout",
     "output_type": "stream",
     "text": [
      "94286981684832\n",
      "94286981685152\n",
      "140432972190576\n"
     ]
    }
   ],
   "source": [
    "x = 10 # 1000 [ 10 ]\n",
    "print(id(x))\n",
    "x = 20 # 1200 [  20 ]\n",
    "print(id(x))\n",
    "x = \"abcd\"\n",
    "print(id(x))"
   ]
  },
  {
   "cell_type": "code",
   "execution_count": 52,
   "metadata": {},
   "outputs": [
    {
     "name": "stdout",
     "output_type": "stream",
     "text": [
      "94286981684832 94286981684832\n"
     ]
    }
   ],
   "source": [
    "x = 10\n",
    "y = 10\n",
    "print(id(x), id(y))"
   ]
  },
  {
   "cell_type": "code",
   "execution_count": 53,
   "metadata": {},
   "outputs": [
    {
     "name": "stdout",
     "output_type": "stream",
     "text": [
      "140432972320560 140432972320608\n"
     ]
    }
   ],
   "source": [
    "x = 10111111111111111111\n",
    "y = 10111111111111111111\n",
    "print(id(x), id(y))"
   ]
  },
  {
   "cell_type": "code",
   "execution_count": 54,
   "metadata": {},
   "outputs": [
    {
     "name": "stdout",
     "output_type": "stream",
     "text": [
      "140432972291728 140432972291728\n"
     ]
    }
   ],
   "source": [
    "x = \"10111111111111111111\"\n",
    "y = \"10111111111111111111\"\n",
    "print(id(x), id(y))"
   ]
  },
  {
   "cell_type": "code",
   "execution_count": null,
   "metadata": {},
   "outputs": [],
   "source": [
    "# \n",
    "int x # x 1000[ . . . .]\n",
    "x = 10\n",
    "x = 20"
   ]
  }
 ],
 "metadata": {
  "kernelspec": {
   "display_name": "Python 3",
   "language": "python",
   "name": "python3"
  },
  "language_info": {
   "codemirror_mode": {
    "name": "ipython",
    "version": 3
   },
   "file_extension": ".py",
   "mimetype": "text/x-python",
   "name": "python",
   "nbconvert_exporter": "python",
   "pygments_lexer": "ipython3",
   "version": "3.8.3"
  }
 },
 "nbformat": 4,
 "nbformat_minor": 4
}
