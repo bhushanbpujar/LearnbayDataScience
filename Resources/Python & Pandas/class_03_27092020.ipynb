{
 "cells": [
  {
   "cell_type": "markdown",
   "metadata": {},
   "source": [
    "# OS and Programming Language"
   ]
  },
  {
   "cell_type": "code",
   "execution_count": null,
   "metadata": {},
   "outputs": [],
   "source": [
    "OS - Operating system\n",
    "First application which gets loaded into the RAM\n",
    "OS is responsible to allocate the resources for the applicationrunnning on your system\n",
    "Resources - Memory(RAM), CPU, I/O devices etc"
   ]
  },
  {
   "cell_type": "code",
   "execution_count": null,
   "metadata": {},
   "outputs": [],
   "source": [
    "Programming language is required to get our task done."
   ]
  },
  {
   "cell_type": "code",
   "execution_count": null,
   "metadata": {},
   "outputs": [],
   "source": [
    "Type of Languages\n",
    "    Low Level programming language - Machine languages, Assembly Language\n",
    "    High level programming language - C,C++, Java, Python"
   ]
  },
  {
   "cell_type": "code",
   "execution_count": null,
   "metadata": {},
   "outputs": [],
   "source": [
    "# Low level languages - Machine code - 0 & 1\n",
    "    # If any PL is more closer towards the system - Low Level\n",
    "    # These codes are neither protable nor Platform independednt\n",
    "    # You have to know the underlying structure of the Hardware\n",
    "    # These codes does not handles security issues well\n",
    "    # As a developer you have to deal with memeory manageent and security issues\n",
    "\n",
    "\n",
    "\n"
   ]
  },
  {
   "cell_type": "code",
   "execution_count": null,
   "metadata": {},
   "outputs": [],
   "source": [
    "# High Level Programming Languages - \n",
    "    # If any PL is more closer towards the USER - HIGH Level\n",
    "    # These codes are either protable or Platform independednt OR BOTH\n",
    "    # You MAY NOT have to know the underlying structure of the Hardware\n",
    "    # These codes does handles security issues well\n",
    "    # As a developer you MAY have OR MAY NOT HAVE to deal with memeory manageent and security issues\n",
    "    \n",
    "    \n",
    "    \n",
    "# PYTHON IS TRULY HIGH LEVEL PROGRAMMIG LANGUAGE"
   ]
  },
  {
   "cell_type": "code",
   "execution_count": null,
   "metadata": {},
   "outputs": [],
   "source": [
    "TRANSLATORS:-\n",
    "    Compiler - Translates the whole source code at once from HL to LL - Compiled Languages - C\n",
    "    Interpreter - Translates the code line by line at from HL to LL - Interpreted Languages - Perl, Shell Scipting, JavaScript\n",
    "    Third - Uses both compiler and Interpreter to translate the code - Java, Python\n",
    "    \n"
   ]
  },
  {
   "cell_type": "code",
   "execution_count": null,
   "metadata": {},
   "outputs": [],
   "source": [
    "# C Source code - Compile - .exe(Machine code) - Output\n",
    "\n",
    "# Shell Scripting\n",
    "\n",
    "\n",
    "# Guido Van Rossum - Python (C and Shell Scripting)\n",
    "\n",
    " \n",
    "# DEV C++ - Compiler and Interpreter"
   ]
  },
  {
   "cell_type": "code",
   "execution_count": null,
   "metadata": {},
   "outputs": [],
   "source": [
    "# C Source code - Compile - .exe(Machine code) - Output - Portable bt not Platform Independednt\n",
    "Portable - If source code can be move from one platform to another\n",
    "Platform Independent - If Byte code/.exe file can be move from one platform to another\n",
    "\n",
    "\n",
    "# Python\n",
    "Source code - Compile - Byte code - Interprterd - Machine code - Output\n",
    "\n"
   ]
  },
  {
   "cell_type": "code",
   "execution_count": 1,
   "metadata": {},
   "outputs": [],
   "source": [
    "# Python - \n",
    "# Syntax is simple and easy to learn\n",
    "# Python is dynamically Typed Programming language - Type checking and Memory allocation is done at Run time\n",
    "# Python is portable and Platform independent\n",
    "# Python Compiled and Interoreted both\n",
    "# Python is Extensible(Using the code from Other PL to Python) and \n",
    "    # Embedded(Using the code of Python to Other PL)\n",
    "# Python Comes with batteries included\n",
    "\n",
    "# Python\n",
    "# Web Application\n",
    "# Desktop Application\n",
    "# Database Application\n",
    "# Data Analytics\n",
    "# Machine Learning, AI\n",
    "# IoT\n",
    "# Emebdded\n",
    "\n",
    "\n",
    "\n",
    "\n",
    "\n",
    "\n"
   ]
  },
  {
   "cell_type": "code",
   "execution_count": 10,
   "metadata": {},
   "outputs": [
    {
     "name": "stdout",
     "output_type": "stream",
     "text": [
      "<class 'int'> <class 'float'>\n",
      "<class 'float'> <class 'int'>\n",
      "120.2\n"
     ]
    },
    {
     "data": {
      "text/plain": [
       "16"
      ]
     },
     "execution_count": 10,
     "metadata": {},
     "output_type": "execute_result"
    }
   ],
   "source": [
    "# Sample Java code to add two numbers\n",
    "# public class add{\n",
    "#     public static void main(string[args]){\n",
    "#         int a = 10;\n",
    "#         int b = 20;\n",
    "#         int c = a+b;\n",
    "#         System.out.println(c);\n",
    "#     }\n",
    "# }\n",
    "\n",
    "# Sample Python code to add two numbers\n",
    "a,b = 10,20.30\n",
    "print(type(a), type(b))\n",
    "a = 100.200\n",
    "b = 20\n",
    "print(type(a), type(b))\n",
    "c = a+b\n",
    "print(c)\n",
    "\n",
    "\n",
    "# In the Statically type Programming languages Type checking and Memory allocation is done at compile time\n",
    " \n",
    "import sys\n",
    "a = 10\n",
    "sys.getsizeof(a)\n",
    "\n",
    "b = None\n",
    "sys.getsizeof(b)\n",
    "\n",
    "# ABC - Guido Van Rossum - ABC\n"
   ]
  },
  {
   "cell_type": "code",
   "execution_count": 28,
   "metadata": {},
   "outputs": [
    {
     "name": "stdout",
     "output_type": "stream",
     "text": [
      "This \n",
      "is \n",
      "Python \n",
      "class\n"
     ]
    }
   ],
   "source": [
    "# Literals\n",
    "# Numerical Literals - Constant\n",
    "# a = 10\n",
    "# print(type(a), a)\n",
    "# b = 10.20\n",
    "# print(type(b), b)\n",
    "# c = 10+20j\n",
    "# print(type(c), c)\n",
    "# g = 0b1010\n",
    "# print(type(g), g)\n",
    "# h = 0o7654\n",
    "# print(type(h),h)\n",
    "# i = 0xfc98\n",
    "# print(type(i), i)\n",
    "\n",
    "\n",
    "# print()\n",
    "# d = None\n",
    "# print(type(d), d)\n",
    "# e = 'Python'\n",
    "# print(type(e), e)\n",
    "# f = True\n",
    "# print(type(f), f)\n",
    "\n",
    "#String - any value written inside '...', \"...\", '''...''', \"\"\"...\"\"\"\n",
    "# e = 'Python'\n",
    "# print(type(e), e)\n",
    "# f = \"Python\"\n",
    "# print(type(f), f)\n",
    "# g = \"\"\"Python\"\"\"\n",
    "# print(type(g), g)\n",
    "\n",
    "# e = \"This is Python's class\"\n",
    "# print(e)\n",
    "# e = 'This is \"Python\" class'\n",
    "# print(e)\n",
    "# e = '''This is \"Python\" & 'Java' class'''\n",
    "# print(e)\n",
    "\n",
    "# Multiline strings using triple quotation\n",
    "# e = '''This \n",
    "# is \n",
    "# Python \n",
    "# class'''\n",
    "# print(e)\n",
    "\n"
   ]
  },
  {
   "cell_type": "code",
   "execution_count": 35,
   "metadata": {},
   "outputs": [
    {
     "name": "stdout",
     "output_type": "stream",
     "text": [
      "<class 'int'>\n"
     ]
    }
   ],
   "source": [
    "# Identifiers - Any name given to the function, class, object, variable, constants\n",
    "# num = 100\n",
    "\n",
    "# NUM = 1000\n",
    "\n",
    "# def f1():\n",
    "#     pass\n",
    "\n",
    "# class MyFirstClass:\n",
    "#     pass\n",
    "\n",
    "# obj = MyFirstClass()\n",
    "\n",
    "# Rule of defining th eidentifier\n",
    "    # Allowed characters - A to Z, a to z and 0 to 9, _\n",
    "    # Not Allowed charcaters are - Special Characters\n",
    "    # Identifier should not start with a number\n",
    "    # Identifiers are case sensitive\n",
    "    # Constants should use only capital case letters\n",
    "    # Class names should be writen in PascalCaseNotation\n",
    "    # Reserved words should not be used as an identifier\n",
    "    # _abc - Private - Not accessible outside the module\n",
    "    # __abc - Strongly Private - Not accessible outside the class\n",
    "    # __abc__ - language specific identifer, __name__, __iter__, __abc__\n",
    "        # recommneded to avoid writing any identifier which starts and ends with __.\n",
    "\n",
    "    \n",
    "# 1num = 100    \n",
    "\n",
    "NUM = 100\n",
    "NUM\n",
    "NUM = 1000\n",
    "print(type(NUM))\n",
    "    \n",
    "PI = 3.14  \n",
    "r = 12\n",
    "PI * r * r   \n",
    "\n"
   ]
  },
  {
   "cell_type": "code",
   "execution_count": 39,
   "metadata": {},
   "outputs": [
    {
     "name": "stdout",
     "output_type": "stream",
     "text": [
      "['False', 'None', 'True', 'and', 'as', 'assert', 'async', 'await', 'break', 'class', 'continue', 'def', 'del', 'elif', 'else', 'except', 'finally', 'for', 'from', 'global', 'if', 'import', 'in', 'is', 'lambda', 'nonlocal', 'not', 'or', 'pass', 'raise', 'return', 'try', 'while', 'with', 'yield']\n"
     ]
    }
   ],
   "source": [
    "import keyword\n",
    "print(keyword.kwlist)\n",
    "\n",
    "# and = 10"
   ]
  },
  {
   "cell_type": "code",
   "execution_count": 40,
   "metadata": {},
   "outputs": [
    {
     "data": {
      "text/plain": [
       "'__main__'"
      ]
     },
     "execution_count": 40,
     "metadata": {},
     "output_type": "execute_result"
    }
   ],
   "source": [
    "__name__"
   ]
  },
  {
   "cell_type": "code",
   "execution_count": null,
   "metadata": {},
   "outputs": [],
   "source": [
    "__iter__, __add__, __mul__ - dunder/magic method"
   ]
  },
  {
   "cell_type": "code",
   "execution_count": 41,
   "metadata": {},
   "outputs": [
    {
     "data": {
      "text/plain": [
       "100"
      ]
     },
     "execution_count": 41,
     "metadata": {},
     "output_type": "execute_result"
    }
   ],
   "source": [
    "__name__ = 100\n",
    "__name__"
   ]
  },
  {
   "cell_type": "code",
   "execution_count": 1,
   "metadata": {},
   "outputs": [
    {
     "name": "stdout",
     "output_type": "stream",
     "text": [
      "100\n"
     ]
    },
    {
     "ename": "NameError",
     "evalue": "name 'c' is not defined",
     "output_type": "error",
     "traceback": [
      "\u001b[0;31m---------------------------------------------------------------------------\u001b[0m",
      "\u001b[0;31mNameError\u001b[0m                                 Traceback (most recent call last)",
      "\u001b[0;32m<ipython-input-1-df8f537edbd6>\u001b[0m in \u001b[0;36m<module>\u001b[0;34m\u001b[0m\n\u001b[1;32m     24\u001b[0m \u001b[0;31m#         print(i)\u001b[0m\u001b[0;34m\u001b[0m\u001b[0;34m\u001b[0m\u001b[0;34m\u001b[0m\u001b[0m\n\u001b[1;32m     25\u001b[0m \u001b[0mprint\u001b[0m\u001b[0;34m(\u001b[0m\u001b[0ma\u001b[0m\u001b[0;34m)\u001b[0m\u001b[0;34m\u001b[0m\u001b[0;34m\u001b[0m\u001b[0m\n\u001b[0;32m---> 26\u001b[0;31m \u001b[0mprint\u001b[0m\u001b[0;34m(\u001b[0m\u001b[0mc\u001b[0m\u001b[0;34m)\u001b[0m\u001b[0;34m\u001b[0m\u001b[0;34m\u001b[0m\u001b[0m\n\u001b[0m",
      "\u001b[0;31mNameError\u001b[0m: name 'c' is not defined"
     ]
    }
   ],
   "source": [
    "# Expression - combination of operators, operands, variable, constants, which are executable\n",
    "# 10\n",
    "# 10.20\n",
    "# 'Python'\n",
    "# 10+20\n",
    "# a= 10\n",
    "# print(a+100)\n",
    "\n",
    "\n",
    "# statments - combination of expression, variables, function call which are not exceutable\n",
    "# a = 10\n",
    "# if a<100:\n",
    "#     print(a)\n",
    "\n",
    "# blocks - made up of statments\n",
    "a = 100\n",
    "b = 20\n",
    "# c = 30\n",
    "# if a>b:\n",
    "#     print(a-b)\n",
    "#     if a>c:\n",
    "#         print(a-c)\n",
    "#     for i in 'Python':\n",
    "#         print(i)\n",
    "\n",
    "'''print(a)\n",
    "print(c)\n",
    "'''"
   ]
  },
  {
   "cell_type": "code",
   "execution_count": 62,
   "metadata": {},
   "outputs": [
    {
     "data": {
      "text/plain": [
       "'Python'"
      ]
     },
     "execution_count": 62,
     "metadata": {},
     "output_type": "execute_result"
    }
   ],
   "source": [
    "# 10\n",
    "# 20\n",
    "# 'Python'"
   ]
  },
  {
   "cell_type": "code",
   "execution_count": null,
   "metadata": {},
   "outputs": [],
   "source": [
    "# Comments \n"
   ]
  },
  {
   "cell_type": "code",
   "execution_count": null,
   "metadata": {},
   "outputs": [],
   "source": []
  },
  {
   "cell_type": "code",
   "execution_count": null,
   "metadata": {},
   "outputs": [],
   "source": []
  },
  {
   "cell_type": "code",
   "execution_count": null,
   "metadata": {},
   "outputs": [],
   "source": []
  },
  {
   "cell_type": "code",
   "execution_count": null,
   "metadata": {},
   "outputs": [],
   "source": []
  },
  {
   "cell_type": "code",
   "execution_count": null,
   "metadata": {},
   "outputs": [],
   "source": []
  },
  {
   "cell_type": "code",
   "execution_count": null,
   "metadata": {},
   "outputs": [],
   "source": []
  },
  {
   "cell_type": "code",
   "execution_count": null,
   "metadata": {},
   "outputs": [],
   "source": []
  }
 ],
 "metadata": {
  "kernelspec": {
   "display_name": "Python 3",
   "language": "python",
   "name": "python3"
  },
  "language_info": {
   "codemirror_mode": {
    "name": "ipython",
    "version": 3
   },
   "file_extension": ".py",
   "mimetype": "text/x-python",
   "name": "python",
   "nbconvert_exporter": "python",
   "pygments_lexer": "ipython3",
   "version": "3.7.3"
  }
 },
 "nbformat": 4,
 "nbformat_minor": 2
}
