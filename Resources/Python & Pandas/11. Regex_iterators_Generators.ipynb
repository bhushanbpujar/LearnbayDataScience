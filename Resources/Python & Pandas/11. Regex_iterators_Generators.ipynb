{
 "cells": [
  {
   "cell_type": "markdown",
   "metadata": {},
   "source": [
    "# Topics to be covered\n",
    "    Regular Expression in Python\n",
    "    Methods in regular expression\n",
    "    Significance of special characters, quantifiers & symbols\n",
    "    5-6 examples on regular Expressio"
   ]
  },
  {
   "cell_type": "code",
   "execution_count": null,
   "metadata": {},
   "outputs": [],
   "source": [
    "# Validation and searcing the pattern"
   ]
  },
  {
   "cell_type": "code",
   "execution_count": null,
   "metadata": {},
   "outputs": [],
   "source": [
    "Sequence characters in regular expression:-\n",
    "    1. \\d - any digit from 0 to 9\n",
    "    2. \\D - any non-digit -\n",
    "    3. \\s - white space e.g.:- \\t,\\n,\\r,\\v,\\f\n",
    "    4. \\S - non white space character\n",
    "    5. \\w - any alphanumeric character e.g.:- (A to Z, a to z, 0 to 9)\n",
    "    6. \\W - any non alphanumeric character\n",
    "    7. \\b - individual words\n",
    "    8. \\A - matches only at the start of the string\n",
    "    9. \\Z - matches only at the end of the string\n",
    "\n",
    "Characters represents more than one character to be matched in the string is called Quantifiers.\n",
    "    1. + - represents 1 or more repetitions of the preceding regex exp\n",
    "    2. * - 0 or more repetitions of the preceding regex exp\n",
    "    3. ? - 0 or 1 repetitions of the preceding regex exp\n",
    "    4. {m} - exactly m occurences\n",
    "    5. {m,n} - from m to n. m defaults to 0 n to infinity. Always goes for higher bound i.e n and then m\n",
    "    \n",
    "Special Characters in regex:-\n",
    "    1. \\ - Escape special character\n",
    "    2. . - matches any character except new line\n",
    "    3. ^ - matches begining of the string\n",
    "    4. $ - matches ending of a string\n",
    "    5. [...] - Denotes set of possible charcaters. e.g. [6p-t]matches any characters from 6,p,q,r,s or t.\n",
    "    6. [^...] - Matches every characters except the ones inside brackets. e.g [^6p-t]matches every characters\n",
    "    except 6,p,q,r,s or t.\n",
    "    7. (...) - Matches the regular expression inside the parenthesis and the result can be captured.\n",
    "    8. R|S - Matches the regex either R or S."
   ]
  },
  {
   "cell_type": "code",
   "execution_count": 1,
   "metadata": {},
   "outputs": [],
   "source": [
    "import re\n"
   ]
  },
  {
   "cell_type": "code",
   "execution_count": null,
   "metadata": {},
   "outputs": [],
   "source": [
    "# search - it will search for the pattern in whole string and returns the match object of first occurrenec of the pattern. group()\n",
    "# match - it will search for the pattern in begining of teh string and returns the match object of matched pattern. group()\n",
    "# findall - will be looking for the pattern in whole string and returns allthe occurrences in form of string\n",
    "# split - splits the string from the given pattern\n",
    "# sub - which replaces the old pattern/s in the given string with new pattern"
   ]
  },
  {
   "cell_type": "code",
   "execution_count": null,
   "metadata": {},
   "outputs": [],
   "source": [
    "import re\n",
    "my_str = \"\"\"peter piper picked a peck of pickled peppers.\n",
    "A peck of pickled peppers Peter Piper picked.\n",
    "If Peter Piper picked a peck of pickled peppers,\n",
    "Where’s the peck of pickled peppers Peter Piper picked? p pa\"\"\"\n",
    "reg = r'\\b[Pp]\\w{3,}\\b$'\n",
    "# print(re.search(reg, my_str).group())\n",
    "\n",
    "# print(re.match(reg, my_str).group())\n",
    "\n",
    "print(re.findall(reg, my_str))\n",
    "\n",
    "# print(re.split(reg, my_str))\n",
    "\n",
    "# print(re.sub(reg, '55555', my_str))\n",
    "\n",
    "# print(my_str)"
   ]
  },
  {
   "cell_type": "code",
   "execution_count": 19,
   "metadata": {},
   "outputs": [
    {
     "name": "stdout",
     "output_type": "stream",
     "text": [
      "<re.Match object; span=(20, 22), match='at'>\n"
     ]
    }
   ],
   "source": [
    "import re\n",
    "my_str = 'cat mat rat hat can at cap c98 c9t r98'\n",
    "reg = r'\\bat\\b'\n",
    "res = re.search(reg, my_str)\n",
    "print(res)"
   ]
  },
  {
   "cell_type": "code",
   "execution_count": 6,
   "metadata": {},
   "outputs": [
    {
     "name": "stdout",
     "output_type": "stream",
     "text": [
      "cat\n"
     ]
    }
   ],
   "source": [
    "import re\n",
    "my_str = 'cat mat rat hat can cap c98 c9t r98'\n",
    "reg = r'c\\w\\w{3,5}'\n",
    "res = re.match(reg, my_str)\n",
    "print(res.group())"
   ]
  },
  {
   "cell_type": "code",
   "execution_count": 10,
   "metadata": {},
   "outputs": [
    {
     "name": "stdout",
     "output_type": "stream",
     "text": [
      "None\n"
     ]
    }
   ],
   "source": [
    "import re\n",
    "my_str = 'cat mat rat hat can cap c98 c9t r98'\n",
    "reg = r'r\\w\\w'\n",
    "res = re.match(reg, my_str)\n",
    "print(res)"
   ]
  },
  {
   "cell_type": "code",
   "execution_count": 11,
   "metadata": {},
   "outputs": [
    {
     "name": "stdout",
     "output_type": "stream",
     "text": [
      "['rat', 'r98']\n"
     ]
    }
   ],
   "source": [
    "import re\n",
    "my_str = 'cat mat rat hat can cap c98 c9t r98'\n",
    "reg = r'r\\w\\w'\n",
    "res = re.findall(reg, my_str)\n",
    "print(res)"
   ]
  },
  {
   "cell_type": "code",
   "execution_count": 12,
   "metadata": {},
   "outputs": [
    {
     "name": "stdout",
     "output_type": "stream",
     "text": [
      "['cat mat ', ' hat can ', ' cap c98 c9t']\n"
     ]
    }
   ],
   "source": [
    "import re\n",
    "my_str = 'cat mat rat hat can r98 cap c98 c9t'\n",
    "reg = r'r\\w\\w'\n",
    "res = re.split(reg, my_str)\n",
    "print(res)"
   ]
  },
  {
   "cell_type": "code",
   "execution_count": 20,
   "metadata": {},
   "outputs": [
    {
     "name": "stdout",
     "output_type": "stream",
     "text": [
      "cat mat run hat can run cap c98 c9t\n"
     ]
    }
   ],
   "source": [
    "import re\n",
    "my_str = 'cat mat rat hat can r98 cap c98 c9t'\n",
    "reg = r'r\\w\\w'\n",
    "new = 'run'\n",
    "res = re.sub(reg, new, my_str)\n",
    "print(res)"
   ]
  },
  {
   "cell_type": "code",
   "execution_count": 30,
   "metadata": {},
   "outputs": [
    {
     "name": "stdout",
     "output_type": "stream",
     "text": [
      "['Peter']\n"
     ]
    }
   ],
   "source": [
    "my_str = 'Peter piper picked a peck of pickled peppers.'\n",
    "reg = r'^\\b[Pp]\\w{3,4}\\b'\n",
    "print(re.findall(reg, my_str))"
   ]
  },
  {
   "cell_type": "code",
   "execution_count": 36,
   "metadata": {},
   "outputs": [
    {
     "name": "stdout",
     "output_type": "stream",
     "text": [
      "['peppers.']\n"
     ]
    }
   ],
   "source": [
    "my_str = 'Peter piper picked a peck of pickled peppers.'\n",
    "reg = r'\\b[Pp]\\w{3,}.$'\n",
    "print(re.findall(reg, my_str))"
   ]
  },
  {
   "cell_type": "code",
   "execution_count": 37,
   "metadata": {},
   "outputs": [
    {
     "name": "stdout",
     "output_type": "stream",
     "text": [
      "['Peter']\n"
     ]
    }
   ],
   "source": [
    "my_str = 'Peter piper picked a peck of pickled peppers.'\n",
    "reg = r'\\A\\b[Pp]\\w{3,4}\\b'\n",
    "print(re.findall(reg, my_str))"
   ]
  },
  {
   "cell_type": "code",
   "execution_count": 38,
   "metadata": {},
   "outputs": [
    {
     "name": "stdout",
     "output_type": "stream",
     "text": [
      "['peppers.']\n"
     ]
    }
   ],
   "source": [
    "my_str = 'Peter piper picked a peck of pickled peppers.'\n",
    "reg = r'\\b[Pp]\\w{3,}.\\Z'\n",
    "print(re.findall(reg, my_str))"
   ]
  },
  {
   "cell_type": "code",
   "execution_count": 40,
   "metadata": {},
   "outputs": [
    {
     "name": "stdout",
     "output_type": "stream",
     "text": [
      "<re.Match object; span=(4, 10), match='petpet'>\n",
      "petttt\n",
      "petpetpet\n"
     ]
    }
   ],
   "source": [
    "import re\n",
    "# my_str = 'peter piper pic\\nked a peck of pick\\nled peppers.'\n",
    "my_str = 'abc petpet xyz'\n",
    "reg = r'(pet)+'\n",
    "print(re.search(reg, my_str))\n",
    "\n",
    "\n",
    "my_str1 = 'abc petttt xyz'\n",
    "reg = r'(pet+)'\n",
    "print(re.search(reg, my_str1).group())\n",
    "\n",
    "my_str2 = 'abc petpetpet xyz'\n",
    "reg = r'(pet)+'\n",
    "print(re.search(reg, my_str2).group())"
   ]
  },
  {
   "cell_type": "code",
   "execution_count": 45,
   "metadata": {},
   "outputs": [
    {
     "data": {
      "text/plain": [
       "['peter', 'per', 'picked', 'peck', 'pickled', 'peppers']"
      ]
     },
     "execution_count": 45,
     "metadata": {},
     "output_type": "execute_result"
    }
   ],
   "source": [
    "#Write the regular expression and use proper method which Retrieves all words starting with p.\n",
    "#Output:- ['peter', 'per', 'picked', 'peck', 'pickled', 'peppers']\n",
    "import re\n",
    "str = \"peter giper picked a peck of pickled peppers\"\n",
    "re.findall(r'p\\w*', str)\n",
    "\n",
    "\n"
   ]
  },
  {
   "cell_type": "code",
   "execution_count": 46,
   "metadata": {},
   "outputs": [
    {
     "data": {
      "text/plain": [
       "['peter', 'picked', 'peck', 'pickled', 'peppers']"
      ]
     },
     "execution_count": 46,
     "metadata": {},
     "output_type": "execute_result"
    }
   ],
   "source": [
    "#Write the regular expression and use proper method which Retrieves all words starting with p except 'per' which is not a separate word.\n",
    "#Output:- ['peter', 'picked', 'peck', 'pickled', 'peppers']\n",
    "import re\n",
    "str = \"peter giper picked a peck of pickled peppers\"\n",
    "re.findall(r'\\bp\\w*\\b', str)"
   ]
  },
  {
   "cell_type": "code",
   "execution_count": 47,
   "metadata": {},
   "outputs": [
    {
     "data": {
      "text/plain": [
       "['anil', 'akhil', 'anant', 'ankur']"
      ]
     },
     "execution_count": 47,
     "metadata": {},
     "output_type": "execute_result"
    }
   ],
   "source": [
    "##Write the regular expression and use proper method which Retrieves name starting with 'an' or 'ak'.\n",
    "#Output:- ['anil', 'akhil', 'anant', 'ankur']\n",
    "import re\n",
    "str = 'anil akhil anant abhi arun arati arundhati abhijit ankur'\n",
    "re.findall(r'a[nk]\\w+', str)\n",
    "\n",
    "\n"
   ]
  },
  {
   "cell_type": "code",
   "execution_count": 48,
   "metadata": {},
   "outputs": [
    {
     "data": {
      "text/plain": [
       "'abcnmno'"
      ]
     },
     "execution_count": 48,
     "metadata": {},
     "output_type": "execute_result"
    }
   ],
   "source": [
    "import re\n",
    "re.search(r'abc.\\w+', 'abc\\nxyz abc\\nxyz, abcnmno').group()\n"
   ]
  },
  {
   "cell_type": "code",
   "execution_count": 50,
   "metadata": {},
   "outputs": [
    {
     "data": {
      "text/plain": [
       "'abc\\nxyz'"
      ]
     },
     "execution_count": 50,
     "metadata": {},
     "output_type": "execute_result"
    }
   ],
   "source": [
    "import re\n",
    "re.search(r'abc\\s\\w+', 'abc\\nxyz abc\\nmno, abcnmno').group()"
   ]
  },
  {
   "cell_type": "code",
   "execution_count": null,
   "metadata": {},
   "outputs": [],
   "source": [
    "# Iterators and Generator"
   ]
  },
  {
   "cell_type": "code",
   "execution_count": null,
   "metadata": {},
   "outputs": [],
   "source": [
    "# Iterable - __iter__"
   ]
  },
  {
   "cell_type": "code",
   "execution_count": 51,
   "metadata": {},
   "outputs": [
    {
     "name": "stdout",
     "output_type": "stream",
     "text": [
      "['__add__', '__class__', '__contains__', '__delattr__', '__delitem__', '__dir__', '__doc__', '__eq__', '__format__', '__ge__', '__getattribute__', '__getitem__', '__gt__', '__hash__', '__iadd__', '__imul__', '__init__', '__init_subclass__', '__iter__', '__le__', '__len__', '__lt__', '__mul__', '__ne__', '__new__', '__reduce__', '__reduce_ex__', '__repr__', '__reversed__', '__rmul__', '__setattr__', '__setitem__', '__sizeof__', '__str__', '__subclasshook__', 'append', 'clear', 'copy', 'count', 'extend', 'index', 'insert', 'pop', 'remove', 'reverse', 'sort']\n"
     ]
    }
   ],
   "source": [
    "# print(dir(list))"
   ]
  },
  {
   "cell_type": "code",
   "execution_count": 52,
   "metadata": {},
   "outputs": [
    {
     "name": "stdout",
     "output_type": "stream",
     "text": [
      "['__class__', '__contains__', '__delattr__', '__delitem__', '__dir__', '__doc__', '__eq__', '__format__', '__ge__', '__getattribute__', '__getitem__', '__gt__', '__hash__', '__init__', '__init_subclass__', '__iter__', '__le__', '__len__', '__lt__', '__ne__', '__new__', '__reduce__', '__reduce_ex__', '__repr__', '__setattr__', '__setitem__', '__sizeof__', '__str__', '__subclasshook__', 'clear', 'copy', 'fromkeys', 'get', 'items', 'keys', 'pop', 'popitem', 'setdefault', 'update', 'values']\n"
     ]
    }
   ],
   "source": [
    "print(dir({}))"
   ]
  },
  {
   "cell_type": "code",
   "execution_count": 59,
   "metadata": {},
   "outputs": [
    {
     "name": "stdout",
     "output_type": "stream",
     "text": [
      "10\n",
      "20\n",
      "30\n"
     ]
    }
   ],
   "source": [
    "for i in [10,20,30]:\n",
    "    print(i)"
   ]
  },
  {
   "cell_type": "code",
   "execution_count": null,
   "metadata": {},
   "outputs": [],
   "source": [
    "# iterator\n",
    "# iter\n",
    "# next"
   ]
  },
  {
   "cell_type": "code",
   "execution_count": 61,
   "metadata": {},
   "outputs": [
    {
     "ename": "AttributeError",
     "evalue": "'list_iterator' object has no attribute 'hasnext'",
     "output_type": "error",
     "traceback": [
      "\u001b[0;31m---------------------------------------------------------------------------\u001b[0m",
      "\u001b[0;31mAttributeError\u001b[0m                            Traceback (most recent call last)",
      "\u001b[0;32m<ipython-input-61-1cc7f3a85e1a>\u001b[0m in \u001b[0;36m<module>\u001b[0;34m\u001b[0m\n\u001b[1;32m      6\u001b[0m \u001b[0;31m# next(my_iter)\u001b[0m\u001b[0;34m\u001b[0m\u001b[0;34m\u001b[0m\u001b[0;34m\u001b[0m\u001b[0m\n\u001b[1;32m      7\u001b[0m \u001b[0;31m# next(my_iter)\u001b[0m\u001b[0;34m\u001b[0m\u001b[0;34m\u001b[0m\u001b[0;34m\u001b[0m\u001b[0m\n\u001b[0;32m----> 8\u001b[0;31m \u001b[0mprint\u001b[0m\u001b[0;34m(\u001b[0m\u001b[0mmy_iter\u001b[0m\u001b[0;34m.\u001b[0m\u001b[0mhasnext\u001b[0m\u001b[0;34m(\u001b[0m\u001b[0;34m)\u001b[0m\u001b[0;34m)\u001b[0m\u001b[0;34m\u001b[0m\u001b[0;34m\u001b[0m\u001b[0m\n\u001b[0m",
      "\u001b[0;31mAttributeError\u001b[0m: 'list_iterator' object has no attribute 'hasnext'"
     ]
    }
   ],
   "source": [
    "lst = [10,20,30]\n",
    "my_iter = iter(lst)\n",
    "# print(type(my_iter))\n",
    "# next(my_iter)\n",
    "# next(my_iter)\n",
    "# next(my_iter)\n",
    "# next(my_iter)\n",
    "print(my_iter.hasnext())\n"
   ]
  },
  {
   "cell_type": "code",
   "execution_count": null,
   "metadata": {},
   "outputs": [],
   "source": [
    "# hasnext()"
   ]
  },
  {
   "cell_type": "code",
   "execution_count": null,
   "metadata": {},
   "outputs": [],
   "source": [
    "# Generator - map, filter, zip, \n",
    "# list comprehension - list\n",
    "# tuple comprehension - generator\n"
   ]
  },
  {
   "cell_type": "code",
   "execution_count": 63,
   "metadata": {},
   "outputs": [
    {
     "name": "stdout",
     "output_type": "stream",
     "text": [
      "<class 'generator'>\n",
      "['__class__', '__del__', '__delattr__', '__dir__', '__doc__', '__eq__', '__format__', '__ge__', '__getattribute__', '__gt__', '__hash__', '__init__', '__init_subclass__', '__iter__', '__le__', '__lt__', '__name__', '__ne__', '__new__', '__next__', '__qualname__', '__reduce__', '__reduce_ex__', '__repr__', '__setattr__', '__sizeof__', '__str__', '__subclasshook__', 'close', 'gi_code', 'gi_frame', 'gi_running', 'gi_yieldfrom', 'send', 'throw']\n"
     ]
    }
   ],
   "source": [
    "# g = (i for i in range(5))\n",
    "# print(type(g))\n",
    "# print(dir(g))"
   ]
  },
  {
   "cell_type": "code",
   "execution_count": 69,
   "metadata": {},
   "outputs": [],
   "source": [
    "# import sys\n",
    "# g = (i for i in range(1000000000000000000000000000000000000000000))\n",
    "# print(sys.getsizeof(g))\n",
    "\n",
    "\n",
    "# for i in g:\n",
    "#     print(i)"
   ]
  },
  {
   "cell_type": "code",
   "execution_count": 67,
   "metadata": {},
   "outputs": [
    {
     "name": "stdout",
     "output_type": "stream",
     "text": [
      "824464\n"
     ]
    }
   ],
   "source": [
    "# g = [i for i in range(100000)]\n",
    "# print(sys.getsizeof(g))"
   ]
  },
  {
   "cell_type": "code",
   "execution_count": 83,
   "metadata": {},
   "outputs": [
    {
     "name": "stdout",
     "output_type": "stream",
     "text": [
      "50\n",
      "[30, 10, 10.2, (10+20j), 'Python', [10, 20, 30], (10, 20, 30), {1: 100, 2: 200, 3: 300}, {10, 20, 30}]\n"
     ]
    }
   ],
   "source": [
    "def my_gen():\n",
    "    a = 10\n",
    "    b = 20\n",
    "    c = a+b\n",
    "    yield c\n",
    "    d = c+b\n",
    "    print(d)\n",
    "    yield 10\n",
    "    yield 10.20\n",
    "    yield 10+20j\n",
    "    yield 'Python'\n",
    "    yield [10,20,30]\n",
    "    yield (10,20,30)\n",
    "    yield {1:100, 2:200, 3:300}\n",
    "    yield {10,20,30}\n",
    "    \n",
    "g = my_gen()\n",
    "# print(type(g))\n",
    "\n",
    "# for i in g:\n",
    "#     print(i)\n",
    "    \n",
    "# print(sys.getsizeof(g))\n",
    "\n",
    "# g[0:3]\n",
    "\n",
    "print(list(g))"
   ]
  },
  {
   "cell_type": "code",
   "execution_count": 74,
   "metadata": {},
   "outputs": [
    {
     "name": "stdout",
     "output_type": "stream",
     "text": [
      "128\n"
     ]
    }
   ],
   "source": [
    "lst = [10,10.20, 10+20j, 'Python', [10,20,30], (10,20,30), {1:100, 2:200, 3:300}, {10,20,30}]\n",
    "print(sys.getsizeof(lst))"
   ]
  },
  {
   "cell_type": "code",
   "execution_count": 79,
   "metadata": {},
   "outputs": [
    {
     "data": {
      "text/plain": [
       "range(0, 5)"
      ]
     },
     "execution_count": 79,
     "metadata": {},
     "output_type": "execute_result"
    }
   ],
   "source": [
    "range(10)[0:5]"
   ]
  },
  {
   "cell_type": "code",
   "execution_count": null,
   "metadata": {},
   "outputs": [],
   "source": []
  },
  {
   "cell_type": "code",
   "execution_count": null,
   "metadata": {},
   "outputs": [],
   "source": []
  },
  {
   "cell_type": "code",
   "execution_count": null,
   "metadata": {},
   "outputs": [],
   "source": []
  },
  {
   "cell_type": "code",
   "execution_count": null,
   "metadata": {},
   "outputs": [],
   "source": []
  },
  {
   "cell_type": "code",
   "execution_count": null,
   "metadata": {},
   "outputs": [],
   "source": []
  },
  {
   "cell_type": "code",
   "execution_count": null,
   "metadata": {},
   "outputs": [],
   "source": []
  },
  {
   "cell_type": "code",
   "execution_count": null,
   "metadata": {},
   "outputs": [],
   "source": []
  },
  {
   "cell_type": "code",
   "execution_count": null,
   "metadata": {},
   "outputs": [],
   "source": []
  },
  {
   "cell_type": "code",
   "execution_count": null,
   "metadata": {},
   "outputs": [],
   "source": []
  },
  {
   "cell_type": "code",
   "execution_count": null,
   "metadata": {},
   "outputs": [],
   "source": []
  },
  {
   "cell_type": "code",
   "execution_count": null,
   "metadata": {},
   "outputs": [],
   "source": []
  },
  {
   "cell_type": "code",
   "execution_count": null,
   "metadata": {},
   "outputs": [],
   "source": []
  },
  {
   "cell_type": "code",
   "execution_count": null,
   "metadata": {},
   "outputs": [],
   "source": []
  },
  {
   "cell_type": "code",
   "execution_count": null,
   "metadata": {},
   "outputs": [],
   "source": []
  },
  {
   "cell_type": "code",
   "execution_count": null,
   "metadata": {},
   "outputs": [],
   "source": []
  },
  {
   "cell_type": "code",
   "execution_count": null,
   "metadata": {},
   "outputs": [],
   "source": []
  },
  {
   "cell_type": "code",
   "execution_count": null,
   "metadata": {},
   "outputs": [],
   "source": []
  },
  {
   "cell_type": "code",
   "execution_count": null,
   "metadata": {},
   "outputs": [],
   "source": []
  },
  {
   "cell_type": "code",
   "execution_count": null,
   "metadata": {},
   "outputs": [],
   "source": []
  },
  {
   "cell_type": "code",
   "execution_count": null,
   "metadata": {},
   "outputs": [],
   "source": []
  },
  {
   "cell_type": "code",
   "execution_count": null,
   "metadata": {},
   "outputs": [],
   "source": []
  }
 ],
 "metadata": {
  "kernelspec": {
   "display_name": "Python 3",
   "language": "python",
   "name": "python3"
  },
  "language_info": {
   "codemirror_mode": {
    "name": "ipython",
    "version": 3
   },
   "file_extension": ".py",
   "mimetype": "text/x-python",
   "name": "python",
   "nbconvert_exporter": "python",
   "pygments_lexer": "ipython3",
   "version": "3.7.3"
  }
 },
 "nbformat": 4,
 "nbformat_minor": 2
}
