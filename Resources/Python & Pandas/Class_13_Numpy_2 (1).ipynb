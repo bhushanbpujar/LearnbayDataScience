{
 "cells": [
  {
   "cell_type": "code",
   "execution_count": 3,
   "metadata": {
    "ExecuteTime": {
     "end_time": "2020-11-08T14:19:02.967506Z",
     "start_time": "2020-11-08T14:19:02.964244Z"
    }
   },
   "outputs": [],
   "source": [
    "import numpy as np"
   ]
  },
  {
   "cell_type": "code",
   "execution_count": 4,
   "metadata": {
    "ExecuteTime": {
     "end_time": "2020-11-08T14:19:04.057174Z",
     "start_time": "2020-11-08T14:19:04.048627Z"
    }
   },
   "outputs": [],
   "source": [
    "arr1 = np.array([11,12,13])\n",
    "arr2 = np.array([21,22,23])"
   ]
  },
  {
   "cell_type": "code",
   "execution_count": 5,
   "metadata": {
    "ExecuteTime": {
     "end_time": "2020-11-08T14:19:05.902812Z",
     "start_time": "2020-11-08T14:19:05.897139Z"
    }
   },
   "outputs": [],
   "source": [
    "arr1 += 2"
   ]
  },
  {
   "cell_type": "markdown",
   "metadata": {},
   "source": [
    "# Unary Operations"
   ]
  },
  {
   "cell_type": "code",
   "execution_count": 6,
   "metadata": {
    "ExecuteTime": {
     "end_time": "2020-11-08T14:19:08.179811Z",
     "start_time": "2020-11-08T14:19:08.162464Z"
    }
   },
   "outputs": [
    {
     "data": {
      "text/plain": [
       "42"
      ]
     },
     "execution_count": 6,
     "metadata": {},
     "output_type": "execute_result"
    }
   ],
   "source": [
    "arr1.sum()"
   ]
  },
  {
   "cell_type": "code",
   "execution_count": 7,
   "metadata": {
    "ExecuteTime": {
     "end_time": "2020-11-08T14:19:20.256450Z",
     "start_time": "2020-11-08T14:19:20.205231Z"
    }
   },
   "outputs": [
    {
     "data": {
      "text/plain": [
       "13"
      ]
     },
     "execution_count": 7,
     "metadata": {},
     "output_type": "execute_result"
    }
   ],
   "source": [
    "arr1.min()"
   ]
  },
  {
   "cell_type": "code",
   "execution_count": 8,
   "metadata": {
    "ExecuteTime": {
     "end_time": "2020-11-08T14:19:25.606189Z",
     "start_time": "2020-11-08T14:19:25.597789Z"
    }
   },
   "outputs": [
    {
     "data": {
      "text/plain": [
       "15"
      ]
     },
     "execution_count": 8,
     "metadata": {},
     "output_type": "execute_result"
    }
   ],
   "source": [
    "arr1.max()"
   ]
  },
  {
   "cell_type": "code",
   "execution_count": 9,
   "metadata": {
    "ExecuteTime": {
     "end_time": "2020-11-08T14:22:20.221855Z",
     "start_time": "2020-11-08T14:22:20.208257Z"
    }
   },
   "outputs": [
    {
     "name": "stdout",
     "output_type": "stream",
     "text": [
      "[[10 11 21 23]\n",
      " [22 24 45 47]\n",
      " [98 76 45 34]]\n"
     ]
    }
   ],
   "source": [
    "arr3 = np.array([[10,11,21,23],[22,24,45,47],[98,76,45,34]])\n",
    "print(arr3)"
   ]
  },
  {
   "cell_type": "code",
   "execution_count": 10,
   "metadata": {
    "ExecuteTime": {
     "end_time": "2020-11-08T14:24:28.778789Z",
     "start_time": "2020-11-08T14:24:28.770106Z"
    }
   },
   "outputs": [
    {
     "data": {
      "text/plain": [
       "array([130, 111, 111, 104])"
      ]
     },
     "execution_count": 10,
     "metadata": {},
     "output_type": "execute_result"
    }
   ],
   "source": [
    "arr3.sum(axis = 0)"
   ]
  },
  {
   "cell_type": "code",
   "execution_count": 11,
   "metadata": {
    "ExecuteTime": {
     "end_time": "2020-11-08T14:25:04.433756Z",
     "start_time": "2020-11-08T14:25:04.425187Z"
    }
   },
   "outputs": [
    {
     "data": {
      "text/plain": [
       "array([ 65, 138, 253])"
      ]
     },
     "execution_count": 11,
     "metadata": {},
     "output_type": "execute_result"
    }
   ],
   "source": [
    "arr3.sum(axis = 1)"
   ]
  },
  {
   "cell_type": "code",
   "execution_count": 14,
   "metadata": {
    "ExecuteTime": {
     "end_time": "2020-11-08T14:30:21.490556Z",
     "start_time": "2020-11-08T14:30:21.479980Z"
    }
   },
   "outputs": [
    {
     "data": {
      "text/plain": [
       "array([98, 76, 45, 47])"
      ]
     },
     "execution_count": 14,
     "metadata": {},
     "output_type": "execute_result"
    }
   ],
   "source": [
    "arr3.max(axis = 0)"
   ]
  },
  {
   "cell_type": "code",
   "execution_count": 15,
   "metadata": {
    "ExecuteTime": {
     "end_time": "2020-11-08T14:30:34.168613Z",
     "start_time": "2020-11-08T14:30:34.158815Z"
    }
   },
   "outputs": [
    {
     "data": {
      "text/plain": [
       "array([23, 47, 98])"
      ]
     },
     "execution_count": 15,
     "metadata": {},
     "output_type": "execute_result"
    }
   ],
   "source": [
    "arr3.max(axis = 1)"
   ]
  },
  {
   "cell_type": "code",
   "execution_count": 18,
   "metadata": {
    "ExecuteTime": {
     "end_time": "2020-11-08T14:31:39.075720Z",
     "start_time": "2020-11-08T14:31:39.067223Z"
    }
   },
   "outputs": [
    {
     "data": {
      "text/plain": [
       "76"
      ]
     },
     "execution_count": 18,
     "metadata": {},
     "output_type": "execute_result"
    }
   ],
   "source": [
    "arr3[:, 1].max()"
   ]
  },
  {
   "cell_type": "markdown",
   "metadata": {},
   "source": [
    "# Universal Functions"
   ]
  },
  {
   "cell_type": "code",
   "execution_count": 12,
   "metadata": {
    "ExecuteTime": {
     "end_time": "2020-11-08T14:29:00.384170Z",
     "start_time": "2020-11-08T14:29:00.370346Z"
    }
   },
   "outputs": [
    {
     "data": {
      "text/plain": [
       "25"
      ]
     },
     "execution_count": 12,
     "metadata": {},
     "output_type": "execute_result"
    }
   ],
   "source": [
    "np.add(12,13)"
   ]
  },
  {
   "cell_type": "code",
   "execution_count": 13,
   "metadata": {
    "ExecuteTime": {
     "end_time": "2020-11-08T14:29:08.098185Z",
     "start_time": "2020-11-08T14:29:08.084710Z"
    }
   },
   "outputs": [
    {
     "data": {
      "text/plain": [
       "array([34, 36, 38])"
      ]
     },
     "execution_count": 13,
     "metadata": {},
     "output_type": "execute_result"
    }
   ],
   "source": [
    "np.add(arr1,arr2)"
   ]
  },
  {
   "cell_type": "code",
   "execution_count": 21,
   "metadata": {
    "ExecuteTime": {
     "end_time": "2020-11-08T14:33:57.475484Z",
     "start_time": "2020-11-08T14:33:57.454759Z"
    }
   },
   "outputs": [
    {
     "data": {
      "text/plain": [
       "array([50, 70, 90])"
      ]
     },
     "execution_count": 21,
     "metadata": {},
     "output_type": "execute_result"
    }
   ],
   "source": [
    "np.add((10,20,30), (40,50,60))"
   ]
  },
  {
   "cell_type": "code",
   "execution_count": 22,
   "metadata": {
    "ExecuteTime": {
     "end_time": "2020-11-08T14:34:54.142144Z",
     "start_time": "2020-11-08T14:34:54.129504Z"
    }
   },
   "outputs": [
    {
     "data": {
      "text/plain": [
       "array([[ 0,  1,  2,  3],\n",
       "       [ 4,  5,  6,  7],\n",
       "       [ 8,  9, 10, 11]])"
      ]
     },
     "execution_count": 22,
     "metadata": {},
     "output_type": "execute_result"
    }
   ],
   "source": [
    "arr4 = np.arange(12).reshape(3,4)\n",
    "arr4"
   ]
  },
  {
   "cell_type": "code",
   "execution_count": 28,
   "metadata": {
    "ExecuteTime": {
     "end_time": "2020-11-08T14:37:20.865405Z",
     "start_time": "2020-11-08T14:37:20.855808Z"
    }
   },
   "outputs": [
    {
     "data": {
      "text/plain": [
       "array([[31, 32, 33, 34],\n",
       "       [35, 36, 37, 38],\n",
       "       [39, 40, 41, 42]])"
      ]
     },
     "execution_count": 28,
     "metadata": {},
     "output_type": "execute_result"
    }
   ],
   "source": [
    "\n",
    "arr5 = np.arange(31, 43).reshape(3,4)\n",
    "arr5"
   ]
  },
  {
   "cell_type": "code",
   "execution_count": 29,
   "metadata": {
    "ExecuteTime": {
     "end_time": "2020-11-08T14:37:28.860312Z",
     "start_time": "2020-11-08T14:37:28.854244Z"
    }
   },
   "outputs": [
    {
     "data": {
      "text/plain": [
       "array([[10, 11, 21, 23],\n",
       "       [22, 24, 45, 47],\n",
       "       [98, 76, 45, 34]])"
      ]
     },
     "execution_count": 29,
     "metadata": {},
     "output_type": "execute_result"
    }
   ],
   "source": [
    "arr3"
   ]
  },
  {
   "cell_type": "code",
   "execution_count": 30,
   "metadata": {
    "ExecuteTime": {
     "end_time": "2020-11-08T14:37:33.042045Z",
     "start_time": "2020-11-08T14:37:33.032934Z"
    }
   },
   "outputs": [
    {
     "data": {
      "text/plain": [
       "array([[ 10,  12,  23,  26],\n",
       "       [ 26,  29,  51,  54],\n",
       "       [106,  85,  55,  45]])"
      ]
     },
     "execution_count": 30,
     "metadata": {},
     "output_type": "execute_result"
    }
   ],
   "source": [
    "np.add(arr3, arr4)"
   ]
  },
  {
   "cell_type": "code",
   "execution_count": 31,
   "metadata": {
    "ExecuteTime": {
     "end_time": "2020-11-08T14:38:24.412065Z",
     "start_time": "2020-11-08T14:38:24.399997Z"
    }
   },
   "outputs": [
    {
     "data": {
      "text/plain": [
       "array([273, 308, 345])"
      ]
     },
     "execution_count": 31,
     "metadata": {},
     "output_type": "execute_result"
    }
   ],
   "source": [
    "np.multiply(arr1, arr2)"
   ]
  },
  {
   "cell_type": "code",
   "execution_count": 32,
   "metadata": {
    "ExecuteTime": {
     "end_time": "2020-11-08T14:38:48.015308Z",
     "start_time": "2020-11-08T14:38:48.002615Z"
    }
   },
   "outputs": [
    {
     "data": {
      "text/plain": [
       "array([[  0,  11,  42,  69],\n",
       "       [ 88, 120, 270, 329],\n",
       "       [784, 684, 450, 374]])"
      ]
     },
     "execution_count": 32,
     "metadata": {},
     "output_type": "execute_result"
    }
   ],
   "source": [
    "np.multiply(arr3, arr4)"
   ]
  },
  {
   "cell_type": "code",
   "execution_count": 33,
   "metadata": {
    "ExecuteTime": {
     "end_time": "2020-11-08T14:39:11.126212Z",
     "start_time": "2020-11-08T14:39:11.119647Z"
    }
   },
   "outputs": [
    {
     "data": {
      "text/plain": [
       "array([2.56494936, 2.63905733, 2.7080502 ])"
      ]
     },
     "execution_count": 33,
     "metadata": {},
     "output_type": "execute_result"
    }
   ],
   "source": [
    "np.log(arr1)"
   ]
  },
  {
   "cell_type": "code",
   "execution_count": 34,
   "metadata": {
    "ExecuteTime": {
     "end_time": "2020-11-08T14:39:21.894861Z",
     "start_time": "2020-11-08T14:39:21.883250Z"
    }
   },
   "outputs": [
    {
     "data": {
      "text/plain": [
       "array([[2.30258509, 2.39789527, 3.04452244, 3.13549422],\n",
       "       [3.09104245, 3.17805383, 3.80666249, 3.8501476 ],\n",
       "       [4.58496748, 4.33073334, 3.80666249, 3.52636052]])"
      ]
     },
     "execution_count": 34,
     "metadata": {},
     "output_type": "execute_result"
    }
   ],
   "source": [
    "np.log(arr3)"
   ]
  },
  {
   "cell_type": "code",
   "execution_count": 36,
   "metadata": {
    "ExecuteTime": {
     "end_time": "2020-11-08T14:39:44.715914Z",
     "start_time": "2020-11-08T14:39:44.708530Z"
    }
   },
   "outputs": [
    {
     "data": {
      "text/plain": [
       "array([13, 14, 15])"
      ]
     },
     "execution_count": 36,
     "metadata": {},
     "output_type": "execute_result"
    }
   ],
   "source": [
    "arr1"
   ]
  },
  {
   "cell_type": "code",
   "execution_count": 35,
   "metadata": {
    "ExecuteTime": {
     "end_time": "2020-11-08T14:39:35.756715Z",
     "start_time": "2020-11-08T14:39:35.748204Z"
    }
   },
   "outputs": [
    {
     "data": {
      "text/plain": [
       "array([3.60555128, 3.74165739, 3.87298335])"
      ]
     },
     "execution_count": 35,
     "metadata": {},
     "output_type": "execute_result"
    }
   ],
   "source": [
    "np.sqrt(arr1)"
   ]
  },
  {
   "cell_type": "code",
   "execution_count": 37,
   "metadata": {
    "ExecuteTime": {
     "end_time": "2020-11-08T14:40:18.029893Z",
     "start_time": "2020-11-08T14:40:18.019653Z"
    }
   },
   "outputs": [
    {
     "data": {
      "text/plain": [
       "array([169, 196, 225])"
      ]
     },
     "execution_count": 37,
     "metadata": {},
     "output_type": "execute_result"
    }
   ],
   "source": [
    "np.square(arr1)"
   ]
  },
  {
   "cell_type": "markdown",
   "metadata": {},
   "source": [
    "# Bitwise Operation\n"
   ]
  },
  {
   "cell_type": "code",
   "execution_count": 38,
   "metadata": {
    "ExecuteTime": {
     "end_time": "2020-11-08T14:41:41.877152Z",
     "start_time": "2020-11-08T14:41:41.865303Z"
    }
   },
   "outputs": [
    {
     "data": {
      "text/plain": [
       "0"
      ]
     },
     "execution_count": 38,
     "metadata": {},
     "output_type": "execute_result"
    }
   ],
   "source": [
    "np.bitwise_and(10,20)"
   ]
  },
  {
   "cell_type": "code",
   "execution_count": 40,
   "metadata": {
    "ExecuteTime": {
     "end_time": "2020-11-08T14:42:26.357366Z",
     "start_time": "2020-11-08T14:42:26.349669Z"
    }
   },
   "outputs": [
    {
     "data": {
      "text/plain": [
       "array([5, 6, 7])"
      ]
     },
     "execution_count": 40,
     "metadata": {},
     "output_type": "execute_result"
    }
   ],
   "source": [
    "np.bitwise_and(arr1, arr2)"
   ]
  },
  {
   "cell_type": "code",
   "execution_count": 41,
   "metadata": {
    "ExecuteTime": {
     "end_time": "2020-11-08T14:42:45.764936Z",
     "start_time": "2020-11-08T14:42:45.748874Z"
    }
   },
   "outputs": [
    {
     "data": {
      "text/plain": [
       "array([29, 30, 31])"
      ]
     },
     "execution_count": 41,
     "metadata": {},
     "output_type": "execute_result"
    }
   ],
   "source": [
    "np.bitwise_or(arr1, arr2)"
   ]
  },
  {
   "cell_type": "code",
   "execution_count": 42,
   "metadata": {
    "ExecuteTime": {
     "end_time": "2020-11-08T14:43:00.558178Z",
     "start_time": "2020-11-08T14:43:00.547396Z"
    }
   },
   "outputs": [
    {
     "data": {
      "text/plain": [
       "array([24, 24, 24])"
      ]
     },
     "execution_count": 42,
     "metadata": {},
     "output_type": "execute_result"
    }
   ],
   "source": [
    "np.bitwise_xor(arr1, arr2)"
   ]
  },
  {
   "cell_type": "code",
   "execution_count": 48,
   "metadata": {
    "ExecuteTime": {
     "end_time": "2020-11-08T14:45:13.412350Z",
     "start_time": "2020-11-08T14:45:13.402979Z"
    }
   },
   "outputs": [
    {
     "data": {
      "text/plain": [
       "23"
      ]
     },
     "execution_count": 48,
     "metadata": {},
     "output_type": "execute_result"
    }
   ],
   "source": [
    "eval('0b'+np.binary_repr(23))"
   ]
  },
  {
   "cell_type": "code",
   "execution_count": 47,
   "metadata": {
    "ExecuteTime": {
     "end_time": "2020-11-08T14:44:59.203288Z",
     "start_time": "2020-11-08T14:44:59.198693Z"
    }
   },
   "outputs": [
    {
     "name": "stdout",
     "output_type": "stream",
     "text": [
      "23\n"
     ]
    }
   ],
   "source": [
    "a = eval('0b10111')\n",
    "print(a)"
   ]
  },
  {
   "cell_type": "markdown",
   "metadata": {
    "ExecuteTime": {
     "end_time": "2020-11-08T14:45:37.490582Z",
     "start_time": "2020-11-08T14:45:37.474308Z"
    }
   },
   "source": [
    "# Statistical Functions in Numpy"
   ]
  },
  {
   "cell_type": "code",
   "execution_count": 60,
   "metadata": {
    "ExecuteTime": {
     "end_time": "2020-11-08T14:55:04.484389Z",
     "start_time": "2020-11-08T14:55:04.478150Z"
    }
   },
   "outputs": [],
   "source": [
    "population_data = np.genfromtxt('data/population_2017.csv',usecols=1, \n",
    "                         delimiter=',',skip_header=1)"
   ]
  },
  {
   "cell_type": "code",
   "execution_count": 59,
   "metadata": {
    "ExecuteTime": {
     "end_time": "2020-11-08T14:55:01.017060Z",
     "start_time": "2020-11-08T14:55:01.000569Z"
    }
   },
   "outputs": [
    {
     "data": {
      "text/plain": [
       "array([  1618.,   2910.,   4049.,   5177.,   6320.,  11192.,  11359.,\n",
       "        11773.,  14909.,  17380.,  21729.,  25398.,  31196.,  33400.,\n",
       "        34571.,  35446.,  37922.,  38695.,  40120.,  49290.,  53127.,\n",
       "        55144.,  55345.,  55641.,  56480.,  61349.,  61559.,  73925.,\n",
       "        76965.,  84287.,  94737., 102012., 104901., 105264., 105544.,\n",
       "       107825., 108020., 109897., 116398., 160539., 164229., 165314.,\n",
       "       178844., 196440., 204327., 253045., 276244.])"
      ]
     },
     "execution_count": 59,
     "metadata": {},
     "output_type": "execute_result"
    }
   ],
   "source": [
    "population_data"
   ]
  },
  {
   "cell_type": "code",
   "execution_count": 64,
   "metadata": {
    "ExecuteTime": {
     "end_time": "2020-11-08T14:56:32.129023Z",
     "start_time": "2020-11-08T14:56:32.121942Z"
    }
   },
   "outputs": [],
   "source": [
    "mean = np.mean(population_data)\n",
    "median = np.median(population_data)\n",
    "sd = np.std(population_data)\n",
    "var = np.var(population_data)"
   ]
  },
  {
   "cell_type": "code",
   "execution_count": 65,
   "metadata": {
    "ExecuteTime": {
     "end_time": "2020-11-08T14:56:38.784111Z",
     "start_time": "2020-11-08T14:56:38.773757Z"
    }
   },
   "outputs": [
    {
     "name": "stdout",
     "output_type": "stream",
     "text": [
      "73958.12244897959\n",
      "55345.0\n",
      "67180.61487091337\n",
      "4513235014.433986\n"
     ]
    }
   ],
   "source": [
    "print(mean)\n",
    "print(median)\n",
    "print(sd)\n",
    "print(var)"
   ]
  },
  {
   "cell_type": "markdown",
   "metadata": {},
   "source": [
    "# Indexing & Slicing"
   ]
  },
  {
   "cell_type": "code",
   "execution_count": 66,
   "metadata": {
    "ExecuteTime": {
     "end_time": "2020-11-08T14:58:34.627601Z",
     "start_time": "2020-11-08T14:58:34.616913Z"
    }
   },
   "outputs": [
    {
     "data": {
      "text/plain": [
       "array([13, 14, 15])"
      ]
     },
     "execution_count": 66,
     "metadata": {},
     "output_type": "execute_result"
    }
   ],
   "source": [
    "arr1"
   ]
  },
  {
   "cell_type": "code",
   "execution_count": 68,
   "metadata": {
    "ExecuteTime": {
     "end_time": "2020-11-08T14:58:46.487275Z",
     "start_time": "2020-11-08T14:58:46.483294Z"
    }
   },
   "outputs": [
    {
     "name": "stdout",
     "output_type": "stream",
     "text": [
      "13\n"
     ]
    }
   ],
   "source": [
    "print(arr1[0])"
   ]
  },
  {
   "cell_type": "code",
   "execution_count": 69,
   "metadata": {
    "ExecuteTime": {
     "end_time": "2020-11-08T14:58:51.446685Z",
     "start_time": "2020-11-08T14:58:51.441336Z"
    }
   },
   "outputs": [
    {
     "name": "stdout",
     "output_type": "stream",
     "text": [
      "15\n"
     ]
    }
   ],
   "source": [
    "print(arr1[-1])"
   ]
  },
  {
   "cell_type": "code",
   "execution_count": 70,
   "metadata": {
    "ExecuteTime": {
     "end_time": "2020-11-08T14:59:11.077109Z",
     "start_time": "2020-11-08T14:59:11.066484Z"
    }
   },
   "outputs": [
    {
     "data": {
      "text/plain": [
       "array([100,  14,  15])"
      ]
     },
     "execution_count": 70,
     "metadata": {},
     "output_type": "execute_result"
    }
   ],
   "source": [
    "arr1[0] = 100\n",
    "arr1"
   ]
  },
  {
   "cell_type": "code",
   "execution_count": 72,
   "metadata": {
    "ExecuteTime": {
     "end_time": "2020-11-08T15:00:02.250441Z",
     "start_time": "2020-11-08T15:00:02.232522Z"
    }
   },
   "outputs": [
    {
     "data": {
      "text/plain": [
       "array([10, 11, 12, 13, 14, 15])"
      ]
     },
     "execution_count": 72,
     "metadata": {},
     "output_type": "execute_result"
    }
   ],
   "source": [
    "arr1 = np.array([10,11,12,13,14,15])\n",
    "arr1"
   ]
  },
  {
   "cell_type": "code",
   "execution_count": 73,
   "metadata": {
    "ExecuteTime": {
     "end_time": "2020-11-08T15:00:32.760190Z",
     "start_time": "2020-11-08T15:00:32.749928Z"
    }
   },
   "outputs": [
    {
     "data": {
      "text/plain": [
       "array([12, 13])"
      ]
     },
     "execution_count": 73,
     "metadata": {},
     "output_type": "execute_result"
    }
   ],
   "source": [
    "arr1[2:4]"
   ]
  },
  {
   "cell_type": "code",
   "execution_count": 74,
   "metadata": {
    "ExecuteTime": {
     "end_time": "2020-11-08T15:00:49.461108Z",
     "start_time": "2020-11-08T15:00:49.451140Z"
    }
   },
   "outputs": [
    {
     "data": {
      "text/plain": [
       "array([15, 14, 13, 12, 11, 10])"
      ]
     },
     "execution_count": 74,
     "metadata": {},
     "output_type": "execute_result"
    }
   ],
   "source": [
    "arr1[::-1]"
   ]
  },
  {
   "cell_type": "markdown",
   "metadata": {},
   "source": [
    "# Indexing in 2D array"
   ]
  },
  {
   "cell_type": "code",
   "execution_count": 75,
   "metadata": {
    "ExecuteTime": {
     "end_time": "2020-11-08T15:01:18.372877Z",
     "start_time": "2020-11-08T15:01:18.359514Z"
    }
   },
   "outputs": [
    {
     "data": {
      "text/plain": [
       "array([[10, 11, 21, 23],\n",
       "       [22, 24, 45, 47],\n",
       "       [98, 76, 45, 34]])"
      ]
     },
     "execution_count": 75,
     "metadata": {},
     "output_type": "execute_result"
    }
   ],
   "source": [
    "arr3"
   ]
  },
  {
   "cell_type": "code",
   "execution_count": 76,
   "metadata": {
    "ExecuteTime": {
     "end_time": "2020-11-08T15:01:49.010757Z",
     "start_time": "2020-11-08T15:01:48.986438Z"
    }
   },
   "outputs": [
    {
     "data": {
      "text/plain": [
       "array([10, 11, 21, 23])"
      ]
     },
     "execution_count": 76,
     "metadata": {},
     "output_type": "execute_result"
    }
   ],
   "source": [
    "arr3[0]"
   ]
  },
  {
   "cell_type": "code",
   "execution_count": 79,
   "metadata": {
    "ExecuteTime": {
     "end_time": "2020-11-08T15:02:20.661297Z",
     "start_time": "2020-11-08T15:02:20.650630Z"
    }
   },
   "outputs": [
    {
     "data": {
      "text/plain": [
       "array([98, 76, 45, 34])"
      ]
     },
     "execution_count": 79,
     "metadata": {},
     "output_type": "execute_result"
    }
   ],
   "source": [
    "arr3[-1]"
   ]
  },
  {
   "cell_type": "code",
   "execution_count": 84,
   "metadata": {
    "ExecuteTime": {
     "end_time": "2020-11-08T15:04:12.996200Z",
     "start_time": "2020-11-08T15:04:12.981321Z"
    }
   },
   "outputs": [
    {
     "data": {
      "text/plain": [
       "24"
      ]
     },
     "execution_count": 84,
     "metadata": {},
     "output_type": "execute_result"
    }
   ],
   "source": [
    "arr3[1,1]"
   ]
  },
  {
   "cell_type": "code",
   "execution_count": 85,
   "metadata": {
    "ExecuteTime": {
     "end_time": "2020-11-08T15:04:24.727990Z",
     "start_time": "2020-11-08T15:04:24.713192Z"
    }
   },
   "outputs": [
    {
     "data": {
      "text/plain": [
       "24"
      ]
     },
     "execution_count": 85,
     "metadata": {},
     "output_type": "execute_result"
    }
   ],
   "source": [
    "arr3[1][1]"
   ]
  },
  {
   "cell_type": "code",
   "execution_count": null,
   "metadata": {},
   "outputs": [],
   "source": []
  },
  {
   "cell_type": "code",
   "execution_count": 110,
   "metadata": {
    "ExecuteTime": {
     "end_time": "2020-11-08T15:11:30.766232Z",
     "start_time": "2020-11-08T15:11:30.754934Z"
    }
   },
   "outputs": [
    {
     "name": "stdout",
     "output_type": "stream",
     "text": [
      "[11 24 76]\n"
     ]
    }
   ],
   "source": [
    "print(arr3[0:,1])"
   ]
  },
  {
   "cell_type": "code",
   "execution_count": 104,
   "metadata": {
    "ExecuteTime": {
     "end_time": "2020-11-08T15:09:40.336881Z",
     "start_time": "2020-11-08T15:09:40.326394Z"
    }
   },
   "outputs": [
    {
     "data": {
      "text/plain": [
       "array([11, 24, 76])"
      ]
     },
     "execution_count": 104,
     "metadata": {},
     "output_type": "execute_result"
    }
   ],
   "source": [
    "arr3[:,1]"
   ]
  },
  {
   "cell_type": "code",
   "execution_count": 111,
   "metadata": {
    "ExecuteTime": {
     "end_time": "2020-11-08T15:12:33.232854Z",
     "start_time": "2020-11-08T15:12:33.224165Z"
    }
   },
   "outputs": [
    {
     "data": {
      "text/plain": [
       "array([[10, 11, 21, 23],\n",
       "       [22, 24, 45, 47],\n",
       "       [98, 76, 45, 34]])"
      ]
     },
     "execution_count": 111,
     "metadata": {},
     "output_type": "execute_result"
    }
   ],
   "source": [
    "arr3"
   ]
  },
  {
   "cell_type": "code",
   "execution_count": 117,
   "metadata": {
    "ExecuteTime": {
     "end_time": "2020-11-08T15:18:41.822811Z",
     "start_time": "2020-11-08T15:18:41.814666Z"
    }
   },
   "outputs": [
    {
     "data": {
      "text/plain": [
       "array([[10, 11, 21, 23],\n",
       "       [22, 24, 45, 47],\n",
       "       [98, 76, 45, 34]])"
      ]
     },
     "execution_count": 117,
     "metadata": {},
     "output_type": "execute_result"
    }
   ],
   "source": [
    "arr3"
   ]
  },
  {
   "cell_type": "code",
   "execution_count": 119,
   "metadata": {
    "ExecuteTime": {
     "end_time": "2020-11-08T15:19:53.116722Z",
     "start_time": "2020-11-08T15:19:53.105718Z"
    }
   },
   "outputs": [
    {
     "data": {
      "text/plain": [
       "array([0, 1, 2, 1])"
      ]
     },
     "execution_count": 119,
     "metadata": {},
     "output_type": "execute_result"
    }
   ],
   "source": [
    "col_ind = np.array([0,1,2,1])\n",
    "col_ind\n"
   ]
  },
  {
   "cell_type": "code",
   "execution_count": 121,
   "metadata": {
    "ExecuteTime": {
     "end_time": "2020-11-08T15:20:15.319229Z",
     "start_time": "2020-11-08T15:20:15.311933Z"
    }
   },
   "outputs": [
    {
     "data": {
      "text/plain": [
       "array([1, 2, 1, 0])"
      ]
     },
     "execution_count": 121,
     "metadata": {},
     "output_type": "execute_result"
    }
   ],
   "source": [
    "row_ind = np.array([1,2,1,0])\n",
    "row_ind"
   ]
  },
  {
   "cell_type": "code",
   "execution_count": 122,
   "metadata": {
    "ExecuteTime": {
     "end_time": "2020-11-08T15:20:17.449944Z",
     "start_time": "2020-11-08T15:20:17.442982Z"
    }
   },
   "outputs": [
    {
     "data": {
      "text/plain": [
       "array([22, 76, 45, 11])"
      ]
     },
     "execution_count": 122,
     "metadata": {},
     "output_type": "execute_result"
    }
   ],
   "source": [
    "arr3[row_ind, col_ind]"
   ]
  },
  {
   "cell_type": "code",
   "execution_count": null,
   "metadata": {},
   "outputs": [],
   "source": []
  },
  {
   "cell_type": "code",
   "execution_count": 123,
   "metadata": {
    "ExecuteTime": {
     "end_time": "2020-11-08T15:23:13.232587Z",
     "start_time": "2020-11-08T15:23:13.222826Z"
    }
   },
   "outputs": [
    {
     "data": {
      "text/plain": [
       "array([[31, 32, 33, 34, 35, 36],\n",
       "       [37, 38, 39, 40, 41, 42],\n",
       "       [43, 44, 45, 46, 47, 48],\n",
       "       [49, 50, 51, 52, 53, 54],\n",
       "       [55, 56, 57, 58, 59, 60],\n",
       "       [61, 62, 63, 64, 65, 66]])"
      ]
     },
     "execution_count": 123,
     "metadata": {},
     "output_type": "execute_result"
    }
   ],
   "source": [
    "arr6 = np.arange(31, 67).reshape(6,6)\n",
    "arr6"
   ]
  },
  {
   "cell_type": "code",
   "execution_count": 124,
   "metadata": {
    "ExecuteTime": {
     "end_time": "2020-11-08T15:24:11.817430Z",
     "start_time": "2020-11-08T15:24:11.804607Z"
    }
   },
   "outputs": [
    {
     "data": {
      "text/plain": [
       "array([34, 40])"
      ]
     },
     "execution_count": 124,
     "metadata": {},
     "output_type": "execute_result"
    }
   ],
   "source": [
    "arr6[0:2, 3]"
   ]
  },
  {
   "cell_type": "code",
   "execution_count": 125,
   "metadata": {
    "ExecuteTime": {
     "end_time": "2020-11-08T15:24:41.805853Z",
     "start_time": "2020-11-08T15:24:41.752823Z"
    }
   },
   "outputs": [
    {
     "data": {
      "text/plain": [
       "array([39, 40])"
      ]
     },
     "execution_count": 125,
     "metadata": {},
     "output_type": "execute_result"
    }
   ],
   "source": [
    "arr6[1,2:4]"
   ]
  },
  {
   "cell_type": "code",
   "execution_count": 126,
   "metadata": {
    "ExecuteTime": {
     "end_time": "2020-11-08T15:25:31.514328Z",
     "start_time": "2020-11-08T15:25:31.506798Z"
    }
   },
   "outputs": [
    {
     "data": {
      "text/plain": [
       "array([[52, 53, 54],\n",
       "       [58, 59, 60],\n",
       "       [64, 65, 66]])"
      ]
     },
     "execution_count": 126,
     "metadata": {},
     "output_type": "execute_result"
    }
   ],
   "source": [
    "arr6[3:, 3:]"
   ]
  },
  {
   "cell_type": "code",
   "execution_count": 127,
   "metadata": {
    "ExecuteTime": {
     "end_time": "2020-11-08T15:27:07.193127Z",
     "start_time": "2020-11-08T15:27:07.179212Z"
    }
   },
   "outputs": [
    {
     "data": {
      "text/plain": [
       "array([32, 38, 44, 50, 56, 62])"
      ]
     },
     "execution_count": 127,
     "metadata": {},
     "output_type": "execute_result"
    }
   ],
   "source": [
    "arr6[:,1]"
   ]
  },
  {
   "cell_type": "code",
   "execution_count": 133,
   "metadata": {
    "ExecuteTime": {
     "end_time": "2020-11-08T15:31:34.460346Z",
     "start_time": "2020-11-08T15:31:34.449223Z"
    }
   },
   "outputs": [
    {
     "data": {
      "text/plain": [
       "array([[31, 32, 33, 34, 35, 36],\n",
       "       [37, 38, 39, 40, 41, 42],\n",
       "       [43, 44, 45, 46, 47, 48],\n",
       "       [49, 50, 51, 52, 53, 54],\n",
       "       [55, 56, 57, 58, 59, 60],\n",
       "       [61, 62, 63, 64, 65, 66]])"
      ]
     },
     "execution_count": 133,
     "metadata": {},
     "output_type": "execute_result"
    }
   ],
   "source": [
    "arr6"
   ]
  },
  {
   "cell_type": "code",
   "execution_count": 129,
   "metadata": {
    "ExecuteTime": {
     "end_time": "2020-11-08T15:29:33.610340Z",
     "start_time": "2020-11-08T15:29:33.601911Z"
    }
   },
   "outputs": [
    {
     "data": {
      "text/plain": [
       "array([[33, 35],\n",
       "       [45, 47],\n",
       "       [57, 59]])"
      ]
     },
     "execution_count": 129,
     "metadata": {},
     "output_type": "execute_result"
    }
   ],
   "source": [
    "arr6[::2, 2::2]\n",
    "[31, 32, 33, 34, 35, 36],\n",
    "[43, 44, 45, 46, 47, 48],\n",
    "[55, 56, 57, 58, 59, 60],"
   ]
  },
  {
   "cell_type": "code",
   "execution_count": 132,
   "metadata": {
    "ExecuteTime": {
     "end_time": "2020-11-08T15:31:19.508621Z",
     "start_time": "2020-11-08T15:31:19.496105Z"
    }
   },
   "outputs": [
    {
     "data": {
      "text/plain": [
       "array([37, 38, 39, 40, 41, 42])"
      ]
     },
     "execution_count": 132,
     "metadata": {},
     "output_type": "execute_result"
    }
   ],
   "source": [
    "arr6[1]"
   ]
  },
  {
   "cell_type": "code",
   "execution_count": 137,
   "metadata": {
    "ExecuteTime": {
     "end_time": "2020-11-08T15:35:12.794917Z",
     "start_time": "2020-11-08T15:35:12.785916Z"
    }
   },
   "outputs": [
    {
     "data": {
      "text/plain": [
       "array([[31],\n",
       "       [37],\n",
       "       [43],\n",
       "       [49],\n",
       "       [55],\n",
       "       [61]])"
      ]
     },
     "execution_count": 137,
     "metadata": {},
     "output_type": "execute_result"
    }
   ],
   "source": [
    "arr6[:, 0].reshape(6,1)"
   ]
  },
  {
   "cell_type": "code",
   "execution_count": 138,
   "metadata": {
    "ExecuteTime": {
     "end_time": "2020-11-08T15:36:23.946191Z",
     "start_time": "2020-11-08T15:36:23.940635Z"
    }
   },
   "outputs": [
    {
     "data": {
      "text/plain": [
       "array([[31, 32, 33, 34, 35, 36],\n",
       "       [37, 38, 39, 40, 41, 42],\n",
       "       [43, 44, 45, 46, 47, 48],\n",
       "       [49, 50, 51, 52, 53, 54],\n",
       "       [55, 56, 57, 58, 59, 60],\n",
       "       [61, 62, 63, 64, 65, 66]])"
      ]
     },
     "execution_count": 138,
     "metadata": {},
     "output_type": "execute_result"
    }
   ],
   "source": [
    "arr6"
   ]
  },
  {
   "cell_type": "code",
   "execution_count": 139,
   "metadata": {
    "ExecuteTime": {
     "end_time": "2020-11-08T15:37:19.579056Z",
     "start_time": "2020-11-08T15:37:19.566601Z"
    }
   },
   "outputs": [
    {
     "data": {
      "text/plain": [
       "(37, 44, 39, 32)"
      ]
     },
     "execution_count": 139,
     "metadata": {},
     "output_type": "execute_result"
    }
   ],
   "source": [
    "arr7 =arr6[1,0], arr6[2,1], arr6[1,2], arr6[0,1]\n",
    "arr7"
   ]
  },
  {
   "cell_type": "code",
   "execution_count": 140,
   "metadata": {
    "ExecuteTime": {
     "end_time": "2020-11-08T16:00:58.667051Z",
     "start_time": "2020-11-08T16:00:58.659911Z"
    }
   },
   "outputs": [
    {
     "data": {
      "text/plain": [
       "array([['Banana', 'Mango', 'Guava', 'Avacado'],\n",
       "       ['Papaya', 'Jack fruit', 'Plum', 'Strawberry'],\n",
       "       ['Apricot', 'Apple', 'Blue berry', 'Black berry']], dtype='<U11')"
      ]
     },
     "execution_count": 140,
     "metadata": {},
     "output_type": "execute_result"
    }
   ],
   "source": [
    "fruit = np.array([[\"Banana\",\"Mango\",\"Guava\",\"Avacado\"],\n",
    "            [\"Papaya\",\"Jack fruit\",\"Plum\",\"Strawberry\"],\n",
    "            [\"Apricot\",\"Apple\",\"Blue berry\",\"Black berry\"]])\n",
    "fruit"
   ]
  },
  {
   "cell_type": "code",
   "execution_count": 142,
   "metadata": {
    "ExecuteTime": {
     "end_time": "2020-11-08T16:03:38.059373Z",
     "start_time": "2020-11-08T16:03:38.046615Z"
    }
   },
   "outputs": [
    {
     "data": {
      "text/plain": [
       "array([[0, 1],\n",
       "       [1, 2]])"
      ]
     },
     "execution_count": 142,
     "metadata": {},
     "output_type": "execute_result"
    }
   ],
   "source": [
    "row_ind = np.array([[0,1], [1,2]])\n",
    "row_ind"
   ]
  },
  {
   "cell_type": "code",
   "execution_count": 141,
   "metadata": {
    "ExecuteTime": {
     "end_time": "2020-11-08T16:03:35.819219Z",
     "start_time": "2020-11-08T16:03:35.808035Z"
    }
   },
   "outputs": [
    {
     "data": {
      "text/plain": [
       "array([[2, 1],\n",
       "       [3, 3]])"
      ]
     },
     "execution_count": 141,
     "metadata": {},
     "output_type": "execute_result"
    }
   ],
   "source": [
    "col_ind = np.array([[2,1], [3,3]])\n",
    "col_ind"
   ]
  },
  {
   "cell_type": "code",
   "execution_count": 144,
   "metadata": {
    "ExecuteTime": {
     "end_time": "2020-11-08T16:04:03.253565Z",
     "start_time": "2020-11-08T16:04:03.247204Z"
    }
   },
   "outputs": [],
   "source": [
    "fruit[row_ind, col_ind] = 'Mango'"
   ]
  },
  {
   "cell_type": "code",
   "execution_count": 145,
   "metadata": {
    "ExecuteTime": {
     "end_time": "2020-11-08T16:04:07.033463Z",
     "start_time": "2020-11-08T16:04:07.023913Z"
    }
   },
   "outputs": [
    {
     "data": {
      "text/plain": [
       "array([['Banana', 'Mango', 'Mango', 'Avacado'],\n",
       "       ['Papaya', 'Mango', 'Plum', 'Mango'],\n",
       "       ['Apricot', 'Apple', 'Blue berry', 'Mango']], dtype='<U11')"
      ]
     },
     "execution_count": 145,
     "metadata": {},
     "output_type": "execute_result"
    }
   ],
   "source": [
    "fruit"
   ]
  },
  {
   "cell_type": "markdown",
   "metadata": {},
   "source": [
    "# Masked array1"
   ]
  },
  {
   "cell_type": "code",
   "execution_count": 146,
   "metadata": {
    "ExecuteTime": {
     "end_time": "2020-11-08T16:05:08.820946Z",
     "start_time": "2020-11-08T16:05:08.811479Z"
    }
   },
   "outputs": [
    {
     "data": {
      "text/plain": [
       "array([[31, 32, 33, 34, 35, 36],\n",
       "       [37, 38, 39, 40, 41, 42],\n",
       "       [43, 44, 45, 46, 47, 48],\n",
       "       [49, 50, 51, 52, 53, 54],\n",
       "       [55, 56, 57, 58, 59, 60],\n",
       "       [61, 62, 63, 64, 65, 66]])"
      ]
     },
     "execution_count": 146,
     "metadata": {},
     "output_type": "execute_result"
    }
   ],
   "source": [
    "arr6"
   ]
  },
  {
   "cell_type": "code",
   "execution_count": 148,
   "metadata": {
    "ExecuteTime": {
     "end_time": "2020-11-08T16:06:02.663873Z",
     "start_time": "2020-11-08T16:06:02.653356Z"
    }
   },
   "outputs": [
    {
     "data": {
      "text/plain": [
       "array([[False, False, False, False, False, False],\n",
       "       [False, False, False, False, False, False],\n",
       "       [False, False, False,  True,  True,  True],\n",
       "       [ True,  True,  True,  True,  True,  True],\n",
       "       [ True,  True,  True,  True,  True,  True],\n",
       "       [ True,  True,  True,  True,  True,  True]])"
      ]
     },
     "execution_count": 148,
     "metadata": {},
     "output_type": "execute_result"
    }
   ],
   "source": [
    "arr6>45"
   ]
  },
  {
   "cell_type": "code",
   "execution_count": 149,
   "metadata": {
    "ExecuteTime": {
     "end_time": "2020-11-08T16:06:23.921011Z",
     "start_time": "2020-11-08T16:06:23.910841Z"
    }
   },
   "outputs": [
    {
     "data": {
      "text/plain": [
       "array([46, 47, 48, 49, 50, 51, 52, 53, 54, 55, 56, 57, 58, 59, 60, 61, 62,\n",
       "       63, 64, 65, 66])"
      ]
     },
     "execution_count": 149,
     "metadata": {},
     "output_type": "execute_result"
    }
   ],
   "source": [
    "arr6[arr6>45]"
   ]
  },
  {
   "cell_type": "code",
   "execution_count": 154,
   "metadata": {
    "ExecuteTime": {
     "end_time": "2020-11-08T16:08:09.345517Z",
     "start_time": "2020-11-08T16:08:09.334960Z"
    }
   },
   "outputs": [
    {
     "data": {
      "text/plain": [
       "1176"
      ]
     },
     "execution_count": 154,
     "metadata": {},
     "output_type": "execute_result"
    }
   ],
   "source": [
    "\n",
    "# T0 find the sum of all element which are greater than 45 in arr6\n",
    "np.sum(arr6[arr6>45])"
   ]
  },
  {
   "cell_type": "code",
   "execution_count": 155,
   "metadata": {
    "ExecuteTime": {
     "end_time": "2020-11-08T16:09:03.074420Z",
     "start_time": "2020-11-08T16:09:03.065513Z"
    }
   },
   "outputs": [
    {
     "data": {
      "text/plain": [
       "21"
      ]
     },
     "execution_count": 155,
     "metadata": {},
     "output_type": "execute_result"
    }
   ],
   "source": [
    "# To find the total number of element which are greater than 45\n",
    "np.sum(arr6>45)"
   ]
  },
  {
   "cell_type": "code",
   "execution_count": 156,
   "metadata": {
    "ExecuteTime": {
     "end_time": "2020-11-08T16:09:46.529991Z",
     "start_time": "2020-11-08T16:09:46.519769Z"
    }
   },
   "outputs": [
    {
     "data": {
      "text/plain": [
       "array([3, 3, 3, 4, 4, 4])"
      ]
     },
     "execution_count": 156,
     "metadata": {},
     "output_type": "execute_result"
    }
   ],
   "source": [
    "np.sum(arr6>45, axis = 0)"
   ]
  },
  {
   "cell_type": "code",
   "execution_count": 158,
   "metadata": {
    "ExecuteTime": {
     "end_time": "2020-11-08T16:10:18.761792Z",
     "start_time": "2020-11-08T16:10:18.744197Z"
    }
   },
   "outputs": [
    {
     "data": {
      "text/plain": [
       "array([0, 0, 3, 6, 6, 6])"
      ]
     },
     "execution_count": 158,
     "metadata": {},
     "output_type": "execute_result"
    }
   ],
   "source": [
    "np.sum(arr6>45, axis = 1)"
   ]
  },
  {
   "cell_type": "code",
   "execution_count": 162,
   "metadata": {
    "ExecuteTime": {
     "end_time": "2020-11-08T16:11:27.052778Z",
     "start_time": "2020-11-08T16:11:27.042006Z"
    }
   },
   "outputs": [
    {
     "data": {
      "text/plain": [
       "True"
      ]
     },
     "execution_count": 162,
     "metadata": {},
     "output_type": "execute_result"
    }
   ],
   "source": [
    "np.any(arr6>65)"
   ]
  },
  {
   "cell_type": "code",
   "execution_count": 164,
   "metadata": {
    "ExecuteTime": {
     "end_time": "2020-11-08T16:12:10.730557Z",
     "start_time": "2020-11-08T16:12:10.710903Z"
    }
   },
   "outputs": [
    {
     "data": {
      "text/plain": [
       "False"
      ]
     },
     "execution_count": 164,
     "metadata": {},
     "output_type": "execute_result"
    }
   ],
   "source": [
    "np.all(arr6>31)"
   ]
  },
  {
   "cell_type": "code",
   "execution_count": 167,
   "metadata": {
    "ExecuteTime": {
     "end_time": "2020-11-08T16:14:37.439193Z",
     "start_time": "2020-11-08T16:14:37.407046Z"
    }
   },
   "outputs": [
    {
     "data": {
      "text/plain": [
       "array([[ 0,  0,  0,  0,  0,  0],\n",
       "       [ 0,  0,  0,  0,  0,  0],\n",
       "       [ 0,  0, 45, 46, 47, 48],\n",
       "       [49, 50, 51, 52, 53, 54],\n",
       "       [55, 56, 57, 58, 59, 60],\n",
       "       [61, 62, 63, 64, 65, 66]])"
      ]
     },
     "execution_count": 167,
     "metadata": {},
     "output_type": "execute_result"
    }
   ],
   "source": [
    "arr6[arr6<45] = 0\n",
    "arr6"
   ]
  },
  {
   "cell_type": "markdown",
   "metadata": {},
   "source": [
    "# Array with Structured Data\n"
   ]
  },
  {
   "cell_type": "code",
   "execution_count": 183,
   "metadata": {
    "ExecuteTime": {
     "end_time": "2020-11-08T16:32:18.578803Z",
     "start_time": "2020-11-08T16:32:18.572726Z"
    }
   },
   "outputs": [],
   "source": [
    "name  = [\"Andy\",\"Rosy\",\"Susan\",\"Rick\"]\n",
    "\n",
    "studentID  = [106,102,139,167]\n",
    "\n",
    "scores = [85.5,90.34,87.65,78.25]"
   ]
  },
  {
   "cell_type": "code",
   "execution_count": 172,
   "metadata": {
    "ExecuteTime": {
     "end_time": "2020-11-08T16:20:34.750988Z",
     "start_time": "2020-11-08T16:20:34.746817Z"
    }
   },
   "outputs": [],
   "source": [
    "student_data = np.zeros(4, dtype = {'names':('name', 'studentID', 'scores'), 'formats':('U10', 'i4', 'f8')})"
   ]
  },
  {
   "cell_type": "code",
   "execution_count": 173,
   "metadata": {
    "ExecuteTime": {
     "end_time": "2020-11-08T16:20:36.992005Z",
     "start_time": "2020-11-08T16:20:36.981220Z"
    }
   },
   "outputs": [
    {
     "data": {
      "text/plain": [
       "array([('', 0, 0.), ('', 0, 0.), ('', 0, 0.), ('', 0, 0.)],\n",
       "      dtype=[('name', '<U10'), ('studentID', '<i4'), ('scores', '<f8')])"
      ]
     },
     "execution_count": 173,
     "metadata": {},
     "output_type": "execute_result"
    }
   ],
   "source": [
    "student_data"
   ]
  },
  {
   "cell_type": "code",
   "execution_count": 184,
   "metadata": {
    "ExecuteTime": {
     "end_time": "2020-11-08T16:32:21.253238Z",
     "start_time": "2020-11-08T16:32:21.244652Z"
    }
   },
   "outputs": [],
   "source": [
    "student_data['name'] = name\n",
    "student_data['studentID'] = studentID\n",
    "student_data['scores'] = scores"
   ]
  },
  {
   "cell_type": "code",
   "execution_count": 175,
   "metadata": {
    "ExecuteTime": {
     "end_time": "2020-11-08T16:21:39.640229Z",
     "start_time": "2020-11-08T16:21:39.631340Z"
    }
   },
   "outputs": [
    {
     "data": {
      "text/plain": [
       "array([('Andy', 106, 85.5 ), ('Rosy', 102, 90.34), ('Susan', 139, 87.65),\n",
       "       ('Rick', 167, 78.25)],\n",
       "      dtype=[('name', '<U10'), ('studentID', '<i4'), ('scores', '<f8')])"
      ]
     },
     "execution_count": 175,
     "metadata": {},
     "output_type": "execute_result"
    }
   ],
   "source": [
    "student_data"
   ]
  },
  {
   "cell_type": "code",
   "execution_count": 176,
   "metadata": {
    "ExecuteTime": {
     "end_time": "2020-11-08T16:22:09.255359Z",
     "start_time": "2020-11-08T16:22:09.246779Z"
    }
   },
   "outputs": [
    {
     "data": {
      "text/plain": [
       "array(['Andy', 'Rosy', 'Susan', 'Rick'], dtype='<U10')"
      ]
     },
     "execution_count": 176,
     "metadata": {},
     "output_type": "execute_result"
    }
   ],
   "source": [
    "student_data['name']"
   ]
  },
  {
   "cell_type": "code",
   "execution_count": 177,
   "metadata": {
    "ExecuteTime": {
     "end_time": "2020-11-08T16:22:17.422343Z",
     "start_time": "2020-11-08T16:22:17.406170Z"
    }
   },
   "outputs": [
    {
     "data": {
      "text/plain": [
       "array([85.5 , 90.34, 87.65, 78.25])"
      ]
     },
     "execution_count": 177,
     "metadata": {},
     "output_type": "execute_result"
    }
   ],
   "source": [
    "student_data['scores']"
   ]
  },
  {
   "cell_type": "code",
   "execution_count": 178,
   "metadata": {
    "ExecuteTime": {
     "end_time": "2020-11-08T16:22:27.989256Z",
     "start_time": "2020-11-08T16:22:27.971493Z"
    }
   },
   "outputs": [
    {
     "data": {
      "text/plain": [
       "('Andy', 106, 85.5)"
      ]
     },
     "execution_count": 178,
     "metadata": {},
     "output_type": "execute_result"
    }
   ],
   "source": [
    "student_data[0]"
   ]
  },
  {
   "cell_type": "code",
   "execution_count": 180,
   "metadata": {
    "ExecuteTime": {
     "end_time": "2020-11-08T16:24:36.472515Z",
     "start_time": "2020-11-08T16:24:36.463880Z"
    }
   },
   "outputs": [
    {
     "data": {
      "text/plain": [
       "array(['Rosy', 'Susan'], dtype='<U10')"
      ]
     },
     "execution_count": 180,
     "metadata": {},
     "output_type": "execute_result"
    }
   ],
   "source": [
    "student_data[student_data['scores']>86]['name']"
   ]
  },
  {
   "cell_type": "code",
   "execution_count": null,
   "metadata": {},
   "outputs": [],
   "source": []
  },
  {
   "cell_type": "code",
   "execution_count": null,
   "metadata": {},
   "outputs": [],
   "source": []
  }
 ],
 "metadata": {
  "kernelspec": {
   "display_name": "Python 3",
   "language": "python",
   "name": "python3"
  },
  "language_info": {
   "codemirror_mode": {
    "name": "ipython",
    "version": 3
   },
   "file_extension": ".py",
   "mimetype": "text/x-python",
   "name": "python",
   "nbconvert_exporter": "python",
   "pygments_lexer": "ipython3",
   "version": "3.7.3"
  },
  "varInspector": {
   "cols": {
    "lenName": 16,
    "lenType": 16,
    "lenVar": 40
   },
   "kernels_config": {
    "python": {
     "delete_cmd_postfix": "",
     "delete_cmd_prefix": "del ",
     "library": "var_list.py",
     "varRefreshCmd": "print(var_dic_list())"
    },
    "r": {
     "delete_cmd_postfix": ") ",
     "delete_cmd_prefix": "rm(",
     "library": "var_list.r",
     "varRefreshCmd": "cat(var_dic_list()) "
    }
   },
   "types_to_exclude": [
    "module",
    "function",
    "builtin_function_or_method",
    "instance",
    "_Feature"
   ],
   "window_display": false
  }
 },
 "nbformat": 4,
 "nbformat_minor": 2
}
