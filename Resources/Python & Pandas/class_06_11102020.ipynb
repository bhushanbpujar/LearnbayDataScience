{
 "cells": [
  {
   "cell_type": "markdown",
   "metadata": {},
   "source": [
    "# Conditional & loops in Python"
   ]
  },
  {
   "cell_type": "code",
   "execution_count": 22,
   "metadata": {},
   "outputs": [
    {
     "name": "stdout",
     "output_type": "stream",
     "text": [
      "Enter 1st Number: 10\n",
      "Enter 2nd Number: 1\n",
      "a-b = 9\n"
     ]
    }
   ],
   "source": [
    "# if, elif, else - used to make the decision in Programming\n",
    "\n",
    "a = int(input('Enter 1st Number: '))\n",
    "b = int(input('Enter 2nd Number: '))\n",
    "if a>b:\n",
    "    print('a-b =', a-b)\n",
    "if a<b:\n",
    "    print('b-a = ', b-a)\n",
    "if (a == b):\n",
    "    print('a is equal to b')\n",
    "\n"
   ]
  },
  {
   "cell_type": "code",
   "execution_count": null,
   "metadata": {},
   "outputs": [],
   "source": [
    "a = int(input('Enter 1st Number: '))\n",
    "b = int(input('Enter 2nd Number: '))\n",
    "if a>b:\n",
    "    print('a-b =', a-b)\n",
    "elif a<b:\n",
    "    print('b-a = ', b-a)\n",
    "elif (a == b):\n",
    "    print('a is equal to b')\n"
   ]
  },
  {
   "cell_type": "code",
   "execution_count": 13,
   "metadata": {},
   "outputs": [
    {
     "name": "stdout",
     "output_type": "stream",
     "text": [
      "10 20 30 "
     ]
    }
   ],
   "source": [
    "# print(10, 20,30, sep = '::')\n",
    "# print(10, end = ' ')\n",
    "# print(20, end = ' ')\n",
    "# print(30, end = ' ')"
   ]
  },
  {
   "cell_type": "code",
   "execution_count": 27,
   "metadata": {},
   "outputs": [
    {
     "name": "stdout",
     "output_type": "stream",
     "text": [
      "Enter 1st Number: 10\n",
      "Enter 2nd Number: 11\n",
      "Enter 3rd Number: 11\n",
      "No condition\n"
     ]
    }
   ],
   "source": [
    "a = int(input('Enter 1st Number: '))\n",
    "b = int(input('Enter 2nd Number: '))\n",
    "c = int(input('Enter 3rd Number: '))\n",
    "if a>b and a>c:\n",
    "    print('a is greater than b and c')\n",
    "elif b>c and b>a:\n",
    "    print('b is greater than a and c')\n",
    "elif c>a and c>b:\n",
    "    print('c is greater than a and b')\n",
    "elif a==b==c:\n",
    "    print('All values are similar')\n",
    "else:\n",
    "    print('No condition')"
   ]
  },
  {
   "cell_type": "code",
   "execution_count": null,
   "metadata": {},
   "outputs": [],
   "source": [
    "# If you have mutiple if statements in your python program then use elif\n",
    "# else is optional"
   ]
  },
  {
   "cell_type": "code",
   "execution_count": null,
   "metadata": {},
   "outputs": [],
   "source": [
    "# for, while, with,def,class, try, except, finally - indentation to make the block of code"
   ]
  },
  {
   "cell_type": "markdown",
   "metadata": {},
   "source": [
    "# Loop in Python"
   ]
  },
  {
   "cell_type": "code",
   "execution_count": null,
   "metadata": {},
   "outputs": [],
   "source": [
    "# Synatx of for loop\n",
    "# for var in seq/map:\n",
    "#     code1\n",
    "#     code2\n",
    "#     code3\n",
    "#     code4"
   ]
  },
  {
   "cell_type": "code",
   "execution_count": 36,
   "metadata": {},
   "outputs": [
    {
     "data": {
      "text/plain": [
       "[25, 26, 27, 28, 29]"
      ]
     },
     "execution_count": 36,
     "metadata": {},
     "output_type": "execute_result"
    }
   ],
   "source": [
    "# If number of iteration is known in advance then we can use for loop using range()\n",
    "\n",
    "# for i in range(5):\n",
    "#     print('Hello')\n",
    "list(range(25, 30))"
   ]
  },
  {
   "cell_type": "code",
   "execution_count": 42,
   "metadata": {},
   "outputs": [
    {
     "name": "stdout",
     "output_type": "stream",
     "text": [
      "25 20\n",
      "25 21\n",
      "25 22\n",
      "25 23\n",
      "25 24\n",
      "25 25\n",
      "25 26\n",
      "25 27\n",
      "25 28\n",
      "25 29\n",
      "26 20\n",
      "26 21\n",
      "26 22\n",
      "26 23\n",
      "26 24\n",
      "26 25\n",
      "26 26\n",
      "26 27\n",
      "26 28\n",
      "26 29\n",
      "27 20\n",
      "27 21\n",
      "27 22\n",
      "27 23\n",
      "27 24\n",
      "27 25\n",
      "27 26\n",
      "27 27\n",
      "27 28\n",
      "27 29\n",
      "28 20\n",
      "28 21\n",
      "28 22\n",
      "28 23\n",
      "28 24\n",
      "28 25\n",
      "28 26\n",
      "28 27\n",
      "28 28\n",
      "28 29\n",
      "29 20\n",
      "29 21\n",
      "29 22\n",
      "29 23\n",
      "29 24\n",
      "29 25\n",
      "29 26\n",
      "29 27\n",
      "29 28\n",
      "29 29\n",
      "Loop execution completed\n"
     ]
    }
   ],
   "source": [
    "# for i in range(25, 30):\n",
    "#     for j in range(20,30):\n",
    "#         print(i,j)\n",
    "# print('Loop execution completed')"
   ]
  },
  {
   "cell_type": "code",
   "execution_count": 37,
   "metadata": {},
   "outputs": [
    {
     "name": "stdout",
     "output_type": "stream",
     "text": [
      "P\n",
      "y\n",
      "t\n",
      "h\n",
      "o\n",
      "n\n"
     ]
    }
   ],
   "source": [
    "for i in 'Python':\n",
    "    print(i)"
   ]
  },
  {
   "cell_type": "code",
   "execution_count": 38,
   "metadata": {},
   "outputs": [
    {
     "name": "stdout",
     "output_type": "stream",
     "text": [
      "10\n",
      "20.3\n",
      "(30+40j)\n",
      "Python\n"
     ]
    }
   ],
   "source": [
    "for i in [10,20.30, 30+40j,'Python']:\n",
    "    print(i)"
   ]
  },
  {
   "cell_type": "code",
   "execution_count": 46,
   "metadata": {},
   "outputs": [
    {
     "data": {
      "text/plain": [
       "[(1, 100),\n",
       " (2, 110),\n",
       " (3, 110.9),\n",
       " (4, 120),\n",
       " (5, 105),\n",
       " (6, 104),\n",
       " (7, 150),\n",
       " (8, 135),\n",
       " (9, 139)]"
      ]
     },
     "execution_count": 46,
     "metadata": {},
     "output_type": "execute_result"
    }
   ],
   "source": [
    "list(zip(lst_date, stk_price))"
   ]
  },
  {
   "cell_type": "code",
   "execution_count": 54,
   "metadata": {},
   "outputs": [
    {
     "name": "stdout",
     "output_type": "stream",
     "text": [
      "date =  1\n",
      "stk_price =  100\n",
      "volatility =  13\n",
      "\n",
      "date =  2\n",
      "stk_price =  110\n",
      "volatility =  14\n",
      "\n",
      "date =  3\n",
      "stk_price =  110.9\n",
      "volatility =  15\n",
      "\n",
      "date =  4\n",
      "stk_price =  120\n",
      "volatility =  16\n",
      "\n",
      "date =  5\n",
      "stk_price =  105\n",
      "volatility =  17\n",
      "\n",
      "date =  6\n",
      "stk_price =  104\n",
      "volatility =  18\n",
      "\n",
      "date =  7\n",
      "stk_price =  150\n",
      "volatility =  19\n",
      "\n",
      "date =  8\n",
      "stk_price =  135\n",
      "volatility =  20\n",
      "\n",
      "date =  9\n",
      "stk_price =  139\n",
      "volatility =  21\n",
      "\n"
     ]
    }
   ],
   "source": [
    "lst_date = range(1, 11)\n",
    "stk_price = [100,110,110.90, 120, 105, 104, 150, 135, 139]\n",
    "volatility = [13, 14, 15, 16, 17, 18, 19, 20, 21]\n",
    "for i in zip(lst_date, stk_price, volatility):\n",
    "    print('date = ', i[0])\n",
    "    print('stk_price = ', i[1])\n",
    "    print('volatility = ', i[2])\n",
    "    print()"
   ]
  },
  {
   "cell_type": "code",
   "execution_count": 52,
   "metadata": {},
   "outputs": [
    {
     "name": "stdout",
     "output_type": "stream",
     "text": [
      "(10, 100, 'p')\n",
      "(20, 200, 'y')\n",
      "(30, 300, 't')\n"
     ]
    }
   ],
   "source": [
    "# Iterable - Anyobject on whih we can run loop is an iterable\n",
    "# string, list, tuple, set, frozenset, dictionary, range, bytes, bytearray, \n",
    "\n",
    "for i in zip([10,20,30], (100,200,300, 400), 'pytho'):\n",
    "    print(i)"
   ]
  },
  {
   "cell_type": "code",
   "execution_count": 47,
   "metadata": {},
   "outputs": [
    {
     "ename": "TypeError",
     "evalue": "'int' object is not iterable",
     "output_type": "error",
     "traceback": [
      "\u001b[0;31m---------------------------------------------------------------------------\u001b[0m",
      "\u001b[0;31mTypeError\u001b[0m                                 Traceback (most recent call last)",
      "\u001b[0;32m<ipython-input-47-665a8c31cf25>\u001b[0m in \u001b[0;36m<module>\u001b[0;34m\u001b[0m\n\u001b[0;32m----> 1\u001b[0;31m \u001b[0;32mfor\u001b[0m \u001b[0mi\u001b[0m \u001b[0;32min\u001b[0m \u001b[0;36m10\u001b[0m\u001b[0;34m:\u001b[0m\u001b[0;34m\u001b[0m\u001b[0;34m\u001b[0m\u001b[0m\n\u001b[0m\u001b[1;32m      2\u001b[0m     \u001b[0mprint\u001b[0m\u001b[0;34m(\u001b[0m\u001b[0mi\u001b[0m\u001b[0;34m)\u001b[0m\u001b[0;34m\u001b[0m\u001b[0;34m\u001b[0m\u001b[0m\n",
      "\u001b[0;31mTypeError\u001b[0m: 'int' object is not iterable"
     ]
    }
   ],
   "source": [
    "for i in 10:\n",
    "    print(i)"
   ]
  },
  {
   "cell_type": "code",
   "execution_count": null,
   "metadata": {},
   "outputs": [],
   "source": [
    "# Numbers, None, Boolean"
   ]
  },
  {
   "cell_type": "code",
   "execution_count": 63,
   "metadata": {},
   "outputs": [
    {
     "name": "stdout",
     "output_type": "stream",
     "text": [
      "1\n",
      "100\n",
      "13\n",
      "\n",
      "2\n",
      "110\n",
      "14\n",
      "\n",
      "3\n",
      "110.9\n",
      "15\n",
      "\n",
      "4\n",
      "120\n",
      "16\n",
      "\n",
      "5\n",
      "105\n",
      "17\n",
      "\n",
      "6\n",
      "104\n",
      "18\n",
      "\n",
      "7\n",
      "150\n",
      "19\n",
      "\n",
      "8\n",
      "135\n",
      "20\n",
      "\n",
      "9\n",
      "139\n",
      "21\n",
      "\n"
     ]
    }
   ],
   "source": [
    "lst_date = range(1, 11)\n",
    "stk_price = [100,110,110.90, 120, 105, 104, 150, 135, 139]\n",
    "volatility = [13, 14, 15, 16, 17, 18, 19, 20, 21]\n",
    "# list(zip(lst_date, stk_price, volatility))[0]\n",
    "for i in zip(lst_date, stk_price, volatility):\n",
    "    print(i[0])\n",
    "    print(i[1])\n",
    "    print(i[2])\n",
    "    print()"
   ]
  },
  {
   "cell_type": "code",
   "execution_count": 65,
   "metadata": {},
   "outputs": [
    {
     "data": {
      "text/plain": [
       "<zip at 0x1045fb548>"
      ]
     },
     "execution_count": 65,
     "metadata": {},
     "output_type": "execute_result"
    }
   ],
   "source": [
    "# zip((10,),(20,))"
   ]
  },
  {
   "cell_type": "code",
   "execution_count": 66,
   "metadata": {},
   "outputs": [
    {
     "name": "stdout",
     "output_type": "stream",
     "text": [
      "10\n",
      "20\n",
      "30\n"
     ]
    }
   ],
   "source": [
    "for i in {10,20,30}:\n",
    "    print(i)"
   ]
  },
  {
   "cell_type": "code",
   "execution_count": 70,
   "metadata": {},
   "outputs": [
    {
     "name": "stdout",
     "output_type": "stream",
     "text": [
      "key =  1\n",
      "value =  100\n",
      "\n",
      "key =  10.2\n",
      "value =  200\n",
      "\n",
      "key =  (10+20j)\n",
      "value =  (200+300j)\n",
      "\n",
      "key =  a\n",
      "value =  Python\n",
      "\n"
     ]
    }
   ],
   "source": [
    "d = {1:100, 10.20:200, 10+20j:200+300j,'a':'Python'}\n",
    "for var in d:\n",
    "    print('key = ', var)\n",
    "    print('value = ',d[var])\n",
    "    print()"
   ]
  },
  {
   "cell_type": "code",
   "execution_count": 71,
   "metadata": {},
   "outputs": [
    {
     "ename": "TypeError",
     "evalue": "cannot unpack non-iterable int object",
     "output_type": "error",
     "traceback": [
      "\u001b[0;31m---------------------------------------------------------------------------\u001b[0m",
      "\u001b[0;31mTypeError\u001b[0m                                 Traceback (most recent call last)",
      "\u001b[0;32m<ipython-input-71-30c050f35140>\u001b[0m in \u001b[0;36m<module>\u001b[0;34m\u001b[0m\n\u001b[0;32m----> 1\u001b[0;31m \u001b[0;32mfor\u001b[0m \u001b[0mi\u001b[0m\u001b[0;34m,\u001b[0m\u001b[0mj\u001b[0m \u001b[0;32min\u001b[0m \u001b[0md\u001b[0m\u001b[0;34m:\u001b[0m\u001b[0;34m\u001b[0m\u001b[0;34m\u001b[0m\u001b[0m\n\u001b[0m\u001b[1;32m      2\u001b[0m     \u001b[0mprint\u001b[0m\u001b[0;34m(\u001b[0m\u001b[0mi\u001b[0m\u001b[0;34m,\u001b[0m\u001b[0mj\u001b[0m\u001b[0;34m)\u001b[0m\u001b[0;34m\u001b[0m\u001b[0;34m\u001b[0m\u001b[0m\n",
      "\u001b[0;31mTypeError\u001b[0m: cannot unpack non-iterable int object"
     ]
    }
   ],
   "source": [
    "# for i,j in d:\n",
    "#     print(i,j)"
   ]
  },
  {
   "cell_type": "code",
   "execution_count": 75,
   "metadata": {},
   "outputs": [
    {
     "name": "stdout",
     "output_type": "stream",
     "text": [
      "index = 0\n",
      "value = 10\n",
      "\n",
      "index = 1\n",
      "value = 20\n",
      "\n",
      "index = 2\n",
      "value = 30\n",
      "\n",
      "index = 3\n",
      "value = 40\n",
      "\n"
     ]
    }
   ],
   "source": [
    "lst = [10,20,30,40]\n",
    "for i,j in enumerate(lst):\n",
    "    print('index =', i)\n",
    "    print('value =',j)\n",
    "    print()"
   ]
  },
  {
   "cell_type": "code",
   "execution_count": 77,
   "metadata": {},
   "outputs": [
    {
     "data": {
      "text/plain": [
       "[(0, 10), (1, 20), (2, 30), (3, 40)]"
      ]
     },
     "execution_count": 77,
     "metadata": {},
     "output_type": "execute_result"
    }
   ],
   "source": [
    "list(enumerate(lst))"
   ]
  },
  {
   "cell_type": "code",
   "execution_count": 78,
   "metadata": {},
   "outputs": [
    {
     "data": {
      "text/plain": [
       "[(0, 'P'), (1, 'y'), (2, 't'), (3, 'h'), (4, 'o'), (5, 'n')]"
      ]
     },
     "execution_count": 78,
     "metadata": {},
     "output_type": "execute_result"
    }
   ],
   "source": [
    "list(enumerate('Python'))"
   ]
  },
  {
   "cell_type": "code",
   "execution_count": 86,
   "metadata": {},
   "outputs": [
    {
     "name": "stdout",
     "output_type": "stream",
     "text": [
      "P\n",
      "yy\n",
      "ttt\n",
      "hhhh\n",
      "ooooo\n",
      "nnnnnn\n"
     ]
    }
   ],
   "source": [
    "my_str = 'Python'\n",
    "# P\n",
    "# yy\n",
    "# ttt\n",
    "# hhhh\n",
    "# ooooo\n",
    "# nnnnnn\n",
    "# j = 1\n",
    "# for i in my_str:\n",
    "#     print(i*j)\n",
    "#     j = j+1\n",
    "\n",
    "# for i in range(len(my_str)):\n",
    "#     print(my_str[i] * (i+1))\n",
    "\n",
    "# for i,j in enumerate(my_str):\n",
    "#     print(j * (i+1))\n"
   ]
  },
  {
   "cell_type": "code",
   "execution_count": 96,
   "metadata": {},
   "outputs": [
    {
     "name": "stdout",
     "output_type": "stream",
     "text": [
      "n o h t y P\n"
     ]
    }
   ],
   "source": [
    "my_str = 'Python'\n",
    "# n o h t y p\n",
    "\n",
    "# n\n",
    "# oo\n",
    "# hhh\n",
    "# tttt\n",
    "# yyyyy\n",
    "# pppppp\n",
    "\n",
    "# nnnnnn\n",
    "# ooooo\n",
    "# hhhh\n",
    "# ttt\n",
    "# yy\n",
    "# p\n",
    "\n",
    "# print(my_str[ : : -1])\n",
    "for i in range(len(my_str[ : : -1])):\n",
    "    if i == 5:\n",
    "        print(my_str[ : : -1][i])\n",
    "    else:\n",
    "        print(my_str[ : : -1][i], end = ' ')\n"
   ]
  },
  {
   "cell_type": "code",
   "execution_count": 110,
   "metadata": {},
   "outputs": [
    {
     "name": "stdout",
     "output_type": "stream",
     "text": [
      "*****************Peck************************\n"
     ]
    }
   ],
   "source": [
    "# while loop - \n",
    "\n",
    "\n",
    "#Write a python program to find below output (implements rjust and ljust):-\n",
    "\n",
    "#Input:- 'Peter Piper Picked A Peck Of Pickled Peppers.', sub_str = 'Peck', \n",
    "#Output:- '*********************Peck********************'\n",
    "\n",
    "my_str = 'Peter Piper Picked A Peck Of Pickled Peppers.'\n",
    "sub_str = 'Peck'\n",
    "# my_str.rjust(len(my_str)+(my_str.index(sub_str)), '*')\n",
    "\n",
    "# my_str.center()\n",
    "\n",
    "# print(sub_str.rjust(my_str.index(sub_str), '*').ljust(len(my_str), '*'))\n",
    "\n"
   ]
  },
  {
   "cell_type": "code",
   "execution_count": 100,
   "metadata": {},
   "outputs": [
    {
     "data": {
      "text/plain": [
       "21"
      ]
     },
     "execution_count": 100,
     "metadata": {},
     "output_type": "execute_result"
    }
   ],
   "source": [
    "my_str.index(sub_str)"
   ]
  },
  {
   "cell_type": "code",
   "execution_count": 119,
   "metadata": {},
   "outputs": [
    {
     "name": "stdout",
     "output_type": "stream",
     "text": [
      "Sub_str not found\n",
      ".\n"
     ]
    }
   ],
   "source": [
    "my_str = 'Peter Piper Picked A Peck Of Pickled Peppers.'\n",
    "sub_str = 'Zeck'\n",
    "new_str = 'Pack'\n",
    "\n",
    "print(my_str.replace(sub_str,new_str)) if sub_str in my_str else 'Sub_str not found'\n",
    "\n",
    "if sub_str in my_str:\n",
    "    print(my_str.replace(sub_str,new_str))\n",
    "else:\n",
    "    print('Sub_str not found')\n",
    "\n",
    "\n",
    "# Ternary Operator\n",
    "\n",
    "# res if cond else res\n",
    "\n",
    "print(my_str[len(my_str)-1])\n"
   ]
  },
  {
   "cell_type": "code",
   "execution_count": 129,
   "metadata": {},
   "outputs": [
    {
     "name": "stdout",
     "output_type": "stream",
     "text": [
      "            P \n",
      "           y y \n",
      "          t t t \n",
      "         h h h h \n",
      "        o o o o o \n",
      "       n n n n n n \n",
      "                    \n",
      "     C C C C C C C C \n",
      "    l l l l l l l l l \n",
      "   a a a a a a a a a a \n",
      "  s s s s s s s s s s s \n",
      " s s s s s s s s s s s s \n"
     ]
    }
   ],
   "source": [
    "for i in range(len('Python Class')):\n",
    "    for j in range(13-i-1,0, -1):\n",
    "        print(' '*j, end = '')\n",
    "        print(('Python Class'[i] + \" \")* (i+1))\n",
    "        break\n",
    "    "
   ]
  },
  {
   "cell_type": "code",
   "execution_count": null,
   "metadata": {},
   "outputs": [],
   "source": [
    "     P\n",
    "    y y\n",
    "   t t t\n",
    "  h h h h\n",
    " o o o o o\n",
    "n n n n n n\n",
    "\n"
   ]
  },
  {
   "cell_type": "code",
   "execution_count": null,
   "metadata": {},
   "outputs": [],
   "source": []
  }
 ],
 "metadata": {
  "kernelspec": {
   "display_name": "Python 3",
   "language": "python",
   "name": "python3"
  },
  "language_info": {
   "codemirror_mode": {
    "name": "ipython",
    "version": 3
   },
   "file_extension": ".py",
   "mimetype": "text/x-python",
   "name": "python",
   "nbconvert_exporter": "python",
   "pygments_lexer": "ipython3",
   "version": "3.7.3"
  }
 },
 "nbformat": 4,
 "nbformat_minor": 2
}
