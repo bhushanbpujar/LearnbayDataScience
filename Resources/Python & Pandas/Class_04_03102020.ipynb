{
 "cells": [
  {
   "cell_type": "markdown",
   "metadata": {},
   "source": [
    "# Data types in Python\n",
    "#### Fundamental Data types\n",
    "    - Numerals - Integers, Float, Complex\n",
    "    - String\n",
    "    - None\n",
    "    - Boolean\n",
    "#### Derived Data types\n",
    "    - List\n",
    "    - Tuple\n",
    "    - Dictionary\n",
    "    - Set\n",
    "    - Frozenset\n",
    "    - Bytes\n",
    "    - Bytearray\n",
    "    - range()"
   ]
  },
  {
   "cell_type": "markdown",
   "metadata": {},
   "source": [
    "# Integers"
   ]
  },
  {
   "cell_type": "code",
   "execution_count": 16,
   "metadata": {},
   "outputs": [
    {
     "name": "stdout",
     "output_type": "stream",
     "text": [
      "28\n",
      "72\n",
      "<class 'int'> <class 'int'>\n"
     ]
    },
    {
     "data": {
      "text/plain": [
       "9223372036854775807"
      ]
     },
     "execution_count": 16,
     "metadata": {},
     "output_type": "execute_result"
    }
   ],
   "source": [
    "# Any number without a decimal point is integers - 10, -10, 0\n",
    "# Integers can be represented in different format\n",
    "# Binary - 0b/0B - Allowed Digits are - 0 & 1, TO binary - bin(a) - 0b1010, 0b10100\n",
    "# Octal - 0o/0O - Allowed Digits are - 0 to 7, To octal - oct() - 0o7654\n",
    "# Hexadecimal - 0x/0X - Allowed Digits are - 0 to 9 and a/A to f/F, To Hexadecimal - hex() - 0xfc98\n",
    "\n",
    "# representing a decimal value in binary value\n",
    "# a = 100\n",
    "# print(bin(a))\n",
    "\n",
    "# binary to decimal\n",
    "# print(0b1100100)\n",
    "\n",
    "# b = 0b1100100\n",
    "# print(b)\n",
    "\n",
    "# print(int(0b1100100))\n",
    "\n",
    "# representing a decimal value in octal value\n",
    "# a = 9876\n",
    "# print(oct(a))\n",
    "\n",
    "# octal to decimal\n",
    "# print(0o23224)\n",
    "\n",
    "# b = 0o23224\n",
    "# print(b)\n",
    "\n",
    "# print(int(0o23224))\n",
    "\n",
    "\n",
    "# representing a decimal value in hexadecimal value\n",
    "# a = 64664\n",
    "# print(hex(a))\n",
    "\n",
    "# hexadecimal to decimal\n",
    "# print(0xfc98)\n",
    "\n",
    "# b = 0xfc98\n",
    "# print(b)\n",
    "\n",
    "# print(int(0o23224))\n",
    "\n",
    "# There is no concept of size in Python - short, long, double, char\n",
    "import sys\n",
    "a = 10\n",
    "print(sys.getsizeof(a))\n",
    "a = 1000000000000000000000000000000000000000000000000000000000000000000000000000000000000000000000000000000000000\n",
    "print(sys.getsizeof(b))\n",
    "print(type(a), type(b))\n",
    "\n",
    "\n",
    "\n"
   ]
  },
  {
   "cell_type": "code",
   "execution_count": null,
   "metadata": {},
   "outputs": [],
   "source": [
    "def f1():\n",
    "    print('This is outr first function')"
   ]
  },
  {
   "cell_type": "code",
   "execution_count": 13,
   "metadata": {},
   "outputs": [],
   "source": [
    "# print(help(int))"
   ]
  },
  {
   "cell_type": "code",
   "execution_count": null,
   "metadata": {},
   "outputs": [],
   "source": [
    "# Memory management in Python - Memory allocation and deallocation - Automatic \n",
    "a = 10\n",
    "b = 20\n",
    "c = a+b\n",
    "print(c)\n",
    "\n",
    "\n",
    "\n"
   ]
  },
  {
   "cell_type": "code",
   "execution_count": null,
   "metadata": {},
   "outputs": [],
   "source": [
    "# Float - Any numbers with decimal point - 10.209, -10.20, 0.000001\n",
    "# Float can not be represented in binary, octal or hexadecimal"
   ]
  },
  {
   "cell_type": "code",
   "execution_count": 26,
   "metadata": {},
   "outputs": [
    {
     "name": "stdout",
     "output_type": "stream",
     "text": [
      "(10+20j)\n"
     ]
    }
   ],
   "source": [
    "# Complex - Any number in  a +bj format\n",
    "# a is real part and b is imaginary part\n",
    "# j is imaginary value - square root of -1\n",
    "# a = 10+20j\n",
    "# print(type(a))\n",
    "# print(a.real)\n",
    "# print(a.imag)\n",
    "\n",
    "\n",
    "# b = 20j\n",
    "# print(b)\n",
    "\n",
    "# a = 0xfc98\n",
    "# print(a)\n",
    "\n",
    "\n",
    "a = 0b1010 + 20j\n",
    "print(a)\n",
    "\n"
   ]
  },
  {
   "cell_type": "code",
   "execution_count": 60,
   "metadata": {},
   "outputs": [
    {
     "name": "stdout",
     "output_type": "stream",
     "text": [
      "(10.2+0j)\n",
      "10j\n"
     ]
    }
   ],
   "source": [
    "# Typecasting to int, float, complex\n",
    "\n",
    "# Two level converion  - not accepted\n",
    "\n",
    "\n",
    "\n",
    "# print(int(10))\n",
    "# print(int(10.20))\n",
    "# print(int(0b1010))\n",
    "# print(int(0o7654))\n",
    "# print(int(0xfc98))\n",
    "# print(int(True))\n",
    "# print(int('10'))\n",
    "\n",
    "# print(int('10.20'))\n",
    "# print(int(10+20j))\n",
    "# print(int('0b10101'))\n",
    "# print(int('True'))\n",
    "# print(int('A'))\n",
    "\n",
    "\n",
    "\n",
    "# print(float(10))\n",
    "# print(float(10.20))\n",
    "# print(float(0b1010))\n",
    "# print(float(0o7654))\n",
    "# print(float(0xfc98))\n",
    "# print(float(True))\n",
    "# print(float('10'))\n",
    "# print(float('10.20'))\n",
    "\n",
    "\n",
    "\n",
    "# print(float(10+20j))\n",
    "# print(float('0b10101'))\n",
    "# print(float('True'))\n",
    "# print(float('A'))\n",
    "\n",
    "\n",
    "# complex(real)- imag = 0\n",
    "# Complex(real, imag)\n",
    "# If first arg is string(number) then second value can not be passed\n",
    "\n",
    "# print(complex(10))\n",
    "# print(complex('10'))\n",
    "print(complex(10.20))\n",
    "# print(complex('10.20'))\n",
    "# print(complex(0b1010))\n",
    "# # print(complex('0b10101'))\n",
    "# print(complex(True))\n",
    "# print(complex('A'))\n",
    "\n",
    "\n",
    "\n",
    "# print(complex(10,20))\n",
    "# print(complex(0b1010,0xfc98))\n",
    "# print(complex(False,True))\n",
    "# # print(complex('10', 20))\n",
    "# # print(complex(10, '20'))\n",
    "# print(complex(10.5, 20.30))\n",
    "\n",
    "print(complex(0, 10))"
   ]
  },
  {
   "cell_type": "code",
   "execution_count": 34,
   "metadata": {},
   "outputs": [],
   "source": [
    "# Boolean to int - True => 1, False = 0\n",
    "# int to Boolean - 0 is False rest all is True\n",
    "# 1\n",
    "# 2\n",
    "# -10\n",
    "# -10000000000"
   ]
  },
  {
   "cell_type": "code",
   "execution_count": 61,
   "metadata": {},
   "outputs": [
    {
     "data": {
      "text/plain": [
       "10"
      ]
     },
     "execution_count": 61,
     "metadata": {},
     "output_type": "execute_result"
    }
   ],
   "source": [
    "int(float('10.20'))"
   ]
  },
  {
   "cell_type": "markdown",
   "metadata": {},
   "source": [
    "# String in Python"
   ]
  },
  {
   "cell_type": "code",
   "execution_count": 101,
   "metadata": {},
   "outputs": [
    {
     "name": "stdout",
     "output_type": "stream",
     "text": [
      "sacnhy ish\n",
      "slnt  h\n"
     ]
    }
   ],
   "source": [
    "# a = 'This is Python class'\n",
    "# print(a, type(a))\n",
    "\n",
    "# a = \"This is Python class\"\n",
    "# print(a, type(a))\n",
    "\n",
    "# a = \"\"\"This is Python class\"\"\"\n",
    "# print(a, type(a))\n",
    "\n",
    "# a = \"This is Python's class\"\n",
    "# print(a, type(a))\n",
    "\n",
    "\n",
    "# a = 'This is \"Python\" class'\n",
    "# print(a, type(a))\n",
    "\n",
    "# a = '''This is \"Python\" & 'Java' class'''\n",
    "# print(a, type(a))\n",
    "\n",
    "# To declare multiline string we use triple quotation\n",
    "\n",
    "# a = \"\"\"This \n",
    "# is \n",
    "# Python \n",
    "# class\"\"\"\n",
    "# print(a)\n",
    "\n",
    "# Properties of strng\n",
    "# 1. String is a seq\n",
    "# 2. String follows indexing and slicing\n",
    "# 3. String follows both +ve indexing and -ve indexing\n",
    "# 4. +ve indexing starts from 0 from Left side\n",
    "# 5. -ve indexing starts from -1 from Right side\n",
    "# 6. String is an ordered collection of elements\n",
    "# 7. Basic operation which we can perform on string are indexing, slicing, concatenation, repetition,membership and identity\n",
    "\n",
    "\n",
    "# Indexing - Accessing one element at a time\n",
    "# SWe follow square bracket notation\n",
    "\n",
    "s = 'Python'\n",
    "\n",
    "# -6 -5  -4  -3  -2  -1  \n",
    "# P   y   t   h   o   n \n",
    "# 0   1   2   3   4   5 \n",
    "\n",
    "# to find the length of string\n",
    "# print(len(s))\n",
    "\n",
    "# +ve index of last character = len(s) - 1\n",
    "# -ve index of first character = -len(s)\n",
    "\n",
    "\n",
    "# [(1,2),(3,1,1),(5,4),(4,5,6,3,3)]\n",
    "\n",
    "# Acessing first characetr from string\n",
    "# print(s[0])\n",
    "# print(s[-len(s)])\n",
    "# print(s[-6])\n",
    "\n",
    "\n",
    "# Acessing last characetr from string\n",
    "# print(s[-1])\n",
    "# print(s[len(s)-1])\n",
    "# print(s[5])\n",
    "\n",
    "\n",
    "# print(s[3])\n",
    "\n",
    "\n",
    "# Slicing - Accessing multiple elements at a time\n",
    "# Syntax - my_str[start:stop:step]\n",
    "# start = 0\n",
    "# stop = len(str)\n",
    "# step = 1\n",
    "\n",
    "# Step = +ve - Slicing will be done from Left to Right\n",
    "# Step = -ve - Slicing will be done from Right to Left\n",
    "\n",
    "\n",
    "\n",
    "\n",
    "s = 'This is Python class'\n",
    "\n",
    "\n",
    "# if Step = +ve then start should always on left side compared to stop value\n",
    "# print(s[ : : ])\n",
    "# print(s[0 : len(s) : 1])\n",
    "\n",
    "\n",
    "# print(s[8:14:1])\n",
    "# print(s[5:7])\n",
    "\n",
    "# print(s[12::1])\n",
    "\n",
    "# print(s[:4])\n",
    "\n",
    "# print(s[-12:-6])\n",
    "\n",
    "\n",
    "\n",
    "# if Step = -ve then start should always on right side compared to stop value\n",
    "# start = -1\n",
    "# stop = -len(str)-1\n",
    "# step = -1\n",
    "\n",
    "# print(s[::-1])\n",
    "\n",
    "# print(s[-1:-len(s)-1:-1])\n",
    "\n",
    "# print(s[-7:-13:-1])\n",
    "\n",
    "# Step can be +/-1, +/-2, +/-3 ....\n",
    "# print(s)\n",
    "# print(s[::2])\n",
    "# print(s[8:14:3])\n",
    "\n",
    "# print(s[::-2])\n",
    "# print(s[::-3])\n"
   ]
  },
  {
   "cell_type": "code",
   "execution_count": 106,
   "metadata": {},
   "outputs": [
    {
     "name": "stdout",
     "output_type": "stream",
     "text": [
      "0.2\n",
      "['abc', 'abcd', 'abcde', 'abcdef']\n"
     ]
    }
   ],
   "source": [
    "# a = 10.20\n",
    "# b = str(a)\n",
    "# print(float(b[b.index('.'):]))\n",
    "\n",
    "# lst = ['abc@gmail.com', 'abcd@hotmail.com', 'abcde@yahoo.com', 'abcdef@rediffmail.com']\n",
    "# # [i[:i.index('@')] for i in lst]   # list comprehension\n",
    "# out_lst = []\n",
    "# for i in lst:\n",
    "#     ind = i.index('@')\n",
    "#     out_lst.append(i[:ind])\n",
    "# print(out_lst)\n"
   ]
  },
  {
   "cell_type": "code",
   "execution_count": 113,
   "metadata": {},
   "outputs": [
    {
     "name": "stdout",
     "output_type": "stream",
     "text": [
      "['abc', 'xyz', 'mno']\n"
     ]
    }
   ],
   "source": [
    "s = 'abc@xyz@mno'\n",
    "# ind = s.index('@')\n",
    "# print(ind)\n",
    "# s[:ind]\n",
    "\n",
    "# print(-len(s)+ind)\n",
    "print(s.split('@'))\n",
    "\n",
    "\n"
   ]
  },
  {
   "cell_type": "code",
   "execution_count": 111,
   "metadata": {},
   "outputs": [
    {
     "name": "stdout",
     "output_type": "stream",
     "text": [
      "10\n"
     ]
    }
   ],
   "source": [
    "# Assignment Operator\n",
    "a=10\n",
    "print(a)"
   ]
  },
  {
   "cell_type": "code",
   "execution_count": null,
   "metadata": {},
   "outputs": [],
   "source": []
  },
  {
   "cell_type": "code",
   "execution_count": null,
   "metadata": {},
   "outputs": [],
   "source": []
  },
  {
   "cell_type": "code",
   "execution_count": null,
   "metadata": {},
   "outputs": [],
   "source": []
  },
  {
   "cell_type": "code",
   "execution_count": null,
   "metadata": {},
   "outputs": [],
   "source": []
  },
  {
   "cell_type": "code",
   "execution_count": null,
   "metadata": {},
   "outputs": [],
   "source": []
  },
  {
   "cell_type": "code",
   "execution_count": null,
   "metadata": {},
   "outputs": [],
   "source": []
  },
  {
   "cell_type": "code",
   "execution_count": null,
   "metadata": {},
   "outputs": [],
   "source": []
  },
  {
   "cell_type": "code",
   "execution_count": null,
   "metadata": {},
   "outputs": [],
   "source": []
  },
  {
   "cell_type": "code",
   "execution_count": null,
   "metadata": {},
   "outputs": [],
   "source": []
  },
  {
   "cell_type": "code",
   "execution_count": null,
   "metadata": {},
   "outputs": [],
   "source": []
  },
  {
   "cell_type": "code",
   "execution_count": null,
   "metadata": {},
   "outputs": [],
   "source": []
  },
  {
   "cell_type": "code",
   "execution_count": null,
   "metadata": {},
   "outputs": [],
   "source": []
  },
  {
   "cell_type": "code",
   "execution_count": null,
   "metadata": {},
   "outputs": [],
   "source": []
  },
  {
   "cell_type": "code",
   "execution_count": null,
   "metadata": {},
   "outputs": [],
   "source": []
  },
  {
   "cell_type": "code",
   "execution_count": null,
   "metadata": {},
   "outputs": [],
   "source": []
  },
  {
   "cell_type": "code",
   "execution_count": null,
   "metadata": {},
   "outputs": [],
   "source": []
  },
  {
   "cell_type": "code",
   "execution_count": null,
   "metadata": {},
   "outputs": [],
   "source": []
  }
 ],
 "metadata": {
  "kernelspec": {
   "display_name": "Python 3",
   "language": "python",
   "name": "python3"
  },
  "language_info": {
   "codemirror_mode": {
    "name": "ipython",
    "version": 3
   },
   "file_extension": ".py",
   "mimetype": "text/x-python",
   "name": "python",
   "nbconvert_exporter": "python",
   "pygments_lexer": "ipython3",
   "version": "3.7.3"
  }
 },
 "nbformat": 4,
 "nbformat_minor": 2
}
