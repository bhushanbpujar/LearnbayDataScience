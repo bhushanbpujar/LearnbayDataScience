{
 "cells": [
  {
   "cell_type": "markdown",
   "metadata": {},
   "source": [
    "# Functions in Python\n",
    "    Function in Python - Introduction \n",
    "    Why we need functions?\n",
    "    How to define functions?\n",
    "    Calling function\n",
    "    return statements in Python \n",
    "    Types of arguments in Python \n",
    "    Scope vs Namespace \n",
    "    Anonymous function - lambda filter, map and reduce function \n",
    "    Iterators & Generators \n",
    "    Modules in Python\n",
    "    Importing module in Python\n",
    "    Built-in Modules vs User defined modules \n",
    "    Use of if __name__ == '__main__'"
   ]
  },
  {
   "cell_type": "code",
   "execution_count": 7,
   "metadata": {},
   "outputs": [
    {
     "name": "stdout",
     "output_type": "stream",
     "text": [
      "Enter first Number: 100\n",
      "Enter Second Number: 200\n",
      "300\n"
     ]
    }
   ],
   "source": [
    "add()"
   ]
  },
  {
   "cell_type": "code",
   "execution_count": 4,
   "metadata": {},
   "outputs": [],
   "source": [
    "# Function definition\n",
    "\n",
    "def add():\n",
    "    a = int(input('Enter first Number: '))\n",
    "    b = int(input('Enter Second Number: '))\n",
    "    print(a+b)"
   ]
  },
  {
   "cell_type": "code",
   "execution_count": 5,
   "metadata": {},
   "outputs": [
    {
     "name": "stdout",
     "output_type": "stream",
     "text": [
      "Enter first Number: 10\n",
      "Enter Second Number: 20\n",
      "30\n"
     ]
    }
   ],
   "source": [
    "# Function call\n",
    "add()"
   ]
  },
  {
   "cell_type": "code",
   "execution_count": 6,
   "metadata": {},
   "outputs": [
    {
     "name": "stdout",
     "output_type": "stream",
     "text": [
      "Enter first Number: 100\n",
      "Enter Second Number: 200\n",
      "300\n"
     ]
    }
   ],
   "source": [
    "add()"
   ]
  },
  {
   "cell_type": "code",
   "execution_count": 16,
   "metadata": {},
   "outputs": [],
   "source": [
    "# Return statement - ooutput to the function\n",
    "# Defaut return value is None if you do not return anything\n",
    "emp_dict = {}\n",
    "def emp_details():\n",
    "    \"\"\"my Function\"\"\"\n",
    "    emp_name = input('Enter your name: ')\n",
    "    emp_id = input('Enter your id: ')\n",
    "    emp_sal = input('Enter your salary: ')\n",
    "    emp_dict[emp_id] = {'emp_name':emp_name, 'emp_sal':emp_sal}\n",
    "    return emp_dict\n",
    "    \n"
   ]
  },
  {
   "cell_type": "code",
   "execution_count": 9,
   "metadata": {},
   "outputs": [
    {
     "name": "stdout",
     "output_type": "stream",
     "text": [
      "Enter your name: ABC\n",
      "Enter your id: 101\n",
      "Enter your salary: 10000\n",
      "{'101': {'emp_name': 'ABC', 'emp_sal': '10000'}}\n"
     ]
    }
   ],
   "source": [
    "print(emp_details())"
   ]
  },
  {
   "cell_type": "code",
   "execution_count": 10,
   "metadata": {},
   "outputs": [
    {
     "name": "stdout",
     "output_type": "stream",
     "text": [
      "Enter your name: XYZ\n",
      "Enter your id: 102\n",
      "Enter your salary: 20000\n",
      "{'101': {'emp_name': 'ABC', 'emp_sal': '10000'}, '102': {'emp_name': 'XYZ', 'emp_sal': '20000'}}\n"
     ]
    }
   ],
   "source": [
    "print(emp_details())"
   ]
  },
  {
   "cell_type": "code",
   "execution_count": 11,
   "metadata": {},
   "outputs": [
    {
     "name": "stdout",
     "output_type": "stream",
     "text": [
      "Enter your name: MNO\n",
      "Enter your id: 103\n",
      "Enter your salary: 30000\n"
     ]
    }
   ],
   "source": [
    "d = emp_details()"
   ]
  },
  {
   "cell_type": "code",
   "execution_count": 13,
   "metadata": {},
   "outputs": [],
   "source": [
    "d['103']['emp_sal'] = 25000"
   ]
  },
  {
   "cell_type": "code",
   "execution_count": 14,
   "metadata": {},
   "outputs": [
    {
     "data": {
      "text/plain": [
       "{'101': {'emp_name': 'ABC', 'emp_sal': '10000'},\n",
       " '102': {'emp_name': 'XYZ', 'emp_sal': '20000'},\n",
       " '103': {'emp_name': 'MNO', 'emp_sal': 25000}}"
      ]
     },
     "execution_count": 14,
     "metadata": {},
     "output_type": "execute_result"
    }
   ],
   "source": [
    "d"
   ]
  },
  {
   "cell_type": "code",
   "execution_count": 17,
   "metadata": {},
   "outputs": [
    {
     "data": {
      "text/plain": [
       "'my Function'"
      ]
     },
     "execution_count": 17,
     "metadata": {},
     "output_type": "execute_result"
    }
   ],
   "source": [
    "emp_details.__doc__"
   ]
  },
  {
   "cell_type": "code",
   "execution_count": 20,
   "metadata": {},
   "outputs": [],
   "source": [
    "# print(dir(emp_details))"
   ]
  },
  {
   "cell_type": "code",
   "execution_count": 21,
   "metadata": {},
   "outputs": [
    {
     "name": "stdout",
     "output_type": "stream",
     "text": [
      "Enter your name: 11\n",
      "Enter your id: 22\n",
      "Enter your salary: 10000\n"
     ]
    },
    {
     "data": {
      "text/plain": [
       "dict"
      ]
     },
     "execution_count": 21,
     "metadata": {},
     "output_type": "execute_result"
    }
   ],
   "source": [
    "type(emp_details())"
   ]
  },
  {
   "cell_type": "code",
   "execution_count": 22,
   "metadata": {},
   "outputs": [],
   "source": [
    "emp_dict = {}\n",
    "def emp_details():\n",
    "    \"\"\"my Function\"\"\"\n",
    "    emp_name = input('Enter your name: ')\n",
    "    emp_id = input('Enter your id: ')\n",
    "    emp_sal = input('Enter your salary: ')\n",
    "    emp_dict[emp_id] = {'emp_name':emp_name, 'emp_sal':emp_sal}\n"
   ]
  },
  {
   "cell_type": "code",
   "execution_count": 23,
   "metadata": {},
   "outputs": [
    {
     "name": "stdout",
     "output_type": "stream",
     "text": [
      "Enter your name: Abh\n",
      "Enter your id: 105\n",
      "Enter your salary: 9876\n",
      "None\n"
     ]
    }
   ],
   "source": [
    "print(emp_details())"
   ]
  },
  {
   "cell_type": "code",
   "execution_count": 26,
   "metadata": {},
   "outputs": [],
   "source": [
    "# Type of arguments in Python - input to the function\n",
    "#     Positional Argument\n",
    "#     Default arguments\n",
    "#     Keyworded argument\n",
    "#     Variable length argument - *args\n",
    "#     Variable length keyworded argument - **kwargs\n",
    "\n",
    "emp_dict = {}\n",
    "def emp_details(emp_name, emp_id, emp_sal):                    # Positional Arguments\n",
    "    \"\"\"my Function\"\"\"\n",
    "    emp_dict[emp_id] = {'emp_name':emp_name, 'emp_sal':emp_sal}\n",
    "    return emp_dict\n",
    "\n"
   ]
  },
  {
   "cell_type": "code",
   "execution_count": 29,
   "metadata": {},
   "outputs": [
    {
     "data": {
      "text/plain": [
       "{101: {'emp_name': 'ABC', 'emp_sal': 10000},\n",
       " 'ABC': {'emp_name': 101, 'emp_sal': 10000}}"
      ]
     },
     "execution_count": 29,
     "metadata": {},
     "output_type": "execute_result"
    }
   ],
   "source": [
    "emp_details(101,'ABC', 10000)\n"
   ]
  },
  {
   "cell_type": "code",
   "execution_count": 30,
   "metadata": {},
   "outputs": [
    {
     "name": "stdout",
     "output_type": "stream",
     "text": [
      "Enter your name: abc\n",
      "Enter your id: 103\n",
      "Enter your salary: 30000\n"
     ]
    },
    {
     "data": {
      "text/plain": [
       "{101: {'emp_name': 'ABC', 'emp_sal': 10000},\n",
       " 'ABC': {'emp_name': 101, 'emp_sal': 10000},\n",
       " '103': {'emp_name': 'abc', 'emp_sal': '30000'}}"
      ]
     },
     "execution_count": 30,
     "metadata": {},
     "output_type": "execute_result"
    }
   ],
   "source": [
    "e_name = input('Enter your name: ')\n",
    "e_id = input('Enter your id: ')\n",
    "e_sal = input('Enter your salary: ')\n",
    "emp_details(e_name,e_id,e_sal)"
   ]
  },
  {
   "cell_type": "code",
   "execution_count": 31,
   "metadata": {},
   "outputs": [],
   "source": [
    "# Default arguments\n",
    "emp_dict = {}\n",
    "def emp_details(emp_name, emp_id, emp_sal, emp_pan = 'XXXXX0000X'):                    # Default\n",
    "    \"\"\"my Function\"\"\"\n",
    "    emp_dict[emp_id] = {'emp_name':emp_name, 'emp_sal':emp_sal, 'emp_pan':emp_pan}\n",
    "    return emp_dict\n",
    "\n",
    "\n"
   ]
  },
  {
   "cell_type": "code",
   "execution_count": 32,
   "metadata": {},
   "outputs": [
    {
     "name": "stdout",
     "output_type": "stream",
     "text": [
      "{101: {'emp_name': 'ABC', 'emp_sal': 10000, 'emp_pan': 'XXXXX0000X'}}\n"
     ]
    }
   ],
   "source": [
    "print(emp_details('ABC', 101, 10000))"
   ]
  },
  {
   "cell_type": "code",
   "execution_count": 33,
   "metadata": {},
   "outputs": [
    {
     "name": "stdout",
     "output_type": "stream",
     "text": [
      "{101: {'emp_name': 'ABC', 'emp_sal': 10000, 'emp_pan': 'XXXXX0000X'}, 102: {'emp_name': 'XYZ', 'emp_sal': 20000, 'emp_pan': 'ABCDE9876M'}}\n"
     ]
    }
   ],
   "source": [
    "print(emp_details('XYZ', 102, 20000, 'ABCDE9876M'))"
   ]
  },
  {
   "cell_type": "code",
   "execution_count": 38,
   "metadata": {},
   "outputs": [],
   "source": [
    "def circle(r, pi = 3.14):\n",
    "    area = pi*r*r\n",
    "    per = 2*pi*r\n",
    "    return area,per\n",
    "\n",
    "# Note - Default argument should always be written after positional argument"
   ]
  },
  {
   "cell_type": "code",
   "execution_count": 44,
   "metadata": {},
   "outputs": [
    {
     "data": {
      "text/plain": [
       "50.24"
      ]
     },
     "execution_count": 44,
     "metadata": {},
     "output_type": "execute_result"
    }
   ],
   "source": [
    "circle(4)"
   ]
  },
  {
   "cell_type": "code",
   "execution_count": 43,
   "metadata": {},
   "outputs": [],
   "source": [
    "def circle(a):\n",
    "    area = 3.14*a*a\n",
    "    per = 2*3.14*a\n",
    "    return area"
   ]
  },
  {
   "cell_type": "code",
   "execution_count": 45,
   "metadata": {},
   "outputs": [
    {
     "data": {
      "text/plain": [
       "78.5"
      ]
     },
     "execution_count": 45,
     "metadata": {},
     "output_type": "execute_result"
    }
   ],
   "source": [
    "circle(5)"
   ]
  },
  {
   "cell_type": "code",
   "execution_count": 46,
   "metadata": {},
   "outputs": [
    {
     "name": "stdout",
     "output_type": "stream",
     "text": [
      "10\n"
     ]
    }
   ],
   "source": [
    "a = 10\n",
    "print(a)"
   ]
  },
  {
   "cell_type": "code",
   "execution_count": 47,
   "metadata": {},
   "outputs": [
    {
     "name": "stdout",
     "output_type": "stream",
     "text": [
      "20\n"
     ]
    }
   ],
   "source": [
    "a = 20\n",
    "print(a)"
   ]
  },
  {
   "cell_type": "code",
   "execution_count": 48,
   "metadata": {},
   "outputs": [],
   "source": [
    "# Keyworded Argument\n",
    "emp_dict = {}\n",
    "def emp_details(emp_name, emp_id, emp_pan, emp_sal = 0):                    \n",
    "    \"\"\"my Function\"\"\"\n",
    "    emp_dict[emp_id] = {'emp_name':emp_name, 'emp_sal':emp_sal, 'emp_pan':emp_pan}\n",
    "    return emp_dict"
   ]
  },
  {
   "cell_type": "code",
   "execution_count": 49,
   "metadata": {},
   "outputs": [
    {
     "data": {
      "text/plain": [
       "{101: {'emp_name': 'ABC', 'emp_sal': 10000, 'emp_pan': 'XXXXX0000X'}}"
      ]
     },
     "execution_count": 49,
     "metadata": {},
     "output_type": "execute_result"
    }
   ],
   "source": [
    "emp_details('ABC', 101, 10000,'XXXXX0000X')"
   ]
  },
  {
   "cell_type": "code",
   "execution_count": 50,
   "metadata": {},
   "outputs": [
    {
     "data": {
      "text/plain": [
       "{101: {'emp_name': 'ABC', 'emp_sal': 10000, 'emp_pan': 'XXXXX0000X'},\n",
       " 102: {'emp_name': 'XYZ', 'emp_sal': 20000, 'emp_pan': 'XXXXX0000X'}}"
      ]
     },
     "execution_count": 50,
     "metadata": {},
     "output_type": "execute_result"
    }
   ],
   "source": [
    "emp_details(emp_name='XYZ', emp_id=102, emp_sal=20000, emp_pan = 'XXXXX0000X')"
   ]
  },
  {
   "cell_type": "code",
   "execution_count": 51,
   "metadata": {},
   "outputs": [
    {
     "data": {
      "text/plain": [
       "{101: {'emp_name': 'ABC', 'emp_sal': 10000, 'emp_pan': 'XXXXX0000X'},\n",
       " 102: {'emp_name': 'XYZ', 'emp_sal': 20000, 'emp_pan': 'XXXXX0000X'},\n",
       " 103: {'emp_name': 'MNO', 'emp_sal': 20000, 'emp_pan': 'XXXXX0000X'}}"
      ]
     },
     "execution_count": 51,
     "metadata": {},
     "output_type": "execute_result"
    }
   ],
   "source": [
    "emp_details('MNO', 103, emp_pan = 'XXXXX0000X', emp_sal=20000)"
   ]
  },
  {
   "cell_type": "code",
   "execution_count": 53,
   "metadata": {},
   "outputs": [
    {
     "data": {
      "text/plain": [
       "10"
      ]
     },
     "execution_count": 53,
     "metadata": {},
     "output_type": "execute_result"
    }
   ],
   "source": [
    "# Variable Length Arguments - *args, **kwargs\n",
    "\n",
    "def sum_total(a,b=0,c=0):\n",
    "    return a+b+c\n",
    "\n",
    "\n",
    "\n",
    "\n",
    "\n",
    "\n",
    "\n",
    "\n",
    "\n",
    "\n"
   ]
  },
  {
   "cell_type": "code",
   "execution_count": 54,
   "metadata": {},
   "outputs": [
    {
     "data": {
      "text/plain": [
       "60"
      ]
     },
     "execution_count": 54,
     "metadata": {},
     "output_type": "execute_result"
    }
   ],
   "source": [
    "sum_total(10,20,30)"
   ]
  },
  {
   "cell_type": "code",
   "execution_count": 55,
   "metadata": {},
   "outputs": [
    {
     "data": {
      "text/plain": [
       "30"
      ]
     },
     "execution_count": 55,
     "metadata": {},
     "output_type": "execute_result"
    }
   ],
   "source": [
    "sum_total(10,20)"
   ]
  },
  {
   "cell_type": "code",
   "execution_count": 56,
   "metadata": {},
   "outputs": [
    {
     "data": {
      "text/plain": [
       "10"
      ]
     },
     "execution_count": 56,
     "metadata": {},
     "output_type": "execute_result"
    }
   ],
   "source": [
    "sum_total(10)"
   ]
  },
  {
   "cell_type": "code",
   "execution_count": 61,
   "metadata": {},
   "outputs": [],
   "source": [
    "def sum_total(*args):\n",
    "    print(args, type(args))\n",
    "    total = 0\n",
    "    for i in args:\n",
    "        total += i\n",
    "    return total\n"
   ]
  },
  {
   "cell_type": "code",
   "execution_count": 62,
   "metadata": {},
   "outputs": [
    {
     "name": "stdout",
     "output_type": "stream",
     "text": [
      "(10,) <class 'tuple'>\n"
     ]
    },
    {
     "data": {
      "text/plain": [
       "10"
      ]
     },
     "execution_count": 62,
     "metadata": {},
     "output_type": "execute_result"
    }
   ],
   "source": [
    "sum_total(10)"
   ]
  },
  {
   "cell_type": "code",
   "execution_count": 63,
   "metadata": {},
   "outputs": [
    {
     "name": "stdout",
     "output_type": "stream",
     "text": [
      "(10, 20) <class 'tuple'>\n"
     ]
    },
    {
     "data": {
      "text/plain": [
       "30"
      ]
     },
     "execution_count": 63,
     "metadata": {},
     "output_type": "execute_result"
    }
   ],
   "source": [
    "sum_total(10,20)"
   ]
  },
  {
   "cell_type": "code",
   "execution_count": 64,
   "metadata": {},
   "outputs": [
    {
     "name": "stdout",
     "output_type": "stream",
     "text": [
      "(10, 20, 30) <class 'tuple'>\n"
     ]
    },
    {
     "data": {
      "text/plain": [
       "60"
      ]
     },
     "execution_count": 64,
     "metadata": {},
     "output_type": "execute_result"
    }
   ],
   "source": [
    "sum_total(10,20,30)"
   ]
  },
  {
   "cell_type": "code",
   "execution_count": 65,
   "metadata": {},
   "outputs": [
    {
     "name": "stdout",
     "output_type": "stream",
     "text": [
      "(10, 20, 30, 40) <class 'tuple'>\n"
     ]
    },
    {
     "data": {
      "text/plain": [
       "100"
      ]
     },
     "execution_count": 65,
     "metadata": {},
     "output_type": "execute_result"
    }
   ],
   "source": [
    "sum_total(10,20,30,40)"
   ]
  },
  {
   "cell_type": "code",
   "execution_count": 67,
   "metadata": {},
   "outputs": [],
   "source": [
    "def contact_info(name, email):\n",
    "    print('Name =', name)\n",
    "    print('Email =', email)\n",
    "    \n",
    "def address(**kwargs):\n",
    "    print(\"Street =\", kwargs['street'])\n",
    "    print(\"City =\", kwargs['city'])\n",
    "    print(\"State =\", kwargs['state'])\n",
    "    print(\"Pin =\", kwargs['state'])\n",
    "    print(kwargs, type(kwargs))\n",
    "    contact_info(kwargs['emp_name'], kwargs['emp_email'])"
   ]
  },
  {
   "cell_type": "code",
   "execution_count": 68,
   "metadata": {},
   "outputs": [
    {
     "name": "stdout",
     "output_type": "stream",
     "text": [
      "Street = 17\n",
      "City = Bangalore\n",
      "State = Karntataka\n",
      "Pin = 577121\n",
      "{'emp_name': 'ABC', 'emp_email': 'abc@gmail.com'} <class 'dict'>\n",
      "Name = ABC\n",
      "Email = abc@gmail.com\n"
     ]
    }
   ],
   "source": [
    "address(17, 'Bangalore', 'Karntataka', 577121, emp_name = 'ABC', emp_email = 'abc@gmail.com')"
   ]
  },
  {
   "cell_type": "code",
   "execution_count": 70,
   "metadata": {},
   "outputs": [
    {
     "name": "stdout",
     "output_type": "stream",
     "text": [
      "Street = 17\n",
      "City = Bangalore\n",
      "State = Karntataka\n",
      "Pin = 577121\n",
      "{'emp_name': 'ABC', 'emp_email': 'abc@gmail.com'} <class 'dict'>\n",
      "Name = ABC\n",
      "Email = abc@gmail.com\n"
     ]
    }
   ],
   "source": [
    "address(street=17, city='Bangalore', state='Karntataka', pin=577121, emp_name = 'ABC', emp_email = 'abc@gmail.com')"
   ]
  },
  {
   "cell_type": "code",
   "execution_count": 1,
   "metadata": {},
   "outputs": [
    {
     "name": "stdout",
     "output_type": "stream",
     "text": [
      "In global 10\n",
      "Inside f2 111\n",
      "Inside f1 11\n"
     ]
    },
    {
     "ename": "NameError",
     "evalue": "name 'f2' is not defined",
     "output_type": "error",
     "traceback": [
      "\u001b[0;31m---------------------------------------------------------------------------\u001b[0m",
      "\u001b[0;31mNameError\u001b[0m                                 Traceback (most recent call last)",
      "\u001b[0;32m<ipython-input-1-fb707b395262>\u001b[0m in \u001b[0;36m<module>\u001b[0;34m\u001b[0m\n\u001b[1;32m     19\u001b[0m \u001b[0mprint\u001b[0m\u001b[0;34m(\u001b[0m\u001b[0;34m'In global'\u001b[0m\u001b[0;34m,\u001b[0m\u001b[0ma\u001b[0m\u001b[0;34m)\u001b[0m\u001b[0;34m\u001b[0m\u001b[0;34m\u001b[0m\u001b[0m\n\u001b[1;32m     20\u001b[0m \u001b[0mf1\u001b[0m\u001b[0;34m(\u001b[0m\u001b[0;34m)\u001b[0m\u001b[0;34m\u001b[0m\u001b[0;34m\u001b[0m\u001b[0m\n\u001b[0;32m---> 21\u001b[0;31m \u001b[0mf2\u001b[0m\u001b[0;34m(\u001b[0m\u001b[0;34m)\u001b[0m\u001b[0;34m\u001b[0m\u001b[0;34m\u001b[0m\u001b[0m\n\u001b[0m\u001b[1;32m     22\u001b[0m \u001b[0;34m\u001b[0m\u001b[0m\n\u001b[1;32m     23\u001b[0m \u001b[0;34m\u001b[0m\u001b[0m\n",
      "\u001b[0;31mNameError\u001b[0m: name 'f2' is not defined"
     ]
    }
   ],
   "source": [
    "# Scope & NameSpace\n",
    "\n",
    "# NameSpace - Builtin - Global - Extended - Local\n",
    "\n",
    "# Scope - Rule - Builtin - Global - Extended - Local\n",
    "\n",
    "# print(x)\n",
    "\n",
    "\n",
    "a = 10               # Global\n",
    "def f1():            \n",
    "    a = 11           # Extended\n",
    "    def f2():        \n",
    "        a = 111      # local\n",
    "        print('Inside f2',a)\n",
    "    f2()\n",
    "    print('Inside f1',a)\n",
    "    \n",
    "print('In global',a)\n",
    "f1()\n",
    "# f2()\n",
    "\n",
    "\n",
    "\n",
    "\n",
    "\n"
   ]
  },
  {
   "cell_type": "code",
   "execution_count": 73,
   "metadata": {},
   "outputs": [],
   "source": [
    "# print = 10"
   ]
  },
  {
   "cell_type": "code",
   "execution_count": 74,
   "metadata": {},
   "outputs": [
    {
     "ename": "TypeError",
     "evalue": "'int' object is not callable",
     "output_type": "error",
     "traceback": [
      "\u001b[0;31m---------------------------------------------------------------------------\u001b[0m",
      "\u001b[0;31mTypeError\u001b[0m                                 Traceback (most recent call last)",
      "\u001b[0;32m<ipython-input-74-355b70c05717>\u001b[0m in \u001b[0;36m<module>\u001b[0;34m\u001b[0m\n\u001b[0;32m----> 1\u001b[0;31m \u001b[0mprint\u001b[0m\u001b[0;34m(\u001b[0m\u001b[0;36m10\u001b[0m\u001b[0;34m)\u001b[0m\u001b[0;34m\u001b[0m\u001b[0;34m\u001b[0m\u001b[0m\n\u001b[0m",
      "\u001b[0;31mTypeError\u001b[0m: 'int' object is not callable"
     ]
    }
   ],
   "source": [
    "# print(10)"
   ]
  },
  {
   "cell_type": "markdown",
   "metadata": {},
   "source": [
    "# Anonymous function - lambda, filter, map and reduce function "
   ]
  },
  {
   "cell_type": "code",
   "execution_count": 4,
   "metadata": {},
   "outputs": [
    {
     "name": "stdout",
     "output_type": "stream",
     "text": [
      "9\n"
     ]
    }
   ],
   "source": [
    "# lambda\n",
    "# lambda var1, var2, var3...:expr\n",
    "# return value is expr\n",
    "\n",
    "# a = lambda num:num**2\n",
    "# print(a(3))\n",
    "\n",
    "\n",
    "\n",
    "\n"
   ]
  },
  {
   "cell_type": "code",
   "execution_count": 20,
   "metadata": {},
   "outputs": [
    {
     "data": {
      "text/plain": [
       "1040"
      ]
     },
     "execution_count": 20,
     "metadata": {},
     "output_type": "execute_result"
    }
   ],
   "source": [
    "# filter(func, seq) => It filters a seq based on function\n",
    "\n",
    "seq = [10,11,12,13,14,15,16,17,18,19]\n",
    "# list(filter(lambda num:num%2 == 0, seq))\n",
    "\n",
    "# list(map(lambda num:num**2, seq))\n",
    "\n",
    "\n",
    "lst_id = [101,1020,103,1040]\n",
    "# dict(zip(lst_id,list(map(lambda id:input('Enter the name with id '+ str(id)), [101,102,103,104]))))\n",
    "\n",
    "# reduce - aggregate(sum, prod, max, min) - functools\n",
    "\n",
    "# from functools import reduce\n",
    "# reduce(lambda x,y:x+y, lst_id)\n",
    "\n",
    "# reduce(lambda x,y:x if x>y else y, lst_id)\n",
    "\n",
    "\n"
   ]
  },
  {
   "cell_type": "code",
   "execution_count": 9,
   "metadata": {},
   "outputs": [
    {
     "data": {
      "text/plain": [
       "[10, 12, 14, 16, 18]"
      ]
     },
     "execution_count": 9,
     "metadata": {},
     "output_type": "execute_result"
    }
   ],
   "source": [
    "def is_even(num):\n",
    "    return True if num%2 == 0 else False\n",
    "    \n",
    "# filter(is_eve, seq) = [10, 12, 14, 16, 18]\n",
    "\n",
    "lst = []\n",
    "def my_filter(fun, seq):\n",
    "    for i in seq:\n",
    "        if fun(i) == True:\n",
    "            lst.append(i)\n",
    "    return lst\n",
    "my_filter(is_even, seq)"
   ]
  },
  {
   "cell_type": "markdown",
   "metadata": {},
   "source": [
    "# Modules in Python\n",
    "# Importing module in Python\n",
    "# Built-in Modules vs User defined modules \n",
    "# Use of if __name__ == '__main__'"
   ]
  },
  {
   "cell_type": "code",
   "execution_count": null,
   "metadata": {},
   "outputs": [],
   "source": [
    "import mod_name\n",
    "\n",
    "mod_name.fun()"
   ]
  },
  {
   "cell_type": "code",
   "execution_count": null,
   "metadata": {},
   "outputs": [],
   "source": [
    "import mod_name as m\n",
    "m.fun()"
   ]
  },
  {
   "cell_type": "code",
   "execution_count": null,
   "metadata": {},
   "outputs": [],
   "source": [
    "import mod_name1, mod_name2, mod_name3\n",
    "mod_name1.fun()\n",
    "mod_name2.fun()\n",
    "mod_name3.fun()"
   ]
  },
  {
   "cell_type": "code",
   "execution_count": null,
   "metadata": {},
   "outputs": [],
   "source": [
    "import mod_name1 as m1, mod_name2 as m2, mod_name3 as m3\n",
    "m1.fun()\n",
    "m2.fun()\n",
    "m3.fun()"
   ]
  },
  {
   "cell_type": "code",
   "execution_count": null,
   "metadata": {},
   "outputs": [],
   "source": [
    "from mod_name1 import fun1, fun2, fun3\n",
    "fun1()\n",
    "fun2()\n",
    "fun3()"
   ]
  },
  {
   "cell_type": "code",
   "execution_count": null,
   "metadata": {},
   "outputs": [],
   "source": [
    "from mod_name1 import fun\n",
    "fun()"
   ]
  },
  {
   "cell_type": "code",
   "execution_count": 1,
   "metadata": {},
   "outputs": [],
   "source": [
    "import mod_1"
   ]
  },
  {
   "cell_type": "code",
   "execution_count": 5,
   "metadata": {},
   "outputs": [
    {
     "data": {
      "text/plain": [
       "{101: {'emp_name': 'ABC', 'emp_sal': 10000, 'emp_pan': 'XXXX'}}"
      ]
     },
     "execution_count": 5,
     "metadata": {},
     "output_type": "execute_result"
    }
   ],
   "source": [
    "mod_1.emp_details('ABC', 101, 'XXXX', 10000)"
   ]
  },
  {
   "cell_type": "code",
   "execution_count": 2,
   "metadata": {},
   "outputs": [
    {
     "data": {
      "text/plain": [
       "111"
      ]
     },
     "execution_count": 2,
     "metadata": {},
     "output_type": "execute_result"
    }
   ],
   "source": [
    "mod_1.x"
   ]
  },
  {
   "cell_type": "markdown",
   "metadata": {},
   "source": [
    "# File Handling in Python\n",
    "    File Handling in Python\n",
    "    Types of files in Python\n",
    "    Why file handling is required in Python? \n",
    "    open() & close() function\n",
    "    Different modes in File Handling\n",
    "    seek() and tell() methods\n",
    "    Functions to read and write"
   ]
  },
  {
   "cell_type": "code",
   "execution_count": 15,
   "metadata": {},
   "outputs": [
    {
     "name": "stdout",
     "output_type": "stream",
     "text": [
      "['Thisa', ' is', ' Python class']\n"
     ]
    },
    {
     "data": {
      "text/plain": [
       "['This a', ' is', ' Python class']"
      ]
     },
     "execution_count": 15,
     "metadata": {},
     "output_type": "execute_result"
    }
   ],
   "source": [
    "#Write a python program to find below output using loop:-\n",
    "\n",
    "#Input:- 'This is Python class', sep = ' is', \n",
    "#Output:- ['This', 'is', 'Python class']\n",
    "\n",
    "my_str = 'This a is Python class'\n",
    "out_lst = []\n",
    "out_str = ''\n",
    "sep = ' is'\n",
    "lst_str = ''\n",
    "j = 0\n",
    "for i in range(len(my_str)):\n",
    "    if my_str[i] == sep[j]:\n",
    "        out_str += my_str[i]\n",
    "        j += 1\n",
    "        if out_str == sep:\n",
    "            out_lst.append(lst_str)\n",
    "            out_lst.append(out_str)\n",
    "            out_lst.append(my_str[(my_str.index(out_str)+3):])\n",
    "            break\n",
    "    else:\n",
    "        lst_str += my_str[i]\n",
    "        out_str = ''\n",
    "        j = 0\n",
    "print(out_lst)\n",
    "\n",
    "# [my_str[:my_str.index(' is')],sep ,my_str[(my_str.index(' is')+3):]]\n",
    "\n",
    "\n"
   ]
  },
  {
   "cell_type": "code",
   "execution_count": null,
   "metadata": {},
   "outputs": [],
   "source": []
  },
  {
   "cell_type": "code",
   "execution_count": null,
   "metadata": {},
   "outputs": [],
   "source": []
  },
  {
   "cell_type": "code",
   "execution_count": null,
   "metadata": {},
   "outputs": [],
   "source": []
  },
  {
   "cell_type": "code",
   "execution_count": null,
   "metadata": {},
   "outputs": [],
   "source": []
  },
  {
   "cell_type": "code",
   "execution_count": null,
   "metadata": {},
   "outputs": [],
   "source": []
  },
  {
   "cell_type": "code",
   "execution_count": null,
   "metadata": {},
   "outputs": [],
   "source": []
  },
  {
   "cell_type": "code",
   "execution_count": null,
   "metadata": {},
   "outputs": [],
   "source": []
  },
  {
   "cell_type": "code",
   "execution_count": null,
   "metadata": {},
   "outputs": [],
   "source": []
  },
  {
   "cell_type": "code",
   "execution_count": null,
   "metadata": {},
   "outputs": [],
   "source": []
  },
  {
   "cell_type": "code",
   "execution_count": null,
   "metadata": {},
   "outputs": [],
   "source": []
  },
  {
   "cell_type": "code",
   "execution_count": null,
   "metadata": {},
   "outputs": [],
   "source": []
  },
  {
   "cell_type": "code",
   "execution_count": null,
   "metadata": {},
   "outputs": [],
   "source": []
  },
  {
   "cell_type": "code",
   "execution_count": null,
   "metadata": {},
   "outputs": [],
   "source": []
  },
  {
   "cell_type": "code",
   "execution_count": null,
   "metadata": {},
   "outputs": [],
   "source": []
  },
  {
   "cell_type": "code",
   "execution_count": null,
   "metadata": {},
   "outputs": [],
   "source": []
  },
  {
   "cell_type": "code",
   "execution_count": null,
   "metadata": {},
   "outputs": [],
   "source": []
  },
  {
   "cell_type": "code",
   "execution_count": null,
   "metadata": {},
   "outputs": [],
   "source": []
  }
 ],
 "metadata": {
  "kernelspec": {
   "display_name": "Python 3",
   "language": "python",
   "name": "python3"
  },
  "language_info": {
   "codemirror_mode": {
    "name": "ipython",
    "version": 3
   },
   "file_extension": ".py",
   "mimetype": "text/x-python",
   "name": "python",
   "nbconvert_exporter": "python",
   "pygments_lexer": "ipython3",
   "version": "3.7.3"
  }
 },
 "nbformat": 4,
 "nbformat_minor": 2
}
