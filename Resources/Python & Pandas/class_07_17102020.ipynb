{
 "cells": [
  {
   "cell_type": "markdown",
   "metadata": {},
   "source": [
    "# While Loop in Python"
   ]
  },
  {
   "cell_type": "code",
   "execution_count": 1,
   "metadata": {},
   "outputs": [],
   "source": [
    "# If you want to execute the code till a condition is evaluated False.\n",
    "\n",
    "# while condition/Expression:\n",
    "#     code1\n",
    "#     code2\n",
    "#     code3\n",
    "#     code4\n",
    "# code5\n",
    "# code6\n",
    "# code7\n",
    "\n",
    "# Infinite Loop\n",
    "# while True:\n",
    "#     code1\n",
    "#     code2\n",
    "#     code3\n",
    "#     code4\n",
    "\n",
    "# while not \"\":\n",
    "#     print('Hi')\n",
    "\n",
    "# while not 0:\n",
    "#     print('Hi')\n",
    "\n",
    "# while not None:\n",
    "#     print('Hi')\n",
    "\n",
    "\n",
    "# While - else\n",
    "# else will be executed if condition inside while is False\n",
    "# i = 0\n",
    "# while i <= 3:\n",
    "#     print(i)\n",
    "#     i += 1\n",
    "# else:\n",
    "#     print('Execution Done and condition is False')\n",
    "\n",
    "\n",
    "# Print the numbers from 0 - 10 in formward and backward direction both using while loop\n",
    "# i = 0\n",
    "# while i <= 10:\n",
    "#     print(i, end = ' ')\n",
    "#     i += 1\n",
    "\n",
    "# i = 10\n",
    "# while i >= 0:\n",
    "#     print(i)\n",
    "#     i -= 1\n",
    "\n",
    "# my_str = 'Python'\n",
    "# ind = 0\n",
    "# while ind < len(my_str):\n",
    "#     print(my_str[ind] * (ind+1))\n",
    "#     ind += 1\n",
    "\n",
    "# ttt\n",
    "# hhhh\n",
    "\n"
   ]
  },
  {
   "cell_type": "code",
   "execution_count": 2,
   "metadata": {},
   "outputs": [
    {
     "data": {
      "text/plain": [
       "False"
      ]
     },
     "execution_count": 2,
     "metadata": {},
     "output_type": "execute_result"
    }
   ],
   "source": [
    "bool(None)"
   ]
  },
  {
   "cell_type": "code",
   "execution_count": 3,
   "metadata": {},
   "outputs": [],
   "source": [
    "# While Loop with Multi conditions\n",
    "# i = 10\n",
    "# j = 20\n",
    "# while i < 15 or j < 25:\n",
    "#     print(i,j)\n",
    "#     i += 1\n",
    "#     j += 1\n",
    "\n",
    "# While loop with Membership operator\n",
    "# my_str = 'Python'\n",
    "# ind = 0\n",
    "# for i in my_str:\n",
    "#     while ind < len(my_str) and i in my_str:\n",
    "#         print(i)\n",
    "#         ind += 1\n",
    "#     ind = 0\n",
    "\n",
    "\n"
   ]
  },
  {
   "cell_type": "code",
   "execution_count": 4,
   "metadata": {},
   "outputs": [],
   "source": [
    "# 'Python'\n",
    "# (P, 0)\n",
    "# (y, 1)\n",
    "# (t, 2)\n",
    "# .\n",
    "# .\n",
    "# ."
   ]
  },
  {
   "cell_type": "code",
   "execution_count": 5,
   "metadata": {},
   "outputs": [],
   "source": [
    "# import pandas as pd\n",
    "# titanic = pd.read_csv('datasetTitanic.csv')\n",
    "# print(titanic['Fare'].isnull().sum())\n",
    "# print(len(titanic['Fare']))\n",
    "# titanic_fare = list(titanic['Fare'])\n",
    "# sum(titanic_fare)/len(titanic_fare)\n",
    "\n",
    "# Total_fare = 0\n",
    "# i = 0\n",
    "# while i < len(titanic_fare):\n",
    "#     Total_fare += titanic_fare[i]\n",
    "#     i += 1\n",
    "# else:\n",
    "#     print(f'The Average Fare was = {Total_fare/i}')\n",
    "\n",
    "# for i in titanic['Fare']:\n",
    "#     print(i)"
   ]
  },
  {
   "cell_type": "code",
   "execution_count": 6,
   "metadata": {},
   "outputs": [],
   "source": [
    "# import pandas as pd\n",
    "# titanic = pd.read_csv('/Users/vigneshkarthick/desktop/LB_dsc_oct_15_wkdy/datasetTitanic.csv')\n",
    "# titanic"
   ]
  },
  {
   "cell_type": "markdown",
   "metadata": {},
   "source": [
    "# break and continue"
   ]
  },
  {
   "cell_type": "code",
   "execution_count": 7,
   "metadata": {},
   "outputs": [
    {
     "name": "stdout",
     "output_type": "stream",
     "text": [
      "Total Passengers who paid less than 10 = 333\n",
      "Total avg fare who paid less than 10 =  7.5119480480480485\n"
     ]
    }
   ],
   "source": [
    "# Calculate the average for first 100 passengers\n",
    "\n",
    "\n",
    "import pandas as pd\n",
    "titanic = pd.read_csv('datasetTitanic.csv')\n",
    "titanic_fare = list(titanic['Fare'])\n",
    "count = 0\n",
    "Total_fare = 0\n",
    "\n",
    "# Finding average value for first 100 fare data\n",
    "# for i in titanic_fare:\n",
    "#     if count == 100:\n",
    "#         break\n",
    "#     else:\n",
    "#         Total_fare += i\n",
    "#         count += 1\n",
    "# print(Total_fare/count)\n",
    "# print(count)\n",
    "\n",
    "\n",
    "# Average fare of only those values which are leass than 10 and also get the count\n",
    "count = 0\n",
    "Total_Fare = 0\n",
    "for i in titanic_fare:\n",
    "    if i < 10:\n",
    "        count += 1\n",
    "        Total_Fare += i\n",
    "    else:\n",
    "        pass\n",
    "        \n",
    "\n",
    "    \n",
    "print('Total Passengers who paid less than 10 =', count)\n",
    "print('Total avg fare who paid less than 10 = ', (Total_Fare/count))\n",
    "\n",
    "\n",
    "# Break is used to come out of the loop\n",
    "# Continue is used to skip the current iteration\n",
    "# Pass is used only when you are not willing to write the implementation\n"
   ]
  },
  {
   "cell_type": "code",
   "execution_count": 9,
   "metadata": {},
   "outputs": [],
   "source": [
    "# func, class, cond, loop, try, except, finally,with:\n",
    "#     pass"
   ]
  },
  {
   "cell_type": "code",
   "execution_count": null,
   "metadata": {},
   "outputs": [],
   "source": [
    "def fun():\n",
    "    pass"
   ]
  },
  {
   "cell_type": "markdown",
   "metadata": {},
   "source": [
    "# Operators\n",
    "    - Arithmetic Operators\n",
    "    - Comparison Operator\n",
    "    - Equality Opertor\n",
    "    - Logical Operator\n",
    "    - Bitwise Operator\n",
    "    - Assignment Operator\n",
    "    - Compound assignment\n",
    "    - Identity Operator\n",
    "    - membership operator\n",
    "    - Operator Precedence\n",
    "    "
   ]
  },
  {
   "cell_type": "code",
   "execution_count": 17,
   "metadata": {},
   "outputs": [
    {
     "name": "stdout",
     "output_type": "stream",
     "text": [
      "True\n"
     ]
    }
   ],
   "source": [
    "# Membership operator - in,  not in\n",
    "# Retruns True if element is available inside the seq or mapping\n",
    "# Works only with seq or mapping\n",
    "\n",
    "# print('P' in 'Python')\n",
    "# print('P' not in 'Python')\n",
    "\n",
    "# print(10 in [10,20,30])\n",
    "# print('10' in [10,20,30])\n",
    "print(11 in [10,20,30,[1,2,3,11]][-1])\n",
    "\n",
    "# In dictionary it returns True if key is avalable else False\n",
    "\n",
    "# print('a' in {1:100, 'a':200, 3:'b'})\n",
    "# print('b' in {1:100, 'a':200, 3:'b'})\n",
    "\n",
    "\n"
   ]
  },
  {
   "cell_type": "code",
   "execution_count": null,
   "metadata": {},
   "outputs": [],
   "source": [
    "# Identity operator - Returns True if id's are same\n",
    "\n",
    "\n"
   ]
  },
  {
   "cell_type": "code",
   "execution_count": 21,
   "metadata": {},
   "outputs": [
    {
     "name": "stdout",
     "output_type": "stream",
     "text": [
      "2\n"
     ]
    }
   ],
   "source": [
    "# Assignment Operator\n",
    "# Compound assignment\n",
    "\n",
    "# a = 10\n",
    "\n",
    "# Compound assignment - +=, -=, *=, /=, //=, **=, %=, &=, |=, ^=, <<=, >>=, ~=\n",
    "a = 10\n",
    "a &= 2\n",
    "print(a)\n",
    "\n"
   ]
  },
  {
   "cell_type": "code",
   "execution_count": 20,
   "metadata": {},
   "outputs": [
    {
     "name": "stdout",
     "output_type": "stream",
     "text": [
      "2\n"
     ]
    }
   ],
   "source": [
    "print(10 & 2)"
   ]
  },
  {
   "cell_type": "code",
   "execution_count": 42,
   "metadata": {},
   "outputs": [
    {
     "name": "stdout",
     "output_type": "stream",
     "text": [
      "15\n",
      "15\n"
     ]
    }
   ],
   "source": [
    "# Bitwise Operator - &, |, ^, ~, << ,>>\n",
    "#     Bitwise operator works on bits and only with integer value\n",
    "\n",
    "# & Truth Table\n",
    "# 1 & 1 = 1\n",
    "# 1 & 0 = 0\n",
    "# 0 & 1 = 0\n",
    "# 0 & 0 = 0\n",
    "\n",
    "# |(OR) Truth Table\n",
    "# 1 | 1 = 1\n",
    "# 1 | 0 = 1\n",
    "# 0 | 1 = 1\n",
    "# 0 | 0 = 0  \n",
    "\n",
    "# ^(XOR) Truth Table\n",
    "# 1 ^ 1 = 0\n",
    "# 1 ^ 0 = 1\n",
    "# 0 ^ 1 = 1\n",
    "# 0 ^ 0 = 0\n",
    "\n",
    "# print(40 ^ 55)\n",
    "\n",
    "# print(bin(55))\n",
    "\n",
    "# 40 => 101000\n",
    "# 55 => 110111\n",
    "# ----------------\n",
    "# &  => 100000\n",
    "# |  => 111111\n",
    "# ^  => 011111\n",
    "\n",
    "# print(0b11111)\n",
    "\n",
    "\n",
    "\n",
    "# Bitwise Negation => ~n => -(n+1)\n",
    "# print(~True)\n",
    "# print(~-9)\n",
    "\n",
    "# Bitwise Left shift(<<) and Bitwise Right shift(>>)\n",
    "# print(63<<2)\n",
    "\n",
    "\n",
    "# print(bin(63))\n",
    "\n",
    "#63 => 00000000000000000000000011111100\n",
    "# print(0b11111100)\n",
    "\n",
    "print(63>>2)\n",
    "\n",
    "#63 => 00000000000000000000000000001111\n",
    "print(0b1111)\n",
    "\n"
   ]
  },
  {
   "cell_type": "code",
   "execution_count": 48,
   "metadata": {},
   "outputs": [
    {
     "name": "stdout",
     "output_type": "stream",
     "text": [
      "10\n",
      "10\n",
      "0.0\n"
     ]
    }
   ],
   "source": [
    "# Logical Operator - and, or, not\n",
    "# returns Boolean value\n",
    "\n",
    "# and Truth table - False\n",
    "# True and True = True\n",
    "# True and False = False\n",
    "# False and True = False\n",
    "# False and False = False\n",
    "\n",
    "# or Truth table - True\n",
    "# True or True = True\n",
    "# True or False = True\n",
    "# False or True = True\n",
    "# False or False = False\n",
    "\n",
    "\n",
    "# not \n",
    "# not True = False\n",
    "# not False = True\n",
    "\n",
    "# print((10!=10) and (100>20))\n",
    "# print((10!=10) or (100>20))\n",
    "\n",
    "\n",
    "# A and B => returns A if A is False else B\n",
    "# A and B => returns A if A is True else B\n",
    "\n",
    "# print(10 and 20)\n",
    "# print(10 and 0)\n",
    "# print(0 and 0.0)\n",
    "\n",
    "# print(10 or 20)\n",
    "# print(10 or 0)\n",
    "# print(0 or 0.0)\n",
    "\n"
   ]
  },
  {
   "cell_type": "code",
   "execution_count": 60,
   "metadata": {},
   "outputs": [
    {
     "name": "stdout",
     "output_type": "stream",
     "text": [
      "3.3333333333333335\n",
      "0\n",
      "1000\n"
     ]
    }
   ],
   "source": [
    "# Arithmeti Operator\n",
    "# +, -, *, /(Float Division), //(Floor Division), **, %(Remainder)\n",
    "\n",
    "# 10 upon 3 => 3.33333\n",
    "# 10 divide by 3 => 3\n",
    "\n",
    "# print(10/3)\n",
    "# # print(10//3)\n",
    "\n",
    "# print(10%2)\n",
    "# print(10**3)"
   ]
  },
  {
   "cell_type": "code",
   "execution_count": 54,
   "metadata": {},
   "outputs": [
    {
     "name": "stdout",
     "output_type": "stream",
     "text": [
      "-4\n",
      "4\n"
     ]
    },
    {
     "data": {
      "text/plain": [
       "3.5"
      ]
     },
     "execution_count": 54,
     "metadata": {},
     "output_type": "execute_result"
    }
   ],
   "source": [
    "# Floor value => Lowest nearset whole number\n",
    "# Ceil value => Highest nearset whole number\n",
    "\n",
    "# import math\n",
    "# print(math.floor(-3.9))\n",
    "# print(math.ceil(3.01))\n",
    "\n",
    "\n",
    "# print(math.ceil(3.00000000000000000000000000000000000000000001))\n",
    "\n",
    "# round(3.46, 1)\n",
    "\n"
   ]
  },
  {
   "cell_type": "code",
   "execution_count": 70,
   "metadata": {},
   "outputs": [],
   "source": [
    "# Concatenation(+) and Repetition(*) - Seq \n",
    "\n",
    "# Concatenation - daa type should be same\n",
    "# Repetiton - one shoule be seq and another should be int\n",
    "\n",
    "# print('Python' + 'Class')\n",
    "# print([10,20,30] + [100,200,300])\n",
    "# print((10,20,30)+(100,200,300))\n",
    "# print([100,200,300]+(1,2,3))\n",
    "\n",
    "# print([10,20,30]*4)\n",
    "# print((10,20,30)*4)\n",
    "# print({10,20,30}*5)   # TypeError: unsupported operand type(s) for *: 'set' and 'int'\n",
    "# print([10,20,30]*6.5) # TypeError: can't multiply sequence by non-int of type 'float'\n",
    "\n"
   ]
  },
  {
   "cell_type": "code",
   "execution_count": null,
   "metadata": {},
   "outputs": [],
   "source": [
    "# [] - list\n",
    "# () - Tuple\n",
    "# {} - set, dictionary"
   ]
  },
  {
   "cell_type": "markdown",
   "metadata": {},
   "source": [
    "# List"
   ]
  },
  {
   "cell_type": "code",
   "execution_count": 85,
   "metadata": {},
   "outputs": [
    {
     "name": "stdout",
     "output_type": "stream",
     "text": [
      "Before Operation [10, 20, 30] 4677685896\n",
      "After Operation [10, 20, 30, 100] 4677685896\n",
      "Before Operation Python 4360128696\n",
      "After Operation Jython 4672647552\n"
     ]
    }
   ],
   "source": [
    "# List is a Collection of Heterogenous elements kept inside square bracket separate by comma\n",
    "\n",
    "# List can have any value as it's element\n",
    "# List can have duplicate element\n",
    "# Square bracket are mandatory\n",
    "# List is a sequence\n",
    "# It is an ordered collction\n",
    "# +ve indexing and -ve indexing both are allowed\n",
    "# Indexing, slicing, concatenation, repetition, membership, identity\n",
    "# List is mutable object - It is modifiable\n",
    "\n",
    "# List can have any value as it's element\n",
    "# lst = [10,10.20, 10+20j,None, True,'Python', [10,20,30], \n",
    "#        (100,200,300), {111,222,333}]\n",
    "# print(lst)\n",
    "\n",
    "# List can have duplicate element\n",
    "# lst = [10,10.20, 10+20j,None, True,'Python',10,10+20j]\n",
    "# print(lst)\n",
    "\n",
    "# Indexing\n",
    "lst = [10,10.20, 10+20j,None, True,'Python', [10,20,30], \n",
    "       (100,200,300), {111,222,333}]\n",
    "\n",
    "# print(lst[0])\n",
    "# print(lst[-1])\n",
    "# print(lst[5])\n",
    "\n",
    "\n",
    "# slicing\n",
    "# print(lst[::])\n",
    "# print(lst[::-1])\n",
    "# print(lst[5::-1])\n",
    "# print(lst[:5:-1])\n",
    "# print(lst[2:7:-1])\n",
    "\n",
    "# Mutable object\n",
    "lst = [10,20,30]\n",
    "print('Before Operation', lst, id(lst))\n",
    "lst.append(100)\n",
    "print('After Operation', lst, id(lst))\n",
    "\n",
    "# immutable object\n",
    "str1 = 'Python'\n",
    "print('Before Operation', str1, id(str1))\n",
    "str1 = str1.replace('P', 'J')\n",
    "print('After Operation', str1, id(str1))\n"
   ]
  },
  {
   "cell_type": "code",
   "execution_count": 93,
   "metadata": {},
   "outputs": [
    {
     "name": "stdout",
     "output_type": "stream",
     "text": [
      "55\n"
     ]
    }
   ],
   "source": [
    "# Nested List\n",
    "# lst = [10,20,30,[19,21,31]]\n",
    "# print(lst[-1][1])\n",
    "# print(lst[-1][1:])\n",
    "\n",
    "\n",
    "# lst = [10,20,[11,22,[3,[4,[55,66]]]]]\n",
    "# print(lst[-1][-1][-1][-1][0])"
   ]
  },
  {
   "cell_type": "code",
   "execution_count": 102,
   "metadata": {},
   "outputs": [
    {
     "name": "stdout",
     "output_type": "stream",
     "text": [
      "False\n",
      "[10, 20, 30, [44, 50]]\n",
      "[10, 20, 30, [40, 50]]\n"
     ]
    }
   ],
   "source": [
    "# aliasing , Shallow copy and deep copy - Ony for mutable\n",
    "lst = [10,20,30]\n",
    "# lst1 = lst    # Alising\n",
    "# print(lst is lst1)\n",
    "# lst[0] = 100\n",
    "# print(lst)\n",
    "# print(lst1)\n",
    "\n",
    "# Shallow copy - copy, slicing\n",
    "# lst2 = lst.copy()      # Shallow copy\n",
    "# print(lst is lst2)\n",
    "# lst2[0] = 100\n",
    "# print(lst2)\n",
    "# print(lst)\n",
    "\n",
    "\n",
    "# Problem in shallow copy\n",
    "# lst = [10,20,30,[40,50]]\n",
    "# lst3 = lst.copy()\n",
    "# print(lst is lst3)\n",
    "# # lst3[2] = 33\n",
    "# # print(lst)\n",
    "# # print(lst3)\n",
    "# lst3[-1][0] = 44\n",
    "# print(lst)\n",
    "# print(lst3)\n",
    "\n",
    "\n",
    "# Deepcopy\n",
    "from copy import deepcopy\n",
    "lst = [10,20,30,[40,50]]\n",
    "lst4 = deepcopy(lst)\n",
    "print(lst is lst4)\n",
    "lst4[-1][0] = 44\n",
    "print(lst4)\n",
    "print(lst)"
   ]
  },
  {
   "cell_type": "code",
   "execution_count": null,
   "metadata": {},
   "outputs": [],
   "source": []
  },
  {
   "cell_type": "code",
   "execution_count": null,
   "metadata": {},
   "outputs": [],
   "source": []
  },
  {
   "cell_type": "code",
   "execution_count": null,
   "metadata": {},
   "outputs": [],
   "source": []
  },
  {
   "cell_type": "code",
   "execution_count": null,
   "metadata": {},
   "outputs": [],
   "source": []
  },
  {
   "cell_type": "code",
   "execution_count": null,
   "metadata": {},
   "outputs": [],
   "source": []
  },
  {
   "cell_type": "code",
   "execution_count": null,
   "metadata": {},
   "outputs": [],
   "source": []
  },
  {
   "cell_type": "code",
   "execution_count": null,
   "metadata": {},
   "outputs": [],
   "source": []
  },
  {
   "cell_type": "code",
   "execution_count": null,
   "metadata": {},
   "outputs": [],
   "source": []
  },
  {
   "cell_type": "code",
   "execution_count": null,
   "metadata": {},
   "outputs": [],
   "source": []
  },
  {
   "cell_type": "code",
   "execution_count": null,
   "metadata": {},
   "outputs": [],
   "source": []
  },
  {
   "cell_type": "code",
   "execution_count": null,
   "metadata": {},
   "outputs": [],
   "source": []
  },
  {
   "cell_type": "code",
   "execution_count": null,
   "metadata": {},
   "outputs": [],
   "source": []
  },
  {
   "cell_type": "code",
   "execution_count": null,
   "metadata": {},
   "outputs": [],
   "source": []
  },
  {
   "cell_type": "code",
   "execution_count": null,
   "metadata": {},
   "outputs": [],
   "source": []
  },
  {
   "cell_type": "code",
   "execution_count": null,
   "metadata": {},
   "outputs": [],
   "source": []
  },
  {
   "cell_type": "code",
   "execution_count": null,
   "metadata": {},
   "outputs": [],
   "source": []
  },
  {
   "cell_type": "code",
   "execution_count": null,
   "metadata": {},
   "outputs": [],
   "source": []
  },
  {
   "cell_type": "code",
   "execution_count": null,
   "metadata": {},
   "outputs": [],
   "source": []
  },
  {
   "cell_type": "code",
   "execution_count": null,
   "metadata": {},
   "outputs": [],
   "source": []
  },
  {
   "cell_type": "code",
   "execution_count": null,
   "metadata": {},
   "outputs": [],
   "source": []
  },
  {
   "cell_type": "code",
   "execution_count": null,
   "metadata": {},
   "outputs": [],
   "source": []
  },
  {
   "cell_type": "code",
   "execution_count": null,
   "metadata": {},
   "outputs": [],
   "source": []
  },
  {
   "cell_type": "code",
   "execution_count": null,
   "metadata": {},
   "outputs": [],
   "source": []
  }
 ],
 "metadata": {
  "kernelspec": {
   "display_name": "Python 3",
   "language": "python",
   "name": "python3"
  },
  "language_info": {
   "codemirror_mode": {
    "name": "ipython",
    "version": 3
   },
   "file_extension": ".py",
   "mimetype": "text/x-python",
   "name": "python",
   "nbconvert_exporter": "python",
   "pygments_lexer": "ipython3",
   "version": "3.7.3"
  }
 },
 "nbformat": 4,
 "nbformat_minor": 2
}
