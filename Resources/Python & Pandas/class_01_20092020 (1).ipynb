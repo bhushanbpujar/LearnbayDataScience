{
 "cells": [
  {
   "cell_type": "code",
   "execution_count": 8,
   "metadata": {},
   "outputs": [],
   "source": [
    "# Different Implementation of Python\n",
    "#     Cpython\n",
    "#     Jython\n",
    "#     Ruby Python\n",
    "#     Iron Python\n",
    "#     PyPy\n",
    "#     Anaconda Python\n",
    "#     Stackless Python"
   ]
  },
  {
   "cell_type": "code",
   "execution_count": 9,
   "metadata": {},
   "outputs": [
    {
     "data": {
      "text/plain": [
       "'\\n1. Programming Basics &\\nEnvironment Setup\\nInstalling Anaconda, Anaconda\\nBasics and Introduction\\nGet familiar with version control, Git\\nand GitHub.\\nBasic Github Commands.\\nIntroduction to Jupyter Notebook\\nenvironment. Basics Jupyter\\nnotebook Commands.\\nProgramming language basics.\\n'"
      ]
     },
     "execution_count": 9,
     "metadata": {},
     "output_type": "execute_result"
    }
   ],
   "source": [
    "'''\n",
    "1. Programming Basics &\n",
    "Environment Setup\n",
    "Installing Anaconda, Anaconda\n",
    "Basics and Introduction\n",
    "Get familiar with version control, Git\n",
    "and GitHub.\n",
    "Basic Github Commands.\n",
    "Introduction to Jupyter Notebook\n",
    "environment. Basics Jupyter\n",
    "notebook Commands.\n",
    "Programming language basics.\n",
    "'''\n",
    "\n"
   ]
  },
  {
   "cell_type": "code",
   "execution_count": 12,
   "metadata": {},
   "outputs": [],
   "source": [
    "# Download and install git-scm\n",
    "# Create account on github\n",
    "# Downlaod and install Thonny editor from thonny.org"
   ]
  },
  {
   "cell_type": "code",
   "execution_count": 10,
   "metadata": {},
   "outputs": [
    {
     "name": "stdout",
     "output_type": "stream",
     "text": [
      "Hi\n"
     ]
    }
   ],
   "source": [
    "print('Hi')"
   ]
  },
  {
   "cell_type": "code",
   "execution_count": 11,
   "metadata": {},
   "outputs": [
    {
     "data": {
      "text/plain": [
       "'Hi'"
      ]
     },
     "execution_count": 11,
     "metadata": {},
     "output_type": "execute_result"
    }
   ],
   "source": [
    "'Hi'"
   ]
  },
  {
   "cell_type": "markdown",
   "metadata": {},
   "source": [
    "# akBFJASDHB"
   ]
  },
  {
   "cell_type": "markdown",
   "metadata": {},
   "source": [
    "# HGJSBDJHSBVDHJSB"
   ]
  },
  {
   "cell_type": "markdown",
   "metadata": {},
   "source": [
    "## JHFSDJBVJHSDBJVHDSB"
   ]
  },
  {
   "cell_type": "markdown",
   "metadata": {},
   "source": [
    "### WEKJBGKSHJRBHJR"
   ]
  }
 ],
 "metadata": {
  "language_info": {
   "codemirror_mode": {
    "name": "ipython",
    "version": 3
   },
   "file_extension": ".py",
   "mimetype": "text/x-python",
   "name": "python",
   "nbconvert_exporter": "python",
   "pygments_lexer": "ipython3",
   "version": "3.7.3"
  }
 },
 "nbformat": 4,
 "nbformat_minor": 2
}
