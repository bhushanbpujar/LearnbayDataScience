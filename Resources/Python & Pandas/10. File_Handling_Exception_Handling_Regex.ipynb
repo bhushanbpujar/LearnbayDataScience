{
 "cells": [
  {
   "cell_type": "markdown",
   "metadata": {},
   "source": [
    "# File Handling in Python\n",
    "    File Handling in Python\n",
    "    Types of files in Python\n",
    "    Why file handling is required in Python? \n",
    "    open() & close() function\n",
    "    Different modes in File Handling\n",
    "    seek() and tell() methods\n",
    "    Functions to read and write"
   ]
  },
  {
   "cell_type": "code",
   "execution_count": null,
   "metadata": {},
   "outputs": [],
   "source": [
    "# Text file handling\n",
    "# Types of file\n",
    "Text file - \n",
    "Binary file"
   ]
  },
  {
   "cell_type": "code",
   "execution_count": null,
   "metadata": {},
   "outputs": [],
   "source": [
    "# open a file - open() - returns file object\n",
    "# close the file - close() - works on file object"
   ]
  },
  {
   "cell_type": "code",
   "execution_count": null,
   "metadata": {},
   "outputs": [],
   "source": [
    "# fp = open('File_name_with_extension', 'mode')\n",
    "# stat1\n",
    "# stat2\n",
    "# stat3\n",
    "# fp.close()"
   ]
  },
  {
   "cell_type": "code",
   "execution_count": null,
   "metadata": {},
   "outputs": [],
   "source": [
    "# text file modes - \n",
    "# read mode - 'r'\n",
    "# Write Mode - 'w'\n",
    "# append mode - 'a'\n",
    "# read and write mode - 'r+'\n",
    "# write and read mode - 'w+'\n",
    "# append and read mode - 'a+'"
   ]
  },
  {
   "cell_type": "code",
   "execution_count": 17,
   "metadata": {},
   "outputs": [
    {
     "name": "stdout",
     "output_type": "stream",
     "text": [
      "0\n",
      "Lorem Ipsum has been the industrys standard dummy text ever since the 1500s, when an unknown printer took a galley of type and scrambled it to make a type specimen book. \n",
      "\n"
     ]
    }
   ],
   "source": [
    "# Read mode - open('File_name', 'r')\n",
    "    # if file does not exist, then it will FileNotFoundError\n",
    "    # If file exist then cursor will be placed at the begining of the file\n",
    "    # You are allowed only to read from the file not allowed to write into the file\n",
    "    \n",
    "    \n",
    "    \n",
    "# If file does not exist\n",
    "# fp = open('f1.py', 'r')     # FileNotFoundError: [Errno 2] No such file or directory: 'f1.py'\n",
    "# fp.close()\n",
    "\n",
    "# If file exist\n",
    "# lst = []\n",
    "# fp = open('mod_1.py', 'r')\n",
    "# print(type(fp))\n",
    "# print(fp.tell())\n",
    "# # fp.seek(597)\n",
    "# # print(fp.tell())\n",
    "# print(len(fp.read()))\n",
    "# print(fp.tell())\n",
    "# fp.close()\n",
    "\n",
    "# Reading the file line by line and storing every line in list as element\n",
    "\n",
    "# fp = open('mod_1.py', 'r')\n",
    "# print(fp.tell())\n",
    "# for i in fp.readlines():\n",
    "#     print(i)\n",
    "# fp.close()\n",
    "\n",
    "\n",
    "# fp = open('mod_1.py', 'r')\n",
    "# print(fp.tell())\n",
    "# print(fp.readlines()[2])\n",
    "# fp.close()"
   ]
  },
  {
   "cell_type": "code",
   "execution_count": 23,
   "metadata": {},
   "outputs": [
    {
     "name": "stdout",
     "output_type": "stream",
     "text": [
      "0\n",
      "20\n"
     ]
    }
   ],
   "source": [
    "# Write mode - open('File_name', 'w')\n",
    "    # if file does not exist, then it will Create a file with this name\n",
    "    # If file exist then content of the file will be deleted and cursor will be placed at the begining of the file\n",
    "    # You are allowed only to write into the file not allowed to read from the file\n",
    "    \n",
    "# If file does not exist\n",
    "# fp = open('f1.py', 'w')\n",
    "# fp.close()\n",
    "\n",
    "# If file exist\n",
    "fp = open('mod_1.py', 'w')\n",
    "print(fp.tell())\n",
    "fp.write('This is Python class')\n",
    "print(fp.tell())\n",
    "# fp.seek(0)\n",
    "# print(fp.read())                        # UnsupportedOperation: not readable\n",
    "fp.close()"
   ]
  },
  {
   "cell_type": "code",
   "execution_count": 27,
   "metadata": {},
   "outputs": [],
   "source": [
    "# append mode - open('File_name', 'a')\n",
    "    # if file does not exist, then it will Create a file with this name\n",
    "    # If file exist then cursor will be placed at the end of the file\n",
    "    # You are allowed only to write into the file not allowed to read from the file\n",
    "    \n",
    "# If file does not exist\n",
    "# fp = open('f2.py', 'a')\n",
    "# fp.close()    \n",
    "\n",
    "\n",
    "# If file exist\n",
    "# fp = open('mod_1.py', 'a')\n",
    "# print(fp.tell())\n",
    "# fp.write('\\nWhat is Lorem Ipsum?')\n",
    "# print(fp.tell())\n",
    "# # fp.seek(0)\n",
    "# print(fp.read())                        # UnsupportedOperation: not readable\n",
    "# fp.close()"
   ]
  },
  {
   "cell_type": "code",
   "execution_count": 33,
   "metadata": {},
   "outputs": [
    {
     "name": "stdout",
     "output_type": "stream",
     "text": [
      "0\n",
      "Lorem Ipsum is simply dummy text of the printing and typesetting industry.\n",
      " \n",
      "Lorem Ipsum has been the industry's standard dummy text ever since the 1500s, when an unknown printer took a galley of type and scrambled it to make a type specimen book.\n",
      " \n",
      "It has survived not only five centuries, but also the leap into electronic typesetting, remaining essentially unchanged.\n",
      " \n",
      "It was popularised in the 1960s with the release of Letraset sheets containing Lorem Ipsum passages, and more recently with desktop publishing software like Aldus PageMaker including versions of Lorem Ipsum.\n",
      "580\n"
     ]
    }
   ],
   "source": [
    "# read and write mode - open('File_name', 'r+')\n",
    "    # if file does not exist, then it will FileNotFoundError\n",
    "    # If file exist then cursor will be placed at the begining of the file\n",
    "    # You are allowed only to read and write both from the file\n",
    "    \n",
    "    \n",
    "# If file does not exist\n",
    "# fp = open('f3.py', 'r+')     # FileNotFoundError: [Errno 2] No such file or directory: 'f3.py'\n",
    "# fp.close()\n",
    "\n",
    "# If file exist\n",
    "# fp = open('f1.py', 'r+')\n",
    "# print(fp.tell())\n",
    "# fp.write('''Lorem Ipsum is simply dummy text of the printing and typesetting industry.\\n \n",
    "# Lorem Ipsum has been the industry's standard dummy text ever since the 1500s, when an unknown printer took a galley of type and scrambled it to make a type specimen book.\\n \n",
    "# It has survived not only five centuries, but also the leap into electronic typesetting, remaining essentially unchanged.\\n \n",
    "# It was popularised in the 1960s with the release of Letraset sheets containing Lorem Ipsum passages, and more recently with desktop publishing software like Aldus PageMaker including versions of Lorem Ipsum.''')\n",
    "# fp.seek(0)\n",
    "# print(fp.read())\n",
    "# print(fp.tell())\n",
    "# fp.close()"
   ]
  },
  {
   "cell_type": "code",
   "execution_count": 34,
   "metadata": {},
   "outputs": [
    {
     "name": "stdout",
     "output_type": "stream",
     "text": [
      "0\n",
      "a = 10\n",
      "\n",
      "b = 20\n",
      "\n",
      "c = a+b\n",
      "\n",
      "print(c)\n",
      "33\n"
     ]
    }
   ],
   "source": [
    "# write and read mode - open('File_name', 'w+')\n",
    "    # if file does not exist, then it will Create a file with this name\n",
    "    # If file exist then content of the file will be deleted and cursor will be placed at the begining of the file\n",
    "    # You are allowed only to read and write both from the file\n",
    "    \n",
    "# If file exist\n",
    "# fp = open('f1.py', 'w+')\n",
    "# print(fp.tell())\n",
    "# fp.write('''a = 10\\n\n",
    "# b = 20\\n\n",
    "# c = a+b\\n\n",
    "# print(c)''')\n",
    "# fp.seek(0)\n",
    "# print(fp.read())\n",
    "# print(fp.tell())\n",
    "# fp.close()   \n"
   ]
  },
  {
   "cell_type": "code",
   "execution_count": 36,
   "metadata": {},
   "outputs": [
    {
     "name": "stdout",
     "output_type": "stream",
     "text": [
      "34\n",
      "a = 10\n",
      "\n",
      "b = 20\n",
      "\n",
      "c = a+b\n",
      "\n",
      "print(c)\n",
      "\n",
      "def f1():\n",
      "\n",
      "\tx = input('Enter First Number: ')\n",
      "\n",
      "\ty = input('Enter Second Number: ')\n",
      "\n",
      "\tres = x+y\n",
      "\n",
      "\tprint(res)\n",
      "142\n"
     ]
    }
   ],
   "source": [
    "# append and read mode - open('File_name', 'a+')\n",
    "    # if file does not exist, then it will Create a file with this name\n",
    "    # If file exist then cursor will be placed at the end of the file\n",
    "    # You are allowed only to read and write both from the file\n",
    "    \n",
    "# If file exist\n",
    "fp = open('f1.py', 'a+')\n",
    "print(fp.tell())\n",
    "fp.write('''\\ndef f1():\\n\n",
    "\\tx = input('Enter First Number: ')\\n\n",
    "\\ty = input('Enter Second Number: ')\\n\n",
    "\\tres = x+y\\n\n",
    "\\tprint(res)''')\n",
    "fp.seek(0)\n",
    "print(fp.read())\n",
    "print(fp.tell())\n",
    "fp.close()  "
   ]
  },
  {
   "cell_type": "code",
   "execution_count": 37,
   "metadata": {},
   "outputs": [
    {
     "name": "stdout",
     "output_type": "stream",
     "text": [
      "0\n",
      "a = 10\n",
      "b = 20\n",
      "c = 30\n",
      "print(c)\n",
      "\n",
      "30\n"
     ]
    }
   ],
   "source": [
    "fp = open('f2.py', 'a+')\n",
    "print(fp.tell())\n",
    "fp.writelines(['a = 10\\n', 'b = 20\\n', 'c = 30\\n', 'print(c)\\n'])\n",
    "fp.seek(0)\n",
    "print(fp.read())\n",
    "print(fp.tell())\n",
    "fp.close()  "
   ]
  },
  {
   "cell_type": "code",
   "execution_count": null,
   "metadata": {},
   "outputs": [],
   "source": [
    "# write - takes a string to write into a file\n",
    "# writelines - can take mulitple lines into list of string format and every tring can be considered as a new line"
   ]
  },
  {
   "cell_type": "code",
   "execution_count": null,
   "metadata": {},
   "outputs": [],
   "source": [
    "binary file - \n",
    "# read mode - 'rb'\n",
    "# Write Mode - 'wb'\n",
    "# append mode - 'ab'\n",
    "# read and write mode - 'r+b'\n",
    "# write and read mode - 'w+b'\n",
    "# append and read mode - 'a+b'"
   ]
  },
  {
   "cell_type": "code",
   "execution_count": null,
   "metadata": {},
   "outputs": [],
   "source": [
    "# open - download.png - f1\n",
    "# open - new.png - f2\n",
    "# copy the content of download.png to new.png"
   ]
  },
  {
   "cell_type": "code",
   "execution_count": null,
   "metadata": {},
   "outputs": [],
   "source": [
    "# f1 - Lorem Ipsum is simply dummy text of the printing and typesetting industry. Lorem Ipsum has been the industry's standard dummy text ever since the 1500s, when an unknown printer took a galley of type and scrambled it to make a type specimen book. It has survived not only five centuries, but also the leap into electronic typesetting, remaining essentially unchanged. It was popularised in the 1960s with the release of Letraset sheets containing Lorem Ipsum passages, and more recently with desktop publishing software like Aldus PageMaker including versions of Lorem Ipsum.\n",
    "# shift 2nd line with 'Where can I get some?'\n",
    "\n",
    "\n"
   ]
  },
  {
   "cell_type": "code",
   "execution_count": 55,
   "metadata": {},
   "outputs": [],
   "source": [
    "import subprocess\n",
    "with open('output.txt', 'wb') as f:\n",
    "    subprocess.run([\"python\", \"f1.py\"], stdout = f)\n",
    "\n",
    "    "
   ]
  },
  {
   "cell_type": "code",
   "execution_count": 118,
   "metadata": {},
   "outputs": [
    {
     "name": "stdout",
     "output_type": "stream",
     "text": [
      "['This a', 'is', 'Python class. It', 'is', 'a class.']\n"
     ]
    }
   ],
   "source": []
  },
  {
   "cell_type": "code",
   "execution_count": null,
   "metadata": {},
   "outputs": [],
   "source": [
    "# read()\n",
    "# read(n)\n",
    "# readlines()\n",
    "# readline()\n",
    "\n",
    "# write('str')\n",
    "# writelines(['str1', 'str2'...])"
   ]
  },
  {
   "cell_type": "code",
   "execution_count": 57,
   "metadata": {},
   "outputs": [],
   "source": [
    "# print(dir(f))"
   ]
  },
  {
   "cell_type": "markdown",
   "metadata": {},
   "source": [
    "# Exception Handling in Python\n",
    "    Exception Handling in Python\n",
    "    Types of errors in Python\n",
    "    Why do we need exception handling?\n",
    "    try, except, else and finally block\n",
    "    user defined Exceptions"
   ]
  },
  {
   "cell_type": "code",
   "execution_count": null,
   "metadata": {},
   "outputs": [],
   "source": [
    "# Compile time Error - changes to program\n",
    "# Run time Error - handle errors\n",
    "# Logical Error - changes to program\n",
    "\n",
    "# Exception - run time error which can be handled\n",
    "\n",
    "# NameError, TypeError, AruthmeticError, FileNotFoundError, SystemError, OSError etc\n",
    "\n",
    "# stat1\n",
    "# stat2\n",
    "# stat3\n",
    "# stat4\n"
   ]
  },
  {
   "cell_type": "code",
   "execution_count": 65,
   "metadata": {},
   "outputs": [
    {
     "name": "stdout",
     "output_type": "stream",
     "text": [
      "10\n",
      "Number can not be divide by 0\n",
      "0\n"
     ]
    }
   ],
   "source": [
    "# a = 10\n",
    "# b = 0\n",
    "# print(a)\n",
    "# try:\n",
    "#     print(a/b)\n",
    "# except:\n",
    "#     print('Number can not be divide by 0')\n",
    "# print(b)"
   ]
  },
  {
   "cell_type": "code",
   "execution_count": 71,
   "metadata": {},
   "outputs": [
    {
     "name": "stdout",
     "output_type": "stream",
     "text": [
      "Enter 1st number: 10\n",
      "Enter 2nd number: A\n",
      "invalid literal for int() with base 10: 'A'\n"
     ]
    }
   ],
   "source": [
    "try:\n",
    "    a = int(input('Enter 1st number: '))\n",
    "    b = int(input('Enter 2nd number: '))\n",
    "    print(a/b)\n",
    "except (TypeError, ZeroDivisionError, ValueError) as e:\n",
    "    print(e)"
   ]
  },
  {
   "cell_type": "code",
   "execution_count": 69,
   "metadata": {},
   "outputs": [
    {
     "ename": "ZeroDivisionError",
     "evalue": "division by zero",
     "output_type": "error",
     "traceback": [
      "\u001b[0;31m---------------------------------------------------------------------------\u001b[0m",
      "\u001b[0;31mZeroDivisionError\u001b[0m                         Traceback (most recent call last)",
      "\u001b[0;32m<ipython-input-69-e574edb36883>\u001b[0m in \u001b[0;36m<module>\u001b[0;34m\u001b[0m\n\u001b[0;32m----> 1\u001b[0;31m \u001b[0;36m10\u001b[0m\u001b[0;34m/\u001b[0m\u001b[0;36m0\u001b[0m\u001b[0;34m\u001b[0m\u001b[0;34m\u001b[0m\u001b[0m\n\u001b[0m",
      "\u001b[0;31mZeroDivisionError\u001b[0m: division by zero"
     ]
    }
   ],
   "source": [
    "10/0"
   ]
  },
  {
   "cell_type": "code",
   "execution_count": 94,
   "metadata": {},
   "outputs": [
    {
     "name": "stdout",
     "output_type": "stream",
     "text": [
      "Enter 1st number: 10\n",
      "Enter 2nd number: a\n",
      "'<' not supported between instances of 'int' and 'str'\n"
     ]
    }
   ],
   "source": [
    "import sys\n",
    "try:\n",
    "    a = int(input('Enter 1st number: '))\n",
    "    b = input('Enter 2nd number: ')\n",
    "    print(a<b)\n",
    "except TypeError as e:\n",
    "    print('msg')\n",
    "except ZeroDivisionError as e:\n",
    "    print(e, )\n",
    "except ValueError as e:\n",
    "    print(e)\n",
    "# print(dir(Exception))    "
   ]
  },
  {
   "cell_type": "code",
   "execution_count": 103,
   "metadata": {},
   "outputs": [
    {
     "ename": "SyntaxError",
     "evalue": "default 'except:' must be last (<ipython-input-103-f6fff8a899b9>, line 7)",
     "output_type": "error",
     "traceback": [
      "\u001b[0;36m  File \u001b[0;32m\"<ipython-input-103-f6fff8a899b9>\"\u001b[0;36m, line \u001b[0;32m7\u001b[0m\n\u001b[0;31m    except TypeError as e:\u001b[0m\n\u001b[0m                       ^\u001b[0m\n\u001b[0;31mSyntaxError\u001b[0m\u001b[0;31m:\u001b[0m default 'except:' must be last\n"
     ]
    }
   ],
   "source": [
    "try:\n",
    "    a = int(input('Enter 1st number: '))\n",
    "    b = int(input('Enter 2nd number: '))\n",
    "    print(a/b)\n",
    "except TypeError as e:\n",
    "    print(e)\n",
    "except ZeroDivisionError as e:\n",
    "    print(e)\n",
    "except:\n",
    "    print('Some Error has been raised')"
   ]
  },
  {
   "cell_type": "code",
   "execution_count": 78,
   "metadata": {},
   "outputs": [
    {
     "name": "stdout",
     "output_type": "stream",
     "text": [
      "Enter 1st number: 10\n",
      "Enter 2nd number: 0\n",
      "division by zero\n"
     ]
    }
   ],
   "source": [
    "try:\n",
    "    a = int(input('Enter 1st number: '))\n",
    "    b = int(input('Enter 2nd number: '))\n",
    "    print(a/b)\n",
    "except TypeError as e:\n",
    "    print(e)\n",
    "except ZeroDivisionError as e:\n",
    "    print('Div')\n",
    "except Exception as e:\n",
    "    print(e)"
   ]
  },
  {
   "cell_type": "code",
   "execution_count": 92,
   "metadata": {},
   "outputs": [
    {
     "name": "stdout",
     "output_type": "stream",
     "text": [
      "['__cause__', '__class__', '__context__', '__delattr__', '__dict__', '__dir__', '__doc__', '__eq__', '__format__', '__ge__', '__getattribute__', '__gt__', '__hash__', '__init__', '__init_subclass__', '__le__', '__lt__', '__ne__', '__new__', '__reduce__', '__reduce_ex__', '__repr__', '__setattr__', '__setstate__', '__sizeof__', '__str__', '__subclasshook__', '__suppress_context__', '__traceback__', 'args', 'with_traceback']\n"
     ]
    }
   ],
   "source": [
    "# print(dir(Exception)) "
   ]
  },
  {
   "cell_type": "code",
   "execution_count": 104,
   "metadata": {},
   "outputs": [
    {
     "name": "stdout",
     "output_type": "stream",
     "text": [
      "enter the amount: 100000\n",
      "Submit you Pan Card\n",
      "Not valid Pan\n"
     ]
    }
   ],
   "source": [
    "# User defined exceptions\n",
    "class MyException(Exception):\n",
    "    def __init__(self, m):\n",
    "        self.msg = m\n",
    "        \n",
    "def withdraw(amt):\n",
    "    if amt > 49999:\n",
    "        raise MyException('Submit you Pan Card')\n",
    "    else:\n",
    "        print('Amount Withdrwan')\n",
    "        \n",
    "def check_pan(pan):\n",
    "    if len(pan) < 10:\n",
    "        raise MyException('Not valid Pan')\n",
    "    else:\n",
    "        print('verified')\n",
    "\n",
    "try:\n",
    "    withdraw(int(input('enter the amount: ')))\n",
    "except MyException as e:\n",
    "    print(e)\n",
    "\n",
    "try:\n",
    "    check_pan('eryt6543')\n",
    "except MyException as e:\n",
    "    print(e)"
   ]
  },
  {
   "cell_type": "code",
   "execution_count": 108,
   "metadata": {},
   "outputs": [
    {
     "name": "stdout",
     "output_type": "stream",
     "text": [
      "5.0\n",
      "10\n",
      "2\n"
     ]
    }
   ],
   "source": [
    "# else and finally block in python\n",
    "\n",
    "a = 10\n",
    "b = 2\n",
    "try:\n",
    "    print(a/b)\n",
    "except:\n",
    "    print('Number can not be divide by 0')\n",
    "else:\n",
    "    print(a)\n",
    "    print(b)\n",
    "finally:\n",
    "    del a,b\n",
    "\n",
    "\n"
   ]
  },
  {
   "cell_type": "code",
   "execution_count": 112,
   "metadata": {},
   "outputs": [
    {
     "name": "stdout",
     "output_type": "stream",
     "text": [
      "********************Peck********************\n"
     ]
    }
   ],
   "source": [
    "#Write a python program to find below output (implements rjust and ljust) using loop:-\n",
    "\n",
    "#Input:- 'Peter Piper Picked A Peck Of Pickled Peppers.', sub_str = 'Peck', \n",
    "#Output:- '*********************Peck********************'\n",
    "\n",
    "# inp_str = 'Peter Piper Picked A Peck Of Pickled Peppers.'\n",
    "# sub_str = 'Peck'\n",
    "# new_str = ''\n",
    "# j = 0\n",
    "# for i in range(len(inp_str)):\n",
    "#     if inp_str[i] == sub_str[j]:\n",
    "#         new_str += inp_str[i]\n",
    "#         j += 1\n",
    "#         if new_str == sub_str:\n",
    "#             print('*'*(i-3-1)+sub_str+('*'*(len(inp_str)-i-1)))\n",
    "#             break\n",
    "#     else:\n",
    "#         new_str = ''\n",
    "#         j = 0\n",
    "            \n",
    "# my_str = 'Peter Piper Picked A Peck Of Pickled Peppers.'\n",
    "# sub_str = 'Peck'\n",
    "# op_str = ''\n",
    "# for i in range(len(my_str)-(len(sub_str)-1)):\n",
    "#     if my_str.find(sub_str) == i:\n",
    "#         op_str += sub_str\n",
    "#     else:\n",
    "#         op_str += '*'\n",
    "# print(op_str)        "
   ]
  },
  {
   "cell_type": "code",
   "execution_count": null,
   "metadata": {},
   "outputs": [],
   "source": [
    "#Input:- 'peter piper picked a peck of pickled peppers.'\n",
    "#Output:- 'peppers pickled of peck a picked piper peter'"
   ]
  },
  {
   "cell_type": "code",
   "execution_count": 117,
   "metadata": {},
   "outputs": [
    {
     "name": "stdout",
     "output_type": "stream",
     "text": [
      " Peter Piper Picked A Peck Of Pickled Peppers\n"
     ]
    }
   ],
   "source": [
    "#Write a python program to find below output using loop:-\n",
    "\n",
    "#Input:- 'peter piper picked a peck of pickled peppers.'\n",
    "#Output:- 'Peter Piper Picked A Peck Of Pickled Peppers'\n",
    "\n",
    "inp_str = 'peter piper picked a peck of pickled peppers.'\n",
    "out_str = ''\n",
    "out_lst = []\n",
    "for i in inp_str:\n",
    "    if i == ' ' or i == '.':\n",
    "        out_str = chr(ord(out_str[0])-32) + out_str[1:]\n",
    "        out_lst.append(out_str)\n",
    "        out_str = ''\n",
    "    else:\n",
    "        out_str += i\n",
    "res_str = ''\n",
    "for j in out_lst:\n",
    "    res_str = res_str + ' ' + j\n",
    "print(res_str)\n"
   ]
  },
  {
   "cell_type": "code",
   "execution_count": 122,
   "metadata": {},
   "outputs": [
    {
     "name": "stdout",
     "output_type": "stream",
     "text": [
      "['This a', 'is', 'Python class. It', 'is', 'a class.']\n"
     ]
    }
   ],
   "source": [
    "my_str = 'This a is Python class. It is a class.'\n",
    "sep = ' is'\n",
    "lst = []\n",
    "for i in range(len(my_str)-1):\n",
    "    if my_str.find(sep) == i:\n",
    "        lst.append(my_str[:(i)].strip())\n",
    "        lst.append(sep.strip())\n",
    "        my_str = my_str[(i+(len(sep)))+1:]\n",
    "lst.append(my_str)\n",
    "print(lst)"
   ]
  },
  {
   "cell_type": "code",
   "execution_count": 123,
   "metadata": {},
   "outputs": [
    {
     "name": "stdout",
     "output_type": "stream",
     "text": [
      "Peter piper picked a peck of pickled peppers.\n"
     ]
    }
   ],
   "source": [
    "# inp_str = 'Peter Piper Picked A Peck Of Pickled Peppers.'\n",
    "my_str = 'Peter Piper Picked A Peck Of Pickled Peppers.'\n",
    "new_str = my_str[1:]\n",
    "op_str = my_str[0] + ''\n",
    "for i in new_str:\n",
    "    if i.isupper():\n",
    "        i = i.lower()\n",
    "        op_str += i\n",
    "    else:\n",
    "        op_str += i\n",
    "print(op_str)"
   ]
  },
  {
   "cell_type": "code",
   "execution_count": null,
   "metadata": {},
   "outputs": [],
   "source": [
    "Data analysis\n",
    "not going use loop\n",
    "function"
   ]
  },
  {
   "cell_type": "code",
   "execution_count": null,
   "metadata": {},
   "outputs": [],
   "source": []
  },
  {
   "cell_type": "code",
   "execution_count": null,
   "metadata": {},
   "outputs": [],
   "source": []
  },
  {
   "cell_type": "code",
   "execution_count": null,
   "metadata": {},
   "outputs": [],
   "source": []
  },
  {
   "cell_type": "code",
   "execution_count": null,
   "metadata": {},
   "outputs": [],
   "source": []
  },
  {
   "cell_type": "code",
   "execution_count": null,
   "metadata": {},
   "outputs": [],
   "source": []
  },
  {
   "cell_type": "code",
   "execution_count": null,
   "metadata": {},
   "outputs": [],
   "source": []
  },
  {
   "cell_type": "code",
   "execution_count": null,
   "metadata": {},
   "outputs": [],
   "source": []
  },
  {
   "cell_type": "code",
   "execution_count": null,
   "metadata": {},
   "outputs": [],
   "source": []
  },
  {
   "cell_type": "code",
   "execution_count": null,
   "metadata": {},
   "outputs": [],
   "source": []
  },
  {
   "cell_type": "code",
   "execution_count": null,
   "metadata": {},
   "outputs": [],
   "source": []
  },
  {
   "cell_type": "code",
   "execution_count": null,
   "metadata": {},
   "outputs": [],
   "source": []
  },
  {
   "cell_type": "code",
   "execution_count": null,
   "metadata": {},
   "outputs": [],
   "source": []
  },
  {
   "cell_type": "code",
   "execution_count": null,
   "metadata": {},
   "outputs": [],
   "source": []
  },
  {
   "cell_type": "code",
   "execution_count": null,
   "metadata": {},
   "outputs": [],
   "source": []
  },
  {
   "cell_type": "code",
   "execution_count": null,
   "metadata": {},
   "outputs": [],
   "source": []
  },
  {
   "cell_type": "code",
   "execution_count": null,
   "metadata": {},
   "outputs": [],
   "source": []
  },
  {
   "cell_type": "code",
   "execution_count": null,
   "metadata": {},
   "outputs": [],
   "source": []
  },
  {
   "cell_type": "code",
   "execution_count": null,
   "metadata": {},
   "outputs": [],
   "source": []
  },
  {
   "cell_type": "code",
   "execution_count": null,
   "metadata": {},
   "outputs": [],
   "source": []
  },
  {
   "cell_type": "code",
   "execution_count": null,
   "metadata": {},
   "outputs": [],
   "source": []
  },
  {
   "cell_type": "code",
   "execution_count": null,
   "metadata": {},
   "outputs": [],
   "source": []
  },
  {
   "cell_type": "code",
   "execution_count": null,
   "metadata": {},
   "outputs": [],
   "source": []
  },
  {
   "cell_type": "code",
   "execution_count": null,
   "metadata": {},
   "outputs": [],
   "source": []
  },
  {
   "cell_type": "code",
   "execution_count": null,
   "metadata": {},
   "outputs": [],
   "source": []
  },
  {
   "cell_type": "code",
   "execution_count": null,
   "metadata": {},
   "outputs": [],
   "source": []
  },
  {
   "cell_type": "code",
   "execution_count": null,
   "metadata": {},
   "outputs": [],
   "source": []
  },
  {
   "cell_type": "code",
   "execution_count": null,
   "metadata": {},
   "outputs": [],
   "source": []
  },
  {
   "cell_type": "code",
   "execution_count": null,
   "metadata": {},
   "outputs": [],
   "source": []
  },
  {
   "cell_type": "code",
   "execution_count": null,
   "metadata": {},
   "outputs": [],
   "source": []
  },
  {
   "cell_type": "code",
   "execution_count": null,
   "metadata": {},
   "outputs": [],
   "source": []
  },
  {
   "cell_type": "code",
   "execution_count": null,
   "metadata": {},
   "outputs": [],
   "source": []
  },
  {
   "cell_type": "code",
   "execution_count": null,
   "metadata": {},
   "outputs": [],
   "source": []
  },
  {
   "cell_type": "code",
   "execution_count": null,
   "metadata": {},
   "outputs": [],
   "source": []
  },
  {
   "cell_type": "code",
   "execution_count": null,
   "metadata": {},
   "outputs": [],
   "source": []
  },
  {
   "cell_type": "code",
   "execution_count": null,
   "metadata": {},
   "outputs": [],
   "source": []
  },
  {
   "cell_type": "code",
   "execution_count": null,
   "metadata": {},
   "outputs": [],
   "source": []
  },
  {
   "cell_type": "code",
   "execution_count": null,
   "metadata": {},
   "outputs": [],
   "source": []
  },
  {
   "cell_type": "code",
   "execution_count": null,
   "metadata": {},
   "outputs": [],
   "source": []
  },
  {
   "cell_type": "code",
   "execution_count": null,
   "metadata": {},
   "outputs": [],
   "source": []
  },
  {
   "cell_type": "code",
   "execution_count": null,
   "metadata": {},
   "outputs": [],
   "source": []
  },
  {
   "cell_type": "code",
   "execution_count": null,
   "metadata": {},
   "outputs": [],
   "source": []
  },
  {
   "cell_type": "code",
   "execution_count": null,
   "metadata": {},
   "outputs": [],
   "source": []
  },
  {
   "cell_type": "code",
   "execution_count": null,
   "metadata": {},
   "outputs": [],
   "source": []
  },
  {
   "cell_type": "code",
   "execution_count": null,
   "metadata": {},
   "outputs": [],
   "source": []
  },
  {
   "cell_type": "code",
   "execution_count": null,
   "metadata": {},
   "outputs": [],
   "source": []
  },
  {
   "cell_type": "code",
   "execution_count": null,
   "metadata": {},
   "outputs": [],
   "source": []
  },
  {
   "cell_type": "code",
   "execution_count": null,
   "metadata": {},
   "outputs": [],
   "source": []
  },
  {
   "cell_type": "code",
   "execution_count": null,
   "metadata": {},
   "outputs": [],
   "source": []
  },
  {
   "cell_type": "code",
   "execution_count": null,
   "metadata": {},
   "outputs": [],
   "source": []
  },
  {
   "cell_type": "code",
   "execution_count": null,
   "metadata": {},
   "outputs": [],
   "source": []
  },
  {
   "cell_type": "code",
   "execution_count": null,
   "metadata": {},
   "outputs": [],
   "source": []
  },
  {
   "cell_type": "code",
   "execution_count": null,
   "metadata": {},
   "outputs": [],
   "source": []
  },
  {
   "cell_type": "code",
   "execution_count": null,
   "metadata": {},
   "outputs": [],
   "source": []
  },
  {
   "cell_type": "code",
   "execution_count": null,
   "metadata": {},
   "outputs": [],
   "source": []
  },
  {
   "cell_type": "code",
   "execution_count": null,
   "metadata": {},
   "outputs": [],
   "source": []
  }
 ],
 "metadata": {
  "kernelspec": {
   "display_name": "Python 3",
   "language": "python",
   "name": "python3"
  },
  "language_info": {
   "codemirror_mode": {
    "name": "ipython",
    "version": 3
   },
   "file_extension": ".py",
   "mimetype": "text/x-python",
   "name": "python",
   "nbconvert_exporter": "python",
   "pygments_lexer": "ipython3",
   "version": "3.7.3"
  }
 },
 "nbformat": 4,
 "nbformat_minor": 2
}
