{
 "cells": [
  {
   "cell_type": "markdown",
   "metadata": {},
   "source": [
    "# List Methods"
   ]
  },
  {
   "cell_type": "code",
   "execution_count": 1,
   "metadata": {},
   "outputs": [],
   "source": [
    "# print(dir(list))\n",
    "# 'clear'"
   ]
  },
  {
   "cell_type": "code",
   "execution_count": 132,
   "metadata": {},
   "outputs": [
    {
     "name": "stdout",
     "output_type": "stream",
     "text": [
      "['Vatican City', 'Tokelau', 'Niue', 'Falkland Islands', 'Saint Helena'] [792, 1300, 1618, 2910, 4049]\n"
     ]
    }
   ],
   "source": [
    "import pandas as pd\n",
    "pop = pd.read_csv('/Users/vigneshkarthick/desktop/LB_DSC_WKDY_SEPT_2020/Data/population_2017.csv')\n",
    "country_lst_head = list(pop['Country_name'].head(5))\n",
    "pop_lst_head = list(pop['Population'].head(5))\n",
    "print(country_lst, pop_lst)"
   ]
  },
  {
   "cell_type": "code",
   "execution_count": 3,
   "metadata": {},
   "outputs": [
    {
     "name": "stdout",
     "output_type": "stream",
     "text": [
      "Before Operation\n",
      "['Vatican City', 'Tokelau', 'Niue', 'Falkland Islands', 'Saint Helena'] 4636583304\n"
     ]
    }
   ],
   "source": [
    "# append(obj) - adds the object at the end of the list\n",
    "# It returns None \n",
    "# it will modify the exisiting list\n",
    "print('Before Operation')\n",
    "print(country_lst, id(country_lst))"
   ]
  },
  {
   "cell_type": "code",
   "execution_count": 4,
   "metadata": {},
   "outputs": [
    {
     "name": "stdout",
     "output_type": "stream",
     "text": [
      "After Operation\n",
      "['Vatican City', 'Tokelau', 'Niue', 'Falkland Islands', 'Saint Helena', 'India'] 4636583304\n"
     ]
    }
   ],
   "source": [
    "# Adding Country - India to country list\n",
    "country_lst.append('India')\n",
    "print('After Operation')\n",
    "print(country_lst, id(country_lst))\n"
   ]
  },
  {
   "cell_type": "code",
   "execution_count": 5,
   "metadata": {},
   "outputs": [
    {
     "name": "stdout",
     "output_type": "stream",
     "text": [
      "[792, 1300, 1618, 2910, 4049, 13100000000]\n"
     ]
    }
   ],
   "source": [
    "# Add the population of india to poulation list\n",
    "pop_lst.append(13100000000)\n",
    "print(pop_lst)\n",
    "\n",
    "\n"
   ]
  },
  {
   "cell_type": "code",
   "execution_count": 8,
   "metadata": {},
   "outputs": [
    {
     "name": "stdout",
     "output_type": "stream",
     "text": [
      "[792, 1300, 1618, 2910, 4049, 13100000000, [10, 20], [10, 20]]\n"
     ]
    }
   ],
   "source": [
    "# We can not add multiple object in a single append method\n",
    "pop_lst.append([10,20])\n",
    "print(pop_lst)"
   ]
  },
  {
   "cell_type": "code",
   "execution_count": 9,
   "metadata": {},
   "outputs": [
    {
     "name": "stdout",
     "output_type": "stream",
     "text": [
      "[10, 20]\n"
     ]
    }
   ],
   "source": [
    "# Remob=ving the data from alist - pop(ind), pop(), remove(val)\n",
    "# Removing [10,20] from pop_lst\n",
    "# pop(ind) - remove the value at specified index\n",
    "\n",
    "# print(pop_lst.pop(-2))\n"
   ]
  },
  {
   "cell_type": "code",
   "execution_count": 10,
   "metadata": {},
   "outputs": [
    {
     "name": "stdout",
     "output_type": "stream",
     "text": [
      "[792, 1300, 1618, 2910, 4049, 13100000000, [10, 20]]\n"
     ]
    }
   ],
   "source": [
    "# print(pop_lst)"
   ]
  },
  {
   "cell_type": "code",
   "execution_count": 12,
   "metadata": {},
   "outputs": [
    {
     "name": "stdout",
     "output_type": "stream",
     "text": [
      "[10, 20]\n"
     ]
    }
   ],
   "source": [
    "# Removeing last elemnt from list\n",
    "# pop() without index remove the value from the end\n",
    "\n",
    "# print(pop_lst.pop())"
   ]
  },
  {
   "cell_type": "code",
   "execution_count": 13,
   "metadata": {},
   "outputs": [
    {
     "name": "stdout",
     "output_type": "stream",
     "text": [
      "[792, 1300, 1618, 2910, 4049, 13100000000]\n"
     ]
    }
   ],
   "source": [
    "# print(pop_lst)"
   ]
  },
  {
   "cell_type": "code",
   "execution_count": 14,
   "metadata": {},
   "outputs": [],
   "source": [
    "# remove(val) - it remove the first occurence of the value from left side in the list\n",
    "# pop_lst.remove(13100000000)"
   ]
  },
  {
   "cell_type": "code",
   "execution_count": 15,
   "metadata": {},
   "outputs": [
    {
     "name": "stdout",
     "output_type": "stream",
     "text": [
      "[792, 1300, 1618, 2910, 4049]\n"
     ]
    }
   ],
   "source": [
    "# print(pop_lst)"
   ]
  },
  {
   "cell_type": "code",
   "execution_count": 16,
   "metadata": {},
   "outputs": [],
   "source": [
    "# pop_lst.remove(1618)"
   ]
  },
  {
   "cell_type": "code",
   "execution_count": 17,
   "metadata": {},
   "outputs": [
    {
     "name": "stdout",
     "output_type": "stream",
     "text": [
      "[792, 1300, 2910, 4049]\n"
     ]
    }
   ],
   "source": [
    "# print(pop_lst)"
   ]
  },
  {
   "cell_type": "code",
   "execution_count": 19,
   "metadata": {},
   "outputs": [
    {
     "data": {
      "text/plain": [
       "[792, 1300, 1618, 2910, 4049]"
      ]
     },
     "execution_count": 19,
     "metadata": {},
     "output_type": "execute_result"
    }
   ],
   "source": [
    "pop_lst"
   ]
  },
  {
   "cell_type": "code",
   "execution_count": 29,
   "metadata": {},
   "outputs": [
    {
     "data": {
      "text/plain": [
       "[792, 1300, 1618, 2910, 4049]"
      ]
     },
     "execution_count": 29,
     "metadata": {},
     "output_type": "execute_result"
    }
   ],
   "source": [
    "# for i in pop_lst:\n",
    "#     if i > 1500:\n",
    "#         pop_lst.remove(i)\n",
    "\n",
    "# for i in range(-1, -len(pop_lst),-1):\n",
    "#     if pop_lst[i] > 1500:\n",
    "#         pop_lst.pop()\n",
    "# print(pop_lst)\n",
    "pop_lst"
   ]
  },
  {
   "cell_type": "code",
   "execution_count": 38,
   "metadata": {},
   "outputs": [
    {
     "name": "stdout",
     "output_type": "stream",
     "text": [
      "[1584 2600 3236 5820 8098]\n"
     ]
    }
   ],
   "source": [
    "# import numpy as np\n",
    "# arr1 = np.array(pop_lst)\n",
    "# list(arr1[arr1<1500])\n",
    "# print(arr1 * 2)"
   ]
  },
  {
   "cell_type": "code",
   "execution_count": 33,
   "metadata": {},
   "outputs": [
    {
     "data": {
      "text/plain": [
       "[1584, 2600, 3236, 5820, 8098]"
      ]
     },
     "execution_count": 33,
     "metadata": {},
     "output_type": "execute_result"
    }
   ],
   "source": [
    "# map(func, seq)\n",
    "\n",
    "# list(map(lambda num:num*2, pop_lst))"
   ]
  },
  {
   "cell_type": "code",
   "execution_count": 35,
   "metadata": {},
   "outputs": [
    {
     "name": "stdout",
     "output_type": "stream",
     "text": [
      "[1584, 2600, 3236, 5820, 8098]\n"
     ]
    }
   ],
   "source": [
    "# out_lst = []\n",
    "# for i in pop_lst:\n",
    "#     out_lst.append(i*2)\n",
    "# print(out_lst)"
   ]
  },
  {
   "cell_type": "code",
   "execution_count": 48,
   "metadata": {},
   "outputs": [
    {
     "name": "stdout",
     "output_type": "stream",
     "text": [
      "[792, 1300, 1618, 2910, 4049, 178844, 196440, 204327, 253045, 276244]\n",
      "[178844, 196440, 204327, 253045, 276244]\n",
      "[792, 1300, 1618, 2910, 4049, 178844, 196440, 204327, 253045, 276244, 178844, 196440, 204327, 253045, 276244]\n",
      "[178844, 196440, 204327, 253045, 276244]\n",
      "['Vatican City', 'Tokelau', ['India'], 'India', 'Niue', 'Falkland Islands', 'Saint Helena']\n"
     ]
    }
   ],
   "source": [
    "# Extending a list\n",
    "print(pop_lst_head)\n",
    "pop_lst_tail = list(pop['Population'].tail(5))\n",
    "print(pop_lst_tail)\n",
    "\n",
    "# Concatenation of two lists\n",
    "# print(pop_lst_head + pop_lst_tail)\n",
    "# print(pop_lst_head)\n",
    "# print(pop_lst_tail)\n",
    "\n",
    "# Updating tail into head\n",
    "pop_lst_head.extend(pop_lst_tail)\n",
    "print(pop_lst_head)\n",
    "print(pop_lst_tail)\n",
    "\n",
    "# Insert(ind, val)\n",
    "# inserts an element at a particular index\n",
    "\n",
    "country_lst_head.insert(2, ['India'])\n",
    "print(country_lst_head)\n"
   ]
  },
  {
   "cell_type": "code",
   "execution_count": 51,
   "metadata": {},
   "outputs": [
    {
     "name": "stdout",
     "output_type": "stream",
     "text": [
      "[792, 1300, 1618, 2910, 4049, 178844, 196440, 204327, 253045, 276244, 178844, 196440, 204327, 253045, 276244]\n",
      "2\n",
      "5\n"
     ]
    }
   ],
   "source": [
    "# 'count', 'index', \n",
    "\n",
    "# count give no of timee a particular element is repeating in lst\n",
    "# index - returns the index of first occurrence of the element inside the list from LHS\n",
    "\n",
    "# print(pop_lst_head)\n",
    "# print(pop_lst_head.count(178844))\n",
    "# print(pop_lst_head.index(178844))\n"
   ]
  },
  {
   "cell_type": "code",
   "execution_count": 66,
   "metadata": {},
   "outputs": [
    {
     "name": "stdout",
     "output_type": "stream",
     "text": [
      "[204327, 253045, 4049, 276244, 2910, 204327, 196440, 253045, 1300, 276244, 1618, 178844, 792, 196440, 178844]\n"
     ]
    }
   ],
   "source": [
    "# 'reverse', 'sort'\n",
    "\n",
    "# reverse - reverses a list\n",
    "# sort method - sorts a list in ascending order\n",
    "\n",
    "import random\n",
    "random.shuffle(pop_lst_head)\n",
    "print(pop_lst_head)\n",
    "\n",
    "# print(pop_lst_head)\n",
    "# pop_lst_head.reverse()\n",
    "# print(pop_lst_head)\n",
    "\n",
    "\n"
   ]
  },
  {
   "cell_type": "code",
   "execution_count": 68,
   "metadata": {},
   "outputs": [
    {
     "name": "stdout",
     "output_type": "stream",
     "text": [
      "[792, 1300, 1618, 2910, 4049, 178844, 178844, 196440, 196440, 204327, 204327, 253045, 253045, 276244, 276244]\n"
     ]
    }
   ],
   "source": [
    "pop_lst_head.sort()\n",
    "print(pop_lst_head)"
   ]
  },
  {
   "cell_type": "code",
   "execution_count": 69,
   "metadata": {},
   "outputs": [
    {
     "name": "stdout",
     "output_type": "stream",
     "text": [
      "[276244, 276244, 253045, 253045, 204327, 204327, 196440, 196440, 178844, 178844, 4049, 2910, 1618, 1300, 792]\n"
     ]
    }
   ],
   "source": [
    "pop_lst_head.sort(reverse = True)\n",
    "print(pop_lst_head)"
   ]
  },
  {
   "cell_type": "code",
   "execution_count": 70,
   "metadata": {},
   "outputs": [],
   "source": [
    "pop_lst_head.clear()\n"
   ]
  },
  {
   "cell_type": "code",
   "execution_count": 71,
   "metadata": {},
   "outputs": [
    {
     "name": "stdout",
     "output_type": "stream",
     "text": [
      "[]\n"
     ]
    }
   ],
   "source": [
    "print(pop_lst_head)"
   ]
  },
  {
   "cell_type": "code",
   "execution_count": 72,
   "metadata": {},
   "outputs": [
    {
     "name": "stdout",
     "output_type": "stream",
     "text": [
      "[178844, 196440, 204327, 253045, 276244]\n"
     ]
    }
   ],
   "source": [
    "print(pop_lst_tail)"
   ]
  },
  {
   "cell_type": "code",
   "execution_count": 73,
   "metadata": {},
   "outputs": [],
   "source": [
    "pop_lst_tail.clear()"
   ]
  },
  {
   "cell_type": "code",
   "execution_count": 74,
   "metadata": {},
   "outputs": [
    {
     "name": "stdout",
     "output_type": "stream",
     "text": [
      "[]\n"
     ]
    }
   ],
   "source": [
    "print(pop_lst_tail)"
   ]
  },
  {
   "cell_type": "code",
   "execution_count": 77,
   "metadata": {},
   "outputs": [
    {
     "data": {
      "text/plain": [
       "[792, 1300]"
      ]
     },
     "execution_count": 77,
     "metadata": {},
     "output_type": "execute_result"
    }
   ],
   "source": [
    "# List comprehension\n",
    "# [i*2 for i in pop_lst]\n",
    "# [i for i in pop_lst if i<1500]"
   ]
  },
  {
   "cell_type": "code",
   "execution_count": 148,
   "metadata": {},
   "outputs": [
    {
     "name": "stdout",
     "output_type": "stream",
     "text": [
      "[[0, 0, 0, 0], [0, 1, 2, 3], [0, 2, 4, 6], [0, 3, 6, 9]]\n"
     ]
    }
   ],
   "source": [
    "# [[0,0,0,0],\n",
    "# [0,1,2,3],\n",
    "# [0,2,4,6],\n",
    "# [0,3,6,9]]\n",
    "\n",
    "# out_lst = []\n",
    "# for i in range(4):\n",
    "#     in_lst = []\n",
    "#     for j in range(4):\n",
    "#         in_lst.append(i*j)\n",
    "#     out_lst.append(in_lst)\n",
    "# print(out_lst)\n",
    "\n",
    "# i = 2\n",
    "# j = 3\n",
    "# in_lst = [0,2,4,6]\n",
    "# out_lst = [[0,0,0,0], [0,1,2,3], [0,2,4,6]]\n",
    "\n",
    "\n",
    "\n",
    "\n",
    "\n",
    "a= [[i*j for j in range(4)]for i in range(4)]\n",
    "print(a)\n",
    "\n"
   ]
  },
  {
   "cell_type": "markdown",
   "metadata": {},
   "source": [
    "# Tuple"
   ]
  },
  {
   "cell_type": "code",
   "execution_count": null,
   "metadata": {},
   "outputs": [],
   "source": [
    "# Tuple is a Collection of Heterogenous elements kept inside parenthesis separated by comma\n",
    "\n",
    "# Tuple can have any value as it's element\n",
    "# Tuple can have duplicate element\n",
    "# parenthesis are optional\n",
    "# Tuple is a sequence\n",
    "# It is an ordered collction\n",
    "# +ve indexing and -ve indexing both are allowed\n",
    "# Indexing, slicing, concatenation, repetition, membership, identity\n",
    "# Tuple is immutable object - It is modifiable"
   ]
  },
  {
   "cell_type": "code",
   "execution_count": 85,
   "metadata": {},
   "outputs": [
    {
     "data": {
      "text/plain": [
       "200"
      ]
     },
     "execution_count": 85,
     "metadata": {},
     "output_type": "execute_result"
    }
   ],
   "source": [
    "#Ternary operator\n",
    "# expr1 if cond1 else expr2\n",
    "# a = 200\n",
    "# b = 200\n",
    "# c = 30\n",
    "# a if a>b and a>c else b if b>c else c"
   ]
  },
  {
   "cell_type": "code",
   "execution_count": 87,
   "metadata": {},
   "outputs": [
    {
     "name": "stdout",
     "output_type": "stream",
     "text": [
      "(10, 20, 30) <class 'tuple'>\n"
     ]
    }
   ],
   "source": [
    "tpl = (10,20,30)\n",
    "print(tpl, type(tpl))"
   ]
  },
  {
   "cell_type": "code",
   "execution_count": 88,
   "metadata": {},
   "outputs": [
    {
     "name": "stdout",
     "output_type": "stream",
     "text": [
      "(10, 20, 30) <class 'tuple'>\n"
     ]
    }
   ],
   "source": [
    "tpl = 10,20,30\n",
    "print(tpl, type(tpl))"
   ]
  },
  {
   "cell_type": "code",
   "execution_count": 91,
   "metadata": {},
   "outputs": [
    {
     "name": "stdout",
     "output_type": "stream",
     "text": [
      "(10,) <class 'tuple'>\n"
     ]
    }
   ],
   "source": [
    "tpl = 10,\n",
    "print(tpl, type(tpl))"
   ]
  },
  {
   "cell_type": "code",
   "execution_count": 92,
   "metadata": {},
   "outputs": [
    {
     "name": "stdout",
     "output_type": "stream",
     "text": [
      "(10, 20.3, (10+20j), 'Python', None, True) <class 'tuple'>\n"
     ]
    }
   ],
   "source": [
    "# Tuple can have any value as it's element\n",
    "tpl = (10,20.30, 10+20j, 'Python', None, True)\n",
    "print(tpl, type(tpl))"
   ]
  },
  {
   "cell_type": "code",
   "execution_count": 101,
   "metadata": {},
   "outputs": [
    {
     "name": "stdout",
     "output_type": "stream",
     "text": [
      "(10, 20.3, (10+20j), 10, 'Python', True, None, 10.2, 10, True) <class 'tuple'>\n"
     ]
    }
   ],
   "source": [
    "# Tuple can have duplicate element\n",
    "tpl = (10,20.30, 10+20j, 10,'Python', True,None, 10.20,10,True)\n",
    "print(tpl, type(tpl))"
   ]
  },
  {
   "cell_type": "code",
   "execution_count": 96,
   "metadata": {},
   "outputs": [
    {
     "name": "stdout",
     "output_type": "stream",
     "text": [
      "10\n",
      "True\n",
      "True\n"
     ]
    }
   ],
   "source": [
    "# Indexing\n",
    "print(tpl[0])\n",
    "print(tpl[-1])\n",
    "print(tpl[-5])"
   ]
  },
  {
   "cell_type": "code",
   "execution_count": 103,
   "metadata": {},
   "outputs": [
    {
     "name": "stdout",
     "output_type": "stream",
     "text": [
      "((10+20j), 10, 'Python')\n",
      "(True, 10, 10.2, None, True, 'Python', 10, (10+20j), 20.3, 10)\n",
      "(True, 'Python', 10, (10+20j), 20.3, 10)\n",
      "(True, 10, 10.2, None)\n",
      "()\n"
     ]
    }
   ],
   "source": [
    "# Slicing - creats a new object\n",
    "# print(tpl[2:5])\n",
    "# print(tpl[::-1])\n",
    "# print(tpl[5::-1])\n",
    "# print(tpl[:5:-1])\n",
    "# print(tpl[2:7:-1])\n",
    "\n"
   ]
  },
  {
   "cell_type": "code",
   "execution_count": 105,
   "metadata": {},
   "outputs": [],
   "source": [
    "# print(dir(tuple))\n",
    "\n",
    "# 'count', 'index'\n",
    "\n",
    "\n"
   ]
  },
  {
   "cell_type": "code",
   "execution_count": 107,
   "metadata": {},
   "outputs": [
    {
     "ename": "TypeError",
     "evalue": "'tuple' object does not support item assignment",
     "output_type": "error",
     "traceback": [
      "\u001b[0;31m---------------------------------------------------------------------------\u001b[0m",
      "\u001b[0;31mTypeError\u001b[0m                                 Traceback (most recent call last)",
      "\u001b[0;32m<ipython-input-107-1815438e8ebd>\u001b[0m in \u001b[0;36m<module>\u001b[0;34m\u001b[0m\n\u001b[0;32m----> 1\u001b[0;31m \u001b[0mtpl\u001b[0m\u001b[0;34m[\u001b[0m\u001b[0;36m0\u001b[0m\u001b[0;34m]\u001b[0m \u001b[0;34m=\u001b[0m \u001b[0;36m1000\u001b[0m\u001b[0;34m\u001b[0m\u001b[0;34m\u001b[0m\u001b[0m\n\u001b[0m",
      "\u001b[0;31mTypeError\u001b[0m: 'tuple' object does not support item assignment"
     ]
    }
   ],
   "source": [
    "# tpl[0] = 1000\n"
   ]
  },
  {
   "cell_type": "code",
   "execution_count": 119,
   "metadata": {},
   "outputs": [
    {
     "name": "stdout",
     "output_type": "stream",
     "text": [
      "(10+20j)\n",
      "20.3\n",
      "(10+20j)\n",
      "Python\n",
      "True\n",
      "None\n",
      "(10, 20.3, (10+20j), 'Python', True, None)\n"
     ]
    }
   ],
   "source": [
    "# Tuple packing and unpacking - (List unpacking)\n",
    "\n",
    "# Packing - multiple valyes into a single variable\n",
    "\n",
    "# a = 10\n",
    "# b = 20\n",
    "# c = 30\n",
    "# d = 40\n",
    "# tpl = a,b,c,d     # Tuple packing\n",
    "# print(tpl, type(tpl))\n",
    "\n",
    "\n",
    "# Unpacking - opposite pf packing\n",
    "# tpl = (10,20.30, 10+20j, 'Python', True,None)\n",
    "# a,b,a,d,e,f = tpl\n",
    "# print(a,b,c,d,e,f, sep = '\\n')\n",
    "# print(tpl)"
   ]
  },
  {
   "cell_type": "code",
   "execution_count": null,
   "metadata": {},
   "outputs": [],
   "source": []
  },
  {
   "cell_type": "code",
   "execution_count": null,
   "metadata": {},
   "outputs": [],
   "source": [
    "#Write a Python program to count the number of strings having length more than 2 and are palindrome in a list using loop.\n",
    "#Input:- ['ab', 'abc', 'aba', 'xyz', '1991']\n",
    "#Output:- 2"
   ]
  },
  {
   "cell_type": "code",
   "execution_count": null,
   "metadata": {},
   "outputs": [],
   "source": [
    "#Write a Python program to remove fuplicate element from a list using loop.\n",
    "#Input:- [10,1,11,1,29,876,768,10,11,1,92,29,876]\n",
    "#Output:- [10,1,11,29,876,768,92]"
   ]
  },
  {
   "cell_type": "markdown",
   "metadata": {},
   "source": [
    "# Dictionary"
   ]
  },
  {
   "cell_type": "code",
   "execution_count": 131,
   "metadata": {},
   "outputs": [
    {
     "name": "stdout",
     "output_type": "stream",
     "text": [
      "10\n"
     ]
    }
   ],
   "source": [
    "# Dictionary is a collection of key value pair in Python\n",
    "\n",
    "# d = {key1:value1, key2:value2, key3:value3}\n",
    "\n",
    "# One key value pair is called item\n",
    "# Item separated by colon\n",
    "# key can not be duplicated, values may be duplicated\n",
    "# only immutable object are allowed as key\n",
    "# key is similar to index in seq\n",
    "# dictionary mutable objects\n",
    "# Ditionary is not a seq so it is not an prdered collection of elements\n",
    "\n",
    "# accessing in dictionary\n",
    "# d['key1']   => this gives us value1\n",
    "\n",
    "# d = {1:100, 10.20:100.234, 10+2j:100+200j, 'a':'Python', None:True, True:False, (10,20,30):[10,20,30], [10,20]:100}\n",
    "\n",
    "# d = {1:100, 10.20:100.234, 10+2j:100+200j, 'a':'Python', None:True, True:False, (10,20,30):[10,20,30], 1:1111}\n",
    "# # print(d)\n",
    "# d[10.20] = 111.222\n",
    "# d\n",
    "\n",
    "# d = dict(list(enumerate([10,20,30,40])))\n",
    "# print(d[0])\n",
    "\n",
    "\n",
    "\n"
   ]
  },
  {
   "cell_type": "code",
   "execution_count": 130,
   "metadata": {},
   "outputs": [
    {
     "data": {
      "text/plain": [
       "[(0, 10), (1, 20), (2, 30), (3, 40)]"
      ]
     },
     "execution_count": 130,
     "metadata": {},
     "output_type": "execute_result"
    }
   ],
   "source": [
    "list(enumerate([10,20,30,40]))"
   ]
  },
  {
   "cell_type": "code",
   "execution_count": 133,
   "metadata": {},
   "outputs": [
    {
     "data": {
      "text/plain": [
       "['Vatican City', 'Tokelau', 'Niue', 'Falkland Islands', 'Saint Helena']"
      ]
     },
     "execution_count": 133,
     "metadata": {},
     "output_type": "execute_result"
    }
   ],
   "source": [
    "country_lst_head"
   ]
  },
  {
   "cell_type": "code",
   "execution_count": 134,
   "metadata": {},
   "outputs": [
    {
     "data": {
      "text/plain": [
       "[792, 1300, 1618, 2910, 4049]"
      ]
     },
     "execution_count": 134,
     "metadata": {},
     "output_type": "execute_result"
    }
   ],
   "source": [
    "pop_lst_head"
   ]
  },
  {
   "cell_type": "code",
   "execution_count": 135,
   "metadata": {},
   "outputs": [
    {
     "data": {
      "text/plain": [
       "{'Vatican City': 792,\n",
       " 'Tokelau': 1300,\n",
       " 'Niue': 1618,\n",
       " 'Falkland Islands': 2910,\n",
       " 'Saint Helena': 4049}"
      ]
     },
     "execution_count": 135,
     "metadata": {},
     "output_type": "execute_result"
    }
   ],
   "source": [
    "dict(zip(country_lst_head,pop_lst_head))"
   ]
  },
  {
   "cell_type": "code",
   "execution_count": 139,
   "metadata": {},
   "outputs": [
    {
     "data": {
      "text/plain": [
       "30000"
      ]
     },
     "execution_count": 139,
     "metadata": {},
     "output_type": "execute_result"
    }
   ],
   "source": [
    "# emp_name = ['emp1', 'emp2', 'emp3']\n",
    "# emp_info = [(29, 30000),(35, 35000),(45, 45000)]\n",
    "# dict(zip(emp_name,emp_info))['emp1'][1]"
   ]
  },
  {
   "cell_type": "code",
   "execution_count": null,
   "metadata": {},
   "outputs": [],
   "source": [
    "# Create a dictionary out of below inputs\n",
    "# lst1 = ['emp1', 'emp2', 'emp3']\n",
    "# emp_key = ['e_name', 'e_id', 'e_sal']\n",
    "# emp1_val = ['John', 'SG101', '$10,000']\n",
    "# emp2_val = ['Smith', 'SG102', '$9,000']\n",
    "# emp3_val = ['Peter', 'SG103', '$9,500']\n",
    "\n",
    "# Expected Output:- {'emp1':{'e_name':'John', 'e_id':'SG101', 'e_sal':$10,000}, \n",
    "#                    'emp2':{'e_name':'Smith', 'e_id':'SG102', 'e_sal':$9,000}, \n",
    "#                    'emp3':{'e_name':'Peter', 'e_id':'SG103', 'e_sal':$9,500}}"
   ]
  },
  {
   "cell_type": "code",
   "execution_count": 140,
   "metadata": {},
   "outputs": [
    {
     "name": "stdout",
     "output_type": "stream",
     "text": [
      "['__class__', '__contains__', '__delattr__', '__delitem__', '__dir__', '__doc__', '__eq__', '__format__', '__ge__', '__getattribute__', '__getitem__', '__gt__', '__hash__', '__init__', '__init_subclass__', '__iter__', '__le__', '__len__', '__lt__', '__ne__', '__new__', '__reduce__', '__reduce_ex__', '__repr__', '__setattr__', '__setitem__', '__sizeof__', '__str__', '__subclasshook__', 'clear', 'copy', 'fromkeys', 'get', 'items', 'keys', 'pop', 'popitem', 'setdefault', 'update', 'values']\n"
     ]
    }
   ],
   "source": [
    "# Dictionary Methods\n",
    "# print(dir(dict))\n",
    "\n",
    "# 'clear'\n",
    "\n"
   ]
  },
  {
   "cell_type": "code",
   "execution_count": 143,
   "metadata": {},
   "outputs": [
    {
     "data": {
      "text/plain": [
       "{'emp1': {'e_name': 'John', 'e_id': 'SG101', 'e_sal': '$10,000'},\n",
       " 'emp2': {'e_name': 'Smith', 'e_id': 'SG102', 'e_sal': '$9,000'},\n",
       " 'emp3': {'e_name': 'Peter', 'e_id': 'SG103', 'e_sal': '$9,500'}}"
      ]
     },
     "execution_count": 143,
     "metadata": {},
     "output_type": "execute_result"
    }
   ],
   "source": [
    "# 'get', 'setdefault' - used to access the value with respect to key or used to update the dictionary\n",
    "\n",
    "emp_info = {'emp1':{'e_name':'John', 'e_id':'SG101', 'e_sal':'$10,000'}, \n",
    "                   'emp2':{'e_name':'Smith', 'e_id':'SG102', 'e_sal':'$9,000'}, \n",
    "                   'emp3':{'e_name':'Peter', 'e_id':'SG103', 'e_sal':'$9,500'}}\n",
    "\n",
    "emp_info\n"
   ]
  },
  {
   "cell_type": "code",
   "execution_count": 149,
   "metadata": {},
   "outputs": [
    {
     "name": "stdout",
     "output_type": "stream",
     "text": [
      "John Smith\n"
     ]
    },
    {
     "data": {
      "text/plain": [
       "{'emp1': {'e_name': 'John Smith', 'e_id': 'SG101', 'e_sal': '$10,000'},\n",
       " 'emp2': {'e_name': 'Smith', 'e_id': 'SG102', 'e_sal': '$9,000'},\n",
       " 'emp3': {'e_name': 'Peter', 'e_id': 'SG103', 'e_sal': '$9,500'}}"
      ]
     },
     "execution_count": 149,
     "metadata": {},
     "output_type": "execute_result"
    }
   ],
   "source": [
    "print(emp_info['emp1']['e_name'])\n",
    "emp_info['emp1']['e_name'] = 'John Smith'\n",
    "emp_info"
   ]
  },
  {
   "cell_type": "code",
   "execution_count": 161,
   "metadata": {},
   "outputs": [
    {
     "name": "stdout",
     "output_type": "stream",
     "text": [
      "India\n",
      "{'emp1': {'e_name': 'John Smith', 'e_id': 'SG101', 'e_sal': '$10,000', 'e_addr': None, 'e_addr1': 'India'}, 'emp2': {'e_name': 'Smith', 'e_id': 'SG102', 'e_sal': '$9,000'}, 'emp3': {'e_name': 'Peter', 'e_id': 'SG103', 'e_sal': '$9,500'}}\n"
     ]
    }
   ],
   "source": [
    "# syntax = dict.get(key, default = None)\n",
    "# upon not passing the second arg and if key is not present then it will give None\n",
    "# if key is present then it prints the value\n",
    "# it does not update a dictionary with default value\n",
    "\n",
    "print(emp_info['emp1'].get('e_addr', 'This key is not present'))\n",
    "# print(emp_info)\n",
    "\n",
    "\n",
    "# syntax = dict.setdefault(key, default = None)\n",
    "# upon not passing the second arg and if key is not present then it will give deafult and update the dictionary with key and deafult value\n",
    "# if key is present then it prints the value associated with key, no changes to the dictionary\n",
    "# it update a dictionary with default value/valu passed\n",
    "\n",
    "# print(emp_info['emp1'].setdefault('e_addr1', 'India'))\n",
    "# print(emp_info)\n",
    "\n",
    "\n",
    "\n",
    "\n",
    "\n",
    "\n"
   ]
  },
  {
   "cell_type": "code",
   "execution_count": 162,
   "metadata": {},
   "outputs": [
    {
     "name": "stdout",
     "output_type": "stream",
     "text": [
      "India\n",
      "{'emp1': {'e_name': 'John Smith', 'e_id': 'SG101', 'e_sal': '$10,000', 'e_addr': None}, 'emp2': {'e_name': 'Smith', 'e_id': 'SG102', 'e_sal': '$9,000'}, 'emp3': {'e_name': 'Peter', 'e_id': 'SG103', 'e_sal': '$9,500'}}\n"
     ]
    }
   ],
   "source": [
    "# 'pop', 'popitem',\n",
    "\n",
    "# pop(key[, deafult]) - if key is present, it removes key value paor and freturns the value, else returns the default value\n",
    "# if key is not present and default value is not mentioned then raises key error\n",
    "\n",
    "print(emp_info['emp1'].pop('e_addr1'))\n",
    "\n",
    "print(emp_info)"
   ]
  },
  {
   "cell_type": "code",
   "execution_count": 164,
   "metadata": {},
   "outputs": [
    {
     "name": "stdout",
     "output_type": "stream",
     "text": [
      "This key is not present\n",
      "{'emp1': {'e_name': 'John Smith', 'e_id': 'SG101', 'e_sal': '$10,000', 'e_addr': None}, 'emp2': {'e_name': 'Smith', 'e_id': 'SG102', 'e_sal': '$9,000'}, 'emp3': {'e_name': 'Peter', 'e_id': 'SG103', 'e_sal': '$9,500'}}\n"
     ]
    }
   ],
   "source": [
    "# print(emp_info['emp1'].pop('e_addr1', 'This key is not present'))\n",
    "\n",
    "# print(emp_info)"
   ]
  },
  {
   "cell_type": "code",
   "execution_count": 165,
   "metadata": {},
   "outputs": [
    {
     "name": "stdout",
     "output_type": "stream",
     "text": [
      "('e_addr', None)\n",
      "{'emp1': {'e_name': 'John Smith', 'e_id': 'SG101', 'e_sal': '$10,000'}, 'emp2': {'e_name': 'Smith', 'e_id': 'SG102', 'e_sal': '$9,000'}, 'emp3': {'e_name': 'Peter', 'e_id': 'SG103', 'e_sal': '$9,500'}}\n"
     ]
    }
   ],
   "source": [
    "# popitem removes a random element from a dictionary and returns the key value pair in the form of tuple\n",
    "# dict.popitem()\n",
    "\n",
    "\n",
    "# print(emp_info['emp1'].popitem())\n",
    "\n",
    "# print(emp_info)"
   ]
  },
  {
   "cell_type": "code",
   "execution_count": 170,
   "metadata": {},
   "outputs": [
    {
     "name": "stdout",
     "output_type": "stream",
     "text": [
      "{'emp1': {'e_name': 'John Smith', 'e_id': 'SG101', 'e_sal': '$10,000'}, 'emp2': {'e_name': 'Smith', 'e_id': 'SG102', 'e_sal': '$9,000'}, 'emp3': {'e_name': 'Peter', 'e_id': 'SG103', 'e_sal': '$9,500'}, 'emp4': {'e_name': 'Ray', 'e_id': 'SG104', 'e_sal': '$15,000'}, 'emp5': {'e_name': 'Broad', 'e_id': 'SG105', 'e_sal': '$19,000'}}\n"
     ]
    }
   ],
   "source": [
    "# update - similar to extend method\n",
    "\n",
    "emp_info\n",
    "\n",
    "emp_info2 = {'emp4': {'e_name': 'Ray', 'e_id': 'SG104', 'e_sal': '$15,000'},\n",
    " 'emp5': {'e_name': 'Broad', 'e_id': 'SG105', 'e_sal': '$19,000'}}\n",
    "\n",
    "emp_info.update(emp_info2)   # it updates emp_info2 into emp_info\n",
    "print(emp_info)\n",
    "\n"
   ]
  },
  {
   "cell_type": "code",
   "execution_count": 176,
   "metadata": {},
   "outputs": [
    {
     "name": "stdout",
     "output_type": "stream",
     "text": [
      "[('emp1', {'e_name': 'John Smith', 'e_id': 'SG101', 'e_sal': '$10,000'}), ('emp2', {'e_name': 'Smith', 'e_id': 'SG102', 'e_sal': '$9,000'}), ('emp3', {'e_name': 'Peter', 'e_id': 'SG103', 'e_sal': '$9,500'}), ('emp4', {'e_name': 'Ray', 'e_id': 'SG104', 'e_sal': '$15,000'}), ('emp5', {'e_name': 'Broad', 'e_id': 'SG105', 'e_sal': '$19,000'})]\n"
     ]
    }
   ],
   "source": [
    "# 'items', 'keys', 'values'\n",
    "\n",
    "# print(list(emp_info.keys()))\n",
    "\n",
    "# print(list(emp_info.values()))\n",
    "\n",
    "# print(list(emp_info.items()))\n"
   ]
  },
  {
   "cell_type": "code",
   "execution_count": 180,
   "metadata": {},
   "outputs": [
    {
     "name": "stdout",
     "output_type": "stream",
     "text": [
      "{'Vatican City': None, 'Tokelau': None, 'Niue': None, 'Falkland Islands': None, 'Saint Helena': None}\n"
     ]
    }
   ],
   "source": [
    "# fromkeys',  \n",
    "\n",
    "d = {}\n",
    "d = d.fromkeys(country_lst_head)\n",
    "print(d)\n"
   ]
  },
  {
   "cell_type": "code",
   "execution_count": 181,
   "metadata": {},
   "outputs": [
    {
     "name": "stdout",
     "output_type": "stream",
     "text": [
      "set() <class 'set'>\n"
     ]
    }
   ],
   "source": [
    "# s = set()\n",
    "# print(s, type(s))"
   ]
  },
  {
   "cell_type": "code",
   "execution_count": 183,
   "metadata": {},
   "outputs": [],
   "source": [
    "d.clear()"
   ]
  },
  {
   "cell_type": "code",
   "execution_count": 184,
   "metadata": {},
   "outputs": [
    {
     "data": {
      "text/plain": [
       "{}"
      ]
     },
     "execution_count": 184,
     "metadata": {},
     "output_type": "execute_result"
    }
   ],
   "source": [
    "d"
   ]
  },
  {
   "cell_type": "code",
   "execution_count": 185,
   "metadata": {},
   "outputs": [
    {
     "data": {
      "text/plain": [
       "{5: 25, 10: 100, 15: 225, 20: 400, 25: 625}"
      ]
     },
     "execution_count": 185,
     "metadata": {},
     "output_type": "execute_result"
    }
   ],
   "source": [
    "# square value of all elements from 5-30 and number shoulr be divisible by 5\n",
    "{i:i**2 for i in range(5,30,5)}"
   ]
  },
  {
   "cell_type": "code",
   "execution_count": 186,
   "metadata": {},
   "outputs": [
    {
     "data": {
      "text/plain": [
       "{'Vatican City': 792,\n",
       " 'Tokelau': 1300,\n",
       " 'Niue': 1618,\n",
       " 'Falkland Islands': 2910,\n",
       " 'Saint Helena': 4049}"
      ]
     },
     "execution_count": 186,
     "metadata": {},
     "output_type": "execute_result"
    }
   ],
   "source": [
    "{country_lst_head[i]:pop_lst_head[i] for i in range(len(country_lst_head))}"
   ]
  },
  {
   "cell_type": "code",
   "execution_count": null,
   "metadata": {},
   "outputs": [],
   "source": []
  },
  {
   "cell_type": "code",
   "execution_count": null,
   "metadata": {},
   "outputs": [],
   "source": []
  },
  {
   "cell_type": "code",
   "execution_count": null,
   "metadata": {},
   "outputs": [],
   "source": []
  },
  {
   "cell_type": "code",
   "execution_count": null,
   "metadata": {},
   "outputs": [],
   "source": []
  },
  {
   "cell_type": "code",
   "execution_count": null,
   "metadata": {},
   "outputs": [],
   "source": []
  },
  {
   "cell_type": "code",
   "execution_count": null,
   "metadata": {},
   "outputs": [],
   "source": []
  },
  {
   "cell_type": "code",
   "execution_count": null,
   "metadata": {},
   "outputs": [],
   "source": []
  },
  {
   "cell_type": "code",
   "execution_count": null,
   "metadata": {},
   "outputs": [],
   "source": []
  },
  {
   "cell_type": "code",
   "execution_count": null,
   "metadata": {},
   "outputs": [],
   "source": []
  },
  {
   "cell_type": "code",
   "execution_count": null,
   "metadata": {},
   "outputs": [],
   "source": []
  },
  {
   "cell_type": "code",
   "execution_count": null,
   "metadata": {},
   "outputs": [],
   "source": []
  },
  {
   "cell_type": "code",
   "execution_count": null,
   "metadata": {},
   "outputs": [],
   "source": []
  },
  {
   "cell_type": "code",
   "execution_count": null,
   "metadata": {},
   "outputs": [],
   "source": []
  },
  {
   "cell_type": "code",
   "execution_count": null,
   "metadata": {},
   "outputs": [],
   "source": []
  },
  {
   "cell_type": "code",
   "execution_count": null,
   "metadata": {},
   "outputs": [],
   "source": []
  },
  {
   "cell_type": "code",
   "execution_count": null,
   "metadata": {},
   "outputs": [],
   "source": []
  },
  {
   "cell_type": "code",
   "execution_count": null,
   "metadata": {},
   "outputs": [],
   "source": []
  }
 ],
 "metadata": {
  "kernelspec": {
   "display_name": "Python 3",
   "language": "python",
   "name": "python3"
  },
  "language_info": {
   "codemirror_mode": {
    "name": "ipython",
    "version": 3
   },
   "file_extension": ".py",
   "mimetype": "text/x-python",
   "name": "python",
   "nbconvert_exporter": "python",
   "pygments_lexer": "ipython3",
   "version": "3.7.3"
  }
 },
 "nbformat": 4,
 "nbformat_minor": 2
}
