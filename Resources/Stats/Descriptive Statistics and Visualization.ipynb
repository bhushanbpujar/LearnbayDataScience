{
 "cells": [
  {
   "cell_type": "markdown",
   "metadata": {},
   "source": [
    "# Descriptive Statistics and Charts"
   ]
  },
  {
   "cell_type": "markdown",
   "metadata": {},
   "source": [
    "## Mean, Median, Mode, Standard Deviation and Variance"
   ]
  },
  {
   "cell_type": "code",
   "execution_count": 3,
   "metadata": {},
   "outputs": [
    {
     "name": "stdout",
     "output_type": "stream",
     "text": [
      "4.285714285714286\n",
      "3.0\n",
      "ModeResult(mode=array([2]), count=array([2]))\n",
      "3.1036515689143473\n",
      "9.63265306122449\n"
     ]
    }
   ],
   "source": [
    "#Mean, Median, Mode, Standard Deviation, Variance\n",
    "import numpy as np\n",
    "from scipy import stats\n",
    "data = [1,2,2,3,4,9,9]\n",
    "\n",
    "x = np.mean(data)\n",
    "y = np.median(data)\n",
    "z = stats.mode(data)\n",
    "m = np.std(data)\n",
    "n = np.var(data)\n",
    "\n",
    "print(x)\n",
    "print(y)\n",
    "print(z)\n",
    "print(m)\n",
    "print(n)"
   ]
  },
  {
   "cell_type": "code",
   "execution_count": 5,
   "metadata": {},
   "outputs": [
    {
     "name": "stdout",
     "output_type": "stream",
     "text": [
      "[1, 2, 9]\n"
     ]
    }
   ],
   "source": [
    "#Multi-Mode\n",
    "from collections import Counter\n",
    "data = Counter([1,1,2,2,3,4,5,9,9])\n",
    "list1 = data.most_common()  #return all unique items and their counts\n",
    "list1\n",
    "max = list1[0][1]\n",
    "list2 = []\n",
    "\n",
    "for i in list1:\n",
    "    if i[1] == max:\n",
    "        list2.append(i[0])\n",
    "print(list2)"
   ]
  },
  {
   "cell_type": "markdown",
   "metadata": {},
   "source": [
    "## 5 Number Summary"
   ]
  },
  {
   "cell_type": "markdown",
   "metadata": {},
   "source": [
    "##### Method - 1"
   ]
  },
  {
   "cell_type": "code",
   "execution_count": 13,
   "metadata": {},
   "outputs": [
    {
     "name": "stdout",
     "output_type": "stream",
     "text": [
      "[ 2.   6.  13.  16.5 95. ]\n",
      "[5.]\n",
      "[17.25]\n",
      "[12.25]\n"
     ]
    }
   ],
   "source": [
    "#data = [0, 0, 1, 2, 63, 61, 27, 13]\n",
    "data = [4,3,2,8,15,14,12,18,18,95]\n",
    "print(np.percentile(data, [0, 25, 50, 75, 100], interpolation = 'midpoint'))\n",
    "\n",
    "Q1 = np.percentile(data, [25])\n",
    "Q3 = np.percentile(data, [75])\n",
    "print(Q1)\n",
    "print(Q3)\n",
    "IQR = Q3 - Q1\n",
    "print(IQR)"
   ]
  },
  {
   "cell_type": "markdown",
   "metadata": {},
   "source": [
    "##### Method - 2"
   ]
  },
  {
   "cell_type": "code",
   "execution_count": 12,
   "metadata": {},
   "outputs": [
    {
     "name": "stdout",
     "output_type": "stream",
     "text": [
      "[ 2.   6.  13.  16.5 95. ]\n"
     ]
    }
   ],
   "source": [
    "import numpy as np\n",
    "\n",
    "def fivept(data):\n",
    "    \"\"\"To find out the Five number summary\"\"\"\n",
    "    \n",
    "    return np.percentile(data, [0, 25, 50, 75, 100], interpolation = 'midpoint')\n",
    "\n",
    "datapoints = [4,3,2,8,15,14,12,18,18,95]\n",
    "\n",
    "print(fivept(datapoints))"
   ]
  },
  {
   "cell_type": "markdown",
   "metadata": {},
   "source": [
    "## Data Visualization used for Descriptive Stats"
   ]
  },
  {
   "cell_type": "markdown",
   "metadata": {},
   "source": [
    "### Line Chart"
   ]
  },
  {
   "cell_type": "code",
   "execution_count": 7,
   "metadata": {},
   "outputs": [
    {
     "data": {
      "image/png": "[encoded data removed]",
      "text/plain": [
       "<Figure size 432x288 with 1 Axes>"
      ]
     },
     "metadata": {
      "needs_background": "light"
     },
     "output_type": "display_data"
    }
   ],
   "source": [
    "#Line Chart\n",
    "import matplotlib.pyplot as plt\n",
    "plt.plot([1, 2, 3, 4], [1, 4, 9, 16])\n",
    "plt.ylabel('Y-Axis')\n",
    "plt.xlabel('X-Axis')\n",
    "plt.title('Line Chart')\n",
    "plt.show()"
   ]
  },
  {
   "cell_type": "markdown",
   "metadata": {},
   "source": [
    "### Bar Chart"
   ]
  },
  {
   "cell_type": "code",
   "execution_count": 34,
   "metadata": {},
   "outputs": [
    {
     "data": {
      "image/png": "[encoded data removed]",
      "text/plain": [
       "<Figure size 432x288 with 1 Axes>"
      ]
     },
     "metadata": {
      "needs_background": "light"
     },
     "output_type": "display_data"
    }
   ],
   "source": [
    "#Bar Chart\n",
    "import matplotlib.pyplot as plt\n",
    "plt.bar(['Python', 'Stats', 'ML', 'Deep Learning', 'SQL'],[80,69,74,56,12], label=\"DS Student Count\", color = 'b')\n",
    "#plt.legend()\n",
    "plt.xlabel('Subject', color = 'r')\n",
    "plt.ylabel('No. of Students', color = 'r')\n",
    "plt.title('Sub wise no. of Student in DS')\n",
    "plt.show()"
   ]
  },
  {
   "cell_type": "markdown",
   "metadata": {},
   "source": [
    "### Histogram"
   ]
  },
  {
   "cell_type": "code",
   "execution_count": 71,
   "metadata": {},
   "outputs": [
    {
     "data": {
      "image/png": "[encoded data removed]",
      "text/plain": [
       "<Figure size 432x288 with 1 Axes>"
      ]
     },
     "metadata": {
      "needs_background": "light"
     },
     "output_type": "display_data"
    }
   ],
   "source": [
    "#Histogram\n",
    "import matplotlib.pyplot as plt\n",
    "\n",
    "x = [10, 11,12, 15, 28,25,30,38,39,40,45,48,49,50,42,32,24,54,65,12]\n",
    "plt.hist(x, bins = 6)\n",
    "plt.show()"
   ]
  },
  {
   "cell_type": "markdown",
   "metadata": {},
   "source": [
    "### Pie Chart"
   ]
  },
  {
   "cell_type": "code",
   "execution_count": 8,
   "metadata": {},
   "outputs": [
    {
     "data": {
      "image/png": "[encoded data removed]",
      "text/plain": [
       "<Figure size 432x288 with 1 Axes>"
      ]
     },
     "metadata": {},
     "output_type": "display_data"
    }
   ],
   "source": [
    "#Pie Chart\n",
    "import matplotlib.pyplot as plt\n",
    "\n",
    "# Data to plot\n",
    "labels = 'R', 'Java', 'Python', 'SAS'\n",
    "sizes = [215, 130, 245, 210]\n",
    "colors = ['red', 'green', 'blue', 'orange']\n",
    "explode = (0, 0, 0.05, 0)  # explode 3rd slice\n",
    "\n",
    "# Plot\n",
    "plt.pie(sizes, explode=explode, labels=labels, colors=colors, autopct='%1.1f%%')\n",
    "#plt.pie(sizes, labels=labels, colors=colors,autopct='%1.1f%%')\n",
    "\n",
    "#plt.axis('equal')\n",
    "plt.show()"
   ]
  },
  {
   "cell_type": "markdown",
   "metadata": {},
   "source": [
    "### Donut Chart"
   ]
  },
  {
   "cell_type": "code",
   "execution_count": 49,
   "metadata": {},
   "outputs": [
    {
     "data": {
      "image/png": "[encoded data removed]",
      "text/plain": [
       "<Figure size 432x288 with 1 Axes>"
      ]
     },
     "metadata": {},
     "output_type": "display_data"
    }
   ],
   "source": [
    "#Donut Chart\n",
    "labels = 'Frogs', 'Hogs', 'Dogs', 'Logs'\n",
    "sizes = [15, 30, 45, 10]\n",
    "colors = ['yellowgreen', 'gold', 'lightskyblue', 'lightcoral']\n",
    "explode = (0, 0, 0, 0)  # explode a slice if required\n",
    "\n",
    "plt.pie(sizes, explode=explode, labels=labels, colors=colors,\n",
    "        autopct='%1.1f%%', shadow=True)\n",
    "        \n",
    "#draw a circle at the center of pie to make it look like a donut\n",
    "centre_circle = plt.Circle((0,0),0.75,color='black', fc='white',linewidth=1.25)\n",
    "fig = plt.gcf()\n",
    "fig.gca().add_artist(centre_circle)\n",
    "\n",
    "\n",
    "# Set aspect ratio to be equal so that pie is drawn as a circle.\n",
    "plt.axis('equal')\n",
    "plt.show()  \n"
   ]
  },
  {
   "cell_type": "markdown",
   "metadata": {},
   "source": [
    "### Scatter Plot"
   ]
  },
  {
   "cell_type": "code",
   "execution_count": 11,
   "metadata": {},
   "outputs": [
    {
     "data": {
      "image/png": "[encoded data removed]",
      "text/plain": [
       "<Figure size 432x288 with 1 Axes>"
      ]
     },
     "metadata": {
      "needs_background": "light"
     },
     "output_type": "display_data"
    }
   ],
   "source": [
    "#Scatter Plot\n",
    "import matplotlib.pyplot as plt\n",
    "x = [1,2,3,4,5,6,7,8]\n",
    "y = [5,2,4,2,1,4,5,2]\n",
    "#m = [4,5,7,8,9,4,6,8]\n",
    "\n",
    "plt.scatter(x,y, label='My Label', color='g', s=25, marker=\">\")\n",
    "#plt.scatter(m,y, label='My Label2', color='r', s=25, marker=\"x\")\n",
    "plt.xlabel('x')\n",
    "plt.ylabel('y')\n",
    "plt.title('Scatter Plot')\n",
    "plt.legend()\n",
    "plt.show()"
   ]
  },
  {
   "cell_type": "markdown",
   "metadata": {},
   "source": [
    "### Box Plot"
   ]
  },
  {
   "cell_type": "code",
   "execution_count": 48,
   "metadata": {},
   "outputs": [
    {
     "data": {
      "text/plain": [
       "<matplotlib.axes._subplots.AxesSubplot at 0x1a22303e90>"
      ]
     },
     "execution_count": 48,
     "metadata": {},
     "output_type": "execute_result"
    },
    {
     "data": {
      "image/png": "[encoded data removed]",
      "text/plain": [
       "<Figure size 432x288 with 1 Axes>"
      ]
     },
     "metadata": {
      "needs_background": "light"
     },
     "output_type": "display_data"
    }
   ],
   "source": [
    "#Box Plot\n",
    "import pandas as pd\n",
    "import numpy as np\n",
    "df = pd.DataFrame(np.random.rand(10, 5), columns=['A', 'B', 'C', 'D', 'E'])\n",
    "df.plot.box()\n",
    "#df.describe()"
   ]
  },
  {
   "cell_type": "markdown",
   "metadata": {},
   "source": [
    "## Skewness and Kurtosis"
   ]
  },
  {
   "cell_type": "code",
   "execution_count": 61,
   "metadata": {},
   "outputs": [
    {
     "name": "stdout",
     "output_type": "stream",
     "text": [
      "0.015637500727866183\n",
      "0.011308261446511522\n"
     ]
    }
   ],
   "source": [
    "#Skewness & Kurtosis\n",
    "import numpy as np\n",
    "from scipy.stats import kurtosis, skew\n",
    "x = np.random.normal(0, 2, 10000)   # create random values based on a normal distribution\n",
    "\n",
    "print(skew(x))\n",
    "print(kurtosis(x))"
   ]
  },
  {
   "cell_type": "markdown",
   "metadata": {},
   "source": [
    "## Finding Outliers"
   ]
  },
  {
   "cell_type": "code",
   "execution_count": 31,
   "metadata": {},
   "outputs": [
    {
     "data": {
      "text/plain": [
       "[15, -18]"
      ]
     },
     "execution_count": 31,
     "metadata": {},
     "output_type": "execute_result"
    }
   ],
   "source": [
    "#Finding Outliers\n",
    "#IQR Method\n",
    "\n",
    "import numpy as np\n",
    "data = [1, 2, 2, 2, 3, 1, 1, 15, 2, 2, 2, 3, -18,1, 1, 2]\n",
    "def Outlier_detection(var):\n",
    "    Q1, Q3 = np.percentile(var, [25,75])\n",
    "    IQR = Q3-Q1\n",
    "    lower_bound = Q1 - (IQR * 1.5)\n",
    "    upper_bound = Q3 + (IQR * 1.5)\n",
    "    out = [var for var in var if (var > upper_bound) or (var < lower_bound)]\n",
    "    \n",
    "    #return np.where((var > upper_bound) | (var < lower_bound))\n",
    "    return out\n",
    "\n",
    "Outlier_detection(data)"
   ]
  },
  {
   "cell_type": "code",
   "execution_count": 1,
   "metadata": {},
   "outputs": [
    {
     "name": "stdout",
     "output_type": "stream",
     "text": [
      "mean of the dataset is 2.6666666666666665\n",
      "std. deviation is 3.3598941782277745\n",
      "outlier in dataset is [15]\n"
     ]
    }
   ],
   "source": [
    "#Finding Outliers\n",
    "#Z-Score Method\n",
    "\n",
    "import numpy as np\n",
    "data = [1, 2, 2, 2, 3, 1, 1, 15, 2, 2, 2, 3, 1, 1, 2] \n",
    "mean = np.mean(data) \n",
    "std = np.std(data)\n",
    "\n",
    "print('mean of the dataset is', mean) \n",
    "print('std. deviation is', std) \n",
    "\n",
    "threshold = 3\n",
    "outlier = [] \n",
    "for i in data: \n",
    "    z = (i-mean)/std \n",
    "    if z > threshold: \n",
    "        outlier.append(i) \n",
    "print('outlier in dataset is', outlier)"
   ]
  },
  {
   "cell_type": "markdown",
   "metadata": {},
   "source": [
    "## Co-Variance"
   ]
  },
  {
   "cell_type": "code",
   "execution_count": 46,
   "metadata": {},
   "outputs": [
    {
     "name": "stdout",
     "output_type": "stream",
     "text": [
      "[[2.03629167 0.9313    ]\n",
      " [0.9313     0.4498    ]]\n"
     ]
    }
   ],
   "source": [
    "#Finding Co-variance\n",
    "import numpy as np \n",
    "x = [1.23, 2.12, 3.34, 4.5]   \n",
    "y = [2.56, 2.89, 3.76, 3.95]   \n",
    "\n",
    "cov_mat = np.array([x, y])    \n",
    "print(np.cov(cov_mat))"
   ]
  },
  {
   "cell_type": "markdown",
   "metadata": {},
   "source": [
    "## Correlation Coefficient - Pearson & Spearman"
   ]
  },
  {
   "cell_type": "code",
   "execution_count": 37,
   "metadata": {},
   "outputs": [
    {
     "name": "stdout",
     "output_type": "stream",
     "text": [
      "0.6977677642916631\n",
      "0.4424242424242424\n"
     ]
    }
   ],
   "source": [
    "# Finding Correlation between variables\n",
    "import numpy as np\n",
    "import scipy.stats\n",
    "x = np.array([10, 20,30,80,34,24,12,18,98,102])\n",
    "y = np.array([2, 1, 4, 5, 8, 12, 18, 25, 96, 48])\n",
    "print(scipy.stats.pearsonr(x, y)[0])    # Pearson's r\n",
    "print(scipy.stats.spearmanr(x, y)[0])   # Spearman's correlation"
   ]
  }
 ],
 "metadata": {
  "kernelspec": {
   "display_name": "Python 3",
   "language": "python",
   "name": "python3"
  },
  "language_info": {
   "codemirror_mode": {
    "name": "ipython",
    "version": 3
   },
   "file_extension": ".py",
   "mimetype": "text/x-python",
   "name": "python",
   "nbconvert_exporter": "python",
   "pygments_lexer": "ipython3",
   "version": "3.7.4"
  }
 },
 "nbformat": 4,
 "nbformat_minor": 2
}
