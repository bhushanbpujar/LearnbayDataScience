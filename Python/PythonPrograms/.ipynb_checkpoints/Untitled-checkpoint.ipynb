{
 "cells": [
  {
   "cell_type": "code",
   "execution_count": 1,
   "metadata": {
    "scrolled": true
   },
   "outputs": [
    {
     "name": "stdout",
     "output_type": "stream",
     "text": [
      "Enter first Number: 5\n",
      "Enter second Number: 5\n",
      "Sum: 10\n"
     ]
    }
   ],
   "source": [
    "# Python program to add two numbers\n",
    "n1=int(input(\"Enter first Number: \"))\n",
    "n2=int(input(\"Enter second Number: \"))\n",
    "res=n1+n2\n",
    "print(\"Sum: {0}\".format(res))"
   ]
  },
  {
   "cell_type": "code",
   "execution_count": 2,
   "metadata": {
    "scrolled": true
   },
   "outputs": [
    {
     "name": "stdout",
     "output_type": "stream",
     "text": [
      "Enter first Number: 7\n",
      "Enter second Number: 4\n",
      "Max: 7\n"
     ]
    }
   ],
   "source": [
    "# Maximum of two numbers in Python\n",
    "n1=int(input(\"Enter first Number: \"))\n",
    "n2=int(input(\"Enter second Number: \"))\n",
    "if n1>n2:\n",
    "    print(f\"Max: {n1}\")\n",
    "elif n1==n2:\n",
    "    print(\"Both values are equal\")\n",
    "else: \n",
    "    print(f\"Max: {n2}\")"
   ]
  },
  {
   "cell_type": "code",
   "execution_count": 3,
   "metadata": {
    "scrolled": true
   },
   "outputs": [
    {
     "name": "stdout",
     "output_type": "stream",
     "text": [
      "Enter a Number: 5\n",
      "120\n"
     ]
    }
   ],
   "source": [
    "# Python Program for factorial of a number\n",
    "n1=int(input(\"Enter a Number: \"))\n",
    "res=1\n",
    "temp=n1\n",
    "while temp>0:\n",
    "    res=res*temp\n",
    "    temp=temp-1\n",
    "print(res)"
   ]
  },
  {
   "cell_type": "code",
   "execution_count": 4,
   "metadata": {},
   "outputs": [
    {
     "name": "stdout",
     "output_type": "stream",
     "text": [
      "Enter principal amount: 6\n",
      "Enter rate of Interest: 5\n",
      "Enter time period in years: 4\n",
      "Simple Interest= 1.2\n"
     ]
    }
   ],
   "source": [
    "# Python Program for simple interest\n",
    "principal_amount=int(input(\"Enter principal amount: \"))\n",
    "interest_rate=int(input(\"Enter rate of Interest: \"))\n",
    "time=int(input(\"Enter time period in years: \"))\n",
    "simple_interest=(principal_amount*interest_rate*time)/100\n",
    "print(f\"Simple Interest= {simple_interest}\")"
   ]
  },
  {
   "cell_type": "code",
   "execution_count": 15,
   "metadata": {},
   "outputs": [
    {
     "name": "stdout",
     "output_type": "stream",
     "text": [
      "Enter a Number: 1634\n",
      "1634 is an Armstrong Number\n"
     ]
    }
   ],
   "source": [
    "# Python Program to check Armstrong Number\n",
    "n1=int(input(\"Enter a Number: \"))\n",
    "n2=list(str(n1))\n",
    "power=len(n2)\n",
    "temp=n1\n",
    "res=0\n",
    "while temp>0:\n",
    "    digit=temp%10\n",
    "    res=res+pow(digit,power)\n",
    "    temp=temp//10\n",
    "if res==n1:\n",
    "    print(f\"{res} is an Armstrong Number\")\n",
    "else:\n",
    "    print(f\"{res} is not an Armstrong Number\")"
   ]
  },
  {
   "cell_type": "code",
   "execution_count": 30,
   "metadata": {
    "scrolled": true
   },
   "outputs": [
    {
     "name": "stdout",
     "output_type": "stream",
     "text": [
      "Enter a Number: 1000\n",
      "Not Prime\n"
     ]
    }
   ],
   "source": [
    "# Python program to check whether a number is Prime or not\n",
    "n1=int(input(\"Enter a Number: \"))\n",
    "flag=True\n",
    "for i in range(2,(n1//2)):\n",
    "    res=n1%i\n",
    "    if res==0:\n",
    "        flag=False\n",
    "if flag:\n",
    "    print(\"Prime\")\n",
    "else:\n",
    "    print(\"Not Prime\")"
   ]
  },
  {
   "cell_type": "code",
   "execution_count": 37,
   "metadata": {},
   "outputs": [
    {
     "name": "stdout",
     "output_type": "stream",
     "text": [
      "55\n"
     ]
    }
   ],
   "source": [
    "# Python Program to find sum of array\n",
    "res=0\n",
    "list1=[1,2,3,4,5,6,7,8,9,10]\n",
    "for i in list1:\n",
    "    res=res+i\n",
    "print(res)"
   ]
  },
  {
   "cell_type": "code",
   "execution_count": 51,
   "metadata": {},
   "outputs": [
    {
     "name": "stdout",
     "output_type": "stream",
     "text": [
      "10\n"
     ]
    }
   ],
   "source": [
    "#Python Program to find largest element in an array\n",
    "res=0\n",
    "list1=[10,2,3,4,11,6,7,8,9,10]\n",
    "for i in range(0,len(list1)):\n",
    "    for j in range(i+1,len(list1)):\n",
    "               if list1[i]>list1[j]:\n",
    "                   res=list1[i]\n",
    "if (res==0):\n",
    "    print(list1[len(list1)-1])\n",
    "else:\n",
    "    print(res)"
   ]
  }
 ],
 "metadata": {
  "kernelspec": {
   "display_name": "Python 3",
   "language": "python",
   "name": "python3"
  },
  "language_info": {
   "codemirror_mode": {
    "name": "ipython",
    "version": 3
   },
   "file_extension": ".py",
   "mimetype": "text/x-python",
   "name": "python",
   "nbconvert_exporter": "python",
   "pygments_lexer": "ipython3",
   "version": "3.8.3"
  }
 },
 "nbformat": 4,
 "nbformat_minor": 4
}
