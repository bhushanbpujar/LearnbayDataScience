{
 "cells": [
  {
   "cell_type": "code",
   "execution_count": null,
   "metadata": {},
   "outputs": [],
   "source": [
    "#1\n",
    "Output: 6 19\n",
    "    \n",
    "#2\n",
    "str=input(\"Enter a string: \")\n",
    "print(len(str))\n"
   ]
  },
  {
   "cell_type": "code",
   "execution_count": null,
   "metadata": {},
   "outputs": [],
   "source": [
    "#3\n",
    "a=int(input(\"Enter a no.\"))\n",
    "b=int(input(\"Enter a no.\"))\n",
    "sum=a+b\n",
    "if a>=b:\n",
    "    difference=a-b\n",
    "else:\n",
    "    difference=b-a\n",
    "print(sum)\n",
    "print(difference)"
   ]
  },
  {
   "cell_type": "code",
   "execution_count": null,
   "metadata": {},
   "outputs": [],
   "source": [
    "#6\n",
    "Output: abde\n",
    "#7\n",
    "Output: abababab"
   ]
  },
  {
   "cell_type": "code",
   "execution_count": null,
   "metadata": {},
   "outputs": [],
   "source": [
    "#8\n",
    "s = input(\"Enter a string : \")\n",
    "s1 = s+\"\\n\"\n",
    "n = int(input(\"Enter a number : \"))\n",
    "print(s1*n)"
   ]
  },
  {
   "cell_type": "code",
   "execution_count": null,
   "metadata": {},
   "outputs": [],
   "source": [
    "#9\n",
    "Output: None\n",
    "#10\n",
    "Output: NoneType\n",
    "#11\n",
    "Output: Str 24\n"
   ]
  },
  {
   "cell_type": "markdown",
   "metadata": {},
   "source": [
    "#12\n",
    "import math\n",
    "\n",
    "print(dir())"
   ]
  },
  {
   "cell_type": "code",
   "execution_count": 1,
   "metadata": {},
   "outputs": [
    {
     "name": "stdout",
     "output_type": "stream",
     "text": [
      "Please enter a number: 4\n",
      "Square root: 2.0\n"
     ]
    }
   ],
   "source": [
    "#13\n",
    "import math\n",
    "number = int(input(\"Please enter a number: \"))\n",
    "\n",
    "print(\"Square root:\", math.sqrt(number))"
   ]
  },
  {
   "cell_type": "markdown",
   "metadata": {},
   "source": []
  },
  {
   "cell_type": "code",
   "execution_count": 2,
   "metadata": {},
   "outputs": [
    {
     "name": "stdout",
     "output_type": "stream",
     "text": [
      "Enter a no.5\n",
      "Enter a no.5\n",
      "Enter a no.5\n",
      "Enter a no.5\n",
      "5.0\n"
     ]
    }
   ],
   "source": [
    "#14\n",
    "a=int(input(\"Enter a no.\"))\n",
    "b=int(input(\"Enter a no.\"))\n",
    "c=int(input(\"Enter a no.\"))\n",
    "d=int(input(\"Enter a no.\"))\n",
    "average=(a+b+c+d)/4\n",
    "print(average)"
   ]
  },
  {
   "cell_type": "code",
   "execution_count": 3,
   "metadata": {
    "scrolled": true
   },
   "outputs": [
    {
     "name": "stdout",
     "output_type": "stream",
     "text": [
      "Help on built-in function abs in module builtins:\n",
      "\n",
      "abs(x, /)\n",
      "    Return the absolute value of the argument.\n",
      "\n"
     ]
    }
   ],
   "source": [
    "#15\n",
    "help(abs)"
   ]
  },
  {
   "cell_type": "code",
   "execution_count": 4,
   "metadata": {
    "scrolled": true
   },
   "outputs": [
    {
     "name": "stdout",
     "output_type": "stream",
     "text": [
      "__main__\n"
     ]
    }
   ],
   "source": [
    "#17\n",
    "print(__name__)"
   ]
  },
  {
   "cell_type": "code",
   "execution_count": null,
   "metadata": {},
   "outputs": [],
   "source": [
    "#18\n",
    "No\n",
    "#19\n",
    "__main__\n",
    "builtins\n",
    "int\n"
   ]
  }
 ],
 "metadata": {
  "kernelspec": {
   "display_name": "Python 3",
   "language": "python",
   "name": "python3"
  },
  "language_info": {
   "codemirror_mode": {
    "name": "ipython",
    "version": 3
   },
   "file_extension": ".py",
   "mimetype": "text/x-python",
   "name": "python",
   "nbconvert_exporter": "python",
   "pygments_lexer": "ipython3",
   "version": "3.8.3"
  }
 },
 "nbformat": 4,
 "nbformat_minor": 4
}
