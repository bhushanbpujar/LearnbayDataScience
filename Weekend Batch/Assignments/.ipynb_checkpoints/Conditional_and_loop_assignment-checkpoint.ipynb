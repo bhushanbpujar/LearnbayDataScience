{
 "cells": [
  {
   "cell_type": "code",
   "execution_count": 5,
   "metadata": {
    "scrolled": true
   },
   "outputs": [
    {
     "name": "stdout",
     "output_type": "stream",
     "text": [
      "Enter a number between 0-9 only5\n",
      "five\n"
     ]
    }
   ],
   "source": [
    "#W. A P. which takes one number from 0 to 9 from the user and prints it in the word. And if the word is not from 0 to 9 then\n",
    "#it should print that number is outside of the range and program should exit.\n",
    "n=int(input(\"Enter a number between 0-9 only: \"))\n",
    "if n==0:\n",
    "    print(\"zero\")\n",
    "elif n==1:\n",
    "    print(\"one\")\n",
    "elif n==2:\n",
    "    print(\"two\")\n",
    "elif n==3:\n",
    "    print(\"three\")\n",
    "elif n==4:\n",
    "    print(\"four\")\n",
    "elif n==5:\n",
    "    print(\"five\")\n",
    "elif n==6:\n",
    "    print(\"six\")\n",
    "elif n==7:\n",
    "    print(\"seven\")\n",
    "elif n==8:\n",
    "    print(\"eight\")\n",
    "elif n==9:\n",
    "    print(\"nine\")\n",
    "else: \n",
    "    print(\"Outside the range\")"
   ]
  },
  {
   "cell_type": "code",
   "execution_count": 11,
   "metadata": {},
   "outputs": [
    {
     "name": "stdout",
     "output_type": "stream",
     "text": [
      "Please select any one operation from below:- \n",
      "\t * To add enter 1\n",
      "\t * To subtract enter 2\n",
      "\t * To multiply enter 3\n",
      "\t * To divide enter 4\n",
      "\t * To divide and find quotient enter 5\n",
      "\t * To divide and find remainder enter 6\n",
      "\t * To divide and find num1 to the power of num2 enter 7\n",
      "\t * To Come out of the program enter 8\n",
      "Enter number for operation: 5\n",
      "Enter first number: 9\n",
      "Enter second number: 3\n",
      "3\n"
     ]
    }
   ],
   "source": [
    "#W. A P. to implement calculator but the operation to be done and two numbers will be taken as input from user:-\n",
    "#Operation console should show below:-\n",
    "#     Please select any one operation from below:-\n",
    "#         * To add enter 1\n",
    "#         * to subtract enter 2\n",
    "#         * To multiply enter 3\n",
    "#         * To divide enter 4\n",
    "#         * To divide and find quotient enter 5\n",
    "#         * To divide and find remainder enter 6\n",
    "#         * To divide and find num1 to the power of num2 enter 7\n",
    "#         * To Come out of the program enter 8\n",
    "\n",
    "print(\"Please select any one operation from below:- \")\n",
    "print(\"\\t * To add enter 1\")\n",
    "print(\"\\t * To subtract enter 2\")\n",
    "print(\"\\t * To multiply enter 3\")\n",
    "print(\"\\t * To divide enter 4\")\n",
    "print(\"\\t * To divide and find quotient enter 5\")\n",
    "print(\"\\t * To divide and find remainder enter 6\")\n",
    "print(\"\\t * To divide and find num1 to the power of num2 enter 7\")\n",
    "print(\"\\t * To Come out of the program enter 8\")\n",
    "n=int(input(\"Enter number for operation: \"))\n",
    "n1=int(input(\"Enter first number: \"))\n",
    "n2=int(input(\"Enter second number: \"))\n",
    "res=0\n",
    "if n==1:\n",
    "    print(n1+n2)\n",
    "elif n==2:\n",
    "    print(n1-n2)\n",
    "elif n==3:\n",
    "    print(n1*n2)\n",
    "elif n==4:\n",
    "    print(n1/n2)\n",
    "elif n==5:\n",
    "    print(n1//n2)\n",
    "elif n==6:\n",
    "    print(n1%n2)\n",
    "elif n==7:\n",
    "    print(n1**n2)\n",
    "elif n==8:\n",
    "    print()"
   ]
  },
  {
   "cell_type": "code",
   "execution_count": 18,
   "metadata": {},
   "outputs": [
    {
     "name": "stdout",
     "output_type": "stream",
     "text": [
      "Enter a year : 2011\n",
      "It is not a leap year\n"
     ]
    }
   ],
   "source": [
    "#W A P to check whether a year entered by user is an leap year or not?\n",
    "#Check with below input:-\n",
    "#leap year:- 2012, 1968, 2004, 1200, 1600,2400\n",
    "#Non-lear year:- 1971, 2006, 1700,1800,1900\n",
    "\n",
    "year = int(input(\"Enter a year : \"))\n",
    "\n",
    "if year%4==0:\n",
    "    if year%100==0 and year%400!=0:\n",
    "        print(\"It is not a leap year\")\n",
    "    elif year%100==0 and year%400==0:\n",
    "        print(\"It is leap year\")\n",
    "    else:\n",
    "        print(\"It is leap year\")\n",
    "else:\n",
    "    print(\"It is not a leap year\")"
   ]
  },
  {
   "cell_type": "code",
   "execution_count": null,
   "metadata": {},
   "outputs": [],
   "source": [
    "#W A P which takes one number from the user and checks whether it is an even or odd number?, If it even then prints number is \n",
    "#even number else prints that number is odd number.\n",
    "n=int(input(\"Enter a number: \"))\n",
    "if n%2==0:\n",
    "    print(\"Even\")\n",
    "else: \n",
    "    print(\"Odd\")"
   ]
  },
  {
   "cell_type": "code",
   "execution_count": 21,
   "metadata": {
    "scrolled": true
   },
   "outputs": [
    {
     "name": "stdout",
     "output_type": "stream",
     "text": [
      "Enter first number: 5\n",
      "Enter second number: 9\n",
      "9 is greater than 5\n"
     ]
    }
   ],
   "source": [
    "#W A P which takes two numbers from the user and prints below output:-\n",
    "#     1. num1 is greater than num2 if num1 is greater than num2\n",
    "#     2. num1 is smaller than num2 if num1 is smaller than num2\n",
    "#     3. num1 is equal to num2 if num1 and num2 are equal\n",
    "n1=int(input(\"Enter first number: \"))\n",
    "n2=int(input(\"Enter second number: \"))\n",
    "if n1>n2:\n",
    "    print(f\"{n1} is greater than {n2}\")\n",
    "elif n2>n1:\n",
    "    print(f\"{n2} is greater than {n1}\")\n",
    "else: \n",
    "    print(f\"{n1} is equal to {n2}\")"
   ]
  },
  {
   "cell_type": "code",
   "execution_count": 22,
   "metadata": {},
   "outputs": [
    {
     "name": "stdout",
     "output_type": "stream",
     "text": [
      "55\n"
     ]
    }
   ],
   "source": [
    "#Write a Python program to find the length of the my_str using loop:-\n",
    "\n",
    "my_str='Write a Python program to find the length of the my_str'\n",
    "count=0\n",
    "for i in my_str:\n",
    "    count+=1\n",
    "print(count)"
   ]
  },
  {
   "cell_type": "code",
   "execution_count": 23,
   "metadata": {},
   "outputs": [
    {
     "name": "stdout",
     "output_type": "stream",
     "text": [
      "9\n"
     ]
    }
   ],
   "source": [
    "#Write a Python program to find the total number of times letter 'p' is appeared in the below string using loop:-\n",
    "my_str='peter piper picked a peck of pickled peppers.\\n'\n",
    "count=0\n",
    "for i in my_str:\n",
    "    if i=='p':\n",
    "        count+=1\n",
    "print(count)"
   ]
  },
  {
   "cell_type": "code",
   "execution_count": 29,
   "metadata": {},
   "outputs": [
    {
     "name": "stdout",
     "output_type": "stream",
     "text": [
      "0\n",
      "6\n",
      "8\n",
      "12\n",
      "21\n",
      "29\n",
      "37\n",
      "39\n",
      "40\n"
     ]
    }
   ],
   "source": [
    "#Write a Python Program, to print all the indexes of all occurences of letter 'p' appeared in the string using loop:-\n",
    "my_str='peter piper picked a peck of pickled peppers.'\n",
    "for i in range(0,len(my_str)):\n",
    "    if my_str[i]=='p':\n",
    "        print(i)"
   ]
  },
  {
   "cell_type": "code",
   "execution_count": 69,
   "metadata": {},
   "outputs": [
    {
     "name": "stdout",
     "output_type": "stream",
     "text": [
      "['peter', 'piper', 'picked', 'a', 'peck', 'of', 'pickled', 'peppers']\n"
     ]
    }
   ],
   "source": [
    "#Write a python program to find below output using loop:-\n",
    "my_str='peter piper picked a peck of pickled peppers.'\n",
    "list1=[]\n",
    "res=\"\"\n",
    "for i in my_str:\n",
    "    if i!=\" \" and i!=\".\":\n",
    "        res=res+i\n",
    "    else:\n",
    "        list1.append(res)\n",
    "        res=\"\"\n",
    "print(list1)"
   ]
  },
  {
   "cell_type": "code",
   "execution_count": 11,
   "metadata": {},
   "outputs": [
    {
     "name": "stdout",
     "output_type": "stream",
     "text": [
      "['peter piper picked a peck of pickled peppers', '']\n",
      "peter piper picked a peck of pickled peppers\n",
      "peppers pickled of peck a picked piper peter\n"
     ]
    }
   ],
   "source": [
    "#Write a python program to find below output using loop:-\n",
    "#Input:- 'peter piper picked a peck of pickled peppers.'\n",
    "#Output:- 'peppers pickled of peck a picked piper peter'\n",
    "def reverse_string_words(string):\n",
    "    for line in string.split('.'):\n",
    "        print(line)\n",
    "        return(' '.join(line.split()[::-1]))\n",
    "my_str='peter piper picked a peck of pickled peppers.'\n",
    "line1=my_str.split('.')\n",
    "print(line1)\n",
    "print(reverse_string_words(my_str))"
   ]
  },
  {
   "cell_type": "code",
   "execution_count": 10,
   "metadata": {},
   "outputs": [
    {
     "name": "stdout",
     "output_type": "stream",
     "text": [
      ".sreppep delkcip fo kcep a dekcip repip retep"
     ]
    }
   ],
   "source": [
    "#Write a python program to find below output using loop:-\n",
    "\n",
    "#Input:- 'peter piper picked a peck of pickled peppers.'\n",
    "#Output:- '.sreppep delkcip fo kcep a dekcip repip retep'\n",
    "my_str='peter piper picked a peck of pickled peppers.'\n",
    "for i in range(len(my_str)-1,-1,-1):\n",
    "    print(my_str[i],end=\"\")"
   ]
  },
  {
   "cell_type": "code",
   "execution_count": 68,
   "metadata": {
    "scrolled": true
   },
   "outputs": [
    {
     "name": "stdout",
     "output_type": "stream",
     "text": [
      "retep repip dekcip a kcep fo delkcip sreppep  "
     ]
    }
   ],
   "source": [
    "#Write a python program to find below output using loop:-\n",
    "\n",
    "#Input:- 'peter piper picked a peck of pickled peppers.'\n",
    "#Output:- 'retep repip dekcip a kcep fo delkcip sreppep'\n",
    "my_str='peter piper picked a peck of pickled peppers.'\n",
    "for i in my_str.split(\".\"):\n",
    "        for j in i.split(\" \"):\n",
    "            print(j[len(j)-1::-1], end=\" \")\n",
    "res=(reverse_words(my_str))\n",
    "#print(res)"
   ]
  },
  {
   "cell_type": "code",
   "execution_count": 102,
   "metadata": {},
   "outputs": [
    {
     "name": "stdout",
     "output_type": "stream",
     "text": [
      "Peter Piper Picked A Peck Of Pickled Peppers  "
     ]
    }
   ],
   "source": [
    "#Write a python program to find below output using loop:-\n",
    "\n",
    "#Input:- 'peter piper picked a peck of pickled peppers.'\n",
    "#Output:- 'Peter Piper Picked A Peck Of Pickled Peppers'\n",
    "my_str='peter piper picked a peck of pickled peppers.'\n",
    "for i in my_str.split(\".\"):\n",
    "        for j in i.split(\" \"):\n",
    "            print(j.capitalize(),end=\" \")"
   ]
  },
  {
   "cell_type": "code",
   "execution_count": 116,
   "metadata": {},
   "outputs": [
    {
     "name": "stdout",
     "output_type": "stream",
     "text": [
      "Peter piper picked a peck of pickled peppers  "
     ]
    }
   ],
   "source": [
    "#Write a python program to find below output using loop:-\n",
    "\n",
    "#Input:- 'Peter Piper Picked A Peck Of Pickled Peppers.'\n",
    "#Output:- 'Peter piper picked a peck of pickled peppers'\n",
    "my_str='Peter Piper Picked A Peck Of Pickled Peppers.'\n",
    "for i in my_str.split(\".\"):\n",
    "            print(i.lower().capitalize(),end=\" \")"
   ]
  },
  {
   "cell_type": "code",
   "execution_count": 153,
   "metadata": {},
   "outputs": [
    {
     "name": "stdout",
     "output_type": "stream",
     "text": [
      "37\n"
     ]
    }
   ],
   "source": [
    "#Write a python program to implement index method using loop. If sub_str is found in my_str then it will print the index\n",
    "# of first occurrence of first character of matching string in my_str:-\n",
    "\n",
    "#Input:- my_str = 'Peter Piper Picked A Peck Of Pickled Peppers.', sub_str = 'Pickl'\n",
    "#Output:- 29\n",
    "my_str = 'Peter Piper Picked A Peck Of Pickled Peppers.'\n",
    "sub_str = 'Peppers'\n",
    "flag=False\n",
    "for i in range(0,len(my_str)):\n",
    "    x=i\n",
    "    for j in range(0,len(sub_str)):\n",
    "        if my_str[i]==sub_str[j]:\n",
    "            if flag==True:\n",
    "                count=0\n",
    "            count+=1\n",
    "            flag=False\n",
    "            i+=1\n",
    "        else:\n",
    "            flag=True\n",
    "    if(count==len(sub_str)):\n",
    "        print(x)"
   ]
  },
  {
   "cell_type": "code",
   "execution_count": 69,
   "metadata": {},
   "outputs": [
    {
     "name": "stdout",
     "output_type": "stream",
     "text": [
      "1\n"
     ]
    }
   ],
   "source": [
    "my_str = 'Peter Piper Picked A Peck Of Pickled Peppers.'\n",
    "sub_str = 'Of'\n",
    "count=0\n",
    "for i in range(0,len(my_str)):\n",
    "    x=i\n",
    "    for j in range(0,len(sub_str)):\n",
    "        if my_str[i]==sub_str[j]:\n",
    "            count+=1\n",
    "            i+=1\n",
    "        else:\n",
    "            count=0\n",
    "    if (count==len(sub_str)):\n",
    "        print(x)"
   ]
  },
  {
   "cell_type": "code",
   "execution_count": 48,
   "metadata": {},
   "outputs": [
    {
     "name": "stdout",
     "output_type": "stream",
     "text": [
      "Peter Piper Picked A Peck Of Pickled Beppers.\n"
     ]
    }
   ],
   "source": [
    "#Write a python program to implement replace method using loop. If sub_str is found in my_str then it will replace the first \n",
    "#occurrence of sub_str with new_str else it will will print sub_str not found:-\n",
    "\n",
    "#Input:- my_str = 'Peter Piper Picked A Peck Of Pickled Peppers.', sub_str = 'Peck', new_str = 'Pack'\n",
    "#Output:- 'Peter Piper Picked A Pack Of Pickled Peppers.'\n",
    "\n",
    "my_str = 'Peter Piper Picked A Peck Of Pickled Peppers.'\n",
    "sub_str = ' Peppers.'\n",
    "new_str=\" Beppers.\"\n",
    "count=0\n",
    "for i in range(0,len(my_str)):\n",
    "    x=i\n",
    "    for j in range(0,len(sub_str)):\n",
    "        if my_str[i]==sub_str[j]:\n",
    "            count+=1\n",
    "            i+=1\n",
    "        else:\n",
    "            count=0\n",
    "    if (count==len(sub_str)):\n",
    "        res=\"\"\n",
    "        res=my_str[0:x]+new_str+my_str[x+count::]\n",
    "        print(res)"
   ]
  },
  {
   "cell_type": "code",
   "execution_count": 209,
   "metadata": {},
   "outputs": [
    {
     "name": "stdout",
     "output_type": "stream",
     "text": [
      "*********************Peck********************\n"
     ]
    }
   ],
   "source": [
    "#Write a python program to find below output (implements rjust and ljust) using loop:-\n",
    "#Input:- 'Peter Piper Picked A Peck Of Pickled Peppers.', sub_str = 'Peck', \n",
    "#Output:- '*********************Peck********************'\n",
    "my_str = 'Peter Piper Picked A Peck Of Pickled Peppers.'\n",
    "sub_str = 'Of'\n",
    "new_str=\"Beppers\"\n",
    "count=0\n",
    "for i in range(0,len(my_str)):\n",
    "    x=i\n",
    "    for j in range(0,len(sub_str)):\n",
    "        if my_str[i]==sub_str[j]:\n",
    "            count+=1\n",
    "            i+=1\n",
    "        else:\n",
    "            count=0\n",
    "    if (count==len(sub_str)):\n",
    "        res=\"\"\n",
    "        for i in range(0,x):\n",
    "            res=res+\"*\"\n",
    "        res=res+sub_str\n",
    "        for j in range(x+count,len(my_str)):\n",
    "            res=res+\"*\"\n",
    "        print(res)"
   ]
  },
  {
   "cell_type": "code",
   "execution_count": 72,
   "metadata": {},
   "outputs": [
    {
     "name": "stdout",
     "output_type": "stream",
     "text": [
      "0\n",
      "0\n",
      "2\n",
      "1\n",
      "4\n",
      "2\n",
      "1\n",
      "0\n",
      "0\n",
      "0\n",
      "0\n",
      "0\n",
      "0\n",
      "0\n",
      "0\n",
      "0\n",
      "0\n",
      "0\n",
      "1\n",
      "1\n",
      "[]\n"
     ]
    }
   ],
   "source": [
    "#Write a python program to find below output using loop:-\n",
    "\n",
    "#Input:- 'This is Python class', sep = ' is', \n",
    "#Output:- ['This', 'is', 'Python class']\n",
    "\n",
    "my_str = 'This is Python class'\n",
    "sep = 'is'\n",
    "# print(len(my_str))\n",
    "# print(len(sep))\n",
    "count=0\n",
    "list1=[]\n",
    "for i in range(0,len(my_str)):\n",
    "    x=i\n",
    "    for j in range(0,len(sep)):\n",
    "        if sep[j]==my_str[i]:\n",
    "            count+=1\n",
    "            i+=1\n",
    "        else:\n",
    "            count=0\n",
    "    print(count)\n",
    "    if (count==len(sep)):\n",
    "        list1.append(my_str[0:x])\n",
    "        list1.append(sep)\n",
    "        list1.append(my_str[len(sep)+x:len(my_str)])\n",
    "print(list1)"
   ]
  }
 ],
 "metadata": {
  "kernelspec": {
   "display_name": "Python 3",
   "language": "python",
   "name": "python3"
  },
  "language_info": {
   "codemirror_mode": {
    "name": "ipython",
    "version": 3
   },
   "file_extension": ".py",
   "mimetype": "text/x-python",
   "name": "python",
   "nbconvert_exporter": "python",
   "pygments_lexer": "ipython3",
   "version": "3.8.3"
  }
 },
 "nbformat": 4,
 "nbformat_minor": 4
}
