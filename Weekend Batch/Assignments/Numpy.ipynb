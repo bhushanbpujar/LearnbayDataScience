{
 "cells": [
  {
   "cell_type": "code",
   "execution_count": 2,
   "metadata": {},
   "outputs": [
    {
     "name": "stdout",
     "output_type": "stream",
     "text": [
      "1.18.5\n"
     ]
    }
   ],
   "source": [
    "import numpy as np \n",
    "print(np.__version__)"
   ]
  },
  {
   "cell_type": "code",
   "execution_count": 11,
   "metadata": {},
   "outputs": [
    {
     "name": "stdout",
     "output_type": "stream",
     "text": [
      "[10  9  8  7  6  5  4  3  2  1]\n"
     ]
    }
   ],
   "source": [
    "#1. Write a Python program to reverse an array\n",
    "#(first element becomes last).\n",
    "\n",
    "arr1= np.arange(1,11)\n",
    "arr1=arr1[::-1]\n",
    "print(arr1)"
   ]
  },
  {
   "cell_type": "code",
   "execution_count": 13,
   "metadata": {},
   "outputs": [
    {
     "name": "stdout",
     "output_type": "stream",
     "text": [
      "[1, 2, 3, 4, 5, 6, 7, 8, 9, 10]\n",
      "(1, 2, 3, 4, 5, 6, 7, 8, 9, 10)\n"
     ]
    }
   ],
   "source": [
    "#Write a Python program to convert a list and\n",
    "#tuple into arrays.\n",
    "arr1= np.arange(1,11)\n",
    "list1=list(arr1)\n",
    "tuple1=tuple(arr1)\n",
    "print(list1)\n",
    "print(tuple1)"
   ]
  },
  {
   "cell_type": "code",
   "execution_count": 14,
   "metadata": {},
   "outputs": [
    {
     "name": "stdout",
     "output_type": "stream",
     "text": [
      "[ 5  6  7  8  9 10]\n"
     ]
    }
   ],
   "source": [
    "#Write a Python program to find common values\n",
    "#between two arrays.\n",
    "arr1=np.arange(1,11)\n",
    "arr2=np.arange(5,16)\n",
    "print(np.intersect1d(arr1, arr2))"
   ]
  },
  {
   "cell_type": "code",
   "execution_count": 15,
   "metadata": {},
   "outputs": [
    {
     "name": "stdout",
     "output_type": "stream",
     "text": [
      "Array a:  [1 2]\n",
      "Array b:  [4 5]\n",
      "a > b\n",
      "[False False]\n",
      "a >= b\n",
      "[False False]\n",
      "a < b\n",
      "[ True  True]\n",
      "a <= b\n",
      "[ True  True]\n"
     ]
    }
   ],
   "source": [
    "arr1 = np.array([1, 2])\n",
    "arr2 = np.array([4, 5])\n",
    "print(\"Array a: \",arr1)\n",
    "print(\"Array b: \",arr2)\n",
    "print(\"a > b\")\n",
    "print(np.greater(arr1, arr2))\n",
    "print(\"a >= b\")\n",
    "print(np.greater_equal(a, b))\n",
    "print(\"a < b\")\n",
    "print(np.less(a, b))\n",
    "print(\"a <= b\")\n",
    "print(np.less_equal(a, b))"
   ]
  },
  {
   "cell_type": "code",
   "execution_count": 8,
   "metadata": {},
   "outputs": [
    {
     "name": "stdout",
     "output_type": "stream",
     "text": [
      "[ 1  2  3  4  5  6  7  8  9 10]\n",
      "[[ 1  2  3  4  5]\n",
      " [ 6  7  8  9 10]]\n"
     ]
    }
   ],
   "source": [
    "# Write a Python program to change the\n",
    "# dimension of an array.\n",
    "arr1=np.arange(1,11)\n",
    "print(arr1)\n",
    "arr1.shape=(2,5)\n",
    "print(arr1)"
   ]
  },
  {
   "cell_type": "code",
   "execution_count": 9,
   "metadata": {},
   "outputs": [
    {
     "name": "stdout",
     "output_type": "stream",
     "text": [
      "2318\n"
     ]
    }
   ],
   "source": [
    "#Write a Python program (using numpy) to sum of all the multiples of 3 or 5 below 100.\n",
    "sum=0\n",
    "for i in range(1,100):\n",
    "    if(i%3==0 or i%5==0):\n",
    "        sum=sum+i\n",
    "print(sum)"
   ]
  },
  {
   "cell_type": "code",
   "execution_count": 13,
   "metadata": {},
   "outputs": [
    {
     "name": "stdout",
     "output_type": "stream",
     "text": [
      "[[1, 2, 3, 4, 5], [6, 7, 8, 9, 10]]\n"
     ]
    }
   ],
   "source": [
    "# Write a Python program to convert a NumPy\n",
    "# array into Python list structure.\n",
    "arr1=np.arange(1,11).reshape(2,5)\n",
    "print(arr1.tolist())"
   ]
  },
  {
   "cell_type": "code",
   "execution_count": 24,
   "metadata": {},
   "outputs": [
    {
     "name": "stdout",
     "output_type": "stream",
     "text": [
      "[[ 1  2  3  4  5 11 12 13 14 15]\n",
      " [ 6  7  8  9 10 16 17 18 19 20]]\n"
     ]
    }
   ],
   "source": [
    "# Write a Python program to how to add an extra\n",
    "# column to a numpy array.\n",
    "arr1=np.arange(1,11).reshape(2,5)\n",
    "arr2=np.arange(11,21).reshape(2,5)\n",
    "arr3=np.append(arr1,arr2,axis=1)\n",
    "print(arr3)"
   ]
  },
  {
   "cell_type": "code",
   "execution_count": 30,
   "metadata": {},
   "outputs": [
    {
     "name": "stdout",
     "output_type": "stream",
     "text": [
      "Array is not empty\n"
     ]
    }
   ],
   "source": [
    "# Write a Python program to check whether the\n",
    "# numpy array is empty or not.\n",
    "arr1=np.array([])\n",
    "if (len(arr1)==0):\n",
    "    print(\"Array is empty\")\n",
    "else:\n",
    "    print(\"Array is not empty\")"
   ]
  },
  {
   "cell_type": "code",
   "execution_count": 31,
   "metadata": {},
   "outputs": [
    {
     "name": "stdout",
     "output_type": "stream",
     "text": [
      "Original Array:\n",
      "[[0.95728497 0.39809913 0.74799253]\n",
      " [0.80531749 0.57828202 0.55726225]\n",
      " [0.43571537 0.30195551 0.67534979]]\n",
      "After normalization:\n",
      "[[1.         0.14671037 0.6806302 ]\n",
      " [0.76810522 0.42166044 0.38958533]\n",
      " [0.20411087 0.         0.56978102]]\n"
     ]
    }
   ],
   "source": [
    "#Write a Python program to normalize a 3x3\n",
    "# random matrix.\n",
    "x= np.random.random((3,3))\n",
    "print(\"Original Array:\")\n",
    "print(x)\n",
    "xmax, xmin = x.max(), x.min()\n",
    "x = (x - xmin)/(xmax - xmin)\n",
    "print(\"After normalization:\")\n",
    "print(x)"
   ]
  },
  {
   "cell_type": "code",
   "execution_count": 43,
   "metadata": {},
   "outputs": [
    {
     "name": "stdout",
     "output_type": "stream",
     "text": [
      "[[ 1  2  3]\n",
      " [ 4  5  6]\n",
      " [ 7  8  9]\n",
      " [10 11 12]]\n",
      "[[ 1  2  3]\n",
      " [ 7  8  9]\n",
      " [ 4  5  6]\n",
      " [10 11 12]]\n"
     ]
    }
   ],
   "source": [
    "# How to swap two rows of an array?\n",
    "arr1=np.arange(1,13).reshape(4,3)\n",
    "print(arr1)\n",
    "arr1[[2,1]]=arr1[[1,2]]\n",
    "print(arr1)"
   ]
  },
  {
   "cell_type": "code",
   "execution_count": 52,
   "metadata": {},
   "outputs": [
    {
     "name": "stdout",
     "output_type": "stream",
     "text": [
      "Not Equal\n"
     ]
    }
   ],
   "source": [
    "# Write a Python program to check two random arrays are equal or not.\n",
    "arr1=np.array([2,4,6,8,9,7,5,3,1])\n",
    "arr2=np.array([9,7,5,3,1,2,4,6])\n",
    "flag=True\n",
    "if len(arr1)==len(arr2):\n",
    "    arr1.sort()\n",
    "    arr2.sort()\n",
    "    for i in range(0,len(arr1)):\n",
    "        if(arr1[i]!=arr2[i]):\n",
    "            flag=False\n",
    "else:\n",
    "    flag=False\n",
    "if flag:\n",
    "    print(\"Equal\")\n",
    "else:\n",
    "    print(\"Not Equal\")"
   ]
  },
  {
   "cell_type": "code",
   "execution_count": 59,
   "metadata": {},
   "outputs": [
    {
     "name": "stdout",
     "output_type": "stream",
     "text": [
      "Add:\n",
      "11\n",
      "Subtract:\n",
      "9\n",
      "Multiply:\n",
      "10\n",
      "Divide:\n",
      "10.0\n"
     ]
    }
   ],
   "source": [
    "# Write a Python program to add, subtract,multiply, divide arguments element-wise.\n",
    "print(\"Add:\")\n",
    "print(np.add(10, 1))\n",
    "print(\"Subtract:\")\n",
    "print(np.subtract(10, 1))\n",
    "print(\"Multiply:\")\n",
    "print(np.multiply(10, 1))\n",
    "print(\"Divide:\")\n",
    "print(np.divide(10, 1))"
   ]
  },
  {
   "cell_type": "code",
   "execution_count": 65,
   "metadata": {},
   "outputs": [
    {
     "name": "stdout",
     "output_type": "stream",
     "text": [
      "Yesterday :  2020-11-29\n",
      "Today :  2020-11-30\n",
      "Tomorrow :  2020-12-01\n"
     ]
    }
   ],
   "source": [
    "# Write a Python program to get the dates of yesterday, today and tomorrow.\n",
    "import datetime \n",
    "today = datetime.date.today()\n",
    "yesterday = today - datetime.timedelta(days = 1)\n",
    "tomorrow = today + datetime.timedelta(days = 1) \n",
    "print('Yesterday : ',yesterday)\n",
    "print('Today : ',today)\n",
    "print('Tomorrow : ',tomorrow)"
   ]
  }
 ],
 "metadata": {
  "kernelspec": {
   "display_name": "Python 3",
   "language": "python",
   "name": "python3"
  },
  "language_info": {
   "codemirror_mode": {
    "name": "ipython",
    "version": 3
   },
   "file_extension": ".py",
   "mimetype": "text/x-python",
   "name": "python",
   "nbconvert_exporter": "python",
   "pygments_lexer": "ipython3",
   "version": "3.8.3"
  }
 },
 "nbformat": 4,
 "nbformat_minor": 4
}
