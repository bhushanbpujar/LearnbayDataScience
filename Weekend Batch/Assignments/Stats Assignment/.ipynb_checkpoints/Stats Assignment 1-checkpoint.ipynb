{
 "cells": [
  {
   "cell_type": "code",
   "execution_count": 1,
   "metadata": {},
   "outputs": [],
   "source": [
    "import numpy as np\n",
    "from scipy import stats\n",
    "import statistics\n",
    "import pandas as pd\n",
    "from scipy.stats import skew\n",
    "from scipy.stats import kurtosis\n",
    "import matplotlib.pyplot as plt"
   ]
  },
  {
   "cell_type": "code",
   "execution_count": 4,
   "metadata": {
    "scrolled": true
   },
   "outputs": [
    {
     "name": "stdout",
     "output_type": "stream",
     "text": [
      "Mean: 61.25\n",
      "Median: 8.0\n",
      "Mode: ModeResult(mode=array([-993]), count=array([1]))\n"
     ]
    }
   ],
   "source": [
    "# Determine the central tendency of the below Population:\n",
    "# [-993, -23,18,-2,-6,98,45,32,-45,843,1024,-256]\n",
    "data = [-993, -23,18,-2,-6,98,45,32,-45,843,1024,-256]\n",
    "a = np.mean(data)\n",
    "b = np.median(data)\n",
    "c = stats.mode(data)\n",
    "print(f'Mean: {a}')\n",
    "print(f'Median: {b}')\n",
    "print(f'Mode: {c}')"
   ]
  },
  {
   "cell_type": "code",
   "execution_count": 7,
   "metadata": {},
   "outputs": [
    {
     "name": "stdout",
     "output_type": "stream",
     "text": [
      "Standard Deviation of sample is 318.30586268905296\n",
      "Variance of sample is 101318.62222222223\n"
     ]
    }
   ],
   "source": [
    "# Calculate the Standard Deviation and Variance of the below sample :\n",
    "# [-99, -2,18,-23,-61,1,982,45,32,-45]\n",
    "s1=[-99, -2,18,-23,-61,1,982,45,32,-45]\n",
    "stddev=statistics.stdev(s1)\n",
    "var=statistics.variance(s1)\n",
    "print(f'Standard Deviation of sample is {stddev}')\n",
    "print(f'Variance of sample is {var}')"
   ]
  },
  {
   "cell_type": "code",
   "execution_count": null,
   "metadata": {},
   "outputs": [],
   "source": [
    "# Q. You have 8 numbers. The mean is 6. You add 5 to each number in the group. New Mean=?\n",
    "## A. New Mean=old mean+5=11"
   ]
  },
  {
   "cell_type": "code",
   "execution_count": null,
   "metadata": {},
   "outputs": [],
   "source": [
    "# Q. You have 15 numbers. The mean is 10, and the variance is 4. You multiply each number by 3. What is the new standard\n",
    "# deviation?\n",
    "## A. The new standard deviation will be: 3 x sqrt(4) = 6aYou have 15 numbers. The mean is 10, and the variance is 4.\n"
   ]
  },
  {
   "cell_type": "code",
   "execution_count": 9,
   "metadata": {},
   "outputs": [
    {
     "name": "stdout",
     "output_type": "stream",
     "text": [
      "In Fahrenheit\n",
      "Mean : 72.4 F\n",
      "Standard deviation : 17.78482499211055 F\n",
      "\n",
      "In Celcius\n",
      "Mean : 22.476400000000005 C\n",
      "Standard deviation : 9.888362695613466 C\n"
     ]
    }
   ],
   "source": [
    "# #Temperature of 5 cities are given, from the given values,what would be the mean and standard deviation of temperature\n",
    "# in Celsius?\n",
    "temp=[82,77,41,78,84]\n",
    "mean=np.mean(temp)\n",
    "stdev=statistics.stdev(temp)\n",
    "print('In Fahrenheit')\n",
    "print(f'Mean : {mean} F')\n",
    "print(f'Standard deviation : {stdev} F')\n",
    "print('\\nIn Celcius')\n",
    "print(f'Mean : {mean*0.556 - 17.778} C')\n",
    "print(f'Standard deviation : {stdev * 0.556} C')"
   ]
  },
  {
   "cell_type": "code",
   "execution_count": 10,
   "metadata": {},
   "outputs": [
    {
     "name": "stdout",
     "output_type": "stream",
     "text": [
      "AxesSubplot(0.125,0.125;0.775x0.755)\n"
     ]
    },
    {
     "data": {
      "image/png": "[encoded data removed]",
      "text/plain": [
       "<Figure size 432x288 with 1 Axes>"
      ]
     },
     "metadata": {
      "needs_background": "light"
     },
     "output_type": "display_data"
    }
   ],
   "source": [
    "# Q.6 Construct a boxplot for the following data set.\n",
    "# 3, 5, 8, 8, 9, 11, 12, 12, 13, 13, 163,5,8,8,9,11,12,12,13,13,16\n",
    "\n",
    "data=[3, 5, 8, 8, 9, 11, 12, 12, 13, 13, 163,5,8,8,9,11,12,12,13,13,16]\n",
    "df=pd.Series(data)\n",
    "print(df.plot.box())"
   ]
  },
  {
   "cell_type": "code",
   "execution_count": 32,
   "metadata": {},
   "outputs": [
    {
     "name": "stdout",
     "output_type": "stream",
     "text": [
      "Skewness:0.2563317051472635\n",
      "Right Skewed\n"
     ]
    }
   ],
   "source": [
    "# Consider below dataset, calculate the skewness and then tell if it is left skewed or right skewed?\n",
    "# 12, 13, 54, 56 , 25\n",
    "dataset=[12, 13, 54, 56 , 25]\n",
    "print(f'Skewness:{skew(dataset)}')\n",
    "mean1=np.mean(dataset)\n",
    "median1=np.median(dataset)\n",
    "if(median1<mean1):\n",
    "                       print(\"Right Skewed\")\n",
    "else:\n",
    "                       print(\"Left Skewed\")"
   ]
  },
  {
   "cell_type": "code",
   "execution_count": 39,
   "metadata": {},
   "outputs": [
    {
     "name": "stdout",
     "output_type": "stream",
     "text": [
      "{-1.7721210214761647}\n",
      "Type: platykurtic\n"
     ]
    }
   ],
   "source": [
    "#Determine the excess-kurtosis of the below dataset and then categorize it according to the type of kurtosis it is and give its characteristics.\n",
    "# 12, 13, 54, 56 , 25\n",
    "data=[12, 13, 54, 56 , 25]\n",
    "kurtosis1={kurtosis(data)}\n",
    "print(kurtosis1)\n",
    "print(\"Type: platykurtic\")"
   ]
  },
  {
   "cell_type": "code",
   "execution_count": 41,
   "metadata": {},
   "outputs": [
    {
     "name": "stdout",
     "output_type": "stream",
     "text": [
      "1st Quartile is 99.5\n",
      "3rd Quartile is 109.5\n",
      "IQR is 10.0\n",
      "\n",
      "Outliers: [1, 201]\n"
     ]
    }
   ],
   "source": [
    "# Determine the outliers in the below dataset using IQR formula.\n",
    "# 1, 99, 100, 101, 103, 109, 110, 201\n",
    "data=[1, 99, 100, 101, 103, 109, 110, 201]\n",
    "Q1,Q3=np.percentile(data,[25,75],interpolation='midpoint')\n",
    "print(f'1st Quartile is {Q1}')\n",
    "print(f'3rd Quartile is {Q3}')\n",
    "IQR=Q3-Q1\n",
    "print(f'IQR is {IQR}')\n",
    "outlier=[i for i in data if i<Q1-1.5*IQR or i>Q3+1.5*IQR]\n",
    "print(f'\\nOutliers: {outlier}')"
   ]
  },
  {
   "cell_type": "code",
   "execution_count": 45,
   "metadata": {},
   "outputs": [
    {
     "name": "stdout",
     "output_type": "stream",
     "text": [
      "Mean of dataset is 2.24665625\n",
      "Standard deviation of dataset is 2.331458190623413\n",
      "\n",
      "Outliers is [10.8135]\n"
     ]
    }
   ],
   "source": [
    "# Determine the outlier in the below dataset using Z-score.\n",
    "# 1.5895, 1.6508, 1.7131, 1.7136,1.7212, 1.7296, 1.7343, 1.7663, 1.8018, 1.8394,\n",
    "# 1.8869, 1.9357, 1.9482, 2.1038, 10.8135, -0.0012 \n",
    "data=[1.5895, 1.6508, 1.7131, 1.7136,1.7212, 1.7296, 1.7343, 1.7663, 1.8018, 1.8394, 1.8869, 1.9357, 1.9482, 2.1038, 10.8135, -0.0012]\n",
    "outlier=[]\n",
    "mean=np.mean(data)\n",
    "stdev=statistics.stdev(data)\n",
    "print(f'Mean of dataset is {mean}')\n",
    "print(f'Standard deviation of dataset is {stdev}')\n",
    "def zscore(x):\n",
    "    z=(x-mean)/stdev\n",
    "    return z\n",
    "for i in data:\n",
    "    if zscore(i)>2 or zscore(i)<-2:\n",
    "        outlier.append(i)\n",
    "    else:\n",
    "        continue\n",
    "print(f'\\nOutliers is {outlier}')"
   ]
  },
  {
   "cell_type": "code",
   "execution_count": 50,
   "metadata": {},
   "outputs": [
    {
     "data": {
      "image/png": "[encoded data removed]",
      "text/plain": [
       "<Figure size 432x288 with 1 Axes>"
      ]
     },
     "metadata": {
      "needs_background": "light"
     },
     "output_type": "display_data"
    }
   ],
   "source": [
    "# Below is the mark obtained by some students. Construct a bar chart for it:\n",
    "# Student Marks\n",
    "# Rohan 83\n",
    "# Bhavya 72\n",
    "# Sri 96\n",
    "# Riteish 37\n",
    "# Neha 64\n",
    "plt.bar(['Rohan','Bhavya','Sri','Riteish','Neha'],[83,72,96,37,64],color='g')\n",
    "plt.xlabel('STUDENTS',color='black')\n",
    "plt.ylabel('MARKS',color='black')\n",
    "plt.title('Marks obtained by Students')\n",
    "plt.show()"
   ]
  },
  {
   "cell_type": "code",
   "execution_count": 55,
   "metadata": {},
   "outputs": [
    {
     "name": "stdout",
     "output_type": "stream",
     "text": [
      "Correlation:\n",
      "          0         1\n",
      "0  1.000000  0.734514\n",
      "1  0.734514  1.000000\n",
      "\n",
      "Positive correlation.\n",
      "\n",
      "Covariance matrix :\n",
      "[[171.36666667 109.8       ]\n",
      " [109.8        130.4       ]]\n"
     ]
    },
    {
     "data": {
      "image/png": "[encoded data removed]",
      "text/plain": [
       "<Figure size 432x288 with 1 Axes>"
      ]
     },
     "metadata": {
      "needs_background": "light"
     },
     "output_type": "display_data"
    }
   ],
   "source": [
    "# Below are some observations obtained from a hospital and shows glucose level o\n",
    "# f some patients.\n",
    "# Check the correlation of the variables and then tell if it has positive, negative or no\n",
    "# relation between them.\n",
    "# Calculate co-variance and also plot a scatter-plot to see the relation visually.\n",
    "# Patient Age (years) Glucose Level\n",
    "# A 46 99\n",
    "# B 24 65\n",
    "# C 28 78\n",
    "# D 42 79\n",
    "# E 59 89\n",
    "# F 48 82\n",
    "patient=['A','B','C','D','E','F']\n",
    "age=[46,24,28,42,59,48]\n",
    "Glucose_level=[99,65,78,79,89,82]\n",
    "Detail=list(zip(age,Glucose_level))\n",
    "df=pd.DataFrame(Detail)\n",
    "Correlation=df.corr(method='pearson')\n",
    "print(f'Correlation:\\n{Correlation}')\n",
    "print('\\nPositive correlation.\\n')\n",
    "covariance=np.cov(age,Glucose_level)\n",
    "print(f'Covariance matrix :\\n{covariance}')\n",
    "plt.scatter(age,Glucose_level,color='g')\n",
    "plt.xlabel('Age')\n",
    "plt.ylabel('Glucose Level')\n",
    "plt.title('Glucose Level Vs Age')\n",
    "plt.show()"
   ]
  },
  {
   "cell_type": "code",
   "execution_count": 56,
   "metadata": {},
   "outputs": [
    {
     "name": "stdout",
     "output_type": "stream",
     "text": [
      "          0         1\n",
      "0  1.000000 -0.757576\n",
      "1 -0.757576  1.000000\n"
     ]
    }
   ],
   "source": [
    "# Try to findout if there is any correlation between Physical Activity and Blood Pressure. Calculate Spearman Rank Correlation.\n",
    "\n",
    "Pa=[60,55,25,50,40,45,35,10,30,20]\n",
    "BP=[118,117,120,121,119,122,123,124,125,126]\n",
    "Detail=list(zip(Pa,BP))\n",
    "df=pd.DataFrame(Detail)\n",
    "cor=df.corr(method='spearman')\n",
    "print(cor)"
   ]
  }
 ],
 "metadata": {
  "kernelspec": {
   "display_name": "Python 3",
   "language": "python",
   "name": "python3"
  },
  "language_info": {
   "codemirror_mode": {
    "name": "ipython",
    "version": 3
   },
   "file_extension": ".py",
   "mimetype": "text/x-python",
   "name": "python",
   "nbconvert_exporter": "python",
   "pygments_lexer": "ipython3",
   "version": "3.8.3"
  }
 },
 "nbformat": 4,
 "nbformat_minor": 4
}
