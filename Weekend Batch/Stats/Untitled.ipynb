{
 "cells": [
  {
   "cell_type": "code",
   "execution_count": 5,
   "metadata": {},
   "outputs": [
    {
     "name": "stdout",
     "output_type": "stream",
     "text": [
      "[(1, 2), (2, 2), (9, 2), (3, 1), (4, 1)]\n",
      "2\n",
      "[1, 2, 9]\n"
     ]
    }
   ],
   "source": [
    "from collections import Counter\n",
    "data=Counter([1,1,2,2,3,4,9,9])\n",
    "list1=data.most_common()\n",
    "print(list1)\n",
    "max=list1[0][1]\n",
    "print(max)\n",
    "list2=[]\n",
    "for i in list1:\n",
    "    if i[1]==max:\n",
    "        list2.append(i[0])\n",
    "print(list2)"
   ]
  },
  {
   "cell_type": "code",
   "execution_count": 12,
   "metadata": {},
   "outputs": [
    {
     "name": "stdout",
     "output_type": "stream",
     "text": [
      "145.0\n",
      "135.6\n",
      "28.401408415781077\n",
      "-----------------\n",
      "150.0\n",
      "140.6\n",
      "28.401408415781077\n"
     ]
    }
   ],
   "source": [
    "import numpy as np\n",
    "from scipy import stats\n",
    "data1=[105,156,145,172,100]\n",
    "med1=np.median(data1)\n",
    "mean1=np.mean(data1)\n",
    "stddev1=np.std(data1)\n",
    "print(med1)\n",
    "print(mean1)\n",
    "print(stddev1)\n",
    "print(\"-----------------\")\n",
    "data2=[110,161,150,177,105]\n",
    "med2=np.median(data2)\n",
    "mean2=np.mean(data2)\n",
    "stddev2=np.std(data2)\n",
    "print(med2)\n",
    "print(mean2)\n",
    "print(stddev2)"
   ]
  },
  {
   "cell_type": "code",
   "execution_count": 7,
   "metadata": {},
   "outputs": [
    {
     "name": "stdout",
     "output_type": "stream",
     "text": [
      "[-350.    15.    20.5   26.    30.5   31.    31. ]\n",
      "26.0\n"
     ]
    }
   ],
   "source": [
    "import numpy as np\n",
    "from scipy import stats\n",
    "data1=[26,15,20.5,31,-350,31,30.5]\n",
    "data2=np.sort(data1)\n",
    "print(data2)\n",
    "med1=np.median(data1)\n",
    "print(med1)"
   ]
  },
  {
   "cell_type": "code",
   "execution_count": 11,
   "metadata": {},
   "outputs": [
    {
     "name": "stdout",
     "output_type": "stream",
     "text": [
      "[ 1  1  1  1  1  2  2  2  2  2  2  2  3  3 15]\n",
      "2.6666666666666665\n",
      "3.359894178227774\n"
     ]
    }
   ],
   "source": [
    "import numpy as np\n",
    "from scipy import stats\n",
    "data1=[1,2,2,2,3,1,1,15,2,2,2,3,1,1,2]\n",
    "data2=np.sort(data1)\n",
    "print(data2)\n",
    "med1=np.mean(data2)\n",
    "print(med1)\n",
    "print(np.std(data2))"
   ]
  }
 ],
 "metadata": {
  "kernelspec": {
   "display_name": "Python 3",
   "language": "python",
   "name": "python3"
  },
  "language_info": {
   "codemirror_mode": {
    "name": "ipython",
    "version": 3
   },
   "file_extension": ".py",
   "mimetype": "text/x-python",
   "name": "python",
   "nbconvert_exporter": "python",
   "pygments_lexer": "ipython3",
   "version": "3.8.3"
  }
 },
 "nbformat": 4,
 "nbformat_minor": 4
}
