{
 "cells": [
  {
   "cell_type": "code",
   "execution_count": 2,
   "metadata": {},
   "outputs": [
    {
     "name": "stdout",
     "output_type": "stream",
     "text": [
      "Enter the tempraure in Fahrenheit: 48.5\n",
      "9.166666666666668\n"
     ]
    }
   ],
   "source": [
    "#1. Input Temprature in Fahrenheit and display in Celsius.\n",
    "f_temp=input(\"Enter the tempraure in Fahrenheit: \")\n",
    "if f_temp.isdigit:\n",
    "    f_temp1=float(f_temp)\n",
    "    c_temp=(f_temp1-32)*(5/9)\n",
    "    print(c_temp)\n",
    "else:\n",
    "    print(\"Enter only Numeric values.\")"
   ]
  },
  {
   "cell_type": "code",
   "execution_count": null,
   "metadata": {},
   "outputs": [],
   "source": [
    "#2. Print a sqaure and Cube of an input Number\n",
    "\n",
    "num=input(\"Enter a Numeric Value: \")\n",
    "if num.isdigit:\n",
    "    sqaure=(float(num)**2)\n",
    "    cube=(float(num)**3)\n",
    "    print(\"Sqaure: \",sqaure)\n",
    "    print(\"Cube: \",cube)\n",
    "else:\n",
    "    print(\"Error: Enter a Numeric Value.\")"
   ]
  },
  {
   "cell_type": "code",
   "execution_count": 7,
   "metadata": {},
   "outputs": [
    {
     "name": "stdout",
     "output_type": "stream",
     "text": [
      "Enter a Numeric Value for n: 10\n",
      "Enter a Numeric Value for m: 10\n",
      "Result:  200.0\n"
     ]
    }
   ],
   "source": [
    "#3. Input=n,m Output: n**2+m**2\n",
    "n=input(\"Enter a Numeric Value for n: \")\n",
    "m=input(\"Enter a Numeric Value for m: \")\n",
    "if n.isdigit and m.isdigit:\n",
    "    result=(float(n)**2)+(float(m)**2)\n",
    "    print(\"Result: \", result)\n",
    "else:\n",
    "    print(\"Error: Enter a Numeric Value.\")"
   ]
  },
  {
   "cell_type": "code",
   "execution_count": 11,
   "metadata": {},
   "outputs": [
    {
     "name": "stdout",
     "output_type": "stream",
     "text": [
      "Enter a Numeric Value for n: 2\n",
      "Enter a Numeric Value for m: 2\n",
      "Result:  4.0\n"
     ]
    }
   ],
   "source": [
    "#4.\n",
    "n=input(\"Enter a Numeric Value for n: \")\n",
    "m=input(\"Enter a Numeric Value for m: \")\n",
    "if n.isdigit and m.isdigit:\n",
    "    result=(float(m)**float(n))\n",
    "    print(\"Result: \", result)\n",
    "else:\n",
    "    print(\"Error: Enter a Numeric Value.\")"
   ]
  },
  {
   "cell_type": "code",
   "execution_count": 12,
   "metadata": {},
   "outputs": [
    {
     "name": "stdout",
     "output_type": "stream",
     "text": [
      "Enter the initial Principal balance: 100\n",
      "Enter the Interest rate: 10\n",
      "Enter the time in years: 1\n",
      "Annual Amount:  1100\n"
     ]
    }
   ],
   "source": [
    "#5\n",
    "principal_amount=input(\"Enter the initial Principal balance: \")\n",
    "interest=input(\"Enter the Interest rate: \")\n",
    "time=input(\"Enter the time in years: \")\n",
    "if principal_amount.isnumeric and interest.isnumeric and time.isnumeric:\n",
    "    a= int(principal_amount)\n",
    "    b=int(interest)\n",
    "    c=int(time)\n",
    "    d=a*(1+(b*c))\n",
    "    print(\"Annual Amount: \",d)\n",
    "else:\n",
    "    print(\"Enter Numeric Values.\")"
   ]
  },
  {
   "cell_type": "code",
   "execution_count": 5,
   "metadata": {},
   "outputs": [
    {
     "name": "stdout",
     "output_type": "stream",
     "text": [
      "Enter the principal amount: 10000\n",
      "Enter the annual rate of interest: 15\n",
      "Enter the time period (in years): 1\n",
      "Enter the number of times the interest applies per time period (annualy,biannualy,quaterly,..): 12\n",
      "The Compount Interest:  1607.5451772299803\n",
      "Amount:  11607.54517722998\n"
     ]
    }
   ],
   "source": [
    "#6\n",
    "principal_amt = float(input(\"Enter the principal amount: \"))\n",
    "interest = float(input(\"Enter the annual rate of interest: \"))\n",
    "rate = interest/100\n",
    "time = float(input(\"Enter the time period (in years): \"))\n",
    "n = float(input(\"Enter the number of times the interest applies per time period (annualy,biannualy,quaterly,..): \"))\n",
    "amount= principal_amt*((1+rate/n)**(n*time))\n",
    "CI= amount-principal_amt\n",
    "print(\"The Compount Interest: \",CI)\n",
    "print(\"Amount: \",amount)"
   ]
  },
  {
   "cell_type": "code",
   "execution_count": 6,
   "metadata": {},
   "outputs": [
    {
     "name": "stdout",
     "output_type": "stream",
     "text": [
      "Enter the value of n for which the sum has to be calculated: 100\n",
      "The sum of first 100 natural numbers is  5050.0\n"
     ]
    }
   ],
   "source": [
    "# 7. WAP to print sum of first n natural numbers. \n",
    "n = int(input(\"Enter the value of n for which the sum has to be calculated: \"))\n",
    "sum= (n*(n+1))/2\n",
    "print(f\"The sum of first {n} natural numbers is \",sum)"
   ]
  },
  {
   "cell_type": "code",
   "execution_count": 10,
   "metadata": {},
   "outputs": [
    {
     "name": "stdout",
     "output_type": "stream",
     "text": [
      "Enter first number: 10\n",
      "Enter second number: 20\n",
      "20 10\n",
      "Enter first number: 100\n",
      "Enter second number: 200\n",
      "200 100\n"
     ]
    }
   ],
   "source": [
    "# 8. WAP to input 2 numbers and swap them. (write using both normal logic with temp variable and also the pythonic way).\n",
    "a=input(\"Enter first number: \")\n",
    "b=input(\"Enter second number: \")\n",
    "x,y=a,b\n",
    "a,b=y,x\n",
    "print(a,b)\n",
    "a=input(\"Enter first number: \")\n",
    "b=input(\"Enter second number: \")\n",
    "temp=a\n",
    "a=b\n",
    "b=temp\n",
    "print(a,b)"
   ]
  },
  {
   "cell_type": "code",
   "execution_count": 17,
   "metadata": {},
   "outputs": [
    {
     "name": "stdout",
     "output_type": "stream",
     "text": [
      "9 32 13 10 11 12\n"
     ]
    }
   ],
   "source": [
    "#9\n",
    "print(ord('\\t'),ord(' '),ord('\\r'),ord('\\n'),ord('\\v'),ord('\\f'))"
   ]
  },
  {
   "cell_type": "code",
   "execution_count": 16,
   "metadata": {},
   "outputs": [
    {
     "name": "stdout",
     "output_type": "stream",
     "text": [
      "Enter a single character: l\n",
      "108\n"
     ]
    }
   ],
   "source": [
    "#10\n",
    "value=input(\"Enter a single character: \")\n",
    "if len(value)==1:\n",
    "    print(ord(value))\n",
    "else:\n",
    "    print(\"Error: Enter Single character.\")"
   ]
  },
  {
   "cell_type": "code",
   "execution_count": 23,
   "metadata": {},
   "outputs": [
    {
     "name": "stdout",
     "output_type": "stream",
     "text": [
      "Enter the area of the circle: 8\n",
      "Radius:  1.5957691216057308\n",
      "circumference:  10.026513098524003\n"
     ]
    }
   ],
   "source": [
    "#11\n",
    "import math\n",
    "area=input(\"Enter the area of the circle: \")\n",
    "if area.isdigit:\n",
    "    area_c=float(area)\n",
    "    z=float(area_c/math.pi)\n",
    "    radius=math.sqrt(z)\n",
    "    print(\"Radius: \",radius)\n",
    "    circum=2*math.pi*radius\n",
    "    print(\"circumference: \", circum)\n",
    "else:\n",
    "    print(\"Error: Enter only numeric value.\")"
   ]
  },
  {
   "cell_type": "code",
   "execution_count": 29,
   "metadata": {},
   "outputs": [
    {
     "name": "stdout",
     "output_type": "stream",
     "text": [
      "Enter marks for Subject 1 out of 100: 50\n",
      "Enter marks for Subject 2 out of 100: 50\n",
      "Enter marks for Subject 3 out of 100: 50\n",
      "Enter marks for Subject 4 out of 100: 50\n",
      "Enter marks for Subject 5 out of 100: 50\n",
      "Percentage:  50.0\n"
     ]
    }
   ],
   "source": [
    "#12\n",
    "sub1=input(\"Enter marks for Subject 1 out of 100: \")\n",
    "sub2=input(\"Enter marks for Subject 2 out of 100: \")\n",
    "sub3=input(\"Enter marks for Subject 3 out of 100: \")\n",
    "sub4=input(\"Enter marks for Subject 4 out of 100: \")\n",
    "sub5=input(\"Enter marks for Subject 5 out of 100: \")\n",
    "if sub1.isdigit and sub2.isdigit and sub3.isdigit and sub4.isdigit and sub5.isdigit:\n",
    "    s1=float(sub1)\n",
    "    s2=float(sub2)\n",
    "    s3=float(sub3)\n",
    "    s4=float(sub4)\n",
    "    s5=float(sub5)\n",
    "    if 0<s1<100 and 0<s2<100 and 0<s3<100 and 0<s4<100 and 0<s5<100:\n",
    "        percentage=(s1+s2+s3+s4+s5)/5\n",
    "        print(\"Percentage: \",percentage)\n",
    "    else:\n",
    "        print(\"Error: Enter marks ranging from 0 to 100 only.\")\n",
    "else:\n",
    "    print(\"Error: Enter only numeric values.\")"
   ]
  }
 ],
 "metadata": {
  "kernelspec": {
   "display_name": "Python 3",
   "language": "python",
   "name": "python3"
  },
  "language_info": {
   "codemirror_mode": {
    "name": "ipython",
    "version": 3
   },
   "file_extension": ".py",
   "mimetype": "text/x-python",
   "name": "python",
   "nbconvert_exporter": "python",
   "pygments_lexer": "ipython3",
   "version": "3.8.3"
  }
 },
 "nbformat": 4,
 "nbformat_minor": 4
}
